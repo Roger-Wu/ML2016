{
 "cells": [
  {
   "cell_type": "code",
   "execution_count": 379,
   "metadata": {
    "collapsed": false
   },
   "outputs": [
    {
     "name": "stdout",
     "output_type": "stream",
     "text": [
      "Populating the interactive namespace from numpy and matplotlib\n"
     ]
    },
    {
     "name": "stderr",
     "output_type": "stream",
     "text": [
      "WARNING: pylab import has clobbered these variables: ['gamma']\n",
      "`%matplotlib` prevents importing * from pylab and numpy\n"
     ]
    }
   ],
   "source": [
    "%pylab inline\n",
    "import numpy as np\n",
    "from scipy import special\n",
    "import pandas as pd\n",
    "import os"
   ]
  },
  {
   "cell_type": "code",
   "execution_count": 380,
   "metadata": {
    "collapsed": true
   },
   "outputs": [],
   "source": [
    "METHOD_NAME = \"nn_part-32_dropout0.5_40-3\"\n",
    "DATA_FOLDER = \"data/\"\n",
    "MODEL_FOLDER = \"models/\" + METHOD_NAME + \"/\"\n",
    "OUTPUT_FOLDER = \"outputs/\"\n",
    "TRAIN_FILE_PATH = DATA_FOLDER + \"spam_train.csv\"\n",
    "TEST_FILE_PATH = DATA_FOLDER + \"spam_test.csv\""
   ]
  },
  {
   "cell_type": "code",
   "execution_count": 381,
   "metadata": {
    "collapsed": true
   },
   "outputs": [],
   "source": [
    "if not os.path.exists(MODEL_FOLDER):\n",
    "    os.makedirs(MODEL_FOLDER)\n",
    "if not os.path.exists(OUTPUT_FOLDER):\n",
    "    os.makedirs(OUTPUT_FOLDER)"
   ]
  },
  {
   "cell_type": "markdown",
   "metadata": {},
   "source": [
    "## Read Training Data"
   ]
  },
  {
   "cell_type": "code",
   "execution_count": 382,
   "metadata": {
    "collapsed": false
   },
   "outputs": [
    {
     "data": {
      "text/html": [
       "<div>\n",
       "<table border=\"1\" class=\"dataframe\">\n",
       "  <thead>\n",
       "    <tr style=\"text-align: right;\">\n",
       "      <th></th>\n",
       "      <th>0</th>\n",
       "      <th>1</th>\n",
       "      <th>2</th>\n",
       "      <th>3</th>\n",
       "      <th>4</th>\n",
       "      <th>5</th>\n",
       "      <th>6</th>\n",
       "      <th>7</th>\n",
       "      <th>8</th>\n",
       "      <th>9</th>\n",
       "      <th>...</th>\n",
       "      <th>49</th>\n",
       "      <th>50</th>\n",
       "      <th>51</th>\n",
       "      <th>52</th>\n",
       "      <th>53</th>\n",
       "      <th>54</th>\n",
       "      <th>55</th>\n",
       "      <th>56</th>\n",
       "      <th>57</th>\n",
       "      <th>58</th>\n",
       "    </tr>\n",
       "  </thead>\n",
       "  <tbody>\n",
       "    <tr>\n",
       "      <th>0</th>\n",
       "      <td>1</td>\n",
       "      <td>0.0</td>\n",
       "      <td>0.00</td>\n",
       "      <td>1.13</td>\n",
       "      <td>0.0</td>\n",
       "      <td>0.37</td>\n",
       "      <td>0.00</td>\n",
       "      <td>0.00</td>\n",
       "      <td>0.0</td>\n",
       "      <td>0.00</td>\n",
       "      <td>...</td>\n",
       "      <td>0.0</td>\n",
       "      <td>0.145</td>\n",
       "      <td>0.000</td>\n",
       "      <td>0.436</td>\n",
       "      <td>0.000</td>\n",
       "      <td>0.0</td>\n",
       "      <td>1.792</td>\n",
       "      <td>55</td>\n",
       "      <td>147</td>\n",
       "      <td>0</td>\n",
       "    </tr>\n",
       "    <tr>\n",
       "      <th>1</th>\n",
       "      <td>2</td>\n",
       "      <td>0.0</td>\n",
       "      <td>0.00</td>\n",
       "      <td>0.60</td>\n",
       "      <td>0.0</td>\n",
       "      <td>0.00</td>\n",
       "      <td>0.60</td>\n",
       "      <td>0.00</td>\n",
       "      <td>0.0</td>\n",
       "      <td>0.60</td>\n",
       "      <td>...</td>\n",
       "      <td>0.0</td>\n",
       "      <td>0.143</td>\n",
       "      <td>0.047</td>\n",
       "      <td>0.191</td>\n",
       "      <td>0.143</td>\n",
       "      <td>0.0</td>\n",
       "      <td>2.041</td>\n",
       "      <td>31</td>\n",
       "      <td>196</td>\n",
       "      <td>1</td>\n",
       "    </tr>\n",
       "    <tr>\n",
       "      <th>2</th>\n",
       "      <td>3</td>\n",
       "      <td>0.0</td>\n",
       "      <td>0.00</td>\n",
       "      <td>0.48</td>\n",
       "      <td>0.0</td>\n",
       "      <td>0.00</td>\n",
       "      <td>0.00</td>\n",
       "      <td>0.00</td>\n",
       "      <td>0.0</td>\n",
       "      <td>0.00</td>\n",
       "      <td>...</td>\n",
       "      <td>0.0</td>\n",
       "      <td>0.000</td>\n",
       "      <td>0.000</td>\n",
       "      <td>0.450</td>\n",
       "      <td>0.000</td>\n",
       "      <td>0.0</td>\n",
       "      <td>1.138</td>\n",
       "      <td>4</td>\n",
       "      <td>41</td>\n",
       "      <td>0</td>\n",
       "    </tr>\n",
       "    <tr>\n",
       "      <th>3</th>\n",
       "      <td>4</td>\n",
       "      <td>0.0</td>\n",
       "      <td>0.51</td>\n",
       "      <td>0.00</td>\n",
       "      <td>0.0</td>\n",
       "      <td>0.51</td>\n",
       "      <td>0.51</td>\n",
       "      <td>1.02</td>\n",
       "      <td>0.0</td>\n",
       "      <td>0.00</td>\n",
       "      <td>...</td>\n",
       "      <td>0.0</td>\n",
       "      <td>0.142</td>\n",
       "      <td>0.000</td>\n",
       "      <td>0.071</td>\n",
       "      <td>1.212</td>\n",
       "      <td>0.0</td>\n",
       "      <td>7.025</td>\n",
       "      <td>130</td>\n",
       "      <td>281</td>\n",
       "      <td>1</td>\n",
       "    </tr>\n",
       "    <tr>\n",
       "      <th>4</th>\n",
       "      <td>5</td>\n",
       "      <td>0.0</td>\n",
       "      <td>0.00</td>\n",
       "      <td>0.00</td>\n",
       "      <td>0.0</td>\n",
       "      <td>0.00</td>\n",
       "      <td>0.00</td>\n",
       "      <td>0.00</td>\n",
       "      <td>0.0</td>\n",
       "      <td>0.64</td>\n",
       "      <td>...</td>\n",
       "      <td>0.0</td>\n",
       "      <td>0.116</td>\n",
       "      <td>0.000</td>\n",
       "      <td>0.232</td>\n",
       "      <td>0.000</td>\n",
       "      <td>0.0</td>\n",
       "      <td>1.551</td>\n",
       "      <td>6</td>\n",
       "      <td>45</td>\n",
       "      <td>0</td>\n",
       "    </tr>\n",
       "  </tbody>\n",
       "</table>\n",
       "<p>5 rows × 59 columns</p>\n",
       "</div>"
      ],
      "text/plain": [
       "   0    1     2     3    4     5     6     7    8     9  ...   49     50  \\\n",
       "0   1  0.0  0.00  1.13  0.0  0.37  0.00  0.00  0.0  0.00 ...  0.0  0.145   \n",
       "1   2  0.0  0.00  0.60  0.0  0.00  0.60  0.00  0.0  0.60 ...  0.0  0.143   \n",
       "2   3  0.0  0.00  0.48  0.0  0.00  0.00  0.00  0.0  0.00 ...  0.0  0.000   \n",
       "3   4  0.0  0.51  0.00  0.0  0.51  0.51  1.02  0.0  0.00 ...  0.0  0.142   \n",
       "4   5  0.0  0.00  0.00  0.0  0.00  0.00  0.00  0.0  0.64 ...  0.0  0.116   \n",
       "\n",
       "      51     52     53   54     55   56   57  58  \n",
       "0  0.000  0.436  0.000  0.0  1.792   55  147   0  \n",
       "1  0.047  0.191  0.143  0.0  2.041   31  196   1  \n",
       "2  0.000  0.450  0.000  0.0  1.138    4   41   0  \n",
       "3  0.000  0.071  1.212  0.0  7.025  130  281   1  \n",
       "4  0.000  0.232  0.000  0.0  1.551    6   45   0  \n",
       "\n",
       "[5 rows x 59 columns]"
      ]
     },
     "execution_count": 382,
     "metadata": {},
     "output_type": "execute_result"
    }
   ],
   "source": [
    "train_data = pd.read_csv(TRAIN_FILE_PATH, header=None)\n",
    "train_data.head()"
   ]
  },
  {
   "cell_type": "code",
   "execution_count": 383,
   "metadata": {
    "collapsed": false
   },
   "outputs": [],
   "source": [
    "x_data_rows = train_data[list(range(1, 58))].as_matrix()\n",
    "y_data_rows = train_data[[58]].as_matrix()"
   ]
  },
  {
   "cell_type": "markdown",
   "metadata": {},
   "source": [
    "## Select Data"
   ]
  },
  {
   "cell_type": "code",
   "execution_count": 384,
   "metadata": {
    "collapsed": true
   },
   "outputs": [],
   "source": [
    "x_select_col_idxs = [26, 40, 31, 24,  3, 41, 54, 55, 45, 52, 28, 22, 53, 34, 43, 47, 6, 44, 15, 25, 16, 19, 38,  8, 56, 32,  4, 35, 27,  5, 48, 14]\n",
    "x_data_rows = x_data_rows[:, x_select_col_idxs]"
   ]
  },
  {
   "cell_type": "markdown",
   "metadata": {},
   "source": [
    "## Preprocess Data"
   ]
  },
  {
   "cell_type": "markdown",
   "metadata": {},
   "source": [
    "## Transform Data"
   ]
  },
  {
   "cell_type": "code",
   "execution_count": 385,
   "metadata": {
    "collapsed": false
   },
   "outputs": [],
   "source": [
    "# Normalize\n",
    "x_train_means = np.mean(x_data_rows, axis=0)\n",
    "x_train_stds =  np.std(x_data_rows, axis=0)\n",
    "x_data_rows = (x_data_rows - x_train_means) / x_train_stds"
   ]
  },
  {
   "cell_type": "code",
   "execution_count": 386,
   "metadata": {
    "collapsed": false
   },
   "outputs": [],
   "source": [
    "# print(np.mean(x_data_rows, axis=0), np.std(x_data_rows, axis=0))"
   ]
  },
  {
   "cell_type": "code",
   "execution_count": 387,
   "metadata": {
    "collapsed": false
   },
   "outputs": [],
   "source": [
    "# append 1 in the last column, so that b in including in w\n",
    "x_data_rows = np.c_[x_data_rows, np.ones(x_data_rows.shape[0]) ]"
   ]
  },
  {
   "cell_type": "code",
   "execution_count": 388,
   "metadata": {
    "collapsed": true
   },
   "outputs": [],
   "source": [
    "# pre-transpose x for matrix multiplication\n",
    "x_data_rows_trans = np.transpose(x_data_rows)"
   ]
  },
  {
   "cell_type": "code",
   "execution_count": 389,
   "metadata": {
    "collapsed": false
   },
   "outputs": [],
   "source": [
    "x_row_num, x_col_num = x_data_rows.shape  # 4001, 58"
   ]
  },
  {
   "cell_type": "markdown",
   "metadata": {},
   "source": [
    "## Train"
   ]
  },
  {
   "cell_type": "code",
   "execution_count": 390,
   "metadata": {
    "collapsed": false
   },
   "outputs": [],
   "source": [
    "# reset parameters\n",
    "w = np.random.randn(x_col_num, 1)  # shape = (x_col_num, 1). not (1, x_col_num) for the convenience of matrix multiplication\n",
    "total_epoch = 0"
   ]
  },
  {
   "cell_type": "code",
   "execution_count": 391,
   "metadata": {
    "collapsed": true
   },
   "outputs": [],
   "source": [
    "layer_1_node_num = 40\n",
    "layer_2_node_num = layer_1_node_num\n",
    "layer_3_node_num = layer_2_node_num"
   ]
  },
  {
   "cell_type": "code",
   "execution_count": 392,
   "metadata": {
    "collapsed": true
   },
   "outputs": [],
   "source": [
    "w_1 = np.random.randn(x_col_num, layer_1_node_num)  # dot(x, w_1) output a x_row_num * layer_1_node_num matrix\n",
    "w_2 = np.random.randn(layer_1_node_num, layer_2_node_num)\n",
    "w_3 = np.random.randn(layer_2_node_num, layer_3_node_num)\n",
    "w_out = np.random.randn(layer_3_node_num, 1)  # dot(layer_1_output, w_2) output a x_row_num * 1 matrix\n",
    "# v_w_1 = np.random.randn(x_col_num, layer_1_node_num)  # dot(x, w_1) output a x_row_num * layer_1_node_num matrix\n",
    "# v_w_2 = np.random.randn(layer_1_node_num, 1)  # dot(layer_1_output, w_2) output a x_row_num * 1 matrix"
   ]
  },
  {
   "cell_type": "code",
   "execution_count": 393,
   "metadata": {
    "collapsed": true
   },
   "outputs": [],
   "source": [
    "dropout_rate = 0.5"
   ]
  },
  {
   "cell_type": "code",
   "execution_count": 394,
   "metadata": {
    "collapsed": false
   },
   "outputs": [],
   "source": [
    "# momentum\n",
    "gamma = 0.9\n",
    "# vw = np.zeros((x_col_num, 1))"
   ]
  },
  {
   "cell_type": "code",
   "execution_count": 395,
   "metadata": {
    "collapsed": true
   },
   "outputs": [],
   "source": [
    "lr = (10) / x_row_num "
   ]
  },
  {
   "cell_type": "code",
   "execution_count": 396,
   "metadata": {
    "collapsed": true
   },
   "outputs": [],
   "source": [
    "def to_bool(x):\n",
    "    return 1 if x > 0.5 else 0\n",
    "\n",
    "to_bool = np.vectorize(to_bool)"
   ]
  },
  {
   "cell_type": "code",
   "execution_count": 397,
   "metadata": {
    "collapsed": true
   },
   "outputs": [],
   "source": [
    "def sigmoid_deriv(x):  # input may be an matrix\n",
    "    return x * (1-x)  # element-wise"
   ]
  },
  {
   "cell_type": "code",
   "execution_count": 398,
   "metadata": {
    "collapsed": false
   },
   "outputs": [],
   "source": [
    "# a = np.ones((3, 10))\n",
    "# m = np.random.binomial(1, 0.5, 10)\n",
    "# a * m"
   ]
  },
  {
   "cell_type": "code",
   "execution_count": 410,
   "metadata": {
    "collapsed": false
   },
   "outputs": [
    {
     "name": "stdout",
     "output_type": "stream",
     "text": [
      "==== epo1100000_rms0.028484_err138\n",
      "rms_error 0.0284843361773\n",
      "pred_error 138 / 4001 = 0.0344913771557\n",
      "==== epo1110000_rms0.028358_err139\n",
      "rms_error 0.0283581469027\n",
      "pred_error 139 / 4001 = 0.0347413146713\n",
      "==== epo1120000_rms0.028369_err139\n",
      "rms_error 0.0283693399288\n",
      "pred_error 139 / 4001 = 0.0347413146713\n",
      "==== epo1130000_rms0.028307_err138\n",
      "rms_error 0.0283072961218\n",
      "pred_error 138 / 4001 = 0.0344913771557\n",
      "==== epo1140000_rms0.028328_err138\n",
      "rms_error 0.0283280791041\n",
      "pred_error 138 / 4001 = 0.0344913771557\n",
      "==== epo1150000_rms0.028257_err137\n",
      "rms_error 0.0282573301272\n",
      "pred_error 137 / 4001 = 0.0342414396401\n",
      "==== epo1160000_rms0.028179_err138\n",
      "rms_error 0.0281796167894\n",
      "pred_error 138 / 4001 = 0.0344913771557\n",
      "==== epo1170000_rms0.028195_err137\n",
      "rms_error 0.0281957337956\n",
      "pred_error 137 / 4001 = 0.0342414396401\n",
      "==== epo1180000_rms0.028317_err139\n",
      "rms_error 0.0283175341376\n",
      "pred_error 139 / 4001 = 0.0347413146713\n",
      "==== epo1190000_rms0.028192_err139\n",
      "rms_error 0.0281929516718\n",
      "pred_error 139 / 4001 = 0.0347413146713\n",
      "==== epo1200000_rms0.028076_err138\n",
      "rms_error 0.0280764280852\n",
      "pred_error 138 / 4001 = 0.0344913771557\n",
      "==== epo1210000_rms0.028130_err137\n",
      "rms_error 0.0281306713913\n",
      "pred_error 137 / 4001 = 0.0342414396401\n",
      "==== epo1220000_rms0.028200_err139\n",
      "rms_error 0.0282004093872\n",
      "pred_error 139 / 4001 = 0.0347413146713\n",
      "==== epo1230000_rms0.028054_err138\n",
      "rms_error 0.0280546472886\n",
      "pred_error 138 / 4001 = 0.0344913771557\n",
      "==== epo1240000_rms0.028083_err138\n",
      "rms_error 0.028083531323\n",
      "pred_error 138 / 4001 = 0.0344913771557\n",
      "==== epo1250000_rms0.028058_err138\n",
      "rms_error 0.0280585098299\n",
      "pred_error 138 / 4001 = 0.0344913771557\n",
      "==== epo1260000_rms0.028073_err136\n",
      "rms_error 0.0280737615867\n",
      "pred_error 136 / 4001 = 0.0339915021245\n",
      "==== epo1270000_rms0.028083_err137\n",
      "rms_error 0.028083355905\n",
      "pred_error 137 / 4001 = 0.0342414396401\n",
      "==== epo1280000_rms0.028098_err136\n",
      "rms_error 0.0280987681564\n",
      "pred_error 136 / 4001 = 0.0339915021245\n",
      "==== epo1290000_rms0.027954_err136\n",
      "rms_error 0.0279541575097\n",
      "pred_error 136 / 4001 = 0.0339915021245\n",
      "==== epo1300000_rms0.028003_err137\n",
      "rms_error 0.0280035852188\n",
      "pred_error 137 / 4001 = 0.0342414396401\n",
      "==== epo1310000_rms0.028040_err138\n",
      "rms_error 0.0280409181072\n",
      "pred_error 138 / 4001 = 0.0344913771557\n",
      "==== epo1320000_rms0.028001_err137\n",
      "rms_error 0.0280019348308\n",
      "pred_error 137 / 4001 = 0.0342414396401\n",
      "==== epo1330000_rms0.027944_err136\n",
      "rms_error 0.0279447047818\n",
      "pred_error 136 / 4001 = 0.0339915021245\n",
      "==== epo1340000_rms0.027988_err137\n",
      "rms_error 0.0279880519961\n",
      "pred_error 137 / 4001 = 0.0342414396401\n",
      "==== epo1350000_rms0.027899_err137\n",
      "rms_error 0.0278994563114\n",
      "pred_error 137 / 4001 = 0.0342414396401\n",
      "==== epo1360000_rms0.027856_err137\n",
      "rms_error 0.0278560448431\n",
      "pred_error 137 / 4001 = 0.0342414396401\n",
      "==== epo1370000_rms0.027821_err137\n",
      "rms_error 0.0278210631112\n",
      "pred_error 137 / 4001 = 0.0342414396401\n",
      "==== epo1380000_rms0.028002_err137\n",
      "rms_error 0.0280022440886\n",
      "pred_error 137 / 4001 = 0.0342414396401\n",
      "==== epo1390000_rms0.027900_err137\n",
      "rms_error 0.0279007437229\n",
      "pred_error 137 / 4001 = 0.0342414396401\n",
      "==== epo1400000_rms0.027923_err137\n",
      "rms_error 0.027923292652\n",
      "pred_error 137 / 4001 = 0.0342414396401\n",
      "==== epo1410000_rms0.027834_err137\n",
      "rms_error 0.0278348324054\n",
      "pred_error 137 / 4001 = 0.0342414396401\n",
      "==== epo1420000_rms0.027764_err137\n",
      "rms_error 0.0277645758094\n",
      "pred_error 137 / 4001 = 0.0342414396401\n",
      "==== epo1430000_rms0.027828_err136\n",
      "rms_error 0.0278287213746\n",
      "pred_error 136 / 4001 = 0.0339915021245\n",
      "==== epo1440000_rms0.027671_err136\n",
      "rms_error 0.0276714278282\n",
      "pred_error 136 / 4001 = 0.0339915021245\n",
      "==== epo1450000_rms0.027692_err136\n",
      "rms_error 0.0276926932438\n",
      "pred_error 136 / 4001 = 0.0339915021245\n",
      "==== epo1460000_rms0.027769_err137\n",
      "rms_error 0.0277698666782\n",
      "pred_error 137 / 4001 = 0.0342414396401\n",
      "==== epo1470000_rms0.027692_err137\n",
      "rms_error 0.0276922615141\n",
      "pred_error 137 / 4001 = 0.0342414396401\n",
      "==== epo1480000_rms0.027748_err137\n",
      "rms_error 0.027748903388\n",
      "pred_error 137 / 4001 = 0.0342414396401\n",
      "==== epo1490000_rms0.027626_err136\n",
      "rms_error 0.0276266395708\n",
      "pred_error 136 / 4001 = 0.0339915021245\n",
      "==== epo1500000_rms0.027559_err136\n",
      "rms_error 0.0275598336866\n",
      "pred_error 136 / 4001 = 0.0339915021245\n",
      "==== epo1510000_rms0.027630_err137\n",
      "rms_error 0.0276309615205\n",
      "pred_error 137 / 4001 = 0.0342414396401\n",
      "==== epo1520000_rms0.027493_err134\n",
      "rms_error 0.0274935291943\n",
      "pred_error 134 / 4001 = 0.0334916270932\n",
      "==== epo1530000_rms0.027564_err135\n",
      "rms_error 0.027564938981\n",
      "pred_error 135 / 4001 = 0.0337415646088\n",
      "==== epo1540000_rms0.027686_err137\n",
      "rms_error 0.0276864857411\n",
      "pred_error 137 / 4001 = 0.0342414396401\n",
      "==== epo1550000_rms0.027563_err134\n",
      "rms_error 0.0275630812745\n",
      "pred_error 134 / 4001 = 0.0334916270932\n",
      "==== epo1560000_rms0.027656_err134\n",
      "rms_error 0.0276564377009\n",
      "pred_error 134 / 4001 = 0.0334916270932\n",
      "==== epo1570000_rms0.027652_err135\n",
      "rms_error 0.0276526311304\n",
      "pred_error 135 / 4001 = 0.0337415646088\n",
      "==== epo1580000_rms0.027500_err135\n",
      "rms_error 0.0275004356597\n",
      "pred_error 135 / 4001 = 0.0337415646088\n",
      "==== epo1590000_rms0.027508_err135\n",
      "rms_error 0.0275089258805\n",
      "pred_error 135 / 4001 = 0.0337415646088\n",
      "==== epo1600000_rms0.027470_err135\n",
      "rms_error 0.0274705695138\n",
      "pred_error 135 / 4001 = 0.0337415646088\n"
     ]
    },
    {
     "ename": "KeyboardInterrupt",
     "evalue": "",
     "output_type": "error",
     "traceback": [
      "\u001b[0;31m---------------------------------------------------------------------------\u001b[0m",
      "\u001b[0;31mKeyboardInterrupt\u001b[0m                         Traceback (most recent call last)",
      "\u001b[0;32m<ipython-input-410-d2317954b4f2>\u001b[0m in \u001b[0;36m<module>\u001b[0;34m()\u001b[0m\n\u001b[1;32m     27\u001b[0m     \u001b[0mlayer_3_delta\u001b[0m \u001b[0;34m=\u001b[0m \u001b[0mlayer_3_error\u001b[0m \u001b[0;34m*\u001b[0m \u001b[0msigmoid_deriv\u001b[0m\u001b[0;34m(\u001b[0m\u001b[0mlayer_3_output\u001b[0m\u001b[0;34m)\u001b[0m\u001b[0;34m\u001b[0m\u001b[0m\n\u001b[1;32m     28\u001b[0m \u001b[0;34m\u001b[0m\u001b[0m\n\u001b[0;32m---> 29\u001b[0;31m     \u001b[0mlayer_2_error\u001b[0m \u001b[0;34m=\u001b[0m \u001b[0mlayer_3_delta\u001b[0m\u001b[0;34m.\u001b[0m\u001b[0mdot\u001b[0m\u001b[0;34m(\u001b[0m\u001b[0mw_3\u001b[0m\u001b[0;34m.\u001b[0m\u001b[0mT\u001b[0m\u001b[0;34m)\u001b[0m  \u001b[0;31m# shape = (x_row_num, layer_1_node_num)\u001b[0m\u001b[0;34m\u001b[0m\u001b[0m\n\u001b[0m\u001b[1;32m     30\u001b[0m     \u001b[0mlayer_2_delta\u001b[0m \u001b[0;34m=\u001b[0m \u001b[0mlayer_2_error\u001b[0m \u001b[0;34m*\u001b[0m \u001b[0msigmoid_deriv\u001b[0m\u001b[0;34m(\u001b[0m\u001b[0mlayer_2_output\u001b[0m\u001b[0;34m)\u001b[0m  \u001b[0;31m# shape = (x_row_num, layer_1_node_num)\u001b[0m\u001b[0;34m\u001b[0m\u001b[0m\n\u001b[1;32m     31\u001b[0m \u001b[0;34m\u001b[0m\u001b[0m\n",
      "\u001b[0;31mKeyboardInterrupt\u001b[0m: "
     ]
    }
   ],
   "source": [
    "# training iterations\n",
    "\n",
    "# special.expit is sigmoid\n",
    "\n",
    "layer_0_output = x_data_rows\n",
    "\n",
    "while True:\n",
    "    layer_1_output = special.expit(np.dot(layer_0_output, w_1))  # shape = (x_row_num, layer_1_node_num)\n",
    "    mask_1 = numpy.random.binomial(1, dropout_rate, layer_1_node_num)  # TODO: check if need *2\n",
    "    layer_1_output *= mask_1\n",
    "\n",
    "    layer_2_output = special.expit(np.dot(layer_1_output, w_2))  # shape = (x_row_num, layer_2_node_num)\n",
    "    mask_2 = numpy.random.binomial(1, dropout_rate, layer_2_node_num)\n",
    "    layer_2_output *= mask_2\n",
    "\n",
    "    layer_3_output = special.expit(np.dot(layer_2_output, w_3))  # shape = (x_row_num, layer_3_node_num)\n",
    "    mask_3 = numpy.random.binomial(1, dropout_rate, layer_3_node_num)\n",
    "    layer_3_output *= mask_3\n",
    "\n",
    "    layer_out_output = special.expit(np.dot(layer_3_output, w_out))  # shape = (x_row_num, 1)\n",
    "\n",
    "    # backpropagation\n",
    "    layer_out_error = layer_out_output - y_data_rows\n",
    "    layer_out_delta = layer_out_error * sigmoid_deriv(layer_out_output)\n",
    "\n",
    "    layer_3_error = layer_out_delta.dot(w_out.T)\n",
    "    layer_3_delta = layer_3_error * sigmoid_deriv(layer_3_output)\n",
    "\n",
    "    layer_2_error = layer_3_delta.dot(w_3.T)  # shape = (x_row_num, layer_1_node_num)\n",
    "    layer_2_delta = layer_2_error * sigmoid_deriv(layer_2_output)  # shape = (x_row_num, layer_1_node_num)\n",
    "\n",
    "    layer_1_error = layer_2_delta.dot(w_2.T)  # shape = (x_row_num, layer_1_node_num)\n",
    "    layer_1_delta = layer_1_error * sigmoid_deriv(layer_1_output)  # shape = (x_row_num, layer_1_node_num)\n",
    "\n",
    "    w_out -= lr * (layer_3_output.T).dot(layer_out_delta)  # (20, 4001) * (4001, 1)\n",
    "    w_3 -= lr * (layer_2_output.T).dot(layer_3_delta)  # shape = (layer_1_node_num, 1)\n",
    "    w_2 -= lr * (layer_1_output.T).dot(layer_2_delta)  # shape = (layer_1_node_num, 1)\n",
    "    w_1 -= lr * (layer_0_output.T).dot(layer_1_delta)  # shape = (x_row_num, layer_1_node_num)\n",
    "\n",
    "#     v_w_2 = lr * (layer_1_output.T).dot(layer_2_delta) + gamma * v_w_2\n",
    "#     v_w_1 = lr * (layer_0_output.T).dot(layer_1_delta) + gamma * v_w_1\n",
    "#     w_2 += v_w_2  # shape = (layer_1_node_num, 1)\n",
    "#     w_1 += v_w_1  # shape = (x_row_num, layer_1_node_num)\n",
    "\n",
    "    # write model\n",
    "    if (total_epoch < 10000 and total_epoch % 1000 == 0) or (total_epoch % 10000 == 0):\n",
    "        layer_1_output = dropout_rate * special.expit(np.dot(layer_0_output, w_1))\n",
    "        layer_2_output = dropout_rate * special.expit(np.dot(layer_1_output, w_2))\n",
    "        layer_3_output = dropout_rate * special.expit(np.dot(layer_2_output, w_3))\n",
    "        layer_out_output = special.expit(np.dot(layer_3_output, w_out))\n",
    "        layer_out_error = layer_out_output - y_data_rows\n",
    "\n",
    "        pred_error = np.sum(np.abs(to_bool(layer_out_output) - y_data_rows))\n",
    "        rms_error = np.mean(np.square(layer_out_error))\n",
    "\n",
    "        model_file_info = \"epo\" + str(total_epoch) + \"_rms\" + str(rms_error)[:8] + \"_err\" + str(pred_error)\n",
    "        print('====', model_file_info)\n",
    "        print('rms_error', rms_error)\n",
    "        print('pred_error', pred_error, '/', x_row_num, '=', pred_error/x_row_num)\n",
    "\n",
    "        np.savez(MODEL_FOLDER + model_file_info, w_1=w_1, w_2=w_2, w_3=w_3, w_out=w_out, lr=lr, dropout_rate=dropout_rate, total_epoch=total_epoch, x_train_means=x_train_means, x_train_stds=x_train_stds)\n",
    "\n",
    "#     vw = lr * w_grad + gamma * vw\n",
    "#     w = w - vw\n",
    "\n",
    "    total_epoch += 1\n"
   ]
  },
  {
   "cell_type": "markdown",
   "metadata": {},
   "source": [
    "## Test"
   ]
  },
  {
   "cell_type": "code",
   "execution_count": 411,
   "metadata": {
    "collapsed": false
   },
   "outputs": [],
   "source": [
    "test_data = pd.read_csv(TEST_FILE_PATH, header=None)"
   ]
  },
  {
   "cell_type": "code",
   "execution_count": 412,
   "metadata": {
    "collapsed": false
   },
   "outputs": [],
   "source": [
    "_id = test_data[0].apply(str)"
   ]
  },
  {
   "cell_type": "code",
   "execution_count": 413,
   "metadata": {
    "collapsed": true
   },
   "outputs": [],
   "source": [
    "x_test_data_rows = test_data[list(range(1, 58))].as_matrix()"
   ]
  },
  {
   "cell_type": "code",
   "execution_count": 414,
   "metadata": {
    "collapsed": true
   },
   "outputs": [],
   "source": [
    "x_test_data_rows = x_test_data_rows[:, x_select_col_idxs]"
   ]
  },
  {
   "cell_type": "code",
   "execution_count": 415,
   "metadata": {
    "collapsed": true
   },
   "outputs": [],
   "source": [
    "# # read model\n",
    "# model_file = 'epo900000_rms0.020180_err97.npz'\n",
    "# model = np.load(MODEL_FOLDER + model_file)\n",
    "# w_1 = model['w_1']\n",
    "# w_2 = model['w_2']\n",
    "# w_3 = model['w_3']\n",
    "# w_out = model['w_out']\n",
    "# model_file_info = model_file[:-4]"
   ]
  },
  {
   "cell_type": "code",
   "execution_count": 416,
   "metadata": {
    "collapsed": false
   },
   "outputs": [],
   "source": [
    "# normalize\n",
    "x_test_data_rows = (x_test_data_rows - x_train_means) / x_train_stds\n",
    "# add 1\n",
    "x_test_data_rows = np.c_[x_test_data_rows, np.ones(x_test_data_rows.shape[0]) ]"
   ]
  },
  {
   "cell_type": "code",
   "execution_count": 417,
   "metadata": {
    "collapsed": false
   },
   "outputs": [],
   "source": [
    "# test\n",
    "test_layer_1_output = dropout_rate * special.expit(np.dot(x_test_data_rows, w_1))\n",
    "test_layer_2_output = dropout_rate * special.expit(np.dot(test_layer_1_output, w_2))\n",
    "test_layer_3_output = dropout_rate * special.expit(np.dot(test_layer_2_output, w_3))\n",
    "test_layer_out_output = special.expit(np.dot(test_layer_3_output, w_out))\n",
    "y_test_rows = to_bool(test_layer_out_output)\n",
    "\n",
    "y_test_series = pd.Series(y_test_rows.flatten())\n",
    "\n",
    "# concat id and y\n",
    "output = pd.concat([_id, y_test_series], axis=1)\n",
    "output.columns=[\"id\",\"label\"]\n",
    "\n",
    "# write file\n",
    "output.to_csv(OUTPUT_FOLDER + \"output_\" + METHOD_NAME + \"_\" + model_file_info + \".csv\", index=False)"
   ]
  },
  {
   "cell_type": "code",
   "execution_count": null,
   "metadata": {
    "collapsed": true
   },
   "outputs": [],
   "source": []
  }
 ],
 "metadata": {
  "anaconda-cloud": {},
  "kernelspec": {
   "display_name": "Python [Root]",
   "language": "python",
   "name": "Python [Root]"
  },
  "language_info": {
   "codemirror_mode": {
    "name": "ipython",
    "version": 3
   },
   "file_extension": ".py",
   "mimetype": "text/x-python",
   "name": "python",
   "nbconvert_exporter": "python",
   "pygments_lexer": "ipython3",
   "version": "3.5.2"
  }
 },
 "nbformat": 4,
 "nbformat_minor": 0
}
