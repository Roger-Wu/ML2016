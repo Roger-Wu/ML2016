{
 "cells": [
  {
   "cell_type": "code",
   "execution_count": 24,
   "metadata": {
    "collapsed": false
   },
   "outputs": [],
   "source": [
    "import numpy as np\n",
    "import pickle\n",
    "from keras.preprocessing.image import ImageDataGenerator\n",
    "from keras.models import Sequential\n",
    "from keras.layers import Input, Dense, Dropout, Activation, Flatten\n",
    "from keras.layers import Convolution2D, MaxPooling2D, AveragePooling2D, UpSampling2D\n",
    "from keras.optimizers import SGD\n",
    "from keras.utils import np_utils"
   ]
  },
  {
   "cell_type": "code",
   "execution_count": 2,
   "metadata": {
    "collapsed": true
   },
   "outputs": [],
   "source": [
    "METHOD = 'cnn_autoencoder'\n",
    "\n",
    "LABELLED_DATA_FILE = 'data/all_label.p'\n",
    "UNLABELED_DATA_FILE = 'data/all_unlabel.p'\n",
    "TEST_DATA_FILE = 'data/test.p'\n",
    "\n",
    "OUTPUT_FOLDER = 'output/'\n",
    "MODEL_FOLDER = 'model/' + METHOD + '/'"
   ]
  },
  {
   "cell_type": "code",
   "execution_count": 3,
   "metadata": {
    "collapsed": true
   },
   "outputs": [],
   "source": [
    "import os\n",
    "if not os.path.exists(MODEL_FOLDER):\n",
    "    os.makedirs(MODEL_FOLDER)\n",
    "if not os.path.exists(OUTPUT_FOLDER):\n",
    "    os.makedirs(OUTPUT_FOLDER)"
   ]
  },
  {
   "cell_type": "markdown",
   "metadata": {},
   "source": [
    "# Train"
   ]
  },
  {
   "cell_type": "markdown",
   "metadata": {},
   "source": [
    "### Loading Training Data"
   ]
  },
  {
   "cell_type": "code",
   "execution_count": 4,
   "metadata": {
    "collapsed": false
   },
   "outputs": [],
   "source": [
    "labelled_data = np.array(pickle.load(open(LABELLED_DATA_FILE, 'rb')))\n",
    "unlabeled_data = np.array(pickle.load(open(UNLABELED_DATA_FILE, 'rb')))"
   ]
  },
  {
   "cell_type": "code",
   "execution_count": 5,
   "metadata": {
    "collapsed": true
   },
   "outputs": [],
   "source": [
    "nb_classes = 10\n",
    "img_rows, img_cols, img_channels = 32, 32, 3"
   ]
  },
  {
   "cell_type": "code",
   "execution_count": 6,
   "metadata": {
    "collapsed": false
   },
   "outputs": [],
   "source": [
    "# generate x, y from data\n",
    "\n",
    "# reshape labelled data to (5000, 3, 32, 32)\n",
    "X_train_label = labelled_data.reshape((5000, img_channels, img_rows, img_cols)).astype('float32') / 255\n",
    "\n",
    "# reshape unlabeled data to (45000, 3, 32, 32)\n",
    "nb_unlabeled_data = unlabeled_data.shape[0]\n",
    "X_train_unlabel = unlabeled_data.reshape((nb_unlabeled_data, img_channels, img_rows, img_cols)).astype('float32') / 255\n",
    "\n",
    "X_train_all = np.concatenate((X_train_label, X_train_unlabel))\n",
    "\n",
    "y_train_label_class = np.array([classIdx for classIdx in range(len(labelled_data)) for i in range(len(labelled_data[classIdx]))])\n",
    "Y_train_label = np_utils.to_categorical(y_train_label_class, nb_classes)"
   ]
  },
  {
   "cell_type": "code",
   "execution_count": 7,
   "metadata": {
    "collapsed": true
   },
   "outputs": [],
   "source": [
    "# TODO: remove\n",
    "\n",
    "from keras.datasets import cifar10\n",
    "\n",
    "(X_train, y_train), (X_test, y_test) = cifar10.load_data()\n",
    "\n",
    "# X_train_cifar = np.array([[img[:, :, 0], img[:, :, 1], img[:, :, 2]] for img in X_train]) / 255.0\n",
    "X_test_cifar = np.array([[img[:, :, 0], img[:, :, 1], img[:, :, 2]] for img in X_test]) / 255.0\n",
    "Y_test_cifar = np_utils.to_categorical(y_test.flatten(), 10)"
   ]
  },
  {
   "cell_type": "code",
   "execution_count": 8,
   "metadata": {
    "collapsed": false
   },
   "outputs": [
    {
     "data": {
      "image/png": "[encoded data removed]",
      "text/plain": [
       "<PIL.Image.Image image mode=RGB size=32x32 at 0x7FACEC4F9EF0>"
      ]
     },
     "execution_count": 8,
     "metadata": {},
     "output_type": "execute_result"
    }
   ],
   "source": [
    "# visualize\n",
    "from scipy.misc import toimage\n",
    "toimage(X_train_unlabel[5])"
   ]
  },
  {
   "cell_type": "markdown",
   "metadata": {},
   "source": [
    "### Training"
   ]
  },
  {
   "cell_type": "markdown",
   "metadata": {},
   "source": [
    "#### autoencoder"
   ]
  },
  {
   "cell_type": "code",
   "execution_count": 91,
   "metadata": {
    "collapsed": false
   },
   "outputs": [
    {
     "ename": "TypeError",
     "evalue": "__init__() missing 1 required positional argument: 'nb_col'",
     "output_type": "error",
     "traceback": [
      "\u001b[0;31m---------------------------------------------------------------------------\u001b[0m",
      "\u001b[0;31mTypeError\u001b[0m                                 Traceback (most recent call last)",
      "\u001b[0;32m<ipython-input-91-44ae91332f65>\u001b[0m in \u001b[0;36m<module>\u001b[0;34m()\u001b[0m\n\u001b[1;32m     16\u001b[0m \u001b[0mx\u001b[0m \u001b[0;34m=\u001b[0m \u001b[0mUpSampling2D\u001b[0m\u001b[0;34m(\u001b[0m\u001b[0;34m(\u001b[0m\u001b[0;36m2\u001b[0m\u001b[0;34m,\u001b[0m \u001b[0;36m2\u001b[0m\u001b[0;34m)\u001b[0m\u001b[0;34m,\u001b[0m \u001b[0mdim_ordering\u001b[0m\u001b[0;34m=\u001b[0m\u001b[0;34m\"th\"\u001b[0m\u001b[0;34m)\u001b[0m\u001b[0;34m(\u001b[0m\u001b[0mx\u001b[0m\u001b[0;34m)\u001b[0m\u001b[0;34m\u001b[0m\u001b[0m\n\u001b[1;32m     17\u001b[0m \u001b[0mx\u001b[0m \u001b[0;34m=\u001b[0m \u001b[0mConvolution2D\u001b[0m\u001b[0;34m(\u001b[0m\u001b[0;36m32\u001b[0m\u001b[0;34m,\u001b[0m \u001b[0;36m3\u001b[0m\u001b[0;34m,\u001b[0m \u001b[0;36m3\u001b[0m\u001b[0;34m,\u001b[0m \u001b[0mactivation\u001b[0m\u001b[0;34m=\u001b[0m\u001b[0;34m'relu'\u001b[0m\u001b[0;34m,\u001b[0m \u001b[0mborder_mode\u001b[0m\u001b[0;34m=\u001b[0m\u001b[0;34m'same'\u001b[0m\u001b[0;34m,\u001b[0m \u001b[0mdim_ordering\u001b[0m\u001b[0;34m=\u001b[0m\u001b[0;34m\"th\"\u001b[0m\u001b[0;34m)\u001b[0m\u001b[0;34m(\u001b[0m\u001b[0mx\u001b[0m\u001b[0;34m)\u001b[0m\u001b[0;34m\u001b[0m\u001b[0m\n\u001b[0;32m---> 18\u001b[0;31m \u001b[0mx\u001b[0m \u001b[0;34m=\u001b[0m \u001b[0mConvolution2D\u001b[0m\u001b[0;34m(\u001b[0m\u001b[0;36m32\u001b[0m\u001b[0;34m,\u001b[0m \u001b[0;36m3\u001b[0m\u001b[0;34m,\u001b[0m \u001b[0mactivation\u001b[0m\u001b[0;34m=\u001b[0m\u001b[0;34m'relu'\u001b[0m\u001b[0;34m,\u001b[0m \u001b[0mborder_mode\u001b[0m\u001b[0;34m=\u001b[0m\u001b[0;34m'same'\u001b[0m\u001b[0;34m,\u001b[0m \u001b[0mdim_ordering\u001b[0m\u001b[0;34m=\u001b[0m\u001b[0;34m\"th\"\u001b[0m\u001b[0;34m)\u001b[0m\u001b[0;34m(\u001b[0m\u001b[0mx\u001b[0m\u001b[0;34m)\u001b[0m\u001b[0;34m\u001b[0m\u001b[0m\n\u001b[0m\u001b[1;32m     19\u001b[0m \u001b[0mx\u001b[0m \u001b[0;34m=\u001b[0m \u001b[0mUpSampling2D\u001b[0m\u001b[0;34m(\u001b[0m\u001b[0;34m(\u001b[0m\u001b[0;36m2\u001b[0m\u001b[0;34m,\u001b[0m \u001b[0;36m2\u001b[0m\u001b[0;34m)\u001b[0m\u001b[0;34m,\u001b[0m \u001b[0mdim_ordering\u001b[0m\u001b[0;34m=\u001b[0m\u001b[0;34m\"th\"\u001b[0m\u001b[0;34m)\u001b[0m\u001b[0;34m(\u001b[0m\u001b[0mx\u001b[0m\u001b[0;34m)\u001b[0m\u001b[0;34m\u001b[0m\u001b[0m\n\u001b[1;32m     20\u001b[0m \u001b[0mx\u001b[0m \u001b[0;34m=\u001b[0m \u001b[0mConvolution2D\u001b[0m\u001b[0;34m(\u001b[0m\u001b[0;36m64\u001b[0m\u001b[0;34m,\u001b[0m \u001b[0;36m3\u001b[0m\u001b[0;34m,\u001b[0m \u001b[0mactivation\u001b[0m\u001b[0;34m=\u001b[0m\u001b[0;34m'relu'\u001b[0m\u001b[0;34m,\u001b[0m \u001b[0mborder_mode\u001b[0m\u001b[0;34m=\u001b[0m\u001b[0;34m'same'\u001b[0m\u001b[0;34m,\u001b[0m \u001b[0mdim_ordering\u001b[0m\u001b[0;34m=\u001b[0m\u001b[0;34m\"th\"\u001b[0m\u001b[0;34m)\u001b[0m\u001b[0;34m(\u001b[0m\u001b[0mx\u001b[0m\u001b[0;34m)\u001b[0m\u001b[0;34m\u001b[0m\u001b[0m\n",
      "\u001b[0;31mTypeError\u001b[0m: __init__() missing 1 required positional argument: 'nb_col'"
     ]
    }
   ],
   "source": [
    "from keras.layers import Input, Dense, Convolution2D, MaxPooling2D, UpSampling2D\n",
    "from keras.models import Model\n",
    "\n",
    "input_img = Input(shape=(3, 32, 32))\n",
    "\n",
    "x = Convolution2D(64, 3, 3, activation='relu', border_mode='same', dim_ordering=\"th\")(input_img)\n",
    "x = Convolution2D(64, 3, 3, activation='relu', border_mode='same', dim_ordering=\"th\")(x)\n",
    "x = MaxPooling2D((2, 2), border_mode='same', dim_ordering=\"th\")(x)\n",
    "x = Convolution2D(32, 3, 3, activation='relu', border_mode='same', dim_ordering=\"th\")(x)\n",
    "x = Convolution2D(32, 3, 3, activation='relu', border_mode='same', dim_ordering=\"th\")(x)\n",
    "x = MaxPooling2D((2, 2), border_mode='same', dim_ordering=\"th\")(x)\n",
    "x = Convolution2D(16, 3, 3, activation='relu', border_mode='same', dim_ordering=\"th\")(x)\n",
    "\n",
    "encoded = x\n",
    "\n",
    "x = UpSampling2D((2, 2), dim_ordering=\"th\")(x)\n",
    "x = Convolution2D(32, 3, 3, activation='relu', border_mode='same', dim_ordering=\"th\")(x)\n",
    "x = Convolution2D(32, 3, 3, activation='relu', border_mode='same', dim_ordering=\"th\")(x)\n",
    "x = UpSampling2D((2, 2), dim_ordering=\"th\")(x)\n",
    "x = Convolution2D(64, 3, 3, activation='relu', border_mode='same', dim_ordering=\"th\")(x)\n",
    "x = Convolution2D(64, 3, 3, activation='relu', border_mode='same', dim_ordering=\"th\")(x)\n",
    "# x = UpSampling2D((2, 2), dim_ordering=\"th\")(x)\n",
    "decoded = Convolution2D(3, 3, 3, activation='sigmoid', border_mode='same', dim_ordering=\"th\")(x)\n",
    "\n",
    "autoencoder = Model(input_img, decoded)\n",
    "autoencoder.compile(optimizer='adam', loss='binary_crossentropy')"
   ]
  },
  {
   "cell_type": "code",
   "execution_count": null,
   "metadata": {
    "collapsed": true
   },
   "outputs": [],
   "source": [
    "nb_epoch = 5\n",
    "batch_size = 64"
   ]
  },
  {
   "cell_type": "code",
   "execution_count": null,
   "metadata": {
    "collapsed": false
   },
   "outputs": [],
   "source": [
    "autoencoder.fit(X_train_all, X_train_all,\n",
    "                nb_epoch=nb_epoch,\n",
    "                batch_size=batch_size,\n",
    "                shuffle=True)"
   ]
  },
  {
   "cell_type": "code",
   "execution_count": 83,
   "metadata": {
    "collapsed": true
   },
   "outputs": [],
   "source": [
    "encoder = Model(input=input_img, output=encoded)"
   ]
  },
  {
   "cell_type": "code",
   "execution_count": 84,
   "metadata": {
    "collapsed": true
   },
   "outputs": [],
   "source": [
    "X_train_label_encoded = encoder.predict(X_train_label)\n",
    "# TODO: remove cifar\n",
    "X_test_cifar_encoded = encoder.predict(X_test_cifar)"
   ]
  },
  {
   "cell_type": "markdown",
   "metadata": {},
   "source": [
    "#### classify"
   ]
  },
  {
   "cell_type": "code",
   "execution_count": 85,
   "metadata": {
    "collapsed": false
   },
   "outputs": [],
   "source": [
    "classifier = Sequential()\n",
    "\n",
    "classifier.add(Flatten(input_shape=X_train_label_encoded.shape[1:]))\n",
    "\n",
    "classifier.add(Dense(512))  # 32 * \n",
    "classifier.add(Activation('relu'))\n",
    "classifier.add(Dropout(0.5))\n",
    "\n",
    "classifier.add(Dense(nb_classes))\n",
    "classifier.add(Activation('softmax'))\n",
    "\n",
    "# sgd = SGD(lr=0.01, decay=1e-6, momentum=0.9, nesterov=True)\n",
    "classifier.compile(loss='categorical_crossentropy',\n",
    "              optimizer='adam',\n",
    "              metrics=['accuracy'])"
   ]
  },
  {
   "cell_type": "code",
   "execution_count": 86,
   "metadata": {
    "collapsed": true
   },
   "outputs": [],
   "source": [
    "nb_epoch = 100\n",
    "batch_size = 64"
   ]
  },
  {
   "cell_type": "code",
   "execution_count": 87,
   "metadata": {
    "collapsed": false
   },
   "outputs": [
    {
     "name": "stdout",
     "output_type": "stream",
     "text": [
      "Train on 5000 samples, validate on 10000 samples\n",
      "Epoch 1/100\n",
      "5000/5000 [==============================] - 1s - loss: 2.1156 - acc: 0.2476 - val_loss: 2.4530 - val_acc: 0.1977\n",
      "Epoch 2/100\n",
      "5000/5000 [==============================] - 1s - loss: 1.8630 - acc: 0.3280 - val_loss: 2.2944 - val_acc: 0.2091\n",
      "Epoch 3/100\n",
      "5000/5000 [==============================] - 1s - loss: 1.7510 - acc: 0.3686 - val_loss: 2.4041 - val_acc: 0.2112\n",
      "Epoch 4/100\n",
      "5000/5000 [==============================] - 1s - loss: 1.6796 - acc: 0.3898 - val_loss: 2.4714 - val_acc: 0.2019\n",
      "Epoch 5/100\n",
      "5000/5000 [==============================] - 1s - loss: 1.6185 - acc: 0.4216 - val_loss: 2.6413 - val_acc: 0.2073\n",
      "Epoch 6/100\n",
      "5000/5000 [==============================] - 1s - loss: 1.5697 - acc: 0.4448 - val_loss: 2.6504 - val_acc: 0.2009\n",
      "Epoch 7/100\n",
      "5000/5000 [==============================] - 1s - loss: 1.5464 - acc: 0.4408 - val_loss: 2.4904 - val_acc: 0.2214\n",
      "Epoch 8/100\n",
      "5000/5000 [==============================] - 1s - loss: 1.5159 - acc: 0.4482 - val_loss: 2.5140 - val_acc: 0.2170\n",
      "Epoch 9/100\n",
      "5000/5000 [==============================] - 1s - loss: 1.4753 - acc: 0.4596 - val_loss: 2.6621 - val_acc: 0.2285\n",
      "Epoch 10/100\n",
      "5000/5000 [==============================] - 1s - loss: 1.4615 - acc: 0.4790 - val_loss: 2.8486 - val_acc: 0.1990\n",
      "Epoch 11/100\n",
      "5000/5000 [==============================] - 1s - loss: 1.4274 - acc: 0.4884 - val_loss: 2.7202 - val_acc: 0.2247\n",
      "Epoch 12/100\n",
      "5000/5000 [==============================] - 1s - loss: 1.4014 - acc: 0.4954 - val_loss: 2.9492 - val_acc: 0.2094\n",
      "Epoch 13/100\n",
      "5000/5000 [==============================] - 1s - loss: 1.3819 - acc: 0.5012 - val_loss: 2.5922 - val_acc: 0.2210\n",
      "Epoch 14/100\n",
      "5000/5000 [==============================] - 1s - loss: 1.3571 - acc: 0.5002 - val_loss: 2.9396 - val_acc: 0.2231\n",
      "Epoch 15/100\n",
      "5000/5000 [==============================] - 1s - loss: 1.3276 - acc: 0.5154 - val_loss: 2.9373 - val_acc: 0.2227\n",
      "Epoch 16/100\n",
      "5000/5000 [==============================] - 1s - loss: 1.2886 - acc: 0.5296 - val_loss: 2.6832 - val_acc: 0.2321\n",
      "Epoch 17/100\n",
      "5000/5000 [==============================] - 1s - loss: 1.2634 - acc: 0.5342 - val_loss: 2.9112 - val_acc: 0.2283\n",
      "Epoch 18/100\n",
      "5000/5000 [==============================] - 1s - loss: 1.2567 - acc: 0.5432 - val_loss: 2.8918 - val_acc: 0.2245\n",
      "Epoch 19/100\n",
      "5000/5000 [==============================] - 1s - loss: 1.2161 - acc: 0.5592 - val_loss: 2.9694 - val_acc: 0.2160\n",
      "Epoch 20/100\n",
      "5000/5000 [==============================] - 1s - loss: 1.2345 - acc: 0.5522 - val_loss: 2.6491 - val_acc: 0.2323\n",
      "Epoch 21/100\n",
      "5000/5000 [==============================] - 1s - loss: 1.2333 - acc: 0.5504 - val_loss: 3.0557 - val_acc: 0.2226\n",
      "Epoch 22/100\n",
      "5000/5000 [==============================] - 1s - loss: 1.1872 - acc: 0.5612 - val_loss: 2.7780 - val_acc: 0.2300\n",
      "Epoch 23/100\n",
      "5000/5000 [==============================] - 1s - loss: 1.1878 - acc: 0.5634 - val_loss: 3.0651 - val_acc: 0.2201\n",
      "Epoch 24/100\n",
      "5000/5000 [==============================] - 1s - loss: 1.1805 - acc: 0.5686 - val_loss: 2.9018 - val_acc: 0.2210\n",
      "Epoch 25/100\n",
      "5000/5000 [==============================] - 1s - loss: 1.1394 - acc: 0.5904 - val_loss: 2.6840 - val_acc: 0.2284\n",
      "Epoch 26/100\n",
      "5000/5000 [==============================] - 1s - loss: 1.1405 - acc: 0.5764 - val_loss: 3.4100 - val_acc: 0.2247\n",
      "Epoch 27/100\n",
      "5000/5000 [==============================] - 1s - loss: 1.1086 - acc: 0.5948 - val_loss: 2.9529 - val_acc: 0.2283\n",
      "Epoch 28/100\n",
      "5000/5000 [==============================] - 1s - loss: 1.0920 - acc: 0.5982 - val_loss: 2.8891 - val_acc: 0.2358\n",
      "Epoch 29/100\n",
      "5000/5000 [==============================] - 1s - loss: 1.0745 - acc: 0.6074 - val_loss: 2.9852 - val_acc: 0.2318\n",
      "Epoch 30/100\n",
      "5000/5000 [==============================] - 1s - loss: 1.0864 - acc: 0.5944 - val_loss: 2.7328 - val_acc: 0.2437\n",
      "Epoch 31/100\n",
      "5000/5000 [==============================] - 1s - loss: 1.0225 - acc: 0.6294 - val_loss: 3.4558 - val_acc: 0.2313\n",
      "Epoch 32/100\n",
      "5000/5000 [==============================] - 1s - loss: 1.0340 - acc: 0.6256 - val_loss: 3.0278 - val_acc: 0.2392\n",
      "Epoch 33/100\n",
      "5000/5000 [==============================] - 1s - loss: 0.9988 - acc: 0.6290 - val_loss: 3.1612 - val_acc: 0.2294\n",
      "Epoch 34/100\n",
      "5000/5000 [==============================] - 1s - loss: 0.9837 - acc: 0.6432 - val_loss: 3.3510 - val_acc: 0.2269\n",
      "Epoch 35/100\n",
      "5000/5000 [==============================] - 1s - loss: 0.9960 - acc: 0.6334 - val_loss: 3.0904 - val_acc: 0.2282\n",
      "Epoch 36/100\n",
      "5000/5000 [==============================] - 1s - loss: 0.9726 - acc: 0.6436 - val_loss: 3.1473 - val_acc: 0.2382\n",
      "Epoch 37/100\n",
      "5000/5000 [==============================] - 1s - loss: 0.9701 - acc: 0.6326 - val_loss: 3.6389 - val_acc: 0.2342\n",
      "Epoch 38/100\n",
      "5000/5000 [==============================] - 1s - loss: 0.9667 - acc: 0.6434 - val_loss: 3.3374 - val_acc: 0.2282\n",
      "Epoch 39/100\n",
      "5000/5000 [==============================] - 1s - loss: 0.8977 - acc: 0.6734 - val_loss: 3.2934 - val_acc: 0.2483\n",
      "Epoch 40/100\n",
      "5000/5000 [==============================] - 1s - loss: 0.9116 - acc: 0.6634 - val_loss: 3.5106 - val_acc: 0.2326\n",
      "Epoch 41/100\n",
      "5000/5000 [==============================] - 1s - loss: 0.8778 - acc: 0.6796 - val_loss: 3.6579 - val_acc: 0.2350\n",
      "Epoch 42/100\n",
      "5000/5000 [==============================] - 1s - loss: 0.8597 - acc: 0.6774 - val_loss: 3.2397 - val_acc: 0.2362\n",
      "Epoch 43/100\n",
      "5000/5000 [==============================] - 1s - loss: 0.8777 - acc: 0.6680 - val_loss: 3.6657 - val_acc: 0.2306\n",
      "Epoch 44/100\n",
      "5000/5000 [==============================] - 1s - loss: 0.8743 - acc: 0.6808 - val_loss: 3.4501 - val_acc: 0.2418\n",
      "Epoch 45/100\n",
      "5000/5000 [==============================] - 1s - loss: 0.8763 - acc: 0.6826 - val_loss: 3.6618 - val_acc: 0.2290\n",
      "Epoch 46/100\n",
      "5000/5000 [==============================] - 1s - loss: 0.8252 - acc: 0.6888 - val_loss: 3.4869 - val_acc: 0.2372\n",
      "Epoch 47/100\n",
      "5000/5000 [==============================] - 1s - loss: 0.8149 - acc: 0.6992 - val_loss: 3.5232 - val_acc: 0.2319\n",
      "Epoch 48/100\n",
      "5000/5000 [==============================] - 1s - loss: 0.8134 - acc: 0.7022 - val_loss: 3.3961 - val_acc: 0.2339\n",
      "Epoch 49/100\n",
      "5000/5000 [==============================] - 1s - loss: 0.7701 - acc: 0.7202 - val_loss: 3.3868 - val_acc: 0.2486\n",
      "Epoch 50/100\n",
      "5000/5000 [==============================] - 1s - loss: 0.7692 - acc: 0.7188 - val_loss: 3.6553 - val_acc: 0.2371\n",
      "Epoch 51/100\n",
      "5000/5000 [==============================] - 1s - loss: 0.7574 - acc: 0.7206 - val_loss: 3.6062 - val_acc: 0.2390\n",
      "Epoch 52/100\n",
      "5000/5000 [==============================] - 1s - loss: 0.7652 - acc: 0.7148 - val_loss: 3.6837 - val_acc: 0.2302\n",
      "Epoch 53/100\n",
      "5000/5000 [==============================] - 1s - loss: 0.7874 - acc: 0.7096 - val_loss: 3.2412 - val_acc: 0.2467\n",
      "Epoch 54/100\n",
      "5000/5000 [==============================] - 1s - loss: 0.8011 - acc: 0.7000 - val_loss: 3.7616 - val_acc: 0.2307\n",
      "Epoch 55/100\n",
      "5000/5000 [==============================] - 1s - loss: 0.7181 - acc: 0.7296 - val_loss: 4.1130 - val_acc: 0.2360\n",
      "Epoch 56/100\n",
      "5000/5000 [==============================] - 1s - loss: 0.7307 - acc: 0.7272 - val_loss: 3.4352 - val_acc: 0.2346\n",
      "Epoch 57/100\n",
      "5000/5000 [==============================] - 1s - loss: 0.7167 - acc: 0.7328 - val_loss: 3.5606 - val_acc: 0.2340\n",
      "Epoch 58/100\n",
      "5000/5000 [==============================] - 1s - loss: 0.7159 - acc: 0.7346 - val_loss: 3.4471 - val_acc: 0.2365\n",
      "Epoch 59/100\n",
      "5000/5000 [==============================] - 1s - loss: 0.6984 - acc: 0.7398 - val_loss: 4.2041 - val_acc: 0.2277\n",
      "Epoch 60/100\n",
      "5000/5000 [==============================] - 1s - loss: 0.6947 - acc: 0.7404 - val_loss: 3.8757 - val_acc: 0.2398\n",
      "Epoch 61/100\n",
      "5000/5000 [==============================] - 1s - loss: 0.6992 - acc: 0.7356 - val_loss: 3.9978 - val_acc: 0.2314\n",
      "Epoch 62/100\n",
      "5000/5000 [==============================] - 1s - loss: 0.7030 - acc: 0.7350 - val_loss: 3.6456 - val_acc: 0.2325\n",
      "Epoch 63/100\n",
      "5000/5000 [==============================] - 1s - loss: 0.7217 - acc: 0.7328 - val_loss: 4.0093 - val_acc: 0.2320\n",
      "Epoch 64/100\n",
      "5000/5000 [==============================] - 1s - loss: 0.6478 - acc: 0.7610 - val_loss: 3.9707 - val_acc: 0.2353\n",
      "Epoch 65/100\n",
      "5000/5000 [==============================] - 1s - loss: 0.6581 - acc: 0.7500 - val_loss: 4.0159 - val_acc: 0.2383\n",
      "Epoch 66/100\n",
      "5000/5000 [==============================] - 1s - loss: 0.6318 - acc: 0.7622 - val_loss: 3.8814 - val_acc: 0.2302\n",
      "Epoch 67/100\n",
      "5000/5000 [==============================] - 1s - loss: 0.6416 - acc: 0.7584 - val_loss: 4.0486 - val_acc: 0.2428\n",
      "Epoch 68/100\n",
      "5000/5000 [==============================] - 1s - loss: 0.6431 - acc: 0.7626 - val_loss: 3.9646 - val_acc: 0.2365\n",
      "Epoch 69/100\n",
      "5000/5000 [==============================] - 1s - loss: 0.6266 - acc: 0.7654 - val_loss: 4.1893 - val_acc: 0.2244\n",
      "Epoch 70/100\n",
      "5000/5000 [==============================] - 1s - loss: 0.6306 - acc: 0.7676 - val_loss: 4.2719 - val_acc: 0.2300\n",
      "Epoch 71/100\n",
      "5000/5000 [==============================] - 1s - loss: 0.6357 - acc: 0.7606 - val_loss: 3.9898 - val_acc: 0.2423\n",
      "Epoch 72/100\n",
      "5000/5000 [==============================] - 1s - loss: 0.6163 - acc: 0.7718 - val_loss: 4.1525 - val_acc: 0.2387\n",
      "Epoch 73/100\n",
      "5000/5000 [==============================] - 1s - loss: 0.6034 - acc: 0.7748 - val_loss: 4.1407 - val_acc: 0.2394\n",
      "Epoch 74/100\n",
      "5000/5000 [==============================] - 1s - loss: 0.5834 - acc: 0.7802 - val_loss: 4.2512 - val_acc: 0.2320\n",
      "Epoch 75/100\n",
      "5000/5000 [==============================] - 1s - loss: 0.6184 - acc: 0.7676 - val_loss: 4.3029 - val_acc: 0.2314\n",
      "Epoch 76/100\n",
      "5000/5000 [==============================] - 1s - loss: 0.6133 - acc: 0.7664 - val_loss: 4.5151 - val_acc: 0.2329\n",
      "Epoch 77/100\n",
      "5000/5000 [==============================] - 1s - loss: 0.6010 - acc: 0.7738 - val_loss: 4.1227 - val_acc: 0.2362\n",
      "Epoch 78/100\n",
      "5000/5000 [==============================] - 1s - loss: 0.6105 - acc: 0.7722 - val_loss: 4.2523 - val_acc: 0.2390\n",
      "Epoch 79/100\n",
      "5000/5000 [==============================] - 1s - loss: 0.6138 - acc: 0.7696 - val_loss: 4.2546 - val_acc: 0.2311\n",
      "Epoch 80/100\n",
      "5000/5000 [==============================] - 1s - loss: 0.6123 - acc: 0.7662 - val_loss: 4.7358 - val_acc: 0.2307\n",
      "Epoch 81/100\n",
      "5000/5000 [==============================] - 1s - loss: 0.5714 - acc: 0.7804 - val_loss: 4.2562 - val_acc: 0.2305\n",
      "Epoch 82/100\n",
      "5000/5000 [==============================] - 1s - loss: 0.5705 - acc: 0.7820 - val_loss: 4.2188 - val_acc: 0.2315\n",
      "Epoch 83/100\n",
      "5000/5000 [==============================] - 1s - loss: 0.5868 - acc: 0.7782 - val_loss: 4.3949 - val_acc: 0.2320\n",
      "Epoch 84/100\n",
      "5000/5000 [==============================] - 1s - loss: 0.6362 - acc: 0.7640 - val_loss: 3.9920 - val_acc: 0.2353\n",
      "Epoch 85/100\n",
      "5000/5000 [==============================] - 1s - loss: 0.5839 - acc: 0.7814 - val_loss: 4.1370 - val_acc: 0.2360\n",
      "Epoch 86/100\n",
      "5000/5000 [==============================] - 1s - loss: 0.5967 - acc: 0.7750 - val_loss: 4.0656 - val_acc: 0.2327\n",
      "Epoch 87/100\n",
      "5000/5000 [==============================] - 1s - loss: 0.6223 - acc: 0.7600 - val_loss: 3.8084 - val_acc: 0.2378\n",
      "Epoch 88/100\n",
      "5000/5000 [==============================] - 1s - loss: 0.6276 - acc: 0.7626 - val_loss: 3.9610 - val_acc: 0.2331\n",
      "Epoch 89/100\n",
      "5000/5000 [==============================] - 1s - loss: 0.5961 - acc: 0.7748 - val_loss: 4.2387 - val_acc: 0.2351\n",
      "Epoch 90/100\n",
      "5000/5000 [==============================] - 1s - loss: 0.5823 - acc: 0.7752 - val_loss: 4.5439 - val_acc: 0.2266\n",
      "Epoch 91/100\n",
      "5000/5000 [==============================] - 1s - loss: 0.6407 - acc: 0.7534 - val_loss: 3.9134 - val_acc: 0.2357\n",
      "Epoch 92/100\n",
      "5000/5000 [==============================] - 1s - loss: 0.5885 - acc: 0.7832 - val_loss: 4.1658 - val_acc: 0.2288\n",
      "Epoch 93/100\n",
      "5000/5000 [==============================] - 1s - loss: 0.6073 - acc: 0.7660 - val_loss: 4.0955 - val_acc: 0.2303\n",
      "Epoch 94/100\n",
      "5000/5000 [==============================] - 1s - loss: 0.6456 - acc: 0.7536 - val_loss: 4.3106 - val_acc: 0.2266\n",
      "Epoch 95/100\n",
      "5000/5000 [==============================] - 1s - loss: 0.6410 - acc: 0.7440 - val_loss: 4.6127 - val_acc: 0.2273\n",
      "Epoch 96/100\n",
      "5000/5000 [==============================] - 1s - loss: 0.6053 - acc: 0.7646 - val_loss: 4.6042 - val_acc: 0.2329\n",
      "Epoch 97/100\n",
      "5000/5000 [==============================] - 1s - loss: 0.5844 - acc: 0.7762 - val_loss: 4.4345 - val_acc: 0.2408\n",
      "Epoch 98/100\n",
      "5000/5000 [==============================] - 1s - loss: 0.5806 - acc: 0.7740 - val_loss: 4.2069 - val_acc: 0.2331\n",
      "Epoch 99/100\n",
      "5000/5000 [==============================] - 1s - loss: 0.5909 - acc: 0.7752 - val_loss: 4.3449 - val_acc: 0.2272\n",
      "Epoch 100/100\n",
      "5000/5000 [==============================] - 1s - loss: 0.5663 - acc: 0.7826 - val_loss: 4.3691 - val_acc: 0.2363\n"
     ]
    },
    {
     "data": {
      "text/plain": [
       "<keras.callbacks.History at 0x7fab94cb1e80>"
      ]
     },
     "execution_count": 87,
     "metadata": {},
     "output_type": "execute_result"
    }
   ],
   "source": [
    "classifier.fit(X_train_label_encoded, Y_train_label,\n",
    "    batch_size=batch_size,\n",
    "    nb_epoch=nb_epoch,  # nb_epoch,\n",
    "    validation_data=(X_test_cifar_encoded, Y_test_cifar),\n",
    "    shuffle=True)"
   ]
  },
  {
   "cell_type": "code",
   "execution_count": null,
   "metadata": {
    "collapsed": true
   },
   "outputs": [],
   "source": []
  },
  {
   "cell_type": "code",
   "execution_count": null,
   "metadata": {
    "collapsed": true
   },
   "outputs": [],
   "source": []
  },
  {
   "cell_type": "code",
   "execution_count": null,
   "metadata": {
    "collapsed": true
   },
   "outputs": [],
   "source": []
  },
  {
   "cell_type": "code",
   "execution_count": null,
   "metadata": {
    "collapsed": false,
    "scrolled": true
   },
   "outputs": [],
   "source": [
    "Y_train_label_class_predict = model.predict_classes(X_train_ori_label, batch_size=5000)\n",
    "val_acc = np.sum(Y_train_label_class_predict == y_train_label_class) / float(len(y_train_label_class))\n",
    "val_acc"
   ]
  },
  {
   "cell_type": "code",
   "execution_count": null,
   "metadata": {
    "collapsed": true
   },
   "outputs": [],
   "source": [
    "model_name = (METHOD\n",
    "    + '_filters-64x3x3-64x3x3-512'\n",
    "    + '_epo-100x5' # + str(nb_epoch)\n",
    "    + '_val-acc-' + str(val_acc)[:6]\n",
    ")\n",
    "model.save(MODEL_FOLDER + model_name)"
   ]
  },
  {
   "cell_type": "markdown",
   "metadata": {
    "collapsed": true
   },
   "source": [
    "# Test"
   ]
  },
  {
   "cell_type": "markdown",
   "metadata": {},
   "source": [
    "### Loading test data "
   ]
  },
  {
   "cell_type": "code",
   "execution_count": null,
   "metadata": {
    "collapsed": false,
    "scrolled": true
   },
   "outputs": [],
   "source": [
    "test_data = pickle.load(open(TEST_DATA_FILE, 'rb'))  # dict\n",
    "X_test = np.array(test_data['data']).reshape((10000, 3, 32, 32)).astype('float32')\n",
    "X_test /= 255"
   ]
  },
  {
   "cell_type": "markdown",
   "metadata": {},
   "source": [
    "### Predict"
   ]
  },
  {
   "cell_type": "code",
   "execution_count": null,
   "metadata": {
    "collapsed": false
   },
   "outputs": [],
   "source": [
    "result = model.predict_classes(X_test, batch_size=10000)\n",
    "csv_content = list(zip(test_data['ID'], result.tolist()))\n",
    "np.savetxt(OUTPUT_FOLDER + model_name + \".csv\", csv_content, fmt=\"%i\", header=\"ID,class\", comments=\"\", delimiter=\",\")"
   ]
  },
  {
   "cell_type": "code",
   "execution_count": null,
   "metadata": {
    "collapsed": false
   },
   "outputs": [],
   "source": []
  },
  {
   "cell_type": "code",
   "execution_count": null,
   "metadata": {
    "collapsed": false
   },
   "outputs": [],
   "source": [
    "from keras.datasets import cifar10\n",
    "\n",
    "(X_train, y_train), (X_test, y_test) = cifar10.load_data()"
   ]
  },
  {
   "cell_type": "code",
   "execution_count": null,
   "metadata": {
    "collapsed": true
   },
   "outputs": [],
   "source": [
    "X_train_reshaped = np.array([[img[:, :, 0], img[:, :, 1], img[:, :, 2]] for img in X_train])\n",
    "X_test_reshaped = np.array([[img[:, :, 0], img[:, :, 1], img[:, :, 2]] for img in X_test])"
   ]
  },
  {
   "cell_type": "code",
   "execution_count": null,
   "metadata": {
    "collapsed": false
   },
   "outputs": [],
   "source": [
    "Y_test_class_predict = model.predict_classes(X_test_reshaped, batch_size=10000)\n",
    "np.sum(Y_test_class_predict == y_test.flatten()) / len(y_test)"
   ]
  },
  {
   "cell_type": "code",
   "execution_count": null,
   "metadata": {
    "collapsed": false
   },
   "outputs": [],
   "source": [
    "Y_train_class_predict = model.predict_classes(X_train_reshaped, batch_size=10000)\n",
    "np.sum(Y_train_class_predict == y_train.flatten()) / len(y_train)"
   ]
  },
  {
   "cell_type": "code",
   "execution_count": null,
   "metadata": {
    "collapsed": false
   },
   "outputs": [],
   "source": [
    "toimage(X_train_reshaped[2])"
   ]
  },
  {
   "cell_type": "code",
   "execution_count": null,
   "metadata": {
    "collapsed": false
   },
   "outputs": [],
   "source": [
    "Y_train_class_predict[:10]"
   ]
  },
  {
   "cell_type": "code",
   "execution_count": null,
   "metadata": {
    "collapsed": false
   },
   "outputs": [],
   "source": [
    "y_train[:10]"
   ]
  },
  {
   "cell_type": "code",
   "execution_count": null,
   "metadata": {
    "collapsed": false
   },
   "outputs": [],
   "source": [
    "toimage(X_train_reshaped[1])"
   ]
  },
  {
   "cell_type": "code",
   "execution_count": null,
   "metadata": {
    "collapsed": true
   },
   "outputs": [],
   "source": []
  }
 ],
 "metadata": {
  "anaconda-cloud": {},
  "kernelspec": {
   "display_name": "Python [conda root]",
   "language": "python",
   "name": "conda-root-py"
  },
  "language_info": {
   "codemirror_mode": {
    "name": "ipython",
    "version": 3
   },
   "file_extension": ".py",
   "mimetype": "text/x-python",
   "name": "python",
   "nbconvert_exporter": "python",
   "pygments_lexer": "ipython3",
   "version": "3.5.2"
  }
 },
 "nbformat": 4,
 "nbformat_minor": 0
}
