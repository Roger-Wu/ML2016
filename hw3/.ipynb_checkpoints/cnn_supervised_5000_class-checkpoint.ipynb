{
 "cells": [
  {
   "cell_type": "code",
   "execution_count": 1,
   "metadata": {
    "collapsed": false
   },
   "outputs": [
    {
     "name": "stderr",
     "output_type": "stream",
     "text": [
      "Using TensorFlow backend.\n"
     ]
    }
   ],
   "source": [
    "import numpy as np\n",
    "import pickle\n",
    "from keras.preprocessing.image import ImageDataGenerator\n",
    "from keras.models import Sequential\n",
    "from keras.layers import Dense, Dropout, Activation, Flatten\n",
    "from keras.layers import Convolution2D, MaxPooling2D\n",
    "from keras.optimizers import SGD\n",
    "from keras.utils import np_utils"
   ]
  },
  {
   "cell_type": "code",
   "execution_count": 2,
   "metadata": {
    "collapsed": true
   },
   "outputs": [],
   "source": [
    "LABELLED_DATA_FILE = 'data/all_label.p'\n",
    "UNLABELED_DATA_FILE = 'data/all_unlabel.p'\n",
    "TEST_DATA_FILE = 'data/test.p'\n",
    "\n",
    "METHOD = 'cnn_supervised'\n",
    "\n",
    "OUTPUT_FOLDER = 'output/'\n",
    "MODEL_FOLDER = 'model/' + METHOD + '/'"
   ]
  },
  {
   "cell_type": "code",
   "execution_count": 3,
   "metadata": {
    "collapsed": true
   },
   "outputs": [],
   "source": [
    "import os\n",
    "if not os.path.exists(MODEL_FOLDER):\n",
    "    os.makedirs(MODEL_FOLDER)\n",
    "if not os.path.exists(OUTPUT_FOLDER):\n",
    "    os.makedirs(OUTPUT_FOLDER)"
   ]
  },
  {
   "cell_type": "markdown",
   "metadata": {},
   "source": [
    "# Train"
   ]
  },
  {
   "cell_type": "markdown",
   "metadata": {},
   "source": [
    "### Loading Training Data"
   ]
  },
  {
   "cell_type": "code",
   "execution_count": 4,
   "metadata": {
    "collapsed": false
   },
   "outputs": [],
   "source": [
    "labelled_data = np.array(pickle.load(open(LABELLED_DATA_FILE, 'rb')))\n",
    "# unlabeled_data = np.array(pickle.load(open(UNLABELED_DATA_FILE, 'rb')))"
   ]
  },
  {
   "cell_type": "code",
   "execution_count": 10,
   "metadata": {
    "collapsed": false
   },
   "outputs": [],
   "source": [
    "# generate x, y from data\n",
    "nb_labelled_data = 5000\n",
    "\n",
    "X_train_label = labelled_data.reshape((nb_labelled_data, 3, 32, 32)).astype('float32') / 255\n",
    "\n",
    "y_train_label_class = np.array([classIdx for classIdx in range(len(labelled_data)) for i in range(len(labelled_data[classIdx]))])\n",
    "Y_train_label = np_utils.to_categorical(y_train_label_class, len(labelled_data))\n",
    "\n",
    "y_train_label_5000_class = np.array(list(range(nb_labelled_data)))\n",
    "Y_train_label_5000 = np_utils.to_categorical(y_train_label_5000class, nb_labelled_data)"
   ]
  },
  {
   "cell_type": "code",
   "execution_count": 6,
   "metadata": {
    "collapsed": false
   },
   "outputs": [
    {
     "data": {
      "image/png": "[encoded data removed]",
      "text/plain": [
       "<PIL.Image.Image image mode=RGB size=32x32 at 0x7F3F42F802B0>"
      ]
     },
     "execution_count": 6,
     "metadata": {},
     "output_type": "execute_result"
    }
   ],
   "source": [
    "from scipy.misc import toimage\n",
    "toimage(X_train_label[0])"
   ]
  },
  {
   "cell_type": "code",
   "execution_count": 27,
   "metadata": {
    "collapsed": true
   },
   "outputs": [],
   "source": [
    "# TODO: remove\n",
    "\n",
    "from keras.datasets import cifar10\n",
    "\n",
    "(X_train_cifar, y_train_cifar), (X_test_cifar, y_test_cifar) = cifar10.load_data()\n",
    "\n",
    "# X_train_reshaped = np.array([[img[:, :, 0], img[:, :, 1], img[:, :, 2]] for img in X_train]) / 255.0\n",
    "X_test_cifar = np.array([[img[:, :, 0], img[:, :, 1], img[:, :, 2]] for img in X_test_cifar]) / 255.0\n",
    "Y_test_cifar = np_utils.to_categorical(y_test_cifar.flatten(), 10)"
   ]
  },
  {
   "cell_type": "markdown",
   "metadata": {},
   "source": [
    "### Training"
   ]
  },
  {
   "cell_type": "code",
   "execution_count": 30,
   "metadata": {
    "collapsed": true
   },
   "outputs": [],
   "source": [
    "batch_size = 64\n",
    "nb_classes = 5000\n",
    "nb_epoch = 100\n",
    "img_rows, img_cols, img_channels = 32, 32, 3\n",
    "# nb_filters = [32, 64]\n",
    "# nb_nodes = [512]"
   ]
  },
  {
   "cell_type": "code",
   "execution_count": 47,
   "metadata": {
    "collapsed": false
   },
   "outputs": [],
   "source": [
    "model = Sequential()\n",
    "\n",
    "model.add(Convolution2D(64, 3, 3, border_mode='same', input_shape=X_train_label.shape[1:], dim_ordering=\"th\"))\n",
    "model.add(Activation('relu'))\n",
    "# model.add(Convolution2D(64, 3, 3))\n",
    "# model.add(Activation('relu'))\n",
    "model.add(MaxPooling2D(pool_size=(2, 2), dim_ordering=\"th\"))\n",
    "model.add(Dropout(0.5))\n",
    "\n",
    "model.add(Convolution2D(64, 3, 3, border_mode='same', dim_ordering=\"th\"))\n",
    "model.add(Activation('relu'))\n",
    "# model.add(Convolution2D(64, 3, 3))\n",
    "# model.add(Activation('relu'))\n",
    "model.add(MaxPooling2D(pool_size=(2, 2), dim_ordering=\"th\"))\n",
    "model.add(Dropout(0.5))\n",
    "\n",
    "model.add(Flatten())\n",
    "\n",
    "model.add(Dense(256))\n",
    "model.add(Activation('relu'))\n",
    "model.add(Dropout(0.5))\n",
    "\n",
    "model.add(Dense(64))\n",
    "model.add(Activation('relu'))\n",
    "model.add(Dropout(0.5))\n",
    "\n",
    "model.add(Dense(nb_classes))\n",
    "model.add(Activation('softmax'))\n",
    "\n",
    "# let's train the model using SGD + momentum (how original).\n",
    "# sgd = SGD(lr=0.01, decay=1e-6, momentum=0.9, nesterov=True)\n",
    "model.compile(loss='categorical_crossentropy',\n",
    "              optimizer='adam',\n",
    "              metrics=['accuracy'])"
   ]
  },
  {
   "cell_type": "code",
   "execution_count": 48,
   "metadata": {
    "collapsed": false
   },
   "outputs": [
    {
     "name": "stdout",
     "output_type": "stream",
     "text": [
      "Epoch 1/100\n",
      "5000/5000 [==============================] - 1s - loss: 8.5351 - acc: 0.0000e+00     \n",
      "Epoch 2/100\n",
      "5000/5000 [==============================] - 1s - loss: 8.5208 - acc: 0.0000e+00     \n",
      "Epoch 3/100\n",
      "5000/5000 [==============================] - 1s - loss: 8.5209 - acc: 0.0000e+00     \n",
      "Epoch 4/100\n",
      "5000/5000 [==============================] - 1s - loss: 8.5211 - acc: 0.0000e+00     \n",
      "Epoch 5/100\n",
      "5000/5000 [==============================] - 1s - loss: 8.5208 - acc: 0.0000e+00     \n",
      "Epoch 6/100\n",
      "5000/5000 [==============================] - 1s - loss: 8.5212 - acc: 0.0000e+00     \n",
      "Epoch 7/100\n",
      "5000/5000 [==============================] - 1s - loss: 8.5210 - acc: 2.0000e-04     \n",
      "Epoch 8/100\n",
      "5000/5000 [==============================] - 1s - loss: 8.5211 - acc: 0.0000e+00     \n",
      "Epoch 9/100\n",
      "5000/5000 [==============================] - 1s - loss: 8.5208 - acc: 0.0000e+00     \n",
      "Epoch 10/100\n",
      "5000/5000 [==============================] - 1s - loss: 8.5175 - acc: 2.0000e-04     \n",
      "Epoch 11/100\n",
      "5000/5000 [==============================] - 1s - loss: 8.4973 - acc: 6.0000e-04     \n",
      "Epoch 12/100\n",
      "5000/5000 [==============================] - 1s - loss: 8.4620 - acc: 0.0000e+00     \n",
      "Epoch 13/100\n",
      "5000/5000 [==============================] - 1s - loss: 8.4283 - acc: 4.0000e-04     \n",
      "Epoch 14/100\n",
      "5000/5000 [==============================] - 1s - loss: 8.3925 - acc: 4.0000e-04     \n",
      "Epoch 15/100\n",
      "5000/5000 [==============================] - 1s - loss: 8.3633 - acc: 2.0000e-04     \n",
      "Epoch 16/100\n",
      "5000/5000 [==============================] - 1s - loss: 8.3127 - acc: 2.0000e-04     \n",
      "Epoch 17/100\n",
      "5000/5000 [==============================] - 1s - loss: 8.2407 - acc: 2.0000e-04     \n",
      "Epoch 18/100\n",
      "5000/5000 [==============================] - 1s - loss: 8.2099 - acc: 4.0000e-04     \n",
      "Epoch 19/100\n",
      "5000/5000 [==============================] - 1s - loss: 8.1833 - acc: 0.0000e+00     \n",
      "Epoch 20/100\n",
      "5000/5000 [==============================] - 1s - loss: 8.1592 - acc: 0.0000e+00     \n",
      "Epoch 21/100\n",
      "5000/5000 [==============================] - 1s - loss: 8.1279 - acc: 6.0000e-04     \n",
      "Epoch 22/100\n",
      "5000/5000 [==============================] - 1s - loss: 8.0872 - acc: 0.0000e+00     \n",
      "Epoch 23/100\n",
      "5000/5000 [==============================] - 1s - loss: 8.0650 - acc: 2.0000e-04     \n",
      "Epoch 24/100\n",
      "5000/5000 [==============================] - 1s - loss: 8.0349 - acc: 2.0000e-04     \n",
      "Epoch 25/100\n",
      "5000/5000 [==============================] - 1s - loss: 8.0207 - acc: 4.0000e-04     \n",
      "Epoch 26/100\n",
      "5000/5000 [==============================] - 1s - loss: 8.0004 - acc: 2.0000e-04     \n",
      "Epoch 27/100\n",
      "5000/5000 [==============================] - 1s - loss: 7.9631 - acc: 4.0000e-04     \n",
      "Epoch 28/100\n",
      "5000/5000 [==============================] - 1s - loss: 7.9352 - acc: 1.0000e-03 \n",
      "Epoch 29/100\n",
      "5000/5000 [==============================] - 1s - loss: 7.9077 - acc: 8.0000e-04     \n",
      "Epoch 30/100\n",
      "5000/5000 [==============================] - 1s - loss: 7.8842 - acc: 8.0000e-04     \n",
      "Epoch 31/100\n",
      "5000/5000 [==============================] - 1s - loss: 7.8333 - acc: 6.0000e-04     \n",
      "Epoch 32/100\n",
      "5000/5000 [==============================] - 1s - loss: 7.7928 - acc: 8.0000e-04     \n",
      "Epoch 33/100\n",
      "5000/5000 [==============================] - 1s - loss: 7.7621 - acc: 0.0012     \n",
      "Epoch 34/100\n",
      "5000/5000 [==============================] - 1s - loss: 7.7170 - acc: 0.0020     \n",
      "Epoch 35/100\n",
      "5000/5000 [==============================] - 1s - loss: 7.6808 - acc: 0.0014     \n",
      "Epoch 36/100\n",
      "5000/5000 [==============================] - 1s - loss: 7.6473 - acc: 0.0020     \n",
      "Epoch 37/100\n",
      "5000/5000 [==============================] - 1s - loss: 7.6092 - acc: 0.0018     \n",
      "Epoch 38/100\n",
      "5000/5000 [==============================] - 1s - loss: 7.5798 - acc: 0.0020     \n",
      "Epoch 39/100\n",
      "5000/5000 [==============================] - 1s - loss: 7.5256 - acc: 1.0000e-03 \n",
      "Epoch 40/100\n",
      "5000/5000 [==============================] - 1s - loss: 7.4960 - acc: 0.0032     \n",
      "Epoch 41/100\n",
      "5000/5000 [==============================] - 1s - loss: 7.4493 - acc: 0.0020     \n",
      "Epoch 42/100\n",
      "5000/5000 [==============================] - 1s - loss: 7.3945 - acc: 0.0024     \n",
      "Epoch 43/100\n",
      "5000/5000 [==============================] - 1s - loss: 7.3739 - acc: 0.0030     \n",
      "Epoch 44/100\n",
      "5000/5000 [==============================] - 1s - loss: 7.3442 - acc: 0.0030     \n",
      "Epoch 45/100\n",
      "5000/5000 [==============================] - 1s - loss: 7.3010 - acc: 0.0028     \n",
      "Epoch 46/100\n",
      "5000/5000 [==============================] - 1s - loss: 7.2820 - acc: 0.0032     \n",
      "Epoch 47/100\n",
      "5000/5000 [==============================] - 1s - loss: 7.2370 - acc: 0.0028     \n",
      "Epoch 48/100\n",
      "5000/5000 [==============================] - 1s - loss: 7.2333 - acc: 0.0050     \n",
      "Epoch 49/100\n",
      "5000/5000 [==============================] - 1s - loss: 7.1729 - acc: 0.0058     \n",
      "Epoch 50/100\n",
      "5000/5000 [==============================] - 1s - loss: 7.1313 - acc: 0.0042     \n",
      "Epoch 51/100\n",
      "5000/5000 [==============================] - 1s - loss: 7.0916 - acc: 0.0040     \n",
      "Epoch 52/100\n",
      "5000/5000 [==============================] - 1s - loss: 7.0681 - acc: 0.0052     \n",
      "Epoch 53/100\n",
      "5000/5000 [==============================] - 1s - loss: 7.0468 - acc: 0.0058     \n",
      "Epoch 54/100\n",
      "5000/5000 [==============================] - 1s - loss: 7.0181 - acc: 0.0052     \n",
      "Epoch 55/100\n",
      "5000/5000 [==============================] - 1s - loss: 6.9680 - acc: 0.0058     \n",
      "Epoch 56/100\n",
      "5000/5000 [==============================] - 1s - loss: 6.9186 - acc: 0.0080     \n",
      "Epoch 57/100\n",
      "5000/5000 [==============================] - 1s - loss: 6.8822 - acc: 0.0066     \n",
      "Epoch 58/100\n",
      "5000/5000 [==============================] - 1s - loss: 6.8729 - acc: 0.0074     \n",
      "Epoch 59/100\n",
      "5000/5000 [==============================] - 1s - loss: 6.8407 - acc: 0.0084     \n",
      "Epoch 60/100\n",
      "5000/5000 [==============================] - 1s - loss: 6.8055 - acc: 0.0072     \n",
      "Epoch 61/100\n",
      "5000/5000 [==============================] - 1s - loss: 6.7817 - acc: 0.0100     \n",
      "Epoch 62/100\n",
      "5000/5000 [==============================] - 1s - loss: 6.7293 - acc: 0.0086     \n",
      "Epoch 63/100\n",
      "5000/5000 [==============================] - 1s - loss: 6.6824 - acc: 0.0136     \n",
      "Epoch 64/100\n",
      "5000/5000 [==============================] - 1s - loss: 6.7106 - acc: 0.0086     \n",
      "Epoch 65/100\n",
      "5000/5000 [==============================] - 1s - loss: 6.6505 - acc: 0.0128     \n",
      "Epoch 66/100\n",
      "5000/5000 [==============================] - 1s - loss: 6.6419 - acc: 0.0106     \n",
      "Epoch 67/100\n",
      "5000/5000 [==============================] - 1s - loss: 6.5811 - acc: 0.0124     \n",
      "Epoch 68/100\n",
      "5000/5000 [==============================] - 1s - loss: 6.5593 - acc: 0.0120     \n",
      "Epoch 69/100\n",
      "5000/5000 [==============================] - 1s - loss: 6.5052 - acc: 0.0128     \n",
      "Epoch 70/100\n",
      "5000/5000 [==============================] - 1s - loss: 6.5088 - acc: 0.0138     \n",
      "Epoch 71/100\n",
      "5000/5000 [==============================] - 1s - loss: 6.4844 - acc: 0.0132     \n",
      "Epoch 72/100\n",
      "5000/5000 [==============================] - 1s - loss: 6.4557 - acc: 0.0124     \n",
      "Epoch 73/100\n",
      "5000/5000 [==============================] - 1s - loss: 6.4407 - acc: 0.0132     \n",
      "Epoch 74/100\n",
      "5000/5000 [==============================] - 1s - loss: 6.3810 - acc: 0.0144     \n",
      "Epoch 75/100\n",
      "5000/5000 [==============================] - 1s - loss: 6.3693 - acc: 0.0148     \n",
      "Epoch 76/100\n",
      "5000/5000 [==============================] - 1s - loss: 6.3187 - acc: 0.0186     \n",
      "Epoch 77/100\n",
      "5000/5000 [==============================] - 1s - loss: 6.2650 - acc: 0.0182     \n",
      "Epoch 78/100\n",
      "5000/5000 [==============================] - 1s - loss: 6.2609 - acc: 0.0176     \n",
      "Epoch 79/100\n",
      "5000/5000 [==============================] - 1s - loss: 6.2170 - acc: 0.0182     \n",
      "Epoch 80/100\n",
      "5000/5000 [==============================] - 1s - loss: 6.2082 - acc: 0.0192     \n",
      "Epoch 81/100\n",
      "5000/5000 [==============================] - 1s - loss: 6.1973 - acc: 0.0162     \n",
      "Epoch 82/100\n",
      "5000/5000 [==============================] - 1s - loss: 6.1620 - acc: 0.0202     \n",
      "Epoch 83/100\n",
      "5000/5000 [==============================] - 1s - loss: 6.1249 - acc: 0.0208     \n",
      "Epoch 84/100\n",
      "5000/5000 [==============================] - 1s - loss: 6.0892 - acc: 0.0214     \n",
      "Epoch 85/100\n",
      "5000/5000 [==============================] - 1s - loss: 6.0644 - acc: 0.0214     \n",
      "Epoch 86/100\n",
      "5000/5000 [==============================] - 1s - loss: 6.0518 - acc: 0.0228     \n",
      "Epoch 87/100\n",
      "5000/5000 [==============================] - 1s - loss: 6.0198 - acc: 0.0218     \n",
      "Epoch 88/100\n",
      "5000/5000 [==============================] - 1s - loss: 5.9977 - acc: 0.0244     \n",
      "Epoch 89/100\n",
      "5000/5000 [==============================] - 1s - loss: 5.9773 - acc: 0.0252     \n",
      "Epoch 90/100\n",
      "5000/5000 [==============================] - 1s - loss: 5.9207 - acc: 0.0290     \n",
      "Epoch 91/100\n",
      "5000/5000 [==============================] - 1s - loss: 5.9107 - acc: 0.0310     \n",
      "Epoch 92/100\n",
      "5000/5000 [==============================] - 1s - loss: 5.9154 - acc: 0.0264     \n",
      "Epoch 93/100\n",
      "5000/5000 [==============================] - 1s - loss: 5.8682 - acc: 0.0258     \n",
      "Epoch 94/100\n",
      "5000/5000 [==============================] - 1s - loss: 5.8741 - acc: 0.0278     \n",
      "Epoch 95/100\n",
      "5000/5000 [==============================] - 1s - loss: 5.8270 - acc: 0.0306     \n",
      "Epoch 96/100\n",
      "5000/5000 [==============================] - 1s - loss: 5.8006 - acc: 0.0282     \n",
      "Epoch 97/100\n",
      "5000/5000 [==============================] - 1s - loss: 5.8035 - acc: 0.0306     \n",
      "Epoch 98/100\n",
      "5000/5000 [==============================] - 1s - loss: 5.7938 - acc: 0.0304     \n",
      "Epoch 99/100\n",
      "5000/5000 [==============================] - 1s - loss: 5.7395 - acc: 0.0328     \n",
      "Epoch 100/100\n",
      "5000/5000 [==============================] - 1s - loss: 5.7209 - acc: 0.0316     \n"
     ]
    },
    {
     "data": {
      "text/plain": [
       "<keras.callbacks.History at 0x7f3efd5aff28>"
      ]
     },
     "execution_count": 48,
     "metadata": {},
     "output_type": "execute_result"
    }
   ],
   "source": [
    "model.fit(X_train_label, Y_train_label_5000,\n",
    "          batch_size=batch_size,\n",
    "          nb_epoch=nb_epoch,\n",
    "#           validation_data=(X_test_cifar, Y_test_cifar),\n",
    "#           validation_split=0.1,  # (X_train_label, Y_train_label),\n",
    "          shuffle=True)\n",
    "\n",
    "# TODO: remove (X_test_reshaped, Y_test_categ)"
   ]
  },
  {
   "cell_type": "code",
   "execution_count": 12,
   "metadata": {
    "collapsed": true
   },
   "outputs": [],
   "source": [
    "model_name = (METHOD\n",
    "    + '_filter-32w3-64w3-512'\n",
    "    + '_epo-100' # + str(nb_epoch)\n",
    "    + '_test-0.3683'\n",
    ")\n",
    "\n",
    "model.save(MODEL_FOLDER + model_name)"
   ]
  },
  {
   "cell_type": "markdown",
   "metadata": {
    "collapsed": true
   },
   "source": [
    "# Test"
   ]
  },
  {
   "cell_type": "markdown",
   "metadata": {},
   "source": [
    "### Loading test data "
   ]
  },
  {
   "cell_type": "code",
   "execution_count": 17,
   "metadata": {
    "collapsed": false,
    "scrolled": true
   },
   "outputs": [],
   "source": [
    "test_data = pickle.load(open(TEST_DATA_FILE, 'rb'))  # dict\n",
    "X_test = np.array(test_data['data']).reshape((10000, 3, 32, 32)).astype('float32') / 255"
   ]
  },
  {
   "cell_type": "markdown",
   "metadata": {},
   "source": [
    "### Predict"
   ]
  },
  {
   "cell_type": "code",
   "execution_count": 23,
   "metadata": {
    "collapsed": false
   },
   "outputs": [
    {
     "name": "stdout",
     "output_type": "stream",
     "text": [
      " 9920/10000 [============================>.] - ETA: 0s"
     ]
    }
   ],
   "source": [
    "result_5000 = model.predict_classes(X_test)\n",
    "result = (result_5000 / 500).astype(int)"
   ]
  },
  {
   "cell_type": "code",
   "execution_count": 24,
   "metadata": {
    "collapsed": false
   },
   "outputs": [
    {
     "data": {
      "text/plain": [
       "array([5, 1, 0, ..., 2, 7, 6])"
      ]
     },
     "execution_count": 24,
     "metadata": {},
     "output_type": "execute_result"
    }
   ],
   "source": [
    "result"
   ]
  },
  {
   "cell_type": "code",
   "execution_count": null,
   "metadata": {
    "collapsed": true
   },
   "outputs": [],
   "source": [
    "csv_content = list(zip(test_data['ID'], result.tolist()))\n",
    "np.savetxt(OUTPUT_FOLDER + model_name + \".csv\", csv_content, fmt=\"%i\", header=\"ID,class\", comments=\"\", delimiter=\",\")"
   ]
  },
  {
   "cell_type": "code",
   "execution_count": null,
   "metadata": {
    "collapsed": false
   },
   "outputs": [],
   "source": []
  },
  {
   "cell_type": "code",
   "execution_count": 49,
   "metadata": {
    "collapsed": false
   },
   "outputs": [
    {
     "name": "stdout",
     "output_type": "stream",
     "text": [
      "10000/10000 [==============================] - 1s     \n"
     ]
    },
    {
     "data": {
      "text/plain": [
       "0.14249999999999999"
      ]
     },
     "execution_count": 49,
     "metadata": {},
     "output_type": "execute_result"
    }
   ],
   "source": [
    "Y_test_class_predict = (model.predict_classes(X_test_cifar) / 500).astype(int)\n",
    "np.sum(Y_test_class_predict == y_test_cifar.flatten()) / len(y_test)"
   ]
  },
  {
   "cell_type": "code",
   "execution_count": null,
   "metadata": {
    "collapsed": true
   },
   "outputs": [],
   "source": []
  }
 ],
 "metadata": {
  "anaconda-cloud": {},
  "kernelspec": {
   "display_name": "Python [conda root]",
   "language": "python",
   "name": "conda-root-py"
  },
  "language_info": {
   "codemirror_mode": {
    "name": "ipython",
    "version": 3
   },
   "file_extension": ".py",
   "mimetype": "text/x-python",
   "name": "python",
   "nbconvert_exporter": "python",
   "pygments_lexer": "ipython3",
   "version": "3.5.2"
  }
 },
 "nbformat": 4,
 "nbformat_minor": 0
}
