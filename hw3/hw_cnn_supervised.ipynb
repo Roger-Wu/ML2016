{
 "cells": [
  {
   "cell_type": "code",
   "execution_count": 1,
   "metadata": {
    "collapsed": false
   },
   "outputs": [
    {
     "name": "stderr",
     "output_type": "stream",
     "text": [
      "Using TensorFlow backend.\n"
     ]
    }
   ],
   "source": [
    "import numpy as np\n",
    "import pickle\n",
    "from keras.preprocessing.image import ImageDataGenerator\n",
    "from keras.models import Sequential\n",
    "from keras.layers import Dense, Dropout, Activation, Flatten\n",
    "from keras.layers import Convolution2D, MaxPooling2D, AveragePooling2D\n",
    "from keras.optimizers import SGD\n",
    "from keras.utils import np_utils"
   ]
  },
  {
   "cell_type": "code",
   "execution_count": 2,
   "metadata": {
    "collapsed": true
   },
   "outputs": [],
   "source": [
    "LABELLED_DATA_FILE = 'data/all_label.p'\n",
    "UNLABELED_DATA_FILE = 'data/all_unlabel.p'\n",
    "TEST_DATA_FILE = 'data/test.p'\n",
    "\n",
    "METHOD = 'cnn_supervised'\n",
    "\n",
    "OUTPUT_FOLDER = 'output/'\n",
    "MODEL_FOLDER = 'model/' + METHOD + '/'"
   ]
  },
  {
   "cell_type": "code",
   "execution_count": 3,
   "metadata": {
    "collapsed": true
   },
   "outputs": [],
   "source": [
    "import os\n",
    "if not os.path.exists(MODEL_FOLDER):\n",
    "    os.makedirs(MODEL_FOLDER)\n",
    "if not os.path.exists(OUTPUT_FOLDER):\n",
    "    os.makedirs(OUTPUT_FOLDER)"
   ]
  },
  {
   "cell_type": "markdown",
   "metadata": {},
   "source": [
    "# Train"
   ]
  },
  {
   "cell_type": "markdown",
   "metadata": {},
   "source": [
    "### Loading Training Data"
   ]
  },
  {
   "cell_type": "code",
   "execution_count": 4,
   "metadata": {
    "collapsed": false
   },
   "outputs": [],
   "source": [
    "labelled_data = np.array(pickle.load(open(LABELLED_DATA_FILE, 'rb')))"
   ]
  },
  {
   "cell_type": "code",
   "execution_count": 5,
   "metadata": {
    "collapsed": false
   },
   "outputs": [],
   "source": [
    "# generate x, y from data\n",
    "X_train_label = labelled_data.reshape((5000, 3, 32, 32)).astype('float32') / 255\n",
    "\n",
    "y_train_label_class = np.array([classIdx for classIdx in range(len(labelled_data)) for i in range(len(labelled_data[classIdx]))])\n",
    "Y_train_label = np_utils.to_categorical(y_train_label_class, len(labelled_data))"
   ]
  },
  {
   "cell_type": "code",
   "execution_count": 6,
   "metadata": {
    "collapsed": false
   },
   "outputs": [],
   "source": [
    "# from scipy.misc import toimage\n",
    "# toimage(X_train_label[0])"
   ]
  },
  {
   "cell_type": "markdown",
   "metadata": {},
   "source": [
    "### Training"
   ]
  },
  {
   "cell_type": "code",
   "execution_count": 7,
   "metadata": {
    "collapsed": true
   },
   "outputs": [],
   "source": [
    "\n",
    "nb_classes = 10\n",
    "img_rows, img_cols, img_channels = 32, 32, 3"
   ]
  },
  {
   "cell_type": "code",
   "execution_count": 8,
   "metadata": {
    "collapsed": false
   },
   "outputs": [],
   "source": [
    "model = Sequential()\n",
    "\n",
    "model.add(Convolution2D(64, 3, 3, border_mode='same', input_shape=X_train_label.shape[1:], dim_ordering=\"th\"))\n",
    "model.add(Activation('relu'))\n",
    "model.add(Convolution2D(64, 3, 3, border_mode='same', dim_ordering=\"th\"))\n",
    "model.add(Activation('relu'))\n",
    "model.add(MaxPooling2D(pool_size=(2, 2), dim_ordering=\"th\"))\n",
    "model.add(Dropout(0.5))\n",
    "\n",
    "model.add(Convolution2D(64, 3, 3, border_mode='same', dim_ordering=\"th\"))\n",
    "model.add(Activation('relu'))\n",
    "model.add(Convolution2D(64, 3, 3, border_mode='same', dim_ordering=\"th\"))\n",
    "model.add(Activation('relu'))\n",
    "model.add(AveragePooling2D(pool_size=(2, 2), dim_ordering=\"th\", border_mode='same'))\n",
    "model.add(Dropout(0.5))\n",
    "\n",
    "model.add(Flatten())\n",
    "\n",
    "model.add(Dense(512))\n",
    "model.add(Activation('relu'))\n",
    "model.add(Dropout(0.5))\n",
    "\n",
    "model.add(Dense(256))\n",
    "model.add(Activation('relu'))\n",
    "model.add(Dropout(0.5))\n",
    "\n",
    "model.add(Dense(128))\n",
    "model.add(Activation('relu'))\n",
    "model.add(Dropout(0.5))\n",
    "\n",
    "model.add(Dense(nb_classes))\n",
    "model.add(Activation('softmax'))\n",
    "\n",
    "# sgd = SGD(lr=0.01, decay=1e-6, momentum=0.9, nesterov=True)\n",
    "model.compile(loss='categorical_crossentropy',\n",
    "              optimizer='adam',\n",
    "              metrics=['accuracy'])"
   ]
  },
  {
   "cell_type": "code",
   "execution_count": 9,
   "metadata": {
    "collapsed": true
   },
   "outputs": [],
   "source": [
    "batch_size = 64\n",
    "nb_epoch = 100"
   ]
  },
  {
   "cell_type": "code",
   "execution_count": 10,
   "metadata": {
    "collapsed": false
   },
   "outputs": [
    {
     "name": "stdout",
     "output_type": "stream",
     "text": [
      "Train on 4500 samples, validate on 500 samples\n",
      "Epoch 1/100\n",
      "4500/4500 [==============================] - 7s - loss: 2.2562 - acc: 0.1069 - val_loss: 4.0291 - val_acc: 0.0000e+00\n",
      "Epoch 2/100\n",
      "4500/4500 [==============================] - 5s - loss: 2.1443 - acc: 0.1664 - val_loss: 4.8083 - val_acc: 0.0000e+00\n",
      "Epoch 3/100\n",
      "4500/4500 [==============================] - 5s - loss: 2.0098 - acc: 0.2056 - val_loss: 5.5225 - val_acc: 0.0000e+00\n",
      "Epoch 4/100\n",
      "4500/4500 [==============================] - 5s - loss: 1.9151 - acc: 0.2396 - val_loss: 6.2902 - val_acc: 0.0000e+00\n",
      "Epoch 5/100\n",
      "4500/4500 [==============================] - 5s - loss: 1.7880 - acc: 0.3002 - val_loss: 5.8208 - val_acc: 0.0000e+00\n",
      "Epoch 6/100\n",
      "4500/4500 [==============================] - 5s - loss: 1.7350 - acc: 0.3169 - val_loss: 7.2693 - val_acc: 0.0000e+00\n",
      "Epoch 7/100\n",
      "4500/4500 [==============================] - 5s - loss: 1.6445 - acc: 0.3620 - val_loss: 8.5129 - val_acc: 0.0000e+00\n",
      "Epoch 8/100\n",
      "4500/4500 [==============================] - 5s - loss: 1.6095 - acc: 0.3864 - val_loss: 8.8852 - val_acc: 0.0000e+00\n",
      "Epoch 9/100\n",
      "4500/4500 [==============================] - 5s - loss: 1.5312 - acc: 0.4244 - val_loss: 9.1450 - val_acc: 0.0000e+00\n",
      "Epoch 10/100\n",
      "4500/4500 [==============================] - 5s - loss: 1.4811 - acc: 0.4409 - val_loss: 10.3316 - val_acc: 0.0000e+00\n",
      "Epoch 11/100\n",
      "4500/4500 [==============================] - 5s - loss: 1.4375 - acc: 0.4540 - val_loss: 10.1816 - val_acc: 0.0000e+00\n",
      "Epoch 12/100\n",
      "4500/4500 [==============================] - 5s - loss: 1.4037 - acc: 0.4736 - val_loss: 10.2862 - val_acc: 0.0000e+00\n",
      "Epoch 13/100\n",
      "4500/4500 [==============================] - 5s - loss: 1.3428 - acc: 0.5047 - val_loss: 11.6727 - val_acc: 0.0000e+00\n",
      "Epoch 14/100\n",
      "4500/4500 [==============================] - 5s - loss: 1.3142 - acc: 0.5109 - val_loss: 12.2380 - val_acc: 0.0000e+00\n",
      "Epoch 15/100\n",
      "4500/4500 [==============================] - 5s - loss: 1.2857 - acc: 0.5269 - val_loss: 11.6035 - val_acc: 0.0000e+00\n",
      "Epoch 16/100\n",
      "4500/4500 [==============================] - 5s - loss: 1.2316 - acc: 0.5444 - val_loss: 10.7502 - val_acc: 0.0000e+00\n",
      "Epoch 17/100\n",
      "4500/4500 [==============================] - 5s - loss: 1.2127 - acc: 0.5553 - val_loss: 9.7580 - val_acc: 0.0000e+00\n",
      "Epoch 18/100\n",
      "4500/4500 [==============================] - 5s - loss: 1.2189 - acc: 0.5591 - val_loss: 10.7023 - val_acc: 0.0000e+00\n",
      "Epoch 19/100\n",
      "4500/4500 [==============================] - 5s - loss: 1.1511 - acc: 0.5784 - val_loss: 13.1913 - val_acc: 0.0000e+00\n",
      "Epoch 20/100\n",
      "4500/4500 [==============================] - 5s - loss: 1.1150 - acc: 0.5860 - val_loss: 13.2592 - val_acc: 0.0000e+00\n",
      "Epoch 21/100\n",
      "4500/4500 [==============================] - 5s - loss: 1.0934 - acc: 0.6120 - val_loss: 12.0968 - val_acc: 0.0000e+00\n",
      "Epoch 22/100\n",
      "4500/4500 [==============================] - 5s - loss: 1.0925 - acc: 0.5973 - val_loss: 11.2005 - val_acc: 0.0000e+00\n",
      "Epoch 23/100\n",
      "4500/4500 [==============================] - 5s - loss: 1.0182 - acc: 0.6260 - val_loss: 13.2798 - val_acc: 0.0000e+00\n",
      "Epoch 24/100\n",
      "4500/4500 [==============================] - 5s - loss: 0.9975 - acc: 0.6382 - val_loss: 13.3160 - val_acc: 0.0000e+00\n",
      "Epoch 25/100\n",
      "4500/4500 [==============================] - 5s - loss: 0.9805 - acc: 0.6447 - val_loss: 12.7698 - val_acc: 0.0000e+00\n",
      "Epoch 26/100\n",
      "4500/4500 [==============================] - 5s - loss: 0.9240 - acc: 0.6627 - val_loss: 14.0910 - val_acc: 0.0000e+00\n",
      "Epoch 27/100\n",
      "4500/4500 [==============================] - 5s - loss: 0.9392 - acc: 0.6580 - val_loss: 14.4712 - val_acc: 0.0000e+00\n",
      "Epoch 28/100\n",
      "4500/4500 [==============================] - 5s - loss: 0.8900 - acc: 0.6782 - val_loss: 13.5707 - val_acc: 0.0000e+00\n",
      "Epoch 29/100\n",
      "4500/4500 [==============================] - 5s - loss: 0.8641 - acc: 0.6922 - val_loss: 13.0965 - val_acc: 0.0000e+00\n",
      "Epoch 30/100\n",
      "4500/4500 [==============================] - 5s - loss: 0.8351 - acc: 0.6962 - val_loss: 13.3328 - val_acc: 0.0000e+00\n",
      "Epoch 31/100\n",
      "4500/4500 [==============================] - 5s - loss: 0.8148 - acc: 0.7071 - val_loss: 13.2399 - val_acc: 0.0000e+00\n",
      "Epoch 32/100\n",
      "4500/4500 [==============================] - 5s - loss: 0.7884 - acc: 0.7187 - val_loss: 13.6915 - val_acc: 0.0000e+00\n",
      "Epoch 33/100\n",
      "4500/4500 [==============================] - 5s - loss: 0.7781 - acc: 0.7224 - val_loss: 13.4546 - val_acc: 0.0000e+00\n",
      "Epoch 34/100\n",
      "4500/4500 [==============================] - 5s - loss: 0.7615 - acc: 0.7327 - val_loss: 14.2675 - val_acc: 0.0000e+00\n",
      "Epoch 35/100\n",
      "4500/4500 [==============================] - 5s - loss: 0.7357 - acc: 0.7373 - val_loss: 13.8624 - val_acc: 0.0000e+00\n",
      "Epoch 36/100\n",
      "4500/4500 [==============================] - 5s - loss: 0.6973 - acc: 0.7533 - val_loss: 13.6387 - val_acc: 0.0000e+00\n",
      "Epoch 37/100\n",
      "4500/4500 [==============================] - 5s - loss: 0.6617 - acc: 0.7671 - val_loss: 14.0722 - val_acc: 0.0000e+00\n",
      "Epoch 38/100\n",
      "4500/4500 [==============================] - 5s - loss: 0.6639 - acc: 0.7622 - val_loss: 13.9448 - val_acc: 0.0000e+00\n",
      "Epoch 39/100\n",
      "4500/4500 [==============================] - 5s - loss: 0.6342 - acc: 0.7778 - val_loss: 14.1664 - val_acc: 0.0000e+00\n",
      "Epoch 40/100\n",
      "4500/4500 [==============================] - 5s - loss: 0.6128 - acc: 0.7916 - val_loss: 14.1226 - val_acc: 0.0000e+00\n",
      "Epoch 41/100\n",
      "4500/4500 [==============================] - 5s - loss: 0.5739 - acc: 0.7964 - val_loss: 14.3690 - val_acc: 0.0000e+00\n",
      "Epoch 42/100\n",
      "4500/4500 [==============================] - 5s - loss: 0.5956 - acc: 0.7973 - val_loss: 14.1789 - val_acc: 0.0000e+00\n",
      "Epoch 43/100\n",
      "4500/4500 [==============================] - 5s - loss: 0.5853 - acc: 0.8000 - val_loss: 13.7155 - val_acc: 0.0000e+00\n",
      "Epoch 44/100\n",
      "4500/4500 [==============================] - 5s - loss: 0.5861 - acc: 0.7987 - val_loss: 14.4628 - val_acc: 0.0000e+00\n",
      "Epoch 45/100\n",
      "4500/4500 [==============================] - 5s - loss: 0.5271 - acc: 0.8231 - val_loss: 13.7607 - val_acc: 0.0000e+00\n",
      "Epoch 46/100\n",
      "4500/4500 [==============================] - 5s - loss: 0.5005 - acc: 0.8316 - val_loss: 14.2352 - val_acc: 0.0000e+00\n",
      "Epoch 47/100\n",
      "4500/4500 [==============================] - 5s - loss: 0.5340 - acc: 0.8200 - val_loss: 13.6493 - val_acc: 0.0000e+00\n",
      "Epoch 48/100\n",
      "4500/4500 [==============================] - 5s - loss: 0.4973 - acc: 0.8313 - val_loss: 13.6453 - val_acc: 0.0000e+00\n",
      "Epoch 49/100\n",
      "4500/4500 [==============================] - 5s - loss: 0.4422 - acc: 0.8464 - val_loss: 14.1936 - val_acc: 0.0000e+00\n",
      "Epoch 50/100\n",
      "4500/4500 [==============================] - 5s - loss: 0.4442 - acc: 0.8451 - val_loss: 13.9285 - val_acc: 0.0000e+00\n",
      "Epoch 51/100\n",
      "4500/4500 [==============================] - 5s - loss: 0.4637 - acc: 0.8438 - val_loss: 14.2864 - val_acc: 0.0000e+00\n",
      "Epoch 52/100\n",
      "4500/4500 [==============================] - 5s - loss: 0.4654 - acc: 0.8458 - val_loss: 14.0289 - val_acc: 0.0000e+00\n",
      "Epoch 53/100\n",
      "4500/4500 [==============================] - 5s - loss: 0.4522 - acc: 0.8462 - val_loss: 14.2879 - val_acc: 0.0000e+00\n",
      "Epoch 54/100\n",
      "4500/4500 [==============================] - 5s - loss: 0.4141 - acc: 0.8587 - val_loss: 14.6539 - val_acc: 0.0000e+00\n",
      "Epoch 55/100\n",
      "4500/4500 [==============================] - 5s - loss: 0.4085 - acc: 0.8607 - val_loss: 14.8244 - val_acc: 0.0000e+00\n",
      "Epoch 56/100\n",
      "4500/4500 [==============================] - 5s - loss: 0.4081 - acc: 0.8696 - val_loss: 13.9707 - val_acc: 0.0000e+00\n",
      "Epoch 57/100\n",
      "4500/4500 [==============================] - 5s - loss: 0.3832 - acc: 0.8767 - val_loss: 14.5238 - val_acc: 0.0000e+00\n",
      "Epoch 58/100\n",
      "4500/4500 [==============================] - 5s - loss: 0.3552 - acc: 0.8807 - val_loss: 14.6163 - val_acc: 0.0000e+00\n",
      "Epoch 59/100\n",
      "4500/4500 [==============================] - 5s - loss: 0.3638 - acc: 0.8804 - val_loss: 14.6159 - val_acc: 0.0000e+00\n",
      "Epoch 60/100\n",
      "4500/4500 [==============================] - 5s - loss: 0.3686 - acc: 0.8731 - val_loss: 14.8076 - val_acc: 0.0000e+00\n",
      "Epoch 61/100\n",
      "4500/4500 [==============================] - 5s - loss: 0.3456 - acc: 0.8847 - val_loss: 14.6340 - val_acc: 0.0000e+00\n",
      "Epoch 62/100\n",
      "4500/4500 [==============================] - 5s - loss: 0.3644 - acc: 0.8851 - val_loss: 14.6079 - val_acc: 0.0000e+00\n",
      "Epoch 63/100\n",
      "4500/4500 [==============================] - 5s - loss: 0.3184 - acc: 0.8971 - val_loss: 15.0340 - val_acc: 0.0000e+00\n",
      "Epoch 64/100\n",
      "4500/4500 [==============================] - 5s - loss: 0.3307 - acc: 0.8982 - val_loss: 14.3587 - val_acc: 0.0000e+00\n",
      "Epoch 65/100\n",
      "4500/4500 [==============================] - 5s - loss: 0.3110 - acc: 0.8998 - val_loss: 14.6145 - val_acc: 0.0000e+00\n",
      "Epoch 66/100\n",
      "4500/4500 [==============================] - 5s - loss: 0.3200 - acc: 0.8936 - val_loss: 14.6232 - val_acc: 0.0000e+00\n",
      "Epoch 67/100\n",
      "4500/4500 [==============================] - 5s - loss: 0.2992 - acc: 0.9024 - val_loss: 15.0520 - val_acc: 0.0000e+00\n",
      "Epoch 68/100\n",
      "4500/4500 [==============================] - 5s - loss: 0.3246 - acc: 0.8991 - val_loss: 14.7366 - val_acc: 0.0000e+00\n",
      "Epoch 69/100\n",
      "4500/4500 [==============================] - 5s - loss: 0.2911 - acc: 0.9024 - val_loss: 14.9073 - val_acc: 0.0000e+00\n",
      "Epoch 70/100\n",
      "4500/4500 [==============================] - 5s - loss: 0.3027 - acc: 0.9038 - val_loss: 14.9275 - val_acc: 0.0000e+00\n",
      "Epoch 71/100\n",
      "4500/4500 [==============================] - 5s - loss: 0.3093 - acc: 0.8987 - val_loss: 14.9717 - val_acc: 0.0000e+00\n",
      "Epoch 72/100\n",
      "4500/4500 [==============================] - 5s - loss: 0.2663 - acc: 0.9109 - val_loss: 14.8928 - val_acc: 0.0000e+00\n",
      "Epoch 73/100\n",
      "4500/4500 [==============================] - 4s - loss: 0.2892 - acc: 0.9082 - val_loss: 14.5544 - val_acc: 0.0000e+00\n",
      "Epoch 74/100\n",
      "4500/4500 [==============================] - 5s - loss: 0.3163 - acc: 0.8973 - val_loss: 14.6039 - val_acc: 0.0000e+00\n",
      "Epoch 75/100\n",
      "4500/4500 [==============================] - 5s - loss: 0.3011 - acc: 0.9011 - val_loss: 14.5722 - val_acc: 0.0000e+00\n",
      "Epoch 76/100\n",
      "4500/4500 [==============================] - 5s - loss: 0.2797 - acc: 0.9116 - val_loss: 14.5720 - val_acc: 0.0000e+00\n",
      "Epoch 77/100\n",
      "4500/4500 [==============================] - 5s - loss: 0.2584 - acc: 0.9202 - val_loss: 15.0407 - val_acc: 0.0000e+00\n",
      "Epoch 78/100\n",
      "4500/4500 [==============================] - 5s - loss: 0.2462 - acc: 0.9184 - val_loss: 14.6276 - val_acc: 0.0000e+00\n",
      "Epoch 79/100\n",
      "4500/4500 [==============================] - 5s - loss: 0.2825 - acc: 0.9118 - val_loss: 14.7905 - val_acc: 0.0000e+00\n",
      "Epoch 80/100\n",
      "4500/4500 [==============================] - 5s - loss: 0.2691 - acc: 0.9124 - val_loss: 14.8310 - val_acc: 0.0000e+00\n",
      "Epoch 81/100\n",
      "4500/4500 [==============================] - 5s - loss: 0.2552 - acc: 0.9140 - val_loss: 14.5093 - val_acc: 0.0000e+00\n",
      "Epoch 82/100\n",
      "4500/4500 [==============================] - 5s - loss: 0.2600 - acc: 0.9169 - val_loss: 14.4530 - val_acc: 0.0000e+00\n",
      "Epoch 83/100\n",
      "4500/4500 [==============================] - 5s - loss: 0.2407 - acc: 0.9224 - val_loss: 15.0290 - val_acc: 0.0000e+00\n",
      "Epoch 84/100\n",
      "4500/4500 [==============================] - 5s - loss: 0.2400 - acc: 0.9240 - val_loss: 14.7713 - val_acc: 0.0000e+00\n",
      "Epoch 85/100\n",
      "4500/4500 [==============================] - 5s - loss: 0.2420 - acc: 0.9202 - val_loss: 14.7864 - val_acc: 0.0000e+00\n",
      "Epoch 86/100\n",
      "4500/4500 [==============================] - 5s - loss: 0.2485 - acc: 0.9220 - val_loss: 14.9083 - val_acc: 0.0000e+00\n",
      "Epoch 87/100\n",
      "4500/4500 [==============================] - 5s - loss: 0.2394 - acc: 0.9251 - val_loss: 14.9482 - val_acc: 0.0000e+00\n",
      "Epoch 88/100\n",
      "4500/4500 [==============================] - 5s - loss: 0.2353 - acc: 0.9264 - val_loss: 14.8941 - val_acc: 0.0000e+00\n",
      "Epoch 89/100\n",
      "4500/4500 [==============================] - 5s - loss: 0.2291 - acc: 0.9260 - val_loss: 15.1428 - val_acc: 0.0000e+00\n",
      "Epoch 90/100\n",
      "4500/4500 [==============================] - 5s - loss: 0.2390 - acc: 0.9282 - val_loss: 15.0797 - val_acc: 0.0000e+00\n",
      "Epoch 91/100\n",
      "4500/4500 [==============================] - 5s - loss: 0.2329 - acc: 0.9320 - val_loss: 15.0323 - val_acc: 0.0000e+00\n",
      "Epoch 92/100\n",
      "4500/4500 [==============================] - 5s - loss: 0.2224 - acc: 0.9307 - val_loss: 14.3994 - val_acc: 0.0000e+00\n",
      "Epoch 93/100\n",
      "4500/4500 [==============================] - 5s - loss: 0.2157 - acc: 0.9320 - val_loss: 14.9058 - val_acc: 0.0000e+00\n",
      "Epoch 94/100\n",
      "4500/4500 [==============================] - 5s - loss: 0.2214 - acc: 0.9298 - val_loss: 14.6493 - val_acc: 0.0000e+00\n",
      "Epoch 95/100\n",
      "4500/4500 [==============================] - 5s - loss: 0.2219 - acc: 0.9324 - val_loss: 14.7191 - val_acc: 0.0000e+00\n",
      "Epoch 96/100\n",
      "4500/4500 [==============================] - 5s - loss: 0.2079 - acc: 0.9347 - val_loss: 14.8077 - val_acc: 0.0000e+00\n",
      "Epoch 97/100\n",
      "4500/4500 [==============================] - 5s - loss: 0.2178 - acc: 0.9278 - val_loss: 14.9318 - val_acc: 0.0000e+00\n",
      "Epoch 98/100\n",
      "4500/4500 [==============================] - 5s - loss: 0.2292 - acc: 0.9327 - val_loss: 15.0847 - val_acc: 0.0000e+00\n",
      "Epoch 99/100\n",
      "4500/4500 [==============================] - 5s - loss: 0.2146 - acc: 0.9356 - val_loss: 14.8019 - val_acc: 0.0000e+00\n",
      "Epoch 100/100\n",
      "4500/4500 [==============================] - 5s - loss: 0.2049 - acc: 0.9360 - val_loss: 14.7561 - val_acc: 0.0000e+00\n"
     ]
    },
    {
     "data": {
      "text/plain": [
       "<keras.callbacks.History at 0x7f1ac0093c18>"
      ]
     },
     "execution_count": 10,
     "metadata": {},
     "output_type": "execute_result"
    }
   ],
   "source": [
    "model.fit(X_train_label, Y_train_label,\n",
    "          batch_size=batch_size,\n",
    "          nb_epoch=nb_epoch,\n",
    "#           validation_split=0.1,\n",
    "          shuffle=True)"
   ]
  },
  {
   "cell_type": "code",
   "execution_count": 11,
   "metadata": {
    "collapsed": true
   },
   "outputs": [],
   "source": [
    "model_name = (METHOD\n",
    "    + '_filter-64-64-MP-64-64-APS-512-256-128'\n",
    "    + '_epo-100' # + str(nb_epoch)\n",
    ")\n",
    "\n",
    "model.save(MODEL_FOLDER + model_name)"
   ]
  },
  {
   "cell_type": "markdown",
   "metadata": {
    "collapsed": true
   },
   "source": [
    "# Test"
   ]
  },
  {
   "cell_type": "markdown",
   "metadata": {},
   "source": [
    "### Loading test data "
   ]
  },
  {
   "cell_type": "code",
   "execution_count": 12,
   "metadata": {
    "collapsed": false,
    "scrolled": true
   },
   "outputs": [],
   "source": [
    "test_data = pickle.load(open(TEST_DATA_FILE, 'rb'))  # dict\n",
    "X_test = np.array(test_data['data']).reshape((10000, 3, 32, 32)).astype('float32') / 255"
   ]
  },
  {
   "cell_type": "markdown",
   "metadata": {},
   "source": [
    "### Predict"
   ]
  },
  {
   "cell_type": "code",
   "execution_count": 14,
   "metadata": {
    "collapsed": false
   },
   "outputs": [
    {
     "name": "stdout",
     "output_type": "stream",
     "text": [
      "10000/10000 [==============================] - 1s     \n"
     ]
    }
   ],
   "source": [
    "result = model.predict_classes(X_test)\n",
    "csv_content = list(zip(test_data['ID'], result.tolist()))\n",
    "np.savetxt(OUTPUT_FOLDER + model_name + \".csv\", csv_content, fmt=\"%i\", header=\"ID,class\", comments=\"\", delimiter=\",\")"
   ]
  },
  {
   "cell_type": "code",
   "execution_count": null,
   "metadata": {
    "collapsed": false
   },
   "outputs": [],
   "source": []
  },
  {
   "cell_type": "code",
   "execution_count": null,
   "metadata": {
    "collapsed": false
   },
   "outputs": [],
   "source": []
  },
  {
   "cell_type": "code",
   "execution_count": null,
   "metadata": {
    "collapsed": true
   },
   "outputs": [],
   "source": []
  }
 ],
 "metadata": {
  "anaconda-cloud": {},
  "kernelspec": {
   "display_name": "Python [conda root]",
   "language": "python",
   "name": "conda-root-py"
  },
  "language_info": {
   "codemirror_mode": {
    "name": "ipython",
    "version": 3
   },
   "file_extension": ".py",
   "mimetype": "text/x-python",
   "name": "python",
   "nbconvert_exporter": "python",
   "pygments_lexer": "ipython3",
   "version": "3.5.2"
  }
 },
 "nbformat": 4,
 "nbformat_minor": 0
}
