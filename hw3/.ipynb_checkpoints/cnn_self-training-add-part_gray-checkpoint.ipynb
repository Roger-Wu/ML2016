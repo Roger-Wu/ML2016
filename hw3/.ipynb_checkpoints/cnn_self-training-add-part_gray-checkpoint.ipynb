{
 "cells": [
  {
   "cell_type": "code",
   "execution_count": 12,
   "metadata": {
    "collapsed": false
   },
   "outputs": [],
   "source": [
    "import numpy as np\n",
    "import pickle\n",
    "from keras.preprocessing.image import ImageDataGenerator\n",
    "from keras.models import Sequential\n",
    "from keras.layers import Dense, Dropout, Activation, Flatten\n",
    "from keras.layers import Convolution2D, MaxPooling2D\n",
    "from keras.optimizers import SGD\n",
    "from keras.utils import np_utils"
   ]
  },
  {
   "cell_type": "code",
   "execution_count": 32,
   "metadata": {
    "collapsed": true
   },
   "outputs": [],
   "source": [
    "METHOD = 'cnn_self-training-add-part_gray'\n",
    "\n",
    "LABELLED_DATA_FILE = 'data/all_label.p'\n",
    "UNLABELED_DATA_FILE = 'data/all_unlabel.p'\n",
    "TEST_DATA_FILE = 'data/test.p'\n",
    "\n",
    "OUTPUT_FOLDER = 'output/'\n",
    "MODEL_FOLDER = 'model/' + METHOD + '/'"
   ]
  },
  {
   "cell_type": "code",
   "execution_count": 14,
   "metadata": {
    "collapsed": true
   },
   "outputs": [],
   "source": [
    "import os\n",
    "if not os.path.exists(MODEL_FOLDER):\n",
    "    os.makedirs(MODEL_FOLDER)\n",
    "if not os.path.exists(OUTPUT_FOLDER):\n",
    "    os.makedirs(OUTPUT_FOLDER)"
   ]
  },
  {
   "cell_type": "markdown",
   "metadata": {},
   "source": [
    "# Train"
   ]
  },
  {
   "cell_type": "markdown",
   "metadata": {},
   "source": [
    "### Loading Training Data"
   ]
  },
  {
   "cell_type": "code",
   "execution_count": 15,
   "metadata": {
    "collapsed": false
   },
   "outputs": [],
   "source": [
    "labelled_data = np.array(pickle.load(open(LABELLED_DATA_FILE, 'rb')))\n",
    "unlabeled_data = np.array(pickle.load(open(UNLABELED_DATA_FILE, 'rb')))"
   ]
  },
  {
   "cell_type": "code",
   "execution_count": 16,
   "metadata": {
    "collapsed": true
   },
   "outputs": [],
   "source": [
    "nb_classes = 10\n",
    "img_rows, img_cols, img_channels = 32, 32, 3"
   ]
  },
  {
   "cell_type": "code",
   "execution_count": 17,
   "metadata": {
    "collapsed": true
   },
   "outputs": [],
   "source": [
    "def rgb2gray(img_arr):\n",
    "    return np.array([[(img[0] + img[1] + img[2])/3] for img in img_arr])"
   ]
  },
  {
   "cell_type": "code",
   "execution_count": 18,
   "metadata": {
    "collapsed": false
   },
   "outputs": [],
   "source": [
    "# generate x, y from data\n",
    "\n",
    "# reshape labelled data to (5000, 3, 32, 32)\n",
    "X_train_label = rgb2gray(labelled_data.reshape((5000, img_channels, img_rows, img_cols)).astype('float32') / 255)\n",
    "\n",
    "# reshape unlabeled data to (45000, 3, 32, 32)\n",
    "nb_unlabeled_data = unlabeled_data.shape[0]\n",
    "X_train_unlabel = rgb2gray(unlabeled_data.reshape((nb_unlabeled_data, img_channels, img_rows, img_cols)).astype('float32') / 255)\n",
    "\n",
    "y_train_label_class = np.array([classIdx for classIdx in range(len(labelled_data)) for i in range(len(labelled_data[classIdx]))])\n",
    "Y_train_label = np_utils.to_categorical(y_train_label_class, nb_classes)"
   ]
  },
  {
   "cell_type": "code",
   "execution_count": 19,
   "metadata": {
    "collapsed": false
   },
   "outputs": [
    {
     "data": {
      "text/plain": [
       "(5000, 1, 32, 32)"
      ]
     },
     "execution_count": 19,
     "metadata": {},
     "output_type": "execute_result"
    }
   ],
   "source": [
    "X_train_label.shape"
   ]
  },
  {
   "cell_type": "code",
   "execution_count": 20,
   "metadata": {
    "collapsed": false
   },
   "outputs": [
    {
     "data": {
      "image/png": "[encoded data removed]",
      "text/plain": [
       "<PIL.Image.Image image mode=L size=32x32 at 0x7F33DD8E8DA0>"
      ]
     },
     "execution_count": 20,
     "metadata": {},
     "output_type": "execute_result"
    }
   ],
   "source": [
    "# visualize\n",
    "from scipy.misc import toimage\n",
    "toimage(X_train_label[0][0])"
   ]
  },
  {
   "cell_type": "markdown",
   "metadata": {},
   "source": [
    "### Training"
   ]
  },
  {
   "cell_type": "code",
   "execution_count": 21,
   "metadata": {
    "collapsed": true
   },
   "outputs": [],
   "source": [
    "from scipy.stats import entropy\n",
    "\n",
    "def certainty(prob_arr):  # higher is more certain\n",
    "    return -entropy(prob_arr)\n",
    "\n",
    "def uncertainty(prob_arr):  # lower is better. for descending-ordered sorting\n",
    "    return entropy(prob_arr)\n",
    "\n",
    "#     sorted_arr = np.sort(prob_arr)\n",
    "#     return sorted_arr[-1] / sorted_arr[-2]"
   ]
  },
  {
   "cell_type": "code",
   "execution_count": 22,
   "metadata": {
    "collapsed": true
   },
   "outputs": [],
   "source": [
    "batch_size = 64\n",
    "nb_epoch = 50"
   ]
  },
  {
   "cell_type": "code",
   "execution_count": 23,
   "metadata": {
    "collapsed": false
   },
   "outputs": [],
   "source": [
    "# set model\n",
    "\n",
    "def reset_model():\n",
    "\n",
    "    model = Sequential()\n",
    "\n",
    "    model.add(Convolution2D(64, 3, 3, border_mode='same', input_shape=X_train_label.shape[1:]))\n",
    "    model.add(Activation('relu'))\n",
    "    # model.add(Convolution2D(64, 3, 3))\n",
    "    # model.add(Activation('relu'))\n",
    "    model.add(MaxPooling2D(pool_size=(2, 2), dim_ordering=\"th\"))\n",
    "#     model.add(Dropout(0.5))\n",
    "\n",
    "    model.add(Convolution2D(64, 3, 3, border_mode='same'))\n",
    "    model.add(Activation('relu'))\n",
    "    # model.add(Convolution2D(64, 3, 3))\n",
    "    # model.add(Activation('relu'))\n",
    "    model.add(MaxPooling2D(pool_size=(2, 2), dim_ordering=\"th\"))\n",
    "#     model.add(Dropout(0.5))\n",
    "\n",
    "    model.add(Flatten())\n",
    "\n",
    "    model.add(Dense(512))  # 32 * \n",
    "    model.add(Activation('relu'))\n",
    "    model.add(Dropout(0.5))\n",
    "\n",
    "    model.add(Dense(nb_classes))\n",
    "    model.add(Activation('softmax'))\n",
    "\n",
    "    # sgd = SGD(lr=0.01, decay=1e-6, momentum=0.9, nesterov=True)\n",
    "    model.compile(loss='categorical_crossentropy',\n",
    "                  optimizer='adam',\n",
    "                  metrics=['accuracy'])\n",
    "\n",
    "    return model"
   ]
  },
  {
   "cell_type": "code",
   "execution_count": 24,
   "metadata": {
    "collapsed": true
   },
   "outputs": [],
   "source": [
    "# avoid change to the original labelled data\n",
    "X_train_ori_label = np.copy(X_train_label)\n",
    "Y_train_ori_label = np.copy(Y_train_label)\n",
    "X_train_ori_unlabel = np.copy(X_train_unlabel)"
   ]
  },
  {
   "cell_type": "code",
   "execution_count": 25,
   "metadata": {
    "collapsed": true
   },
   "outputs": [],
   "source": [
    "extract_ratio = 0.5\n",
    "nb_extract_rounds = 3"
   ]
  },
  {
   "cell_type": "code",
   "execution_count": 26,
   "metadata": {
    "collapsed": false,
    "scrolled": true
   },
   "outputs": [
    {
     "name": "stdout",
     "output_type": "stream",
     "text": [
      "extract_round: 1\n",
      "Train on 5000 samples, validate on 5000 samples\n",
      "Epoch 1/50\n",
      "5000/5000 [==============================] - 0s - loss: 2.2626 - acc: 0.1340 - val_loss: 2.1987 - val_acc: 0.1708\n",
      "Epoch 2/50\n",
      "5000/5000 [==============================] - 0s - loss: 2.1766 - acc: 0.1920 - val_loss: 2.0997 - val_acc: 0.2196\n",
      "Epoch 3/50\n",
      "5000/5000 [==============================] - 0s - loss: 2.0643 - acc: 0.2506 - val_loss: 1.9898 - val_acc: 0.2772\n",
      "Epoch 4/50\n",
      "5000/5000 [==============================] - 0s - loss: 1.9807 - acc: 0.2894 - val_loss: 1.9126 - val_acc: 0.3202\n",
      "Epoch 5/50\n",
      "5000/5000 [==============================] - 0s - loss: 1.8989 - acc: 0.3176 - val_loss: 1.8740 - val_acc: 0.3168\n",
      "Epoch 6/50\n",
      "5000/5000 [==============================] - 0s - loss: 1.8414 - acc: 0.3420 - val_loss: 1.7498 - val_acc: 0.3812\n",
      "Epoch 7/50\n",
      "5000/5000 [==============================] - 0s - loss: 1.7911 - acc: 0.3632 - val_loss: 1.7271 - val_acc: 0.3816\n",
      "Epoch 8/50\n",
      "5000/5000 [==============================] - 0s - loss: 1.7664 - acc: 0.3618 - val_loss: 1.7026 - val_acc: 0.3938\n",
      "Epoch 9/50\n",
      "5000/5000 [==============================] - 0s - loss: 1.7200 - acc: 0.3782 - val_loss: 1.6641 - val_acc: 0.4086\n",
      "Epoch 10/50\n",
      "5000/5000 [==============================] - 0s - loss: 1.7053 - acc: 0.3878 - val_loss: 1.6540 - val_acc: 0.4186\n",
      "Epoch 11/50\n",
      "5000/5000 [==============================] - 0s - loss: 1.6929 - acc: 0.3882 - val_loss: 1.6246 - val_acc: 0.4244\n",
      "Epoch 12/50\n",
      "5000/5000 [==============================] - 0s - loss: 1.6621 - acc: 0.4044 - val_loss: 1.5887 - val_acc: 0.4372\n",
      "Epoch 13/50\n",
      "5000/5000 [==============================] - 0s - loss: 1.6612 - acc: 0.4096 - val_loss: 1.5749 - val_acc: 0.4406\n",
      "Epoch 14/50\n",
      "5000/5000 [==============================] - 0s - loss: 1.6323 - acc: 0.4078 - val_loss: 1.5546 - val_acc: 0.4510\n",
      "Epoch 15/50\n",
      "5000/5000 [==============================] - 0s - loss: 1.6015 - acc: 0.4274 - val_loss: 1.5433 - val_acc: 0.4538\n",
      "Epoch 16/50\n",
      "5000/5000 [==============================] - 0s - loss: 1.5905 - acc: 0.4284 - val_loss: 1.5054 - val_acc: 0.4672\n",
      "Epoch 17/50\n",
      "5000/5000 [==============================] - 0s - loss: 1.5779 - acc: 0.4318 - val_loss: 1.4780 - val_acc: 0.4840\n",
      "Epoch 18/50\n",
      "5000/5000 [==============================] - 0s - loss: 1.5640 - acc: 0.4458 - val_loss: 1.4656 - val_acc: 0.4790\n",
      "Epoch 19/50\n",
      "5000/5000 [==============================] - 0s - loss: 1.5457 - acc: 0.4476 - val_loss: 1.4611 - val_acc: 0.4928\n",
      "Epoch 20/50\n",
      "5000/5000 [==============================] - 0s - loss: 1.5240 - acc: 0.4574 - val_loss: 1.4648 - val_acc: 0.4852\n",
      "Epoch 21/50\n",
      "5000/5000 [==============================] - 0s - loss: 1.5068 - acc: 0.4626 - val_loss: 1.4092 - val_acc: 0.5098\n",
      "Epoch 22/50\n",
      "5000/5000 [==============================] - 0s - loss: 1.4761 - acc: 0.4712 - val_loss: 1.3877 - val_acc: 0.5202\n",
      "Epoch 23/50\n",
      "5000/5000 [==============================] - 0s - loss: 1.4665 - acc: 0.4748 - val_loss: 1.3668 - val_acc: 0.5246\n",
      "Epoch 24/50\n",
      "5000/5000 [==============================] - 0s - loss: 1.4501 - acc: 0.4842 - val_loss: 1.3297 - val_acc: 0.5396\n",
      "Epoch 25/50\n",
      "5000/5000 [==============================] - 0s - loss: 1.4218 - acc: 0.4922 - val_loss: 1.2986 - val_acc: 0.5500\n",
      "Epoch 26/50\n",
      "5000/5000 [==============================] - 0s - loss: 1.4163 - acc: 0.4946 - val_loss: 1.3247 - val_acc: 0.5346\n",
      "Epoch 27/50\n",
      "5000/5000 [==============================] - 0s - loss: 1.4005 - acc: 0.5036 - val_loss: 1.2721 - val_acc: 0.5598\n",
      "Epoch 28/50\n",
      "5000/5000 [==============================] - 0s - loss: 1.3648 - acc: 0.5214 - val_loss: 1.2217 - val_acc: 0.5808\n",
      "Epoch 29/50\n",
      "5000/5000 [==============================] - 0s - loss: 1.3491 - acc: 0.5252 - val_loss: 1.2170 - val_acc: 0.5710\n",
      "Epoch 30/50\n",
      "5000/5000 [==============================] - 0s - loss: 1.3335 - acc: 0.5284 - val_loss: 1.1797 - val_acc: 0.5956\n",
      "Epoch 31/50\n",
      "5000/5000 [==============================] - 0s - loss: 1.3162 - acc: 0.5366 - val_loss: 1.1694 - val_acc: 0.6026\n",
      "Epoch 32/50\n",
      "5000/5000 [==============================] - 0s - loss: 1.2858 - acc: 0.5390 - val_loss: 1.1364 - val_acc: 0.6146\n",
      "Epoch 33/50\n",
      "5000/5000 [==============================] - 0s - loss: 1.2718 - acc: 0.5458 - val_loss: 1.1104 - val_acc: 0.6304\n",
      "Epoch 34/50\n",
      "5000/5000 [==============================] - 0s - loss: 1.2529 - acc: 0.5508 - val_loss: 1.0853 - val_acc: 0.6322\n",
      "Epoch 35/50\n",
      "5000/5000 [==============================] - 0s - loss: 1.2297 - acc: 0.5628 - val_loss: 1.0677 - val_acc: 0.6476\n",
      "Epoch 36/50\n",
      "5000/5000 [==============================] - 0s - loss: 1.1957 - acc: 0.5774 - val_loss: 1.0424 - val_acc: 0.6570\n",
      "Epoch 37/50\n",
      "5000/5000 [==============================] - 0s - loss: 1.1859 - acc: 0.5832 - val_loss: 1.0525 - val_acc: 0.6456\n",
      "Epoch 38/50\n",
      "5000/5000 [==============================] - 0s - loss: 1.1776 - acc: 0.5804 - val_loss: 0.9719 - val_acc: 0.6736\n",
      "Epoch 39/50\n",
      "5000/5000 [==============================] - 0s - loss: 1.1480 - acc: 0.6000 - val_loss: 0.9622 - val_acc: 0.6938\n",
      "Epoch 40/50\n",
      "5000/5000 [==============================] - 0s - loss: 1.1347 - acc: 0.6014 - val_loss: 0.9435 - val_acc: 0.6970\n",
      "Epoch 41/50\n",
      "5000/5000 [==============================] - 0s - loss: 1.1050 - acc: 0.6128 - val_loss: 0.9139 - val_acc: 0.7048\n",
      "Epoch 42/50\n",
      "5000/5000 [==============================] - 0s - loss: 1.0826 - acc: 0.6102 - val_loss: 0.9237 - val_acc: 0.7044\n",
      "Epoch 43/50\n",
      "5000/5000 [==============================] - 0s - loss: 1.0728 - acc: 0.6136 - val_loss: 0.8691 - val_acc: 0.7240\n",
      "Epoch 44/50\n",
      "5000/5000 [==============================] - 0s - loss: 1.0453 - acc: 0.6326 - val_loss: 0.8434 - val_acc: 0.7348\n",
      "Epoch 45/50\n",
      "5000/5000 [==============================] - 0s - loss: 1.0131 - acc: 0.6418 - val_loss: 0.8318 - val_acc: 0.7366\n",
      "Epoch 46/50\n",
      "5000/5000 [==============================] - 0s - loss: 1.0223 - acc: 0.6346 - val_loss: 0.7918 - val_acc: 0.7542\n",
      "Epoch 47/50\n",
      "5000/5000 [==============================] - 0s - loss: 0.9718 - acc: 0.6556 - val_loss: 0.7758 - val_acc: 0.7562\n",
      "Epoch 48/50\n",
      "5000/5000 [==============================] - 0s - loss: 0.9668 - acc: 0.6534 - val_loss: 0.7505 - val_acc: 0.7686\n",
      "Epoch 49/50\n",
      "5000/5000 [==============================] - 0s - loss: 0.9596 - acc: 0.6590 - val_loss: 0.7155 - val_acc: 0.7890\n",
      "Epoch 50/50\n",
      "5000/5000 [==============================] - 0s - loss: 0.9442 - acc: 0.6670 - val_loss: 0.7045 - val_acc: 0.7864\n",
      "45000/45000 [==============================] - 0s     \n",
      "45000/45000 [==============================] - 0s     \n",
      "extract_round: 2\n",
      "Train on 27500 samples, validate on 5000 samples\n",
      "Epoch 1/50\n",
      "27500/27500 [==============================] - 1s - loss: 1.6734 - acc: 0.4063 - val_loss: 1.8160 - val_acc: 0.3738\n",
      "Epoch 2/50\n",
      "27500/27500 [==============================] - 1s - loss: 1.1741 - acc: 0.5997 - val_loss: 1.7916 - val_acc: 0.4042\n",
      "Epoch 3/50\n",
      "27500/27500 [==============================] - 1s - loss: 1.0300 - acc: 0.6443 - val_loss: 1.6508 - val_acc: 0.4340\n",
      "Epoch 4/50\n",
      "27500/27500 [==============================] - 1s - loss: 0.9463 - acc: 0.6741 - val_loss: 1.7443 - val_acc: 0.4398\n",
      "Epoch 5/50\n",
      "27500/27500 [==============================] - 1s - loss: 0.8806 - acc: 0.6957 - val_loss: 1.6034 - val_acc: 0.4614\n",
      "Epoch 6/50\n",
      "27500/27500 [==============================] - 1s - loss: 0.8259 - acc: 0.7154 - val_loss: 1.5595 - val_acc: 0.4842\n",
      "Epoch 7/50\n",
      "27500/27500 [==============================] - 1s - loss: 0.7871 - acc: 0.7307 - val_loss: 1.5457 - val_acc: 0.4932\n",
      "Epoch 8/50\n",
      "27500/27500 [==============================] - 1s - loss: 0.7595 - acc: 0.7433 - val_loss: 1.4718 - val_acc: 0.5108\n",
      "Epoch 9/50\n",
      "27500/27500 [==============================] - 1s - loss: 0.7364 - acc: 0.7500 - val_loss: 1.5019 - val_acc: 0.5088\n",
      "Epoch 10/50\n",
      "27500/27500 [==============================] - 1s - loss: 0.7123 - acc: 0.7548 - val_loss: 1.4261 - val_acc: 0.5246\n",
      "Epoch 11/50\n",
      "27500/27500 [==============================] - 1s - loss: 0.6914 - acc: 0.7649 - val_loss: 1.4049 - val_acc: 0.5326\n",
      "Epoch 12/50\n",
      "27500/27500 [==============================] - 1s - loss: 0.6720 - acc: 0.7716 - val_loss: 1.4000 - val_acc: 0.5392\n",
      "Epoch 13/50\n",
      "27500/27500 [==============================] - 1s - loss: 0.6543 - acc: 0.7757 - val_loss: 1.3409 - val_acc: 0.5512\n",
      "Epoch 14/50\n",
      "27500/27500 [==============================] - 1s - loss: 0.6403 - acc: 0.7823 - val_loss: 1.2984 - val_acc: 0.5624\n",
      "Epoch 15/50\n",
      "27500/27500 [==============================] - 1s - loss: 0.6221 - acc: 0.7881 - val_loss: 1.3089 - val_acc: 0.5664\n",
      "Epoch 16/50\n",
      "27500/27500 [==============================] - 1s - loss: 0.6084 - acc: 0.7949 - val_loss: 1.2185 - val_acc: 0.5836\n",
      "Epoch 17/50\n",
      "27500/27500 [==============================] - 1s - loss: 0.5980 - acc: 0.7947 - val_loss: 1.2562 - val_acc: 0.5780\n",
      "Epoch 18/50\n",
      "27500/27500 [==============================] - 1s - loss: 0.5928 - acc: 0.7966 - val_loss: 1.2129 - val_acc: 0.5874\n",
      "Epoch 19/50\n",
      "27500/27500 [==============================] - 1s - loss: 0.5777 - acc: 0.8040 - val_loss: 1.1853 - val_acc: 0.5938\n",
      "Epoch 20/50\n",
      "27500/27500 [==============================] - 1s - loss: 0.5663 - acc: 0.8059 - val_loss: 1.1789 - val_acc: 0.5992\n",
      "Epoch 21/50\n",
      "27500/27500 [==============================] - 1s - loss: 0.5526 - acc: 0.8117 - val_loss: 1.1475 - val_acc: 0.6132\n",
      "Epoch 22/50\n",
      "27500/27500 [==============================] - 1s - loss: 0.5419 - acc: 0.8150 - val_loss: 1.1263 - val_acc: 0.6168\n",
      "Epoch 23/50\n",
      "27500/27500 [==============================] - 1s - loss: 0.5291 - acc: 0.8192 - val_loss: 1.0791 - val_acc: 0.6242\n",
      "Epoch 24/50\n",
      "27500/27500 [==============================] - 1s - loss: 0.5260 - acc: 0.8193 - val_loss: 1.0734 - val_acc: 0.6264\n",
      "Epoch 25/50\n",
      "27500/27500 [==============================] - 1s - loss: 0.5105 - acc: 0.8252 - val_loss: 1.0407 - val_acc: 0.6376\n",
      "Epoch 26/50\n",
      "27500/27500 [==============================] - 1s - loss: 0.5026 - acc: 0.8281 - val_loss: 1.0134 - val_acc: 0.6476\n",
      "Epoch 27/50\n",
      "27500/27500 [==============================] - 1s - loss: 0.4968 - acc: 0.8258 - val_loss: 0.9995 - val_acc: 0.6574\n",
      "Epoch 28/50\n",
      "27500/27500 [==============================] - 1s - loss: 0.4849 - acc: 0.8339 - val_loss: 1.0674 - val_acc: 0.6400\n",
      "Epoch 29/50\n",
      "27500/27500 [==============================] - 1s - loss: 0.4791 - acc: 0.8366 - val_loss: 0.9472 - val_acc: 0.6758\n",
      "Epoch 30/50\n",
      "27500/27500 [==============================] - 1s - loss: 0.4740 - acc: 0.8365 - val_loss: 0.9609 - val_acc: 0.6690\n",
      "Epoch 31/50\n",
      "27500/27500 [==============================] - 1s - loss: 0.4634 - acc: 0.8427 - val_loss: 0.9243 - val_acc: 0.6780\n",
      "Epoch 32/50\n",
      "27500/27500 [==============================] - 1s - loss: 0.4626 - acc: 0.8397 - val_loss: 0.8952 - val_acc: 0.6912\n",
      "Epoch 33/50\n",
      "27500/27500 [==============================] - 1s - loss: 0.4530 - acc: 0.8424 - val_loss: 0.8911 - val_acc: 0.6838\n",
      "Epoch 34/50\n",
      "27500/27500 [==============================] - 1s - loss: 0.4411 - acc: 0.8475 - val_loss: 0.8437 - val_acc: 0.7054\n",
      "Epoch 35/50\n",
      "27500/27500 [==============================] - 1s - loss: 0.4399 - acc: 0.8484 - val_loss: 0.8286 - val_acc: 0.7056\n",
      "Epoch 36/50\n",
      "27500/27500 [==============================] - 1s - loss: 0.4276 - acc: 0.8510 - val_loss: 0.8089 - val_acc: 0.7138\n",
      "Epoch 37/50\n",
      "27500/27500 [==============================] - 1s - loss: 0.4227 - acc: 0.8533 - val_loss: 0.7807 - val_acc: 0.7300\n",
      "Epoch 38/50\n",
      "27500/27500 [==============================] - 1s - loss: 0.4235 - acc: 0.8511 - val_loss: 0.7804 - val_acc: 0.7248\n",
      "Epoch 39/50\n",
      "27500/27500 [==============================] - 1s - loss: 0.4157 - acc: 0.8554 - val_loss: 0.7984 - val_acc: 0.7226\n",
      "Epoch 40/50\n",
      "27500/27500 [==============================] - 1s - loss: 0.4091 - acc: 0.8594 - val_loss: 0.7546 - val_acc: 0.7406\n",
      "Epoch 41/50\n",
      "27500/27500 [==============================] - 1s - loss: 0.4067 - acc: 0.8583 - val_loss: 0.7605 - val_acc: 0.7284\n",
      "Epoch 42/50\n",
      "27500/27500 [==============================] - 1s - loss: 0.4020 - acc: 0.8575 - val_loss: 0.7031 - val_acc: 0.7588\n",
      "Epoch 43/50\n",
      "27500/27500 [==============================] - 1s - loss: 0.3902 - acc: 0.8616 - val_loss: 0.7099 - val_acc: 0.7554\n",
      "Epoch 44/50\n",
      "27500/27500 [==============================] - 1s - loss: 0.3886 - acc: 0.8640 - val_loss: 0.6596 - val_acc: 0.7718\n",
      "Epoch 45/50\n",
      "27500/27500 [==============================] - 1s - loss: 0.3808 - acc: 0.8674 - val_loss: 0.6912 - val_acc: 0.7566\n",
      "Epoch 46/50\n",
      "27500/27500 [==============================] - 1s - loss: 0.3750 - acc: 0.8682 - val_loss: 0.6355 - val_acc: 0.7760\n",
      "Epoch 47/50\n",
      "27500/27500 [==============================] - 1s - loss: 0.3863 - acc: 0.8653 - val_loss: 0.6311 - val_acc: 0.7776\n",
      "Epoch 48/50\n",
      "27500/27500 [==============================] - 1s - loss: 0.3680 - acc: 0.8698 - val_loss: 0.6267 - val_acc: 0.7808\n",
      "Epoch 49/50\n",
      "27500/27500 [==============================] - 1s - loss: 0.3630 - acc: 0.8729 - val_loss: 0.5933 - val_acc: 0.7930\n",
      "Epoch 50/50\n",
      "27500/27500 [==============================] - 1s - loss: 0.3587 - acc: 0.8761 - val_loss: 0.5920 - val_acc: 0.7920\n",
      "22500/22500 [==============================] - 0s     \n",
      "22500/22500 [==============================] - 0s     \n",
      "extract_round: 3\n",
      "Train on 38750 samples, validate on 5000 samples\n",
      "Epoch 1/50\n",
      "38750/38750 [==============================] - 1s - loss: 1.5717 - acc: 0.4452 - val_loss: 1.8312 - val_acc: 0.3960\n",
      "Epoch 2/50\n",
      "38750/38750 [==============================] - 1s - loss: 1.0890 - acc: 0.6218 - val_loss: 1.7930 - val_acc: 0.4280\n",
      "Epoch 3/50\n",
      "38750/38750 [==============================] - 1s - loss: 0.9484 - acc: 0.6699 - val_loss: 1.6638 - val_acc: 0.4600\n",
      "Epoch 4/50\n",
      "38750/38750 [==============================] - 1s - loss: 0.8669 - acc: 0.7013 - val_loss: 1.6610 - val_acc: 0.4790\n",
      "Epoch 5/50\n",
      "38750/38750 [==============================] - 1s - loss: 0.8215 - acc: 0.7166 - val_loss: 1.6076 - val_acc: 0.4882\n",
      "Epoch 6/50\n",
      "38750/38750 [==============================] - 1s - loss: 0.7815 - acc: 0.7310 - val_loss: 1.6072 - val_acc: 0.5030\n",
      "Epoch 7/50\n",
      "38750/38750 [==============================] - 1s - loss: 0.7532 - acc: 0.7415 - val_loss: 1.6324 - val_acc: 0.5046\n",
      "Epoch 8/50\n",
      "38750/38750 [==============================] - 1s - loss: 0.7242 - acc: 0.7524 - val_loss: 1.5448 - val_acc: 0.5224\n",
      "Epoch 9/50\n",
      "38750/38750 [==============================] - 1s - loss: 0.6997 - acc: 0.7579 - val_loss: 1.4988 - val_acc: 0.5278\n",
      "Epoch 10/50\n",
      "38750/38750 [==============================] - 1s - loss: 0.6824 - acc: 0.7654 - val_loss: 1.4715 - val_acc: 0.5382\n",
      "Epoch 11/50\n",
      "38750/38750 [==============================] - 1s - loss: 0.6613 - acc: 0.7726 - val_loss: 1.4601 - val_acc: 0.5466\n",
      "Epoch 12/50\n",
      "38750/38750 [==============================] - 1s - loss: 0.6489 - acc: 0.7778 - val_loss: 1.5134 - val_acc: 0.5422\n",
      "Epoch 13/50\n",
      "38750/38750 [==============================] - 1s - loss: 0.6313 - acc: 0.7836 - val_loss: 1.3605 - val_acc: 0.5636\n",
      "Epoch 14/50\n",
      "38750/38750 [==============================] - 1s - loss: 0.6210 - acc: 0.7882 - val_loss: 1.3279 - val_acc: 0.5710\n",
      "Epoch 15/50\n",
      "38750/38750 [==============================] - 1s - loss: 0.6121 - acc: 0.7909 - val_loss: 1.3152 - val_acc: 0.5720\n",
      "Epoch 16/50\n",
      "38750/38750 [==============================] - 1s - loss: 0.5970 - acc: 0.7958 - val_loss: 1.3176 - val_acc: 0.5842\n",
      "Epoch 17/50\n",
      "38750/38750 [==============================] - 1s - loss: 0.5855 - acc: 0.7995 - val_loss: 1.3134 - val_acc: 0.5826\n",
      "Epoch 18/50\n",
      "38750/38750 [==============================] - 1s - loss: 0.5751 - acc: 0.8050 - val_loss: 1.3102 - val_acc: 0.5864\n",
      "Epoch 19/50\n",
      "38750/38750 [==============================] - 1s - loss: 0.5668 - acc: 0.8073 - val_loss: 1.2515 - val_acc: 0.5970\n",
      "Epoch 20/50\n",
      "38750/38750 [==============================] - 1s - loss: 0.5516 - acc: 0.8130 - val_loss: 1.1959 - val_acc: 0.6118\n",
      "Epoch 21/50\n",
      "38750/38750 [==============================] - 1s - loss: 0.5451 - acc: 0.8118 - val_loss: 1.1706 - val_acc: 0.6180\n",
      "Epoch 22/50\n",
      "38750/38750 [==============================] - 1s - loss: 0.5381 - acc: 0.8166 - val_loss: 1.2012 - val_acc: 0.6156\n",
      "Epoch 23/50\n",
      "38750/38750 [==============================] - 1s - loss: 0.5316 - acc: 0.8172 - val_loss: 1.2148 - val_acc: 0.6176\n",
      "Epoch 24/50\n",
      "38750/38750 [==============================] - 1s - loss: 0.5229 - acc: 0.8212 - val_loss: 1.1543 - val_acc: 0.6272\n",
      "Epoch 25/50\n",
      "38750/38750 [==============================] - 1s - loss: 0.5215 - acc: 0.8207 - val_loss: 1.1498 - val_acc: 0.6298\n",
      "Epoch 26/50\n",
      "38750/38750 [==============================] - 1s - loss: 0.5040 - acc: 0.8265 - val_loss: 1.1584 - val_acc: 0.6328\n",
      "Epoch 27/50\n",
      "38750/38750 [==============================] - 1s - loss: 0.5037 - acc: 0.8273 - val_loss: 1.1407 - val_acc: 0.6378\n",
      "Epoch 28/50\n",
      "38750/38750 [==============================] - 1s - loss: 0.4901 - acc: 0.8325 - val_loss: 1.0487 - val_acc: 0.6554\n",
      "Epoch 29/50\n",
      "38750/38750 [==============================] - 1s - loss: 0.4930 - acc: 0.8296 - val_loss: 1.0259 - val_acc: 0.6604\n",
      "Epoch 30/50\n",
      "38750/38750 [==============================] - 1s - loss: 0.4871 - acc: 0.8311 - val_loss: 1.0239 - val_acc: 0.6682\n",
      "Epoch 31/50\n",
      "38750/38750 [==============================] - 1s - loss: 0.4802 - acc: 0.8353 - val_loss: 1.0820 - val_acc: 0.6530\n",
      "Epoch 32/50\n",
      "38750/38750 [==============================] - 1s - loss: 0.4686 - acc: 0.8380 - val_loss: 1.0411 - val_acc: 0.6654\n",
      "Epoch 33/50\n",
      "38750/38750 [==============================] - 1s - loss: 0.4670 - acc: 0.8379 - val_loss: 1.0224 - val_acc: 0.6730\n",
      "Epoch 34/50\n",
      "38750/38750 [==============================] - 1s - loss: 0.4589 - acc: 0.8404 - val_loss: 0.9531 - val_acc: 0.6866\n",
      "Epoch 35/50\n",
      "38750/38750 [==============================] - 1s - loss: 0.4536 - acc: 0.8437 - val_loss: 0.9304 - val_acc: 0.6866\n",
      "Epoch 36/50\n",
      "38750/38750 [==============================] - 1s - loss: 0.4485 - acc: 0.8434 - val_loss: 0.9314 - val_acc: 0.6938\n",
      "Epoch 37/50\n",
      "38750/38750 [==============================] - 1s - loss: 0.4453 - acc: 0.8445 - val_loss: 0.9281 - val_acc: 0.6850\n",
      "Epoch 38/50\n",
      "38750/38750 [==============================] - 1s - loss: 0.4362 - acc: 0.8487 - val_loss: 0.8764 - val_acc: 0.7116\n",
      "Epoch 39/50\n",
      "38750/38750 [==============================] - 1s - loss: 0.4351 - acc: 0.8495 - val_loss: 0.9203 - val_acc: 0.6964\n",
      "Epoch 40/50\n",
      "38750/38750 [==============================] - 1s - loss: 0.4258 - acc: 0.8534 - val_loss: 0.8325 - val_acc: 0.7204\n",
      "Epoch 41/50\n",
      "38750/38750 [==============================] - 1s - loss: 0.4211 - acc: 0.8540 - val_loss: 0.8676 - val_acc: 0.7122\n",
      "Epoch 42/50\n",
      "38750/38750 [==============================] - 1s - loss: 0.4246 - acc: 0.8521 - val_loss: 0.8703 - val_acc: 0.7090\n",
      "Epoch 43/50\n",
      "38750/38750 [==============================] - 1s - loss: 0.4192 - acc: 0.8557 - val_loss: 0.8476 - val_acc: 0.7192\n",
      "Epoch 44/50\n",
      "38750/38750 [==============================] - 1s - loss: 0.4146 - acc: 0.8542 - val_loss: 0.8147 - val_acc: 0.7312\n",
      "Epoch 45/50\n",
      "38750/38750 [==============================] - 1s - loss: 0.4131 - acc: 0.8587 - val_loss: 0.7951 - val_acc: 0.7344\n",
      "Epoch 46/50\n",
      "38750/38750 [==============================] - 1s - loss: 0.4080 - acc: 0.8583 - val_loss: 0.8241 - val_acc: 0.7206\n",
      "Epoch 47/50\n",
      "38750/38750 [==============================] - 1s - loss: 0.4002 - acc: 0.8597 - val_loss: 0.7810 - val_acc: 0.7390\n",
      "Epoch 48/50\n",
      "38750/38750 [==============================] - 1s - loss: 0.3914 - acc: 0.8625 - val_loss: 0.7527 - val_acc: 0.7412\n",
      "Epoch 49/50\n",
      "38750/38750 [==============================] - 1s - loss: 0.3932 - acc: 0.8612 - val_loss: 0.7437 - val_acc: 0.7502\n",
      "Epoch 50/50\n",
      "38750/38750 [==============================] - 1s - loss: 0.3948 - acc: 0.8615 - val_loss: 0.7469 - val_acc: 0.7476\n",
      "11250/11250 [==============================] - 0s     \n",
      "10000/11250 [=========================>....] - ETA: 0s"
     ]
    }
   ],
   "source": [
    "# extract high-certainty labelled-unlabeled data and add to labelled dataset\n",
    "\n",
    "for extract_round in range(nb_extract_rounds):\n",
    "    print('extract_round:', extract_round+1)\n",
    "    # reset model\n",
    "    model = reset_model()\n",
    "    \n",
    "    # train model\n",
    "    model.fit(X_train_label, Y_train_label,\n",
    "        batch_size=batch_size,\n",
    "        nb_epoch=nb_epoch,  # nb_epoch,\n",
    "        validation_data=(X_train_ori_label, Y_train_ori_label),\n",
    "        shuffle=True)\n",
    "\n",
    "    # use the model to label unlabeled data\n",
    "    Y_train_unlabel_proba = model.predict_proba(X_train_unlabel, batch_size=10000)  # same as model.predict\n",
    "    Y_train_unlabel_uncertainty = np.apply_along_axis(uncertainty, 1, Y_train_unlabel_proba)\n",
    "    \n",
    "    Y_train_unlabel_class = model.predict_classes(X_train_unlabel, batch_size=10000)\n",
    "    Y_train_unlabel = np_utils.to_categorical(Y_train_unlabel_class, nb_classes)\n",
    "\n",
    "    # sort unlabeled data by uncertainty\n",
    "    sorted_idxs = Y_train_unlabel_uncertainty.argsort()\n",
    "    X_train_unlabel = X_train_unlabel[sorted_idxs]\n",
    "    Y_train_unlabel = Y_train_unlabel[sorted_idxs]\n",
    "    \n",
    "    # extract high-certainty unlabeled data\n",
    "    nb_extract = int(X_train_unlabel.shape[0] * extract_ratio)\n",
    "    X_train_unlabel_certain, X_train_unlabel_uncertain = X_train_unlabel[:nb_extract], X_train_unlabel[nb_extract:]\n",
    "    Y_train_unlabel_certain, Y_train_unlabel_uncertain = Y_train_unlabel[:nb_extract], Y_train_unlabel[nb_extract:]\n",
    "\n",
    "    # update labelled dataset and unlabeled dataset\n",
    "    X_train_label = np.concatenate((X_train_label, X_train_unlabel_certain))\n",
    "    Y_train_label = np.concatenate((Y_train_label, Y_train_unlabel_certain))\n",
    "    X_train_unlabel = X_train_unlabel_uncertain\n",
    "    Y_train_unlabel = Y_train_unlabel_uncertain"
   ]
  },
  {
   "cell_type": "code",
   "execution_count": 27,
   "metadata": {
    "collapsed": false
   },
   "outputs": [
    {
     "name": "stdout",
     "output_type": "stream",
     "text": [
      "Train on 44375 samples, validate on 5000 samples\n",
      "Epoch 1/100\n",
      "44375/44375 [==============================] - 2s - loss: 1.6087 - acc: 0.4300 - val_loss: 1.8079 - val_acc: 0.3940\n",
      "Epoch 2/100\n",
      "44375/44375 [==============================] - 2s - loss: 1.1080 - acc: 0.6115 - val_loss: 1.7545 - val_acc: 0.4538\n",
      "Epoch 3/100\n",
      "44375/44375 [==============================] - 2s - loss: 0.9600 - acc: 0.6637 - val_loss: 1.7033 - val_acc: 0.4580\n",
      "Epoch 4/100\n",
      "44375/44375 [==============================] - 2s - loss: 0.8858 - acc: 0.6886 - val_loss: 1.6658 - val_acc: 0.4882\n",
      "Epoch 5/100\n",
      "44375/44375 [==============================] - 2s - loss: 0.8290 - acc: 0.7092 - val_loss: 1.6279 - val_acc: 0.4972\n",
      "Epoch 6/100\n",
      "44375/44375 [==============================] - 2s - loss: 0.7920 - acc: 0.7230 - val_loss: 1.6810 - val_acc: 0.5020\n",
      "Epoch 7/100\n",
      "44375/44375 [==============================] - 2s - loss: 0.7620 - acc: 0.7335 - val_loss: 1.5462 - val_acc: 0.5180\n",
      "Epoch 8/100\n",
      "44375/44375 [==============================] - 2s - loss: 0.7381 - acc: 0.7426 - val_loss: 1.5307 - val_acc: 0.5286\n",
      "Epoch 9/100\n",
      "44375/44375 [==============================] - 2s - loss: 0.7129 - acc: 0.7509 - val_loss: 1.5408 - val_acc: 0.5336\n",
      "Epoch 10/100\n",
      "44375/44375 [==============================] - 2s - loss: 0.6950 - acc: 0.7569 - val_loss: 1.5064 - val_acc: 0.5414\n",
      "Epoch 11/100\n",
      "44375/44375 [==============================] - 2s - loss: 0.6773 - acc: 0.7647 - val_loss: 1.4710 - val_acc: 0.5540\n",
      "Epoch 12/100\n",
      "44375/44375 [==============================] - 2s - loss: 0.6684 - acc: 0.7680 - val_loss: 1.3942 - val_acc: 0.5640\n",
      "Epoch 13/100\n",
      "44375/44375 [==============================] - 2s - loss: 0.6511 - acc: 0.7750 - val_loss: 1.4406 - val_acc: 0.5646\n",
      "Epoch 14/100\n",
      "44375/44375 [==============================] - 2s - loss: 0.6370 - acc: 0.7792 - val_loss: 1.3743 - val_acc: 0.5688\n",
      "Epoch 15/100\n",
      "44375/44375 [==============================] - 2s - loss: 0.6209 - acc: 0.7840 - val_loss: 1.4311 - val_acc: 0.5678\n",
      "Epoch 16/100\n",
      "44375/44375 [==============================] - 3s - loss: 0.6134 - acc: 0.7867 - val_loss: 1.4089 - val_acc: 0.5816\n",
      "Epoch 17/100\n",
      "44375/44375 [==============================] - 2s - loss: 0.5989 - acc: 0.7910 - val_loss: 1.3489 - val_acc: 0.5856\n",
      "Epoch 18/100\n",
      "44375/44375 [==============================] - 2s - loss: 0.5952 - acc: 0.7947 - val_loss: 1.2731 - val_acc: 0.5924\n",
      "Epoch 19/100\n",
      "44375/44375 [==============================] - 2s - loss: 0.5830 - acc: 0.7998 - val_loss: 1.3170 - val_acc: 0.5966\n",
      "Epoch 20/100\n",
      "44375/44375 [==============================] - 2s - loss: 0.5776 - acc: 0.7996 - val_loss: 1.2248 - val_acc: 0.6136\n",
      "Epoch 21/100\n",
      "44375/44375 [==============================] - 2s - loss: 0.5664 - acc: 0.8049 - val_loss: 1.2524 - val_acc: 0.6142\n",
      "Epoch 22/100\n",
      "44375/44375 [==============================] - 2s - loss: 0.5594 - acc: 0.8061 - val_loss: 1.2344 - val_acc: 0.6104\n",
      "Epoch 23/100\n",
      "44375/44375 [==============================] - 2s - loss: 0.5489 - acc: 0.8096 - val_loss: 1.1636 - val_acc: 0.6230\n",
      "Epoch 24/100\n",
      "44375/44375 [==============================] - 2s - loss: 0.5363 - acc: 0.8137 - val_loss: 1.1528 - val_acc: 0.6320\n",
      "Epoch 25/100\n",
      "44375/44375 [==============================] - 2s - loss: 0.5319 - acc: 0.8138 - val_loss: 1.1321 - val_acc: 0.6348\n",
      "Epoch 26/100\n",
      "44375/44375 [==============================] - 2s - loss: 0.5257 - acc: 0.8187 - val_loss: 1.1375 - val_acc: 0.6456\n",
      "Epoch 27/100\n",
      "44375/44375 [==============================] - 2s - loss: 0.5242 - acc: 0.8168 - val_loss: 1.0820 - val_acc: 0.6432\n",
      "Epoch 28/100\n",
      "44375/44375 [==============================] - 2s - loss: 0.5121 - acc: 0.8219 - val_loss: 1.0469 - val_acc: 0.6518\n",
      "Epoch 29/100\n",
      "44375/44375 [==============================] - 2s - loss: 0.5086 - acc: 0.8232 - val_loss: 1.0894 - val_acc: 0.6452\n",
      "Epoch 30/100\n",
      "44375/44375 [==============================] - 2s - loss: 0.4969 - acc: 0.8268 - val_loss: 1.1367 - val_acc: 0.6512\n",
      "Epoch 31/100\n",
      "44375/44375 [==============================] - 2s - loss: 0.4967 - acc: 0.8267 - val_loss: 1.0697 - val_acc: 0.6568\n",
      "Epoch 32/100\n",
      "44375/44375 [==============================] - 2s - loss: 0.4933 - acc: 0.8278 - val_loss: 1.0474 - val_acc: 0.6692\n",
      "Epoch 33/100\n",
      "44375/44375 [==============================] - 2s - loss: 0.4824 - acc: 0.8312 - val_loss: 1.0881 - val_acc: 0.6534\n",
      "Epoch 34/100\n",
      "44375/44375 [==============================] - 2s - loss: 0.4825 - acc: 0.8302 - val_loss: 1.0103 - val_acc: 0.6696\n",
      "Epoch 35/100\n",
      "44375/44375 [==============================] - 2s - loss: 0.4716 - acc: 0.8349 - val_loss: 0.9792 - val_acc: 0.6856\n",
      "Epoch 36/100\n",
      "44375/44375 [==============================] - 2s - loss: 0.4669 - acc: 0.8384 - val_loss: 0.9766 - val_acc: 0.6728\n",
      "Epoch 37/100\n",
      "44375/44375 [==============================] - 2s - loss: 0.4642 - acc: 0.8391 - val_loss: 0.9280 - val_acc: 0.6902\n",
      "Epoch 38/100\n",
      "44375/44375 [==============================] - 2s - loss: 0.4601 - acc: 0.8398 - val_loss: 0.9470 - val_acc: 0.6964\n",
      "Epoch 39/100\n",
      "44375/44375 [==============================] - 2s - loss: 0.4522 - acc: 0.8406 - val_loss: 0.9207 - val_acc: 0.6982\n",
      "Epoch 40/100\n",
      "44375/44375 [==============================] - 2s - loss: 0.4541 - acc: 0.8406 - val_loss: 0.8991 - val_acc: 0.7046\n",
      "Epoch 41/100\n",
      "44375/44375 [==============================] - 2s - loss: 0.4375 - acc: 0.8487 - val_loss: 0.9096 - val_acc: 0.6996\n",
      "Epoch 42/100\n",
      "44375/44375 [==============================] - 1s - loss: 0.4384 - acc: 0.8463 - val_loss: 0.8900 - val_acc: 0.7036\n",
      "Epoch 43/100\n",
      "44375/44375 [==============================] - 2s - loss: 0.4321 - acc: 0.8484 - val_loss: 0.9044 - val_acc: 0.7034\n",
      "Epoch 44/100\n",
      "44375/44375 [==============================] - 2s - loss: 0.4365 - acc: 0.8443 - val_loss: 0.9002 - val_acc: 0.7072\n",
      "Epoch 45/100\n",
      "44375/44375 [==============================] - 2s - loss: 0.4294 - acc: 0.8509 - val_loss: 0.8728 - val_acc: 0.7094\n",
      "Epoch 46/100\n",
      "44375/44375 [==============================] - 2s - loss: 0.4232 - acc: 0.8511 - val_loss: 0.8403 - val_acc: 0.7260\n",
      "Epoch 47/100\n",
      "44375/44375 [==============================] - 2s - loss: 0.4182 - acc: 0.8553 - val_loss: 0.8119 - val_acc: 0.7296\n",
      "Epoch 48/100\n",
      "44375/44375 [==============================] - 2s - loss: 0.4199 - acc: 0.8538 - val_loss: 0.7902 - val_acc: 0.7356\n",
      "Epoch 49/100\n",
      "44375/44375 [==============================] - 2s - loss: 0.4124 - acc: 0.8546 - val_loss: 0.8037 - val_acc: 0.7296\n",
      "Epoch 50/100\n",
      "44375/44375 [==============================] - 2s - loss: 0.4125 - acc: 0.8556 - val_loss: 0.8150 - val_acc: 0.7306\n",
      "Epoch 51/100\n",
      "44375/44375 [==============================] - 2s - loss: 0.4083 - acc: 0.8557 - val_loss: 0.7757 - val_acc: 0.7398\n",
      "Epoch 52/100\n",
      "44375/44375 [==============================] - 2s - loss: 0.4065 - acc: 0.8566 - val_loss: 0.7148 - val_acc: 0.7626\n",
      "Epoch 53/100\n",
      "44375/44375 [==============================] - 2s - loss: 0.3956 - acc: 0.8622 - val_loss: 0.7403 - val_acc: 0.7558\n",
      "Epoch 54/100\n",
      "44375/44375 [==============================] - 2s - loss: 0.3965 - acc: 0.8583 - val_loss: 0.7348 - val_acc: 0.7522\n",
      "Epoch 55/100\n",
      "44375/44375 [==============================] - 2s - loss: 0.3915 - acc: 0.8600 - val_loss: 0.7782 - val_acc: 0.7476\n",
      "Epoch 56/100\n",
      "44375/44375 [==============================] - 2s - loss: 0.3866 - acc: 0.8627 - val_loss: 0.6852 - val_acc: 0.7642\n",
      "Epoch 57/100\n",
      "44375/44375 [==============================] - 2s - loss: 0.3916 - acc: 0.8618 - val_loss: 0.7271 - val_acc: 0.7548\n",
      "Epoch 58/100\n",
      "44375/44375 [==============================] - 2s - loss: 0.3842 - acc: 0.8636 - val_loss: 0.6931 - val_acc: 0.7706\n",
      "Epoch 59/100\n",
      "44375/44375 [==============================] - 2s - loss: 0.3764 - acc: 0.8673 - val_loss: 0.6724 - val_acc: 0.7674\n",
      "Epoch 60/100\n",
      "44375/44375 [==============================] - 2s - loss: 0.3776 - acc: 0.8644 - val_loss: 0.6709 - val_acc: 0.7670\n",
      "Epoch 61/100\n",
      "44375/44375 [==============================] - 2s - loss: 0.3706 - acc: 0.8692 - val_loss: 0.6828 - val_acc: 0.7724\n",
      "Epoch 62/100\n",
      "44375/44375 [==============================] - 2s - loss: 0.3726 - acc: 0.8673 - val_loss: 0.6561 - val_acc: 0.7724\n",
      "Epoch 63/100\n",
      "44375/44375 [==============================] - 2s - loss: 0.3738 - acc: 0.8668 - val_loss: 0.6389 - val_acc: 0.7708\n",
      "Epoch 64/100\n",
      "44375/44375 [==============================] - 2s - loss: 0.3642 - acc: 0.8707 - val_loss: 0.6095 - val_acc: 0.7918\n",
      "Epoch 65/100\n",
      "44375/44375 [==============================] - 2s - loss: 0.3637 - acc: 0.8710 - val_loss: 0.6308 - val_acc: 0.7842\n",
      "Epoch 66/100\n",
      "44375/44375 [==============================] - 2s - loss: 0.3704 - acc: 0.8692 - val_loss: 0.6198 - val_acc: 0.7886\n",
      "Epoch 67/100\n",
      "44375/44375 [==============================] - 2s - loss: 0.3630 - acc: 0.8697 - val_loss: 0.6575 - val_acc: 0.7710\n",
      "Epoch 68/100\n",
      "44375/44375 [==============================] - 2s - loss: 0.3589 - acc: 0.8708 - val_loss: 0.5991 - val_acc: 0.7928\n",
      "Epoch 69/100\n",
      "44375/44375 [==============================] - 2s - loss: 0.3602 - acc: 0.8722 - val_loss: 0.5479 - val_acc: 0.8086\n",
      "Epoch 70/100\n",
      "44375/44375 [==============================] - 2s - loss: 0.3474 - acc: 0.8765 - val_loss: 0.5641 - val_acc: 0.8076\n",
      "Epoch 71/100\n",
      "44375/44375 [==============================] - 2s - loss: 0.3488 - acc: 0.8758 - val_loss: 0.5477 - val_acc: 0.8100\n",
      "Epoch 72/100\n",
      "39616/44375 [=========================>....] - ETA: 0s - loss: 0.3503 - acc: 0.8746"
     ]
    },
    {
     "ename": "KeyboardInterrupt",
     "evalue": "",
     "output_type": "error",
     "traceback": [
      "\u001b[0;31m---------------------------------------------------------------------------\u001b[0m",
      "\u001b[0;31mKeyboardInterrupt\u001b[0m                         Traceback (most recent call last)",
      "\u001b[0;32m<ipython-input-27-e6082313d813>\u001b[0m in \u001b[0;36m<module>\u001b[0;34m()\u001b[0m\n\u001b[1;32m      5\u001b[0m     \u001b[0mnb_epoch\u001b[0m\u001b[0;34m=\u001b[0m\u001b[0;36m100\u001b[0m\u001b[0;34m,\u001b[0m  \u001b[0;31m# nb_epoch,\u001b[0m\u001b[0;34m\u001b[0m\u001b[0m\n\u001b[1;32m      6\u001b[0m     \u001b[0mvalidation_data\u001b[0m\u001b[0;34m=\u001b[0m\u001b[0;34m(\u001b[0m\u001b[0mX_train_ori_label\u001b[0m\u001b[0;34m,\u001b[0m \u001b[0mY_train_ori_label\u001b[0m\u001b[0;34m)\u001b[0m\u001b[0;34m,\u001b[0m\u001b[0;34m\u001b[0m\u001b[0m\n\u001b[0;32m----> 7\u001b[0;31m     shuffle=True)\n\u001b[0m",
      "\u001b[0;32m/home/roger/anaconda3/lib/python3.5/site-packages/keras/models.py\u001b[0m in \u001b[0;36mfit\u001b[0;34m(self, x, y, batch_size, nb_epoch, verbose, callbacks, validation_split, validation_data, shuffle, class_weight, sample_weight, **kwargs)\u001b[0m\n\u001b[1;32m    625\u001b[0m                               \u001b[0mshuffle\u001b[0m\u001b[0;34m=\u001b[0m\u001b[0mshuffle\u001b[0m\u001b[0;34m,\u001b[0m\u001b[0;34m\u001b[0m\u001b[0m\n\u001b[1;32m    626\u001b[0m                               \u001b[0mclass_weight\u001b[0m\u001b[0;34m=\u001b[0m\u001b[0mclass_weight\u001b[0m\u001b[0;34m,\u001b[0m\u001b[0;34m\u001b[0m\u001b[0m\n\u001b[0;32m--> 627\u001b[0;31m                               sample_weight=sample_weight)\n\u001b[0m\u001b[1;32m    628\u001b[0m \u001b[0;34m\u001b[0m\u001b[0m\n\u001b[1;32m    629\u001b[0m     def evaluate(self, x, y, batch_size=32, verbose=1,\n",
      "\u001b[0;32m/home/roger/anaconda3/lib/python3.5/site-packages/keras/engine/training.py\u001b[0m in \u001b[0;36mfit\u001b[0;34m(self, x, y, batch_size, nb_epoch, verbose, callbacks, validation_split, validation_data, shuffle, class_weight, sample_weight)\u001b[0m\n\u001b[1;32m   1122\u001b[0m                               \u001b[0mverbose\u001b[0m\u001b[0;34m=\u001b[0m\u001b[0mverbose\u001b[0m\u001b[0;34m,\u001b[0m \u001b[0mcallbacks\u001b[0m\u001b[0;34m=\u001b[0m\u001b[0mcallbacks\u001b[0m\u001b[0;34m,\u001b[0m\u001b[0;34m\u001b[0m\u001b[0m\n\u001b[1;32m   1123\u001b[0m                               \u001b[0mval_f\u001b[0m\u001b[0;34m=\u001b[0m\u001b[0mval_f\u001b[0m\u001b[0;34m,\u001b[0m \u001b[0mval_ins\u001b[0m\u001b[0;34m=\u001b[0m\u001b[0mval_ins\u001b[0m\u001b[0;34m,\u001b[0m \u001b[0mshuffle\u001b[0m\u001b[0;34m=\u001b[0m\u001b[0mshuffle\u001b[0m\u001b[0;34m,\u001b[0m\u001b[0;34m\u001b[0m\u001b[0m\n\u001b[0;32m-> 1124\u001b[0;31m                               callback_metrics=callback_metrics)\n\u001b[0m\u001b[1;32m   1125\u001b[0m \u001b[0;34m\u001b[0m\u001b[0m\n\u001b[1;32m   1126\u001b[0m     \u001b[0;32mdef\u001b[0m \u001b[0mevaluate\u001b[0m\u001b[0;34m(\u001b[0m\u001b[0mself\u001b[0m\u001b[0;34m,\u001b[0m \u001b[0mx\u001b[0m\u001b[0;34m,\u001b[0m \u001b[0my\u001b[0m\u001b[0;34m,\u001b[0m \u001b[0mbatch_size\u001b[0m\u001b[0;34m=\u001b[0m\u001b[0;36m32\u001b[0m\u001b[0;34m,\u001b[0m \u001b[0mverbose\u001b[0m\u001b[0;34m=\u001b[0m\u001b[0;36m1\u001b[0m\u001b[0;34m,\u001b[0m \u001b[0msample_weight\u001b[0m\u001b[0;34m=\u001b[0m\u001b[0;32mNone\u001b[0m\u001b[0;34m)\u001b[0m\u001b[0;34m:\u001b[0m\u001b[0;34m\u001b[0m\u001b[0m\n",
      "\u001b[0;32m/home/roger/anaconda3/lib/python3.5/site-packages/keras/engine/training.py\u001b[0m in \u001b[0;36m_fit_loop\u001b[0;34m(self, f, ins, out_labels, batch_size, nb_epoch, verbose, callbacks, val_f, val_ins, shuffle, callback_metrics)\u001b[0m\n\u001b[1;32m    840\u001b[0m                 \u001b[0mbatch_logs\u001b[0m\u001b[0;34m[\u001b[0m\u001b[0;34m'size'\u001b[0m\u001b[0;34m]\u001b[0m \u001b[0;34m=\u001b[0m \u001b[0mlen\u001b[0m\u001b[0;34m(\u001b[0m\u001b[0mbatch_ids\u001b[0m\u001b[0;34m)\u001b[0m\u001b[0;34m\u001b[0m\u001b[0m\n\u001b[1;32m    841\u001b[0m                 \u001b[0mcallbacks\u001b[0m\u001b[0;34m.\u001b[0m\u001b[0mon_batch_begin\u001b[0m\u001b[0;34m(\u001b[0m\u001b[0mbatch_index\u001b[0m\u001b[0;34m,\u001b[0m \u001b[0mbatch_logs\u001b[0m\u001b[0;34m)\u001b[0m\u001b[0;34m\u001b[0m\u001b[0m\n\u001b[0;32m--> 842\u001b[0;31m                 \u001b[0mouts\u001b[0m \u001b[0;34m=\u001b[0m \u001b[0mf\u001b[0m\u001b[0;34m(\u001b[0m\u001b[0mins_batch\u001b[0m\u001b[0;34m)\u001b[0m\u001b[0;34m\u001b[0m\u001b[0m\n\u001b[0m\u001b[1;32m    843\u001b[0m                 \u001b[0;32mif\u001b[0m \u001b[0mtype\u001b[0m\u001b[0;34m(\u001b[0m\u001b[0mouts\u001b[0m\u001b[0;34m)\u001b[0m \u001b[0;34m!=\u001b[0m \u001b[0mlist\u001b[0m\u001b[0;34m:\u001b[0m\u001b[0;34m\u001b[0m\u001b[0m\n\u001b[1;32m    844\u001b[0m                     \u001b[0mouts\u001b[0m \u001b[0;34m=\u001b[0m \u001b[0;34m[\u001b[0m\u001b[0mouts\u001b[0m\u001b[0;34m]\u001b[0m\u001b[0;34m\u001b[0m\u001b[0m\n",
      "\u001b[0;32m/home/roger/anaconda3/lib/python3.5/site-packages/keras/backend/tensorflow_backend.py\u001b[0m in \u001b[0;36m__call__\u001b[0;34m(self, inputs)\u001b[0m\n\u001b[1;32m   1038\u001b[0m             \u001b[0mfeed_dict\u001b[0m\u001b[0;34m[\u001b[0m\u001b[0mtensor\u001b[0m\u001b[0;34m]\u001b[0m \u001b[0;34m=\u001b[0m \u001b[0mvalue\u001b[0m\u001b[0;34m\u001b[0m\u001b[0m\n\u001b[1;32m   1039\u001b[0m         \u001b[0msession\u001b[0m \u001b[0;34m=\u001b[0m \u001b[0mget_session\u001b[0m\u001b[0;34m(\u001b[0m\u001b[0;34m)\u001b[0m\u001b[0;34m\u001b[0m\u001b[0m\n\u001b[0;32m-> 1040\u001b[0;31m         \u001b[0mupdated\u001b[0m \u001b[0;34m=\u001b[0m \u001b[0msession\u001b[0m\u001b[0;34m.\u001b[0m\u001b[0mrun\u001b[0m\u001b[0;34m(\u001b[0m\u001b[0mself\u001b[0m\u001b[0;34m.\u001b[0m\u001b[0moutputs\u001b[0m \u001b[0;34m+\u001b[0m \u001b[0;34m[\u001b[0m\u001b[0mself\u001b[0m\u001b[0;34m.\u001b[0m\u001b[0mupdates_op\u001b[0m\u001b[0;34m]\u001b[0m\u001b[0;34m,\u001b[0m \u001b[0mfeed_dict\u001b[0m\u001b[0;34m=\u001b[0m\u001b[0mfeed_dict\u001b[0m\u001b[0;34m)\u001b[0m\u001b[0;34m\u001b[0m\u001b[0m\n\u001b[0m\u001b[1;32m   1041\u001b[0m         \u001b[0;32mreturn\u001b[0m \u001b[0mupdated\u001b[0m\u001b[0;34m[\u001b[0m\u001b[0;34m:\u001b[0m\u001b[0mlen\u001b[0m\u001b[0;34m(\u001b[0m\u001b[0mself\u001b[0m\u001b[0;34m.\u001b[0m\u001b[0moutputs\u001b[0m\u001b[0;34m)\u001b[0m\u001b[0;34m]\u001b[0m\u001b[0;34m\u001b[0m\u001b[0m\n\u001b[1;32m   1042\u001b[0m \u001b[0;34m\u001b[0m\u001b[0m\n",
      "\u001b[0;32m/home/roger/anaconda3/lib/python3.5/site-packages/tensorflow/python/client/session.py\u001b[0m in \u001b[0;36mrun\u001b[0;34m(self, fetches, feed_dict, options, run_metadata)\u001b[0m\n\u001b[1;32m    715\u001b[0m     \u001b[0;32mtry\u001b[0m\u001b[0;34m:\u001b[0m\u001b[0;34m\u001b[0m\u001b[0m\n\u001b[1;32m    716\u001b[0m       result = self._run(None, fetches, feed_dict, options_ptr,\n\u001b[0;32m--> 717\u001b[0;31m                          run_metadata_ptr)\n\u001b[0m\u001b[1;32m    718\u001b[0m       \u001b[0;32mif\u001b[0m \u001b[0mrun_metadata\u001b[0m\u001b[0;34m:\u001b[0m\u001b[0;34m\u001b[0m\u001b[0m\n\u001b[1;32m    719\u001b[0m         \u001b[0mproto_data\u001b[0m \u001b[0;34m=\u001b[0m \u001b[0mtf_session\u001b[0m\u001b[0;34m.\u001b[0m\u001b[0mTF_GetBuffer\u001b[0m\u001b[0;34m(\u001b[0m\u001b[0mrun_metadata_ptr\u001b[0m\u001b[0;34m)\u001b[0m\u001b[0;34m\u001b[0m\u001b[0m\n",
      "\u001b[0;32m/home/roger/anaconda3/lib/python3.5/site-packages/tensorflow/python/client/session.py\u001b[0m in \u001b[0;36m_run\u001b[0;34m(self, handle, fetches, feed_dict, options, run_metadata)\u001b[0m\n\u001b[1;32m    913\u001b[0m     \u001b[0;32mif\u001b[0m \u001b[0mfinal_fetches\u001b[0m \u001b[0;32mor\u001b[0m \u001b[0mfinal_targets\u001b[0m\u001b[0;34m:\u001b[0m\u001b[0;34m\u001b[0m\u001b[0m\n\u001b[1;32m    914\u001b[0m       results = self._do_run(handle, final_targets, final_fetches,\n\u001b[0;32m--> 915\u001b[0;31m                              feed_dict_string, options, run_metadata)\n\u001b[0m\u001b[1;32m    916\u001b[0m     \u001b[0;32melse\u001b[0m\u001b[0;34m:\u001b[0m\u001b[0;34m\u001b[0m\u001b[0m\n\u001b[1;32m    917\u001b[0m       \u001b[0mresults\u001b[0m \u001b[0;34m=\u001b[0m \u001b[0;34m[\u001b[0m\u001b[0;34m]\u001b[0m\u001b[0;34m\u001b[0m\u001b[0m\n",
      "\u001b[0;32m/home/roger/anaconda3/lib/python3.5/site-packages/tensorflow/python/client/session.py\u001b[0m in \u001b[0;36m_do_run\u001b[0;34m(self, handle, target_list, fetch_list, feed_dict, options, run_metadata)\u001b[0m\n\u001b[1;32m    963\u001b[0m     \u001b[0;32mif\u001b[0m \u001b[0mhandle\u001b[0m \u001b[0;32mis\u001b[0m \u001b[0;32mNone\u001b[0m\u001b[0;34m:\u001b[0m\u001b[0;34m\u001b[0m\u001b[0m\n\u001b[1;32m    964\u001b[0m       return self._do_call(_run_fn, self._session, feed_dict, fetch_list,\n\u001b[0;32m--> 965\u001b[0;31m                            target_list, options, run_metadata)\n\u001b[0m\u001b[1;32m    966\u001b[0m     \u001b[0;32melse\u001b[0m\u001b[0;34m:\u001b[0m\u001b[0;34m\u001b[0m\u001b[0m\n\u001b[1;32m    967\u001b[0m       return self._do_call(_prun_fn, self._session, handle, feed_dict,\n",
      "\u001b[0;32m/home/roger/anaconda3/lib/python3.5/site-packages/tensorflow/python/client/session.py\u001b[0m in \u001b[0;36m_do_call\u001b[0;34m(self, fn, *args)\u001b[0m\n\u001b[1;32m    970\u001b[0m   \u001b[0;32mdef\u001b[0m \u001b[0m_do_call\u001b[0m\u001b[0;34m(\u001b[0m\u001b[0mself\u001b[0m\u001b[0;34m,\u001b[0m \u001b[0mfn\u001b[0m\u001b[0;34m,\u001b[0m \u001b[0;34m*\u001b[0m\u001b[0margs\u001b[0m\u001b[0;34m)\u001b[0m\u001b[0;34m:\u001b[0m\u001b[0;34m\u001b[0m\u001b[0m\n\u001b[1;32m    971\u001b[0m     \u001b[0;32mtry\u001b[0m\u001b[0;34m:\u001b[0m\u001b[0;34m\u001b[0m\u001b[0m\n\u001b[0;32m--> 972\u001b[0;31m       \u001b[0;32mreturn\u001b[0m \u001b[0mfn\u001b[0m\u001b[0;34m(\u001b[0m\u001b[0;34m*\u001b[0m\u001b[0margs\u001b[0m\u001b[0;34m)\u001b[0m\u001b[0;34m\u001b[0m\u001b[0m\n\u001b[0m\u001b[1;32m    973\u001b[0m     \u001b[0;32mexcept\u001b[0m \u001b[0merrors\u001b[0m\u001b[0;34m.\u001b[0m\u001b[0mOpError\u001b[0m \u001b[0;32mas\u001b[0m \u001b[0me\u001b[0m\u001b[0;34m:\u001b[0m\u001b[0;34m\u001b[0m\u001b[0m\n\u001b[1;32m    974\u001b[0m       \u001b[0mmessage\u001b[0m \u001b[0;34m=\u001b[0m \u001b[0mcompat\u001b[0m\u001b[0;34m.\u001b[0m\u001b[0mas_text\u001b[0m\u001b[0;34m(\u001b[0m\u001b[0me\u001b[0m\u001b[0;34m.\u001b[0m\u001b[0mmessage\u001b[0m\u001b[0;34m)\u001b[0m\u001b[0;34m\u001b[0m\u001b[0m\n",
      "\u001b[0;32m/home/roger/anaconda3/lib/python3.5/site-packages/tensorflow/python/client/session.py\u001b[0m in \u001b[0;36m_run_fn\u001b[0;34m(session, feed_dict, fetch_list, target_list, options, run_metadata)\u001b[0m\n\u001b[1;32m    952\u001b[0m         return tf_session.TF_Run(session, options,\n\u001b[1;32m    953\u001b[0m                                  \u001b[0mfeed_dict\u001b[0m\u001b[0;34m,\u001b[0m \u001b[0mfetch_list\u001b[0m\u001b[0;34m,\u001b[0m \u001b[0mtarget_list\u001b[0m\u001b[0;34m,\u001b[0m\u001b[0;34m\u001b[0m\u001b[0m\n\u001b[0;32m--> 954\u001b[0;31m                                  status, run_metadata)\n\u001b[0m\u001b[1;32m    955\u001b[0m \u001b[0;34m\u001b[0m\u001b[0m\n\u001b[1;32m    956\u001b[0m     \u001b[0;32mdef\u001b[0m \u001b[0m_prun_fn\u001b[0m\u001b[0;34m(\u001b[0m\u001b[0msession\u001b[0m\u001b[0;34m,\u001b[0m \u001b[0mhandle\u001b[0m\u001b[0;34m,\u001b[0m \u001b[0mfeed_dict\u001b[0m\u001b[0;34m,\u001b[0m \u001b[0mfetch_list\u001b[0m\u001b[0;34m)\u001b[0m\u001b[0;34m:\u001b[0m\u001b[0;34m\u001b[0m\u001b[0m\n",
      "\u001b[0;31mKeyboardInterrupt\u001b[0m: "
     ]
    }
   ],
   "source": [
    "model = reset_model()\n",
    "    \n",
    "model.fit(X_train_label, Y_train_label,\n",
    "    batch_size=batch_size,\n",
    "    nb_epoch=100,  # nb_epoch,\n",
    "    validation_data=(X_train_ori_label, Y_train_ori_label),\n",
    "    shuffle=True)"
   ]
  },
  {
   "cell_type": "code",
   "execution_count": 28,
   "metadata": {
    "collapsed": false,
    "scrolled": true
   },
   "outputs": [
    {
     "name": "stdout",
     "output_type": "stream",
     "text": [
      "5000/5000 [==============================] - 0s\n"
     ]
    },
    {
     "data": {
      "text/plain": [
       "0.80359999999999998"
      ]
     },
     "execution_count": 28,
     "metadata": {},
     "output_type": "execute_result"
    }
   ],
   "source": [
    "Y_train_label_class_predict = model.predict_classes(X_train_ori_label, batch_size=5000)\n",
    "val_acc = np.sum(Y_train_label_class_predict == y_train_label_class) / float(len(y_train_label_class))\n",
    "val_acc"
   ]
  },
  {
   "cell_type": "code",
   "execution_count": 29,
   "metadata": {
    "collapsed": true
   },
   "outputs": [],
   "source": [
    "model_name = (METHOD\n",
    "    + '_filters-64x3x3-64x3x3-512'\n",
    "    + '_epo-100x5' # + str(nb_epoch)\n",
    "    + '_val-acc-' + str(val_acc)[:6]\n",
    ")\n",
    "model.save(MODEL_FOLDER + model_name)"
   ]
  },
  {
   "cell_type": "markdown",
   "metadata": {
    "collapsed": true
   },
   "source": [
    "# Test"
   ]
  },
  {
   "cell_type": "markdown",
   "metadata": {},
   "source": [
    "### Loading test data "
   ]
  },
  {
   "cell_type": "code",
   "execution_count": 30,
   "metadata": {
    "collapsed": false,
    "scrolled": true
   },
   "outputs": [],
   "source": [
    "test_data = pickle.load(open(TEST_DATA_FILE, 'rb'))  # dict\n",
    "X_test = np.array(test_data['data']).reshape((10000, 3, 32, 32)).astype('float32')\n",
    "X_test /= 255"
   ]
  },
  {
   "cell_type": "markdown",
   "metadata": {},
   "source": [
    "### Predict"
   ]
  },
  {
   "cell_type": "code",
   "execution_count": 31,
   "metadata": {
    "collapsed": false
   },
   "outputs": [
    {
     "ename": "Exception",
     "evalue": "Error when checking : expected convolution2d_input_4 to have shape (None, 1, 32, 32) but got array with shape (10000, 3, 32, 32)",
     "output_type": "error",
     "traceback": [
      "\u001b[0;31m---------------------------------------------------------------------------\u001b[0m",
      "\u001b[0;31mException\u001b[0m                                 Traceback (most recent call last)",
      "\u001b[0;32m<ipython-input-31-b2d3ca1b8844>\u001b[0m in \u001b[0;36m<module>\u001b[0;34m()\u001b[0m\n\u001b[0;32m----> 1\u001b[0;31m \u001b[0mresult\u001b[0m \u001b[0;34m=\u001b[0m \u001b[0mmodel\u001b[0m\u001b[0;34m.\u001b[0m\u001b[0mpredict_classes\u001b[0m\u001b[0;34m(\u001b[0m\u001b[0mX_test\u001b[0m\u001b[0;34m,\u001b[0m \u001b[0mbatch_size\u001b[0m\u001b[0;34m=\u001b[0m\u001b[0;36m10000\u001b[0m\u001b[0;34m)\u001b[0m\u001b[0;34m\u001b[0m\u001b[0m\n\u001b[0m\u001b[1;32m      2\u001b[0m \u001b[0mcsv_content\u001b[0m \u001b[0;34m=\u001b[0m \u001b[0mlist\u001b[0m\u001b[0;34m(\u001b[0m\u001b[0mzip\u001b[0m\u001b[0;34m(\u001b[0m\u001b[0mtest_data\u001b[0m\u001b[0;34m[\u001b[0m\u001b[0;34m'ID'\u001b[0m\u001b[0;34m]\u001b[0m\u001b[0;34m,\u001b[0m \u001b[0mresult\u001b[0m\u001b[0;34m.\u001b[0m\u001b[0mtolist\u001b[0m\u001b[0;34m(\u001b[0m\u001b[0;34m)\u001b[0m\u001b[0;34m)\u001b[0m\u001b[0;34m)\u001b[0m\u001b[0;34m\u001b[0m\u001b[0m\n\u001b[1;32m      3\u001b[0m \u001b[0mnp\u001b[0m\u001b[0;34m.\u001b[0m\u001b[0msavetxt\u001b[0m\u001b[0;34m(\u001b[0m\u001b[0mOUTPUT_FOLDER\u001b[0m \u001b[0;34m+\u001b[0m \u001b[0mmodel_name\u001b[0m \u001b[0;34m+\u001b[0m \u001b[0;34m\".csv\"\u001b[0m\u001b[0;34m,\u001b[0m \u001b[0mcsv_content\u001b[0m\u001b[0;34m,\u001b[0m \u001b[0mfmt\u001b[0m\u001b[0;34m=\u001b[0m\u001b[0;34m\"%i\"\u001b[0m\u001b[0;34m,\u001b[0m \u001b[0mheader\u001b[0m\u001b[0;34m=\u001b[0m\u001b[0;34m\"ID,class\"\u001b[0m\u001b[0;34m,\u001b[0m \u001b[0mcomments\u001b[0m\u001b[0;34m=\u001b[0m\u001b[0;34m\"\"\u001b[0m\u001b[0;34m,\u001b[0m \u001b[0mdelimiter\u001b[0m\u001b[0;34m=\u001b[0m\u001b[0;34m\",\"\u001b[0m\u001b[0;34m)\u001b[0m\u001b[0;34m\u001b[0m\u001b[0m\n",
      "\u001b[0;32m/home/roger/anaconda3/lib/python3.5/site-packages/keras/models.py\u001b[0m in \u001b[0;36mpredict_classes\u001b[0;34m(self, x, batch_size, verbose)\u001b[0m\n\u001b[1;32m    784\u001b[0m             \u001b[0mA\u001b[0m \u001b[0mnumpy\u001b[0m \u001b[0marray\u001b[0m \u001b[0mof\u001b[0m \u001b[0;32mclass\u001b[0m \u001b[0mpredictions\u001b[0m\u001b[0;34m.\u001b[0m\u001b[0;34m\u001b[0m\u001b[0m\n\u001b[1;32m    785\u001b[0m         '''\n\u001b[0;32m--> 786\u001b[0;31m         \u001b[0mproba\u001b[0m \u001b[0;34m=\u001b[0m \u001b[0mself\u001b[0m\u001b[0;34m.\u001b[0m\u001b[0mpredict\u001b[0m\u001b[0;34m(\u001b[0m\u001b[0mx\u001b[0m\u001b[0;34m,\u001b[0m \u001b[0mbatch_size\u001b[0m\u001b[0;34m=\u001b[0m\u001b[0mbatch_size\u001b[0m\u001b[0;34m,\u001b[0m \u001b[0mverbose\u001b[0m\u001b[0;34m=\u001b[0m\u001b[0mverbose\u001b[0m\u001b[0;34m)\u001b[0m\u001b[0;34m\u001b[0m\u001b[0m\n\u001b[0m\u001b[1;32m    787\u001b[0m         \u001b[0;32mif\u001b[0m \u001b[0mproba\u001b[0m\u001b[0;34m.\u001b[0m\u001b[0mshape\u001b[0m\u001b[0;34m[\u001b[0m\u001b[0;34m-\u001b[0m\u001b[0;36m1\u001b[0m\u001b[0;34m]\u001b[0m \u001b[0;34m>\u001b[0m \u001b[0;36m1\u001b[0m\u001b[0;34m:\u001b[0m\u001b[0;34m\u001b[0m\u001b[0m\n\u001b[1;32m    788\u001b[0m             \u001b[0;32mreturn\u001b[0m \u001b[0mproba\u001b[0m\u001b[0;34m.\u001b[0m\u001b[0margmax\u001b[0m\u001b[0;34m(\u001b[0m\u001b[0maxis\u001b[0m\u001b[0;34m=\u001b[0m\u001b[0;34m-\u001b[0m\u001b[0;36m1\u001b[0m\u001b[0;34m)\u001b[0m\u001b[0;34m\u001b[0m\u001b[0m\n",
      "\u001b[0;32m/home/roger/anaconda3/lib/python3.5/site-packages/keras/models.py\u001b[0m in \u001b[0;36mpredict\u001b[0;34m(self, x, batch_size, verbose)\u001b[0m\n\u001b[1;32m    676\u001b[0m         \u001b[0;32mif\u001b[0m \u001b[0mself\u001b[0m\u001b[0;34m.\u001b[0m\u001b[0mmodel\u001b[0m \u001b[0;32mis\u001b[0m \u001b[0;32mNone\u001b[0m\u001b[0;34m:\u001b[0m\u001b[0;34m\u001b[0m\u001b[0m\n\u001b[1;32m    677\u001b[0m             \u001b[0mself\u001b[0m\u001b[0;34m.\u001b[0m\u001b[0mbuild\u001b[0m\u001b[0;34m(\u001b[0m\u001b[0;34m)\u001b[0m\u001b[0;34m\u001b[0m\u001b[0m\n\u001b[0;32m--> 678\u001b[0;31m         \u001b[0;32mreturn\u001b[0m \u001b[0mself\u001b[0m\u001b[0;34m.\u001b[0m\u001b[0mmodel\u001b[0m\u001b[0;34m.\u001b[0m\u001b[0mpredict\u001b[0m\u001b[0;34m(\u001b[0m\u001b[0mx\u001b[0m\u001b[0;34m,\u001b[0m \u001b[0mbatch_size\u001b[0m\u001b[0;34m=\u001b[0m\u001b[0mbatch_size\u001b[0m\u001b[0;34m,\u001b[0m \u001b[0mverbose\u001b[0m\u001b[0;34m=\u001b[0m\u001b[0mverbose\u001b[0m\u001b[0;34m)\u001b[0m\u001b[0;34m\u001b[0m\u001b[0m\n\u001b[0m\u001b[1;32m    679\u001b[0m \u001b[0;34m\u001b[0m\u001b[0m\n\u001b[1;32m    680\u001b[0m     \u001b[0;32mdef\u001b[0m \u001b[0mpredict_on_batch\u001b[0m\u001b[0;34m(\u001b[0m\u001b[0mself\u001b[0m\u001b[0;34m,\u001b[0m \u001b[0mx\u001b[0m\u001b[0;34m)\u001b[0m\u001b[0;34m:\u001b[0m\u001b[0;34m\u001b[0m\u001b[0m\n",
      "\u001b[0;32m/home/roger/anaconda3/lib/python3.5/site-packages/keras/engine/training.py\u001b[0m in \u001b[0;36mpredict\u001b[0;34m(self, x, batch_size, verbose)\u001b[0m\n\u001b[1;32m   1177\u001b[0m         x = standardize_input_data(x, self.input_names,\n\u001b[1;32m   1178\u001b[0m                                    \u001b[0mself\u001b[0m\u001b[0;34m.\u001b[0m\u001b[0minternal_input_shapes\u001b[0m\u001b[0;34m,\u001b[0m\u001b[0;34m\u001b[0m\u001b[0m\n\u001b[0;32m-> 1179\u001b[0;31m                                    check_batch_dim=False)\n\u001b[0m\u001b[1;32m   1180\u001b[0m         \u001b[0;32mif\u001b[0m \u001b[0mself\u001b[0m\u001b[0;34m.\u001b[0m\u001b[0mstateful\u001b[0m\u001b[0;34m:\u001b[0m\u001b[0;34m\u001b[0m\u001b[0m\n\u001b[1;32m   1181\u001b[0m             \u001b[0;32mif\u001b[0m \u001b[0mx\u001b[0m\u001b[0;34m[\u001b[0m\u001b[0;36m0\u001b[0m\u001b[0;34m]\u001b[0m\u001b[0;34m.\u001b[0m\u001b[0mshape\u001b[0m\u001b[0;34m[\u001b[0m\u001b[0;36m0\u001b[0m\u001b[0;34m]\u001b[0m \u001b[0;34m>\u001b[0m \u001b[0mbatch_size\u001b[0m \u001b[0;32mand\u001b[0m \u001b[0mx\u001b[0m\u001b[0;34m[\u001b[0m\u001b[0;36m0\u001b[0m\u001b[0;34m]\u001b[0m\u001b[0;34m.\u001b[0m\u001b[0mshape\u001b[0m\u001b[0;34m[\u001b[0m\u001b[0;36m0\u001b[0m\u001b[0;34m]\u001b[0m \u001b[0;34m%\u001b[0m \u001b[0mbatch_size\u001b[0m \u001b[0;34m!=\u001b[0m \u001b[0;36m0\u001b[0m\u001b[0;34m:\u001b[0m\u001b[0;34m\u001b[0m\u001b[0m\n",
      "\u001b[0;32m/home/roger/anaconda3/lib/python3.5/site-packages/keras/engine/training.py\u001b[0m in \u001b[0;36mstandardize_input_data\u001b[0;34m(data, names, shapes, check_batch_dim, exception_prefix)\u001b[0m\n\u001b[1;32m    109\u001b[0m                                         \u001b[0;34m' to have shape '\u001b[0m \u001b[0;34m+\u001b[0m \u001b[0mstr\u001b[0m\u001b[0;34m(\u001b[0m\u001b[0mshapes\u001b[0m\u001b[0;34m[\u001b[0m\u001b[0mi\u001b[0m\u001b[0;34m]\u001b[0m\u001b[0;34m)\u001b[0m \u001b[0;34m+\u001b[0m\u001b[0;34m\u001b[0m\u001b[0m\n\u001b[1;32m    110\u001b[0m                                         \u001b[0;34m' but got array with shape '\u001b[0m \u001b[0;34m+\u001b[0m\u001b[0;34m\u001b[0m\u001b[0m\n\u001b[0;32m--> 111\u001b[0;31m                                         str(array.shape))\n\u001b[0m\u001b[1;32m    112\u001b[0m     \u001b[0;32mreturn\u001b[0m \u001b[0marrays\u001b[0m\u001b[0;34m\u001b[0m\u001b[0m\n\u001b[1;32m    113\u001b[0m \u001b[0;34m\u001b[0m\u001b[0m\n",
      "\u001b[0;31mException\u001b[0m: Error when checking : expected convolution2d_input_4 to have shape (None, 1, 32, 32) but got array with shape (10000, 3, 32, 32)"
     ]
    }
   ],
   "source": [
    "result = model.predict_classes(X_test, batch_size=10000)\n",
    "csv_content = list(zip(test_data['ID'], result.tolist()))\n",
    "np.savetxt(OUTPUT_FOLDER + model_name + \".csv\", csv_content, fmt=\"%i\", header=\"ID,class\", comments=\"\", delimiter=\",\")"
   ]
  },
  {
   "cell_type": "code",
   "execution_count": null,
   "metadata": {
    "collapsed": false
   },
   "outputs": [],
   "source": []
  },
  {
   "cell_type": "code",
   "execution_count": null,
   "metadata": {
    "collapsed": false
   },
   "outputs": [],
   "source": [
    "from keras.datasets import cifar10\n",
    "\n",
    "(X_train, y_train), (X_test, y_test) = cifar10.load_data()"
   ]
  },
  {
   "cell_type": "code",
   "execution_count": null,
   "metadata": {
    "collapsed": true
   },
   "outputs": [],
   "source": [
    "X_train_reshaped = np.array([[img[:, :, 0], img[:, :, 1], img[:, :, 2]] for img in X_train])\n",
    "X_test_reshaped = np.array([[img[:, :, 0], img[:, :, 1], img[:, :, 2]] for img in X_test])"
   ]
  },
  {
   "cell_type": "code",
   "execution_count": null,
   "metadata": {
    "collapsed": false
   },
   "outputs": [],
   "source": [
    "Y_test_class_predict = model.predict_classes(X_test_reshaped, batch_size=10000)\n",
    "np.sum(Y_test_class_predict == y_test.flatten()) / len(y_test)"
   ]
  },
  {
   "cell_type": "code",
   "execution_count": null,
   "metadata": {
    "collapsed": false
   },
   "outputs": [],
   "source": [
    "Y_train_class_predict = model.predict_classes(X_train_reshaped, batch_size=10000)\n",
    "np.sum(Y_train_class_predict == y_train.flatten()) / len(y_train)"
   ]
  },
  {
   "cell_type": "code",
   "execution_count": null,
   "metadata": {
    "collapsed": false
   },
   "outputs": [],
   "source": [
    "toimage(X_train_reshaped[2])"
   ]
  },
  {
   "cell_type": "code",
   "execution_count": null,
   "metadata": {
    "collapsed": false
   },
   "outputs": [],
   "source": [
    "Y_train_class_predict[:10]"
   ]
  },
  {
   "cell_type": "code",
   "execution_count": null,
   "metadata": {
    "collapsed": false
   },
   "outputs": [],
   "source": [
    "y_train[:10]"
   ]
  },
  {
   "cell_type": "code",
   "execution_count": null,
   "metadata": {
    "collapsed": false
   },
   "outputs": [],
   "source": [
    "toimage(X_train_reshaped[1])"
   ]
  },
  {
   "cell_type": "code",
   "execution_count": null,
   "metadata": {
    "collapsed": true
   },
   "outputs": [],
   "source": []
  }
 ],
 "metadata": {
  "anaconda-cloud": {},
  "kernelspec": {
   "display_name": "Python [conda root]",
   "language": "python",
   "name": "conda-root-py"
  },
  "language_info": {
   "codemirror_mode": {
    "name": "ipython",
    "version": 3
   },
   "file_extension": ".py",
   "mimetype": "text/x-python",
   "name": "python",
   "nbconvert_exporter": "python",
   "pygments_lexer": "ipython3",
   "version": "3.5.2"
  }
 },
 "nbformat": 4,
 "nbformat_minor": 0
}
