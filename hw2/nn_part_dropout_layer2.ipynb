{
 "cells": [
  {
   "cell_type": "code",
   "execution_count": 378,
   "metadata": {
    "collapsed": false
   },
   "outputs": [
    {
     "name": "stdout",
     "output_type": "stream",
     "text": [
      "Populating the interactive namespace from numpy and matplotlib\n"
     ]
    },
    {
     "name": "stderr",
     "output_type": "stream",
     "text": [
      "WARNING: pylab import has clobbered these variables: ['gamma']\n",
      "`%matplotlib` prevents importing * from pylab and numpy\n"
     ]
    }
   ],
   "source": [
    "%pylab inline\n",
    "import numpy as np\n",
    "from scipy import special\n",
    "import pandas as pd\n",
    "import os"
   ]
  },
  {
   "cell_type": "code",
   "execution_count": 379,
   "metadata": {
    "collapsed": true
   },
   "outputs": [],
   "source": [
    "METHOD_NAME = \"nn_part-32_dropout_layer2\"\n",
    "DATA_FOLDER = \"data/\"\n",
    "MODEL_FOLDER = \"models/\" + METHOD_NAME + \"/\"\n",
    "OUTPUT_FOLDER = \"outputs/\"\n",
    "TRAIN_FILE_PATH = DATA_FOLDER + \"spam_train.csv\"\n",
    "TEST_FILE_PATH = DATA_FOLDER + \"spam_test.csv\""
   ]
  },
  {
   "cell_type": "code",
   "execution_count": 380,
   "metadata": {
    "collapsed": true
   },
   "outputs": [],
   "source": [
    "if not os.path.exists(MODEL_FOLDER):\n",
    "    os.makedirs(MODEL_FOLDER)\n",
    "if not os.path.exists(OUTPUT_FOLDER):\n",
    "    os.makedirs(OUTPUT_FOLDER)"
   ]
  },
  {
   "cell_type": "markdown",
   "metadata": {},
   "source": [
    "## Read Training Data"
   ]
  },
  {
   "cell_type": "code",
   "execution_count": 381,
   "metadata": {
    "collapsed": false
   },
   "outputs": [
    {
     "data": {
      "text/html": [
       "<div>\n",
       "<table border=\"1\" class=\"dataframe\">\n",
       "  <thead>\n",
       "    <tr style=\"text-align: right;\">\n",
       "      <th></th>\n",
       "      <th>0</th>\n",
       "      <th>1</th>\n",
       "      <th>2</th>\n",
       "      <th>3</th>\n",
       "      <th>4</th>\n",
       "      <th>5</th>\n",
       "      <th>6</th>\n",
       "      <th>7</th>\n",
       "      <th>8</th>\n",
       "      <th>9</th>\n",
       "      <th>...</th>\n",
       "      <th>49</th>\n",
       "      <th>50</th>\n",
       "      <th>51</th>\n",
       "      <th>52</th>\n",
       "      <th>53</th>\n",
       "      <th>54</th>\n",
       "      <th>55</th>\n",
       "      <th>56</th>\n",
       "      <th>57</th>\n",
       "      <th>58</th>\n",
       "    </tr>\n",
       "  </thead>\n",
       "  <tbody>\n",
       "    <tr>\n",
       "      <th>0</th>\n",
       "      <td>1</td>\n",
       "      <td>0.0</td>\n",
       "      <td>0.00</td>\n",
       "      <td>1.13</td>\n",
       "      <td>0.0</td>\n",
       "      <td>0.37</td>\n",
       "      <td>0.00</td>\n",
       "      <td>0.00</td>\n",
       "      <td>0.0</td>\n",
       "      <td>0.00</td>\n",
       "      <td>...</td>\n",
       "      <td>0.0</td>\n",
       "      <td>0.145</td>\n",
       "      <td>0.000</td>\n",
       "      <td>0.436</td>\n",
       "      <td>0.000</td>\n",
       "      <td>0.0</td>\n",
       "      <td>1.792</td>\n",
       "      <td>55</td>\n",
       "      <td>147</td>\n",
       "      <td>0</td>\n",
       "    </tr>\n",
       "    <tr>\n",
       "      <th>1</th>\n",
       "      <td>2</td>\n",
       "      <td>0.0</td>\n",
       "      <td>0.00</td>\n",
       "      <td>0.60</td>\n",
       "      <td>0.0</td>\n",
       "      <td>0.00</td>\n",
       "      <td>0.60</td>\n",
       "      <td>0.00</td>\n",
       "      <td>0.0</td>\n",
       "      <td>0.60</td>\n",
       "      <td>...</td>\n",
       "      <td>0.0</td>\n",
       "      <td>0.143</td>\n",
       "      <td>0.047</td>\n",
       "      <td>0.191</td>\n",
       "      <td>0.143</td>\n",
       "      <td>0.0</td>\n",
       "      <td>2.041</td>\n",
       "      <td>31</td>\n",
       "      <td>196</td>\n",
       "      <td>1</td>\n",
       "    </tr>\n",
       "    <tr>\n",
       "      <th>2</th>\n",
       "      <td>3</td>\n",
       "      <td>0.0</td>\n",
       "      <td>0.00</td>\n",
       "      <td>0.48</td>\n",
       "      <td>0.0</td>\n",
       "      <td>0.00</td>\n",
       "      <td>0.00</td>\n",
       "      <td>0.00</td>\n",
       "      <td>0.0</td>\n",
       "      <td>0.00</td>\n",
       "      <td>...</td>\n",
       "      <td>0.0</td>\n",
       "      <td>0.000</td>\n",
       "      <td>0.000</td>\n",
       "      <td>0.450</td>\n",
       "      <td>0.000</td>\n",
       "      <td>0.0</td>\n",
       "      <td>1.138</td>\n",
       "      <td>4</td>\n",
       "      <td>41</td>\n",
       "      <td>0</td>\n",
       "    </tr>\n",
       "    <tr>\n",
       "      <th>3</th>\n",
       "      <td>4</td>\n",
       "      <td>0.0</td>\n",
       "      <td>0.51</td>\n",
       "      <td>0.00</td>\n",
       "      <td>0.0</td>\n",
       "      <td>0.51</td>\n",
       "      <td>0.51</td>\n",
       "      <td>1.02</td>\n",
       "      <td>0.0</td>\n",
       "      <td>0.00</td>\n",
       "      <td>...</td>\n",
       "      <td>0.0</td>\n",
       "      <td>0.142</td>\n",
       "      <td>0.000</td>\n",
       "      <td>0.071</td>\n",
       "      <td>1.212</td>\n",
       "      <td>0.0</td>\n",
       "      <td>7.025</td>\n",
       "      <td>130</td>\n",
       "      <td>281</td>\n",
       "      <td>1</td>\n",
       "    </tr>\n",
       "    <tr>\n",
       "      <th>4</th>\n",
       "      <td>5</td>\n",
       "      <td>0.0</td>\n",
       "      <td>0.00</td>\n",
       "      <td>0.00</td>\n",
       "      <td>0.0</td>\n",
       "      <td>0.00</td>\n",
       "      <td>0.00</td>\n",
       "      <td>0.00</td>\n",
       "      <td>0.0</td>\n",
       "      <td>0.64</td>\n",
       "      <td>...</td>\n",
       "      <td>0.0</td>\n",
       "      <td>0.116</td>\n",
       "      <td>0.000</td>\n",
       "      <td>0.232</td>\n",
       "      <td>0.000</td>\n",
       "      <td>0.0</td>\n",
       "      <td>1.551</td>\n",
       "      <td>6</td>\n",
       "      <td>45</td>\n",
       "      <td>0</td>\n",
       "    </tr>\n",
       "  </tbody>\n",
       "</table>\n",
       "<p>5 rows × 59 columns</p>\n",
       "</div>"
      ],
      "text/plain": [
       "   0    1     2     3    4     5     6     7    8     9  ...   49     50  \\\n",
       "0   1  0.0  0.00  1.13  0.0  0.37  0.00  0.00  0.0  0.00 ...  0.0  0.145   \n",
       "1   2  0.0  0.00  0.60  0.0  0.00  0.60  0.00  0.0  0.60 ...  0.0  0.143   \n",
       "2   3  0.0  0.00  0.48  0.0  0.00  0.00  0.00  0.0  0.00 ...  0.0  0.000   \n",
       "3   4  0.0  0.51  0.00  0.0  0.51  0.51  1.02  0.0  0.00 ...  0.0  0.142   \n",
       "4   5  0.0  0.00  0.00  0.0  0.00  0.00  0.00  0.0  0.64 ...  0.0  0.116   \n",
       "\n",
       "      51     52     53   54     55   56   57  58  \n",
       "0  0.000  0.436  0.000  0.0  1.792   55  147   0  \n",
       "1  0.047  0.191  0.143  0.0  2.041   31  196   1  \n",
       "2  0.000  0.450  0.000  0.0  1.138    4   41   0  \n",
       "3  0.000  0.071  1.212  0.0  7.025  130  281   1  \n",
       "4  0.000  0.232  0.000  0.0  1.551    6   45   0  \n",
       "\n",
       "[5 rows x 59 columns]"
      ]
     },
     "execution_count": 381,
     "metadata": {},
     "output_type": "execute_result"
    }
   ],
   "source": [
    "train_data = pd.read_csv(TRAIN_FILE_PATH, header=None)\n",
    "train_data.head()"
   ]
  },
  {
   "cell_type": "code",
   "execution_count": 382,
   "metadata": {
    "collapsed": false
   },
   "outputs": [],
   "source": [
    "x_data_rows = train_data[list(range(1, 58))].as_matrix()\n",
    "y_data_rows = train_data[[58]].as_matrix()"
   ]
  },
  {
   "cell_type": "markdown",
   "metadata": {},
   "source": [
    "## Select Data"
   ]
  },
  {
   "cell_type": "code",
   "execution_count": 383,
   "metadata": {
    "collapsed": true
   },
   "outputs": [],
   "source": [
    "x_select_col_idxs = [26, 40, 31, 24,  3, 41, 54, 55, 45, 52, 28, 22, 53, 34, 43, 47, 6, 44, 15, 25, 16, 19, 38,  8, 56, 32,  4, 35, 27,  5, 48, 14]\n",
    "x_data_rows = x_data_rows[:, x_select_col_idxs]"
   ]
  },
  {
   "cell_type": "markdown",
   "metadata": {},
   "source": [
    "## Preprocess Data"
   ]
  },
  {
   "cell_type": "markdown",
   "metadata": {},
   "source": [
    "## Transform Data"
   ]
  },
  {
   "cell_type": "code",
   "execution_count": 384,
   "metadata": {
    "collapsed": false
   },
   "outputs": [],
   "source": [
    "# Normalize\n",
    "x_train_means = np.mean(x_data_rows, axis=0)\n",
    "x_train_stds =  np.std(x_data_rows, axis=0)\n",
    "x_data_rows = (x_data_rows - x_train_means) / x_train_stds"
   ]
  },
  {
   "cell_type": "code",
   "execution_count": 385,
   "metadata": {
    "collapsed": false
   },
   "outputs": [],
   "source": [
    "# print(np.mean(x_data_rows, axis=0), np.std(x_data_rows, axis=0))"
   ]
  },
  {
   "cell_type": "code",
   "execution_count": 386,
   "metadata": {
    "collapsed": false
   },
   "outputs": [],
   "source": [
    "# add 1 in the last column, so that b in including in w\n",
    "x_data_rows = np.c_[x_data_rows, np.ones(x_data_rows.shape[0]) ]"
   ]
  },
  {
   "cell_type": "code",
   "execution_count": 387,
   "metadata": {
    "collapsed": true
   },
   "outputs": [],
   "source": [
    "# pre-transpose x for matrix multiplication\n",
    "x_data_rows_trans = np.transpose(x_data_rows)"
   ]
  },
  {
   "cell_type": "code",
   "execution_count": 388,
   "metadata": {
    "collapsed": false
   },
   "outputs": [],
   "source": [
    "x_row_num, x_col_num = x_data_rows.shape  # 4001, 58"
   ]
  },
  {
   "cell_type": "markdown",
   "metadata": {},
   "source": [
    "## Train"
   ]
  },
  {
   "cell_type": "code",
   "execution_count": 389,
   "metadata": {
    "collapsed": false
   },
   "outputs": [],
   "source": [
    "# reset parameters\n",
    "w = np.random.randn(x_col_num, 1)  # shape = (x_col_num, 1). not (1, x_col_num) for the convenience of matrix multiplication\n",
    "total_epoch = 0"
   ]
  },
  {
   "cell_type": "code",
   "execution_count": 390,
   "metadata": {
    "collapsed": true
   },
   "outputs": [],
   "source": [
    "layer_1_node_num = 20\n",
    "layer_2_node_num = layer_1_node_num"
   ]
  },
  {
   "cell_type": "code",
   "execution_count": 391,
   "metadata": {
    "collapsed": true
   },
   "outputs": [],
   "source": [
    "w_1 = np.random.randn(x_col_num, layer_1_node_num)  # dot(x, w_1) output a x_row_num * layer_1_node_num matrix\n",
    "w_2 = np.random.randn(layer_1_node_num, layer_2_node_num)\n",
    "w_out = np.random.randn(layer_2_node_num, 1)  # dot(layer_1_output, w_2) output a x_row_num * 1 matrix\n",
    "# v_w_1 = np.random.randn(x_col_num, layer_1_node_num)  # dot(x, w_1) output a x_row_num * layer_1_node_num matrix\n",
    "# v_w_2 = np.random.randn(layer_1_node_num, 1)  # dot(layer_1_output, w_2) output a x_row_num * 1 matrix"
   ]
  },
  {
   "cell_type": "code",
   "execution_count": 392,
   "metadata": {
    "collapsed": true
   },
   "outputs": [],
   "source": [
    "dropout_rate = 0.5"
   ]
  },
  {
   "cell_type": "code",
   "execution_count": 393,
   "metadata": {
    "collapsed": false
   },
   "outputs": [],
   "source": [
    "# momentum\n",
    "gamma = 0.9\n",
    "# vw = np.zeros((x_col_num, 1))"
   ]
  },
  {
   "cell_type": "code",
   "execution_count": 394,
   "metadata": {
    "collapsed": true
   },
   "outputs": [],
   "source": [
    "lr = (0.5) / x_row_num "
   ]
  },
  {
   "cell_type": "code",
   "execution_count": 395,
   "metadata": {
    "collapsed": true
   },
   "outputs": [],
   "source": [
    "def to_bool(x):\n",
    "    return 1 if x > 0.5 else 0\n",
    "\n",
    "to_bool = np.vectorize(to_bool)"
   ]
  },
  {
   "cell_type": "code",
   "execution_count": 396,
   "metadata": {
    "collapsed": true
   },
   "outputs": [],
   "source": [
    "def sigmoid_deriv(x):  # input may be an matrix\n",
    "    return x * (1-x)  # element-wise"
   ]
  },
  {
   "cell_type": "code",
   "execution_count": 397,
   "metadata": {
    "collapsed": false
   },
   "outputs": [],
   "source": [
    "# a = np.ones((3, 10))\n",
    "# m = np.random.binomial(1, 0.5, 10)\n",
    "# a * m"
   ]
  },
  {
   "cell_type": "code",
   "execution_count": 398,
   "metadata": {
    "collapsed": false
   },
   "outputs": [
    {
     "name": "stdout",
     "output_type": "stream",
     "text": [
      "epo0_err0.276644\n",
      "rms_error 0.27664478588\n",
      "pred_error 1810 / 4001 = 0.452386903274\n",
      "epo1000_err0.135710\n",
      "rms_error 0.135710463909\n",
      "pred_error 665 / 4001 = 0.166208447888\n",
      "epo2000_err0.117128\n",
      "rms_error 0.117128432283\n",
      "pred_error 484 / 4001 = 0.120969757561\n",
      "epo3000_err0.099466\n",
      "rms_error 0.0994663839613\n",
      "pred_error 435 / 4001 = 0.108722819295\n",
      "epo4000_err0.217477\n",
      "rms_error 0.217477676739\n",
      "pred_error 1554 / 4001 = 0.388402899275\n",
      "epo5000_err0.312395\n",
      "rms_error 0.312395803329\n",
      "pred_error 2447 / 4001 = 0.611597100725\n",
      "epo6000_err0.118168\n",
      "rms_error 0.118168803768\n",
      "pred_error 638 / 4001 = 0.159460134966\n",
      "epo7000_err0.105465\n",
      "rms_error 0.105465758826\n",
      "pred_error 392 / 4001 = 0.0979755061235\n",
      "epo8000_err0.081541\n",
      "rms_error 0.0815414188583\n",
      "pred_error 430 / 4001 = 0.107473131717\n",
      "epo9000_err0.101638\n",
      "rms_error 0.101638653706\n",
      "pred_error 447 / 4001 = 0.111722069483\n",
      "epo10000_err0.105603\n",
      "rms_error 0.105603271408\n",
      "pred_error 543 / 4001 = 0.135716070982\n",
      "epo20000_err0.068449\n",
      "rms_error 0.0684499229302\n",
      "pred_error 389 / 4001 = 0.0972256935766\n",
      "epo30000_err0.060484\n",
      "rms_error 0.0604846892511\n",
      "pred_error 315 / 4001 = 0.0787303174206\n",
      "epo40000_err0.144777\n",
      "rms_error 0.144777228094\n",
      "pred_error 1554 / 4001 = 0.388402899275\n",
      "epo50000_err0.058378\n",
      "rms_error 0.0583782375653\n",
      "pred_error 275 / 4001 = 0.0687328167958\n",
      "epo60000_err0.062106\n",
      "rms_error 0.0621063644224\n",
      "pred_error 293 / 4001 = 0.073231692077\n",
      "epo70000_err0.062259\n",
      "rms_error 0.0622593305121\n",
      "pred_error 284 / 4001 = 0.0709822544364\n",
      "epo80000_err0.122919\n",
      "rms_error 0.122919069261\n",
      "pred_error 431 / 4001 = 0.107723069233\n",
      "epo90000_err0.472733\n",
      "rms_error 0.472733970225\n",
      "pred_error 2447 / 4001 = 0.611597100725\n",
      "epo100000_err0.061524\n",
      "rms_error 0.0615241620365\n",
      "pred_error 292 / 4001 = 0.0729817545614\n",
      "epo110000_err0.103904\n",
      "rms_error 0.103904951892\n",
      "pred_error 486 / 4001 = 0.121469632592\n",
      "epo120000_err0.151906\n",
      "rms_error 0.151906674725\n",
      "pred_error 390 / 4001 = 0.0974756310922\n",
      "epo130000_err0.147538\n",
      "rms_error 0.147538181137\n",
      "pred_error 616 / 4001 = 0.153961509623\n",
      "epo140000_err0.058545\n",
      "rms_error 0.0585455953956\n",
      "pred_error 266 / 4001 = 0.0664833791552\n",
      "epo150000_err0.058805\n",
      "rms_error 0.0588054027936\n",
      "pred_error 265 / 4001 = 0.0662334416396\n",
      "epo160000_err0.064596\n",
      "rms_error 0.0645961055159\n",
      "pred_error 285 / 4001 = 0.071232191952\n",
      "epo170000_err0.058281\n",
      "rms_error 0.0582816403963\n",
      "pred_error 275 / 4001 = 0.0687328167958\n",
      "epo180000_err0.058907\n",
      "rms_error 0.0589075934599\n",
      "pred_error 266 / 4001 = 0.0664833791552\n",
      "epo190000_err0.063767\n",
      "rms_error 0.0637673146769\n",
      "pred_error 298 / 4001 = 0.0744813796551\n",
      "epo200000_err0.080643\n",
      "rms_error 0.0806432721321\n",
      "pred_error 306 / 4001 = 0.0764808797801\n",
      "epo210000_err0.219959\n",
      "rms_error 0.219959632687\n",
      "pred_error 1554 / 4001 = 0.388402899275\n",
      "epo220000_err0.375935\n",
      "rms_error 0.375935056444\n",
      "pred_error 2280 / 4001 = 0.569857535616\n",
      "epo230000_err0.445110\n",
      "rms_error 0.445110619176\n",
      "pred_error 2903 / 4001 = 0.725568607848\n",
      "epo240000_err0.131164\n",
      "rms_error 0.131164183462\n",
      "pred_error 477 / 4001 = 0.119220194951\n",
      "epo250000_err0.208059\n",
      "rms_error 0.208059575891\n",
      "pred_error 1554 / 4001 = 0.388402899275\n",
      "epo260000_err0.183479\n",
      "rms_error 0.183479539212\n",
      "pred_error 1232 / 4001 = 0.307923019245\n",
      "epo270000_err0.189168\n",
      "rms_error 0.189168671826\n",
      "pred_error 1370 / 4001 = 0.342414396401\n",
      "epo280000_err0.200550\n",
      "rms_error 0.200550050902\n",
      "pred_error 1550 / 4001 = 0.387403149213\n",
      "epo290000_err0.183790\n",
      "rms_error 0.18379069778\n",
      "pred_error 1226 / 4001 = 0.306423394151\n",
      "epo300000_err0.180287\n",
      "rms_error 0.180287229085\n",
      "pred_error 1555 / 4001 = 0.388652836791\n",
      "epo310000_err0.189082\n",
      "rms_error 0.189082196\n",
      "pred_error 1371 / 4001 = 0.342664333917\n",
      "epo320000_err0.194185\n",
      "rms_error 0.19418524761\n",
      "pred_error 1449 / 4001 = 0.362159460135\n",
      "epo330000_err0.216244\n",
      "rms_error 0.216244403341\n",
      "pred_error 1614 / 4001 = 0.403399150212\n",
      "epo340000_err0.190703\n",
      "rms_error 0.190703268243\n",
      "pred_error 1432 / 4001 = 0.357910522369\n",
      "epo350000_err0.192654\n",
      "rms_error 0.192654470311\n",
      "pred_error 1038 / 4001 = 0.259435141215\n",
      "epo360000_err0.107064\n",
      "rms_error 0.107064508281\n",
      "pred_error 358 / 4001 = 0.0894776305924\n",
      "epo370000_err0.076675\n",
      "rms_error 0.0766752209499\n",
      "pred_error 301 / 4001 = 0.0752311922019\n",
      "epo380000_err0.068536\n",
      "rms_error 0.068536960912\n",
      "pred_error 302 / 4001 = 0.0754811297176\n",
      "epo390000_err0.083342\n",
      "rms_error 0.0833422505047\n",
      "pred_error 297 / 4001 = 0.0742314421395\n",
      "epo400000_err0.072755\n",
      "rms_error 0.0727557595546\n",
      "pred_error 284 / 4001 = 0.0709822544364\n",
      "epo410000_err0.119325\n",
      "rms_error 0.119325948864\n",
      "pred_error 313 / 4001 = 0.0782304423894\n",
      "epo420000_err0.125112\n",
      "rms_error 0.125112798025\n",
      "pred_error 321 / 4001 = 0.0802299425144\n",
      "epo430000_err0.071153\n",
      "rms_error 0.0711530655716\n",
      "pred_error 322 / 4001 = 0.08047988003\n",
      "epo440000_err0.067840\n",
      "rms_error 0.0678401502674\n",
      "pred_error 287 / 4001 = 0.0717320669833\n",
      "epo450000_err0.069665\n",
      "rms_error 0.0696651733898\n",
      "pred_error 280 / 4001 = 0.0699825043739\n",
      "epo460000_err0.079974\n",
      "rms_error 0.0799741832804\n",
      "pred_error 276 / 4001 = 0.0689827543114\n",
      "epo470000_err0.068638\n",
      "rms_error 0.0686386812145\n",
      "pred_error 275 / 4001 = 0.0687328167958\n",
      "epo480000_err0.183483\n",
      "rms_error 0.18348327496\n",
      "pred_error 1554 / 4001 = 0.388402899275\n",
      "epo490000_err0.502718\n",
      "rms_error 0.502718756829\n",
      "pred_error 2447 / 4001 = 0.611597100725\n",
      "epo500000_err0.086859\n",
      "rms_error 0.0868594321394\n",
      "pred_error 293 / 4001 = 0.073231692077\n",
      "epo510000_err0.090745\n",
      "rms_error 0.0907454526465\n",
      "pred_error 397 / 4001 = 0.0992251937016\n",
      "epo520000_err0.095453\n",
      "rms_error 0.0954538691439\n",
      "pred_error 349 / 4001 = 0.0872281929518\n",
      "epo530000_err0.087449\n",
      "rms_error 0.0874497244658\n",
      "pred_error 337 / 4001 = 0.0842289427643\n",
      "epo540000_err0.169105\n",
      "rms_error 0.169105085628\n",
      "pred_error 1554 / 4001 = 0.388402899275\n",
      "epo550000_err0.086991\n",
      "rms_error 0.0869911812504\n",
      "pred_error 275 / 4001 = 0.0687328167958\n",
      "epo560000_err0.067218\n",
      "rms_error 0.0672189253968\n",
      "pred_error 283 / 4001 = 0.0707323169208\n",
      "epo570000_err0.119392\n",
      "rms_error 0.119392289174\n",
      "pred_error 275 / 4001 = 0.0687328167958\n",
      "epo580000_err0.066707\n",
      "rms_error 0.0667070219966\n",
      "pred_error 273 / 4001 = 0.0682329417646\n",
      "epo590000_err0.263879\n",
      "rms_error 0.26387911658\n",
      "pred_error 1554 / 4001 = 0.388402899275\n",
      "epo600000_err0.073124\n",
      "rms_error 0.0731244628458\n",
      "pred_error 272 / 4001 = 0.0679830042489\n",
      "epo610000_err0.090996\n",
      "rms_error 0.0909967807676\n",
      "pred_error 264 / 4001 = 0.065983504124\n",
      "epo620000_err0.436094\n",
      "rms_error 0.436094394311\n",
      "pred_error 2447 / 4001 = 0.611597100725\n",
      "epo630000_err0.500204\n",
      "rms_error 0.50020436645\n",
      "pred_error 2447 / 4001 = 0.611597100725\n",
      "epo640000_err0.097478\n",
      "rms_error 0.0974786361477\n",
      "pred_error 256 / 4001 = 0.063984003999\n",
      "epo650000_err0.067695\n",
      "rms_error 0.0676952971863\n",
      "pred_error 298 / 4001 = 0.0744813796551\n",
      "epo660000_err0.186224\n",
      "rms_error 0.186224988507\n",
      "pred_error 1554 / 4001 = 0.388402899275\n",
      "epo670000_err0.345352\n",
      "rms_error 0.345352102161\n",
      "pred_error 2447 / 4001 = 0.611597100725\n",
      "epo680000_err0.245047\n",
      "rms_error 0.245047206403\n",
      "pred_error 1554 / 4001 = 0.388402899275\n",
      "epo690000_err0.128118\n",
      "rms_error 0.128118581045\n",
      "pred_error 327 / 4001 = 0.0817295676081\n",
      "epo700000_err0.123867\n",
      "rms_error 0.123867849841\n",
      "pred_error 317 / 4001 = 0.0792301924519\n",
      "epo710000_err0.243468\n",
      "rms_error 0.243468671414\n",
      "pred_error 1554 / 4001 = 0.388402899275\n",
      "epo720000_err0.276452\n",
      "rms_error 0.276452397762\n",
      "pred_error 2447 / 4001 = 0.611597100725\n",
      "epo730000_err0.243080\n",
      "rms_error 0.243080076465\n",
      "pred_error 1554 / 4001 = 0.388402899275\n",
      "epo740000_err0.204675\n",
      "rms_error 0.204675441001\n",
      "pred_error 1554 / 4001 = 0.388402899275\n",
      "epo750000_err0.200269\n",
      "rms_error 0.20026983991\n",
      "pred_error 1554 / 4001 = 0.388402899275\n",
      "epo760000_err0.237579\n",
      "rms_error 0.237579456578\n",
      "pred_error 1554 / 4001 = 0.388402899275\n",
      "epo770000_err0.207019\n",
      "rms_error 0.207019490993\n",
      "pred_error 1554 / 4001 = 0.388402899275\n",
      "epo780000_err0.203644\n",
      "rms_error 0.203644259019\n",
      "pred_error 1554 / 4001 = 0.388402899275\n",
      "epo790000_err0.221664\n",
      "rms_error 0.221664891632\n",
      "pred_error 1554 / 4001 = 0.388402899275\n",
      "epo800000_err0.191104\n",
      "rms_error 0.191104219528\n",
      "pred_error 1554 / 4001 = 0.388402899275\n",
      "epo810000_err0.241045\n",
      "rms_error 0.241045440711\n",
      "pred_error 1554 / 4001 = 0.388402899275\n",
      "epo820000_err0.197566\n",
      "rms_error 0.197566172499\n",
      "pred_error 1554 / 4001 = 0.388402899275\n",
      "epo830000_err0.207297\n",
      "rms_error 0.207297945376\n",
      "pred_error 1554 / 4001 = 0.388402899275\n",
      "epo840000_err0.208830\n",
      "rms_error 0.208830171832\n",
      "pred_error 1532 / 4001 = 0.382904273932\n",
      "epo850000_err0.193429\n",
      "rms_error 0.193429173384\n",
      "pred_error 1570 / 4001 = 0.392401899525\n",
      "epo860000_err0.192695\n",
      "rms_error 0.192695461561\n",
      "pred_error 1346 / 4001 = 0.336415896026\n",
      "epo870000_err0.245199\n",
      "rms_error 0.245199229361\n",
      "pred_error 1554 / 4001 = 0.388402899275\n",
      "epo880000_err0.197990\n",
      "rms_error 0.19799053044\n",
      "pred_error 1554 / 4001 = 0.388402899275\n",
      "epo890000_err0.227017\n",
      "rms_error 0.227017427608\n",
      "pred_error 1554 / 4001 = 0.388402899275\n",
      "epo900000_err0.217960\n",
      "rms_error 0.217960267431\n",
      "pred_error 1554 / 4001 = 0.388402899275\n",
      "epo910000_err0.198618\n",
      "rms_error 0.198618862028\n",
      "pred_error 1554 / 4001 = 0.388402899275\n",
      "epo920000_err0.187914\n",
      "rms_error 0.18791445127\n",
      "pred_error 1554 / 4001 = 0.388402899275\n",
      "epo930000_err0.242878\n",
      "rms_error 0.242878036151\n",
      "pred_error 1554 / 4001 = 0.388402899275\n",
      "epo940000_err0.244286\n",
      "rms_error 0.244286725513\n",
      "pred_error 1554 / 4001 = 0.388402899275\n",
      "epo950000_err0.243659\n",
      "rms_error 0.243659803259\n",
      "pred_error 1554 / 4001 = 0.388402899275\n",
      "epo960000_err0.202606\n",
      "rms_error 0.202606034286\n",
      "pred_error 1554 / 4001 = 0.388402899275\n",
      "epo970000_err0.182279\n",
      "rms_error 0.182279129457\n",
      "pred_error 1245 / 4001 = 0.311172206948\n",
      "epo980000_err0.205045\n",
      "rms_error 0.205045196364\n",
      "pred_error 1554 / 4001 = 0.388402899275\n",
      "epo990000_err0.200413\n",
      "rms_error 0.200413005765\n",
      "pred_error 1554 / 4001 = 0.388402899275\n",
      "epo1000000_err0.183762\n",
      "rms_error 0.183762933887\n",
      "pred_error 1554 / 4001 = 0.388402899275\n",
      "epo1010000_err0.220280\n",
      "rms_error 0.220280021027\n",
      "pred_error 1554 / 4001 = 0.388402899275\n",
      "epo1020000_err0.260630\n",
      "rms_error 0.260630437096\n",
      "pred_error 2447 / 4001 = 0.611597100725\n",
      "epo1030000_err0.244597\n",
      "rms_error 0.244597541579\n",
      "pred_error 1554 / 4001 = 0.388402899275\n",
      "epo1040000_err0.275907\n",
      "rms_error 0.275907186977\n",
      "pred_error 2447 / 4001 = 0.611597100725\n",
      "epo1050000_err0.263467\n",
      "rms_error 0.26346704728\n",
      "pred_error 2447 / 4001 = 0.611597100725\n",
      "epo1060000_err0.190628\n",
      "rms_error 0.190628303888\n",
      "pred_error 1554 / 4001 = 0.388402899275\n",
      "epo1070000_err0.185818\n",
      "rms_error 0.185818620678\n",
      "pred_error 1315 / 4001 = 0.328667833042\n",
      "epo1080000_err0.247825\n",
      "rms_error 0.247825774885\n",
      "pred_error 1554 / 4001 = 0.388402899275\n",
      "epo1090000_err0.206047\n",
      "rms_error 0.206047847675\n",
      "pred_error 1569 / 4001 = 0.392151962009\n",
      "epo1100000_err0.255450\n",
      "rms_error 0.255450069128\n",
      "pred_error 2447 / 4001 = 0.611597100725\n",
      "epo1110000_err0.243187\n",
      "rms_error 0.24318744417\n",
      "pred_error 1554 / 4001 = 0.388402899275\n",
      "epo1120000_err0.186670\n",
      "rms_error 0.186670760393\n",
      "pred_error 1302 / 4001 = 0.325418645339\n",
      "epo1130000_err0.207231\n",
      "rms_error 0.207231645439\n",
      "pred_error 1554 / 4001 = 0.388402899275\n",
      "epo1140000_err0.207793\n",
      "rms_error 0.207793197611\n",
      "pred_error 1554 / 4001 = 0.388402899275\n",
      "epo1150000_err0.200527\n",
      "rms_error 0.200527834745\n",
      "pred_error 1496 / 4001 = 0.373906523369\n",
      "epo1160000_err0.183283\n",
      "rms_error 0.183283871764\n",
      "pred_error 1554 / 4001 = 0.388402899275\n",
      "epo1170000_err0.212542\n",
      "rms_error 0.212542858632\n",
      "pred_error 1554 / 4001 = 0.388402899275\n",
      "epo1180000_err0.181185\n",
      "rms_error 0.181185490441\n",
      "pred_error 1293 / 4001 = 0.323169207698\n",
      "epo1190000_err0.199762\n",
      "rms_error 0.199762658552\n",
      "pred_error 1470 / 4001 = 0.367408147963\n",
      "epo1200000_err0.178014\n",
      "rms_error 0.178014052271\n",
      "pred_error 1279 / 4001 = 0.319670082479\n",
      "epo1210000_err0.244464\n",
      "rms_error 0.244464187477\n",
      "pred_error 1554 / 4001 = 0.388402899275\n",
      "epo1220000_err0.186460\n",
      "rms_error 0.186460063046\n",
      "pred_error 1554 / 4001 = 0.388402899275\n",
      "epo1230000_err0.179459\n",
      "rms_error 0.179459128716\n",
      "pred_error 1303 / 4001 = 0.325668582854\n",
      "epo1240000_err0.211513\n",
      "rms_error 0.21151329142\n",
      "pred_error 1554 / 4001 = 0.388402899275\n",
      "epo1250000_err0.197627\n",
      "rms_error 0.197627195099\n",
      "pred_error 1554 / 4001 = 0.388402899275\n",
      "epo1260000_err0.254571\n",
      "rms_error 0.254571691885\n",
      "pred_error 2447 / 4001 = 0.611597100725\n",
      "epo1270000_err0.258304\n",
      "rms_error 0.258304593793\n",
      "pred_error 2447 / 4001 = 0.611597100725\n"
     ]
    },
    {
     "ename": "KeyboardInterrupt",
     "evalue": "",
     "output_type": "error",
     "traceback": [
      "\u001b[0;31m---------------------------------------------------------------------------\u001b[0m",
      "\u001b[0;31mKeyboardInterrupt\u001b[0m                         Traceback (most recent call last)",
      "\u001b[0;32m<ipython-input-398-cb58febd29c3>\u001b[0m in \u001b[0;36m<module>\u001b[0;34m()\u001b[0m\n\u001b[1;32m     10\u001b[0m \u001b[0;31m#     layer_1_output *= mask_1\u001b[0m\u001b[0;34m\u001b[0m\u001b[0;34m\u001b[0m\u001b[0m\n\u001b[1;32m     11\u001b[0m \u001b[0;34m\u001b[0m\u001b[0m\n\u001b[0;32m---> 12\u001b[0;31m     \u001b[0mlayer_2_output\u001b[0m \u001b[0;34m=\u001b[0m \u001b[0mspecial\u001b[0m\u001b[0;34m.\u001b[0m\u001b[0mexpit\u001b[0m\u001b[0;34m(\u001b[0m\u001b[0mnp\u001b[0m\u001b[0;34m.\u001b[0m\u001b[0mdot\u001b[0m\u001b[0;34m(\u001b[0m\u001b[0mlayer_1_output\u001b[0m\u001b[0;34m,\u001b[0m \u001b[0mw_2\u001b[0m\u001b[0;34m)\u001b[0m\u001b[0;34m)\u001b[0m  \u001b[0;31m# shape = (x_row_num, layer_2_node_num)\u001b[0m\u001b[0;34m\u001b[0m\u001b[0m\n\u001b[0m\u001b[1;32m     13\u001b[0m     \u001b[0mmask_2\u001b[0m \u001b[0;34m=\u001b[0m \u001b[0mnumpy\u001b[0m\u001b[0;34m.\u001b[0m\u001b[0mrandom\u001b[0m\u001b[0;34m.\u001b[0m\u001b[0mbinomial\u001b[0m\u001b[0;34m(\u001b[0m\u001b[0;36m1\u001b[0m\u001b[0;34m,\u001b[0m \u001b[0mdropout_rate\u001b[0m\u001b[0;34m,\u001b[0m \u001b[0mlayer_2_node_num\u001b[0m\u001b[0;34m)\u001b[0m \u001b[0;34m*\u001b[0m \u001b[0;34m(\u001b[0m\u001b[0;36m1.0\u001b[0m\u001b[0;34m/\u001b[0m\u001b[0;34m(\u001b[0m\u001b[0;36m1\u001b[0m\u001b[0;34m-\u001b[0m\u001b[0mdropout_rate\u001b[0m\u001b[0;34m)\u001b[0m\u001b[0;34m)\u001b[0m\u001b[0;34m\u001b[0m\u001b[0m\n\u001b[1;32m     14\u001b[0m     \u001b[0mlayer_2_output\u001b[0m \u001b[0;34m*=\u001b[0m \u001b[0mmask_2\u001b[0m\u001b[0;34m\u001b[0m\u001b[0m\n",
      "\u001b[0;31mKeyboardInterrupt\u001b[0m: "
     ]
    }
   ],
   "source": [
    "# training iterations\n",
    "\n",
    "# special.expit is sigmoid\n",
    "\n",
    "while True:\n",
    "    layer_0_output = x_data_rows\n",
    "    \n",
    "    layer_1_output = special.expit(np.dot(layer_0_output, w_1))  # shape = (x_row_num, layer_1_node_num)\n",
    "#     mask_1 = numpy.random.binomial(1, dropout_rate, layer_1_node_num) * (1.0/(1-dropout_rate))\n",
    "#     layer_1_output *= mask_1\n",
    "\n",
    "    layer_2_output = special.expit(np.dot(layer_1_output, w_2))  # shape = (x_row_num, layer_2_node_num)\n",
    "    mask_2 = numpy.random.binomial(1, dropout_rate, layer_2_node_num) * (1.0/(1-dropout_rate))\n",
    "    layer_2_output *= mask_2\n",
    "    \n",
    "    layer_out_output = special.expit(np.dot(layer_2_output, w_out))  # shape = (x_row_num, 1)\n",
    "    \n",
    "    # backpropagation\n",
    "    layer_out_error = layer_out_output - y_data_rows\n",
    "    layer_out_delta = layer_out_error * sigmoid_deriv(layer_out_output)\n",
    "    \n",
    "    layer_2_error = layer_out_delta.dot(w_out.T)\n",
    "    layer_2_delta = layer_2_error * sigmoid_deriv(layer_2_output)\n",
    "    \n",
    "    layer_1_error = layer_2_delta.dot(w_2.T)  # shape = (x_row_num, layer_1_node_num)\n",
    "    layer_1_delta = layer_1_error * sigmoid_deriv(layer_1_output)  # shape = (x_row_num, layer_1_node_num)\n",
    "\n",
    "    w_out -= lr * (layer_2_output.T).dot(layer_out_delta)\n",
    "    w_2 -= lr * (layer_1_output.T).dot(layer_2_delta)  # shape = (layer_1_node_num, 1)\n",
    "    w_1 -= lr * (layer_0_output.T).dot(layer_1_delta)  # shape = (x_row_num, layer_1_node_num)\n",
    "    \n",
    "#     v_w_2 = lr * (layer_1_output.T).dot(layer_2_delta) + gamma * v_w_2\n",
    "#     v_w_1 = lr * (layer_0_output.T).dot(layer_1_delta) + gamma * v_w_1\n",
    "#     w_2 += v_w_2  # shape = (layer_1_node_num, 1)\n",
    "#     w_1 += v_w_1  # shape = (x_row_num, layer_1_node_num)\n",
    "\n",
    "    # write model\n",
    "    if (total_epoch < 10000 and total_epoch % 1000 == 0) or (total_epoch % 10000 == 0):\n",
    "        pred_error = np.sum(np.abs(to_bool(layer_out_output) - y_data_rows))\n",
    "        rms_error = np.mean(np.square(layer_out_error))\n",
    "        \n",
    "        model_file_info = \"epo\" + str(total_epoch) + \"_err\" + str(rms_error)[:8]\n",
    "        print(model_file_info)\n",
    "        print('rms_error', rms_error)\n",
    "        print('pred_error', pred_error, '/', x_row_num, '=', pred_error/x_row_num)\n",
    "        \n",
    "        np.savez(MODEL_FOLDER + model_file_info, w_1=w_1, w_2=w_2, w_out=w_out, lr=lr, total_epoch=total_epoch, x_train_means=x_train_means, x_train_stds=x_train_stds)\n",
    "\n",
    "#     vw = lr * w_grad + gamma * vw\n",
    "#     w = w - vw\n",
    "\n",
    "    total_epoch += 1\n",
    "    "
   ]
  },
  {
   "cell_type": "markdown",
   "metadata": {},
   "source": [
    "## Test"
   ]
  },
  {
   "cell_type": "code",
   "execution_count": null,
   "metadata": {
    "collapsed": false
   },
   "outputs": [],
   "source": [
    "test_data = pd.read_csv(TEST_FILE_PATH, header=None)"
   ]
  },
  {
   "cell_type": "code",
   "execution_count": null,
   "metadata": {
    "collapsed": false
   },
   "outputs": [],
   "source": [
    "_id = test_data[0].apply(str)"
   ]
  },
  {
   "cell_type": "code",
   "execution_count": null,
   "metadata": {
    "collapsed": true
   },
   "outputs": [],
   "source": [
    "x_test_data_rows = test_data[list(range(1, 58))].as_matrix()"
   ]
  },
  {
   "cell_type": "code",
   "execution_count": null,
   "metadata": {
    "collapsed": true
   },
   "outputs": [],
   "source": [
    "x_test_data_rows = x_test_data_rows[:, x_select_col_idxs]"
   ]
  },
  {
   "cell_type": "code",
   "execution_count": null,
   "metadata": {
    "collapsed": true
   },
   "outputs": [],
   "source": [
    "# read model"
   ]
  },
  {
   "cell_type": "code",
   "execution_count": null,
   "metadata": {
    "collapsed": false
   },
   "outputs": [],
   "source": [
    "# normalize\n",
    "x_test_data_rows = (x_test_data_rows - x_train_means) / x_train_stds\n",
    "# add 1\n",
    "x_test_data_rows = np.c_[x_test_data_rows, np.ones(x_test_data_rows.shape[0]) ]"
   ]
  },
  {
   "cell_type": "code",
   "execution_count": null,
   "metadata": {
    "collapsed": false
   },
   "outputs": [],
   "source": [
    "# test\n",
    "test_layer_1_output = special.expit(np.dot(x_test_data_rows, w_1))\n",
    "test_layer_2_output = special.expit(np.dot(test_layer_1_output, w_2))\n",
    "test_layer_out_output = special.expit(np.dot(test_layer_2_output, w_out))\n",
    "y_test_rows = to_bool(test_layer_out_output)\n",
    "\n",
    "y_test_series = pd.Series(y_test_rows.flatten())\n",
    "\n",
    "# concat id and y\n",
    "output = pd.concat([_id, y_test_series], axis=1)\n",
    "output.columns=[\"id\",\"label\"]\n",
    "\n",
    "# write file\n",
    "output.to_csv(OUTPUT_FOLDER + \"output_\" + METHOD_NAME + \"_\" + model_file_info + \".csv\", index=False)"
   ]
  },
  {
   "cell_type": "code",
   "execution_count": null,
   "metadata": {
    "collapsed": true
   },
   "outputs": [],
   "source": []
  }
 ],
 "metadata": {
  "anaconda-cloud": {},
  "kernelspec": {
   "display_name": "Python [Root]",
   "language": "python",
   "name": "Python [Root]"
  },
  "language_info": {
   "codemirror_mode": {
    "name": "ipython",
    "version": 3
   },
   "file_extension": ".py",
   "mimetype": "text/x-python",
   "name": "python",
   "nbconvert_exporter": "python",
   "pygments_lexer": "ipython3",
   "version": "3.5.2"
  }
 },
 "nbformat": 4,
 "nbformat_minor": 0
}
