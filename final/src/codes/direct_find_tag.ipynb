{
 "cells": [
  {
   "cell_type": "code",
   "execution_count": 1,
   "metadata": {
    "collapsed": true
   },
   "outputs": [],
   "source": [
    "import pandas as pd\n",
    "import numpy as np\n",
    "import re\n",
    "from bs4 import BeautifulSoup\n",
    "import nltk\n",
    "tokenizer = nltk.data.load('tokenizers/punkt/english.pickle')\n",
    "from nltk.corpus import stopwords\n",
    "stops = set(stopwords.words(\"english\"))"
   ]
  },
  {
   "cell_type": "code",
   "execution_count": 2,
   "metadata": {
    "collapsed": true
   },
   "outputs": [],
   "source": [
    "DATA_FOLDER = 'data/'\n",
    "TRAIN_FILES = ['biology.csv', 'cooking.csv', 'crypto.csv', 'diy.csv', 'robotics.csv', 'travel.csv']\n",
    "TEST_FILE = 'test.csv'"
   ]
  },
  {
   "cell_type": "code",
   "execution_count": 3,
   "metadata": {
    "collapsed": true
   },
   "outputs": [],
   "source": [
    "DOMAIN_COUNT = len(TRAIN_FILES)"
   ]
  },
  {
   "cell_type": "code",
   "execution_count": 4,
   "metadata": {
    "collapsed": true
   },
   "outputs": [],
   "source": [
    "df_trains = [pd.read_csv(DATA_FOLDER + filename) for filename in TRAIN_FILES]"
   ]
  },
  {
   "cell_type": "code",
   "execution_count": 5,
   "metadata": {
    "collapsed": false
   },
   "outputs": [
    {
     "name": "stdout",
     "output_type": "stream",
     "text": [
      "(13196, 4)\n",
      "(15404, 4)\n",
      "(10432, 4)\n",
      "(25918, 4)\n",
      "(2771, 4)\n",
      "(19279, 4)\n"
     ]
    }
   ],
   "source": [
    "for df in df_trains:\n",
    "    print(df.shape)"
   ]
  },
  {
   "cell_type": "code",
   "execution_count": 6,
   "metadata": {
    "collapsed": false
   },
   "outputs": [
    {
     "data": {
      "text/plain": [
       "87000"
      ]
     },
     "execution_count": 6,
     "metadata": {},
     "output_type": "execute_result"
    }
   ],
   "source": [
    "sum([df.shape[0] for df in df_trains])"
   ]
  },
  {
   "cell_type": "code",
   "execution_count": 7,
   "metadata": {
    "collapsed": false
   },
   "outputs": [
    {
     "data": {
      "text/html": [
       "<div>\n",
       "<table border=\"1\" class=\"dataframe\">\n",
       "  <thead>\n",
       "    <tr style=\"text-align: right;\">\n",
       "      <th></th>\n",
       "      <th>id</th>\n",
       "      <th>title</th>\n",
       "      <th>content</th>\n",
       "      <th>tags</th>\n",
       "    </tr>\n",
       "  </thead>\n",
       "  <tbody>\n",
       "    <tr>\n",
       "      <th>0</th>\n",
       "      <td>1</td>\n",
       "      <td>What is the criticality of the ribosome bindin...</td>\n",
       "      <td>&lt;p&gt;In prokaryotic translation, how critical fo...</td>\n",
       "      <td>ribosome binding-sites translation synthetic-b...</td>\n",
       "    </tr>\n",
       "    <tr>\n",
       "      <th>1</th>\n",
       "      <td>2</td>\n",
       "      <td>How is RNAse contamination in RNA based experi...</td>\n",
       "      <td>&lt;p&gt;Does anyone have any suggestions to prevent...</td>\n",
       "      <td>rna biochemistry</td>\n",
       "    </tr>\n",
       "    <tr>\n",
       "      <th>2</th>\n",
       "      <td>3</td>\n",
       "      <td>Are lymphocyte sizes clustered in two groups?</td>\n",
       "      <td>&lt;p&gt;Tortora writes in &lt;em&gt;Principles of Anatomy...</td>\n",
       "      <td>immunology cell-biology hematology</td>\n",
       "    </tr>\n",
       "    <tr>\n",
       "      <th>3</th>\n",
       "      <td>4</td>\n",
       "      <td>How long does antibiotic-dosed LB maintain goo...</td>\n",
       "      <td>&lt;p&gt;Various people in our lab will prepare a li...</td>\n",
       "      <td>cell-culture</td>\n",
       "    </tr>\n",
       "    <tr>\n",
       "      <th>4</th>\n",
       "      <td>5</td>\n",
       "      <td>Is exon order always preserved in splicing?</td>\n",
       "      <td>&lt;p&gt;Are there any cases in which the splicing m...</td>\n",
       "      <td>splicing mrna spliceosome introns exons</td>\n",
       "    </tr>\n",
       "  </tbody>\n",
       "</table>\n",
       "</div>"
      ],
      "text/plain": [
       "   id                                              title  \\\n",
       "0   1  What is the criticality of the ribosome bindin...   \n",
       "1   2  How is RNAse contamination in RNA based experi...   \n",
       "2   3      Are lymphocyte sizes clustered in two groups?   \n",
       "3   4  How long does antibiotic-dosed LB maintain goo...   \n",
       "4   5        Is exon order always preserved in splicing?   \n",
       "\n",
       "                                             content  \\\n",
       "0  <p>In prokaryotic translation, how critical fo...   \n",
       "1  <p>Does anyone have any suggestions to prevent...   \n",
       "2  <p>Tortora writes in <em>Principles of Anatomy...   \n",
       "3  <p>Various people in our lab will prepare a li...   \n",
       "4  <p>Are there any cases in which the splicing m...   \n",
       "\n",
       "                                                tags  \n",
       "0  ribosome binding-sites translation synthetic-b...  \n",
       "1                                   rna biochemistry  \n",
       "2                 immunology cell-biology hematology  \n",
       "3                                       cell-culture  \n",
       "4            splicing mrna spliceosome introns exons  "
      ]
     },
     "execution_count": 7,
     "metadata": {},
     "output_type": "execute_result"
    }
   ],
   "source": [
    "df_trains[0].head()"
   ]
  },
  {
   "cell_type": "code",
   "execution_count": 8,
   "metadata": {
    "collapsed": false
   },
   "outputs": [],
   "source": [
    "# # how many unique tags\n",
    "\n",
    "# domain_unique_tags = [set() for i in range(DOMAIN_COUNT)]\n",
    "# unique_tags = set()\n",
    "\n",
    "# for i in range(DOMAIN_COUNT):\n",
    "#     df = df_trains[i]\n",
    "#     posts_tags = df['tags'].tolist()\n",
    "#     for tags in posts_tags:\n",
    "#         for tag in tags.split(' '):\n",
    "#             domain_unique_tags[i].add(tag)\n",
    "#             unique_tags.add(tag)\n",
    "\n",
    "# print('domain_unique_tag counts:')\n",
    "# s = 0\n",
    "# for tag_set in domain_unique_tags:\n",
    "#     print(len(tag_set))\n",
    "\n",
    "# print('sum of domain_unique_tag counts:')\n",
    "# print(sum([len(tag_set) for tag_set in domain_unique_tags]))\n",
    "    \n",
    "# print('all tag count:')\n",
    "# print(len(unique_tags))\n"
   ]
  },
  {
   "cell_type": "code",
   "execution_count": null,
   "metadata": {
    "collapsed": true
   },
   "outputs": [],
   "source": []
  },
  {
   "cell_type": "markdown",
   "metadata": {},
   "source": [
    "# Cleanse Data"
   ]
  },
  {
   "cell_type": "code",
   "execution_count": 13,
   "metadata": {
    "collapsed": true
   },
   "outputs": [],
   "source": [
    "import re\n",
    "from bs4 import BeautifulSoup\n",
    "# import nltk\n",
    "# tokenizer = nltk.data.load('tokenizers/punkt/english.pickle')\n",
    "from nltk.corpus import stopwords\n",
    "stops = set(stopwords.words(\"english\"))\n",
    "\n",
    "# remove [n]\n",
    "# remove pure numbers, don't remove letter+number words, like CO2\n",
    "\n",
    "# remove stopwords\n",
    "# consider µL?\n",
    "# remove formulas\n",
    "\n",
    "def cleanse_html(content):\n",
    "    return BeautifulSoup(content, \"lxml\").get_text()\n",
    "\n",
    "def cleanse_lower_split(content):\n",
    "    # remove html tags\n",
    "    content = BeautifulSoup(content, \"lxml\").get_text()\n",
    "    \n",
    "    # convert to lowercase\n",
    "    content = content.lower()\n",
    "    \n",
    "    words = content.split()\n",
    "    \n",
    "    return words\n",
    "    \n",
    "\n",
    "# only reserve words. don't split sentences\n",
    "def cleanse(content):\n",
    "    # remove html tags\n",
    "    content = BeautifulSoup(content, \"lxml\").get_text()\n",
    "\n",
    "    # remove urls\n",
    "    content = re.sub(r\"\\S+:/\\S+\",\"\", content)  # \"xxx:/xxx\"\n",
    "    content = re.sub(r\"\\S+\\\\\\S+\",\"\", content)  # \"xxx\\xxx\"\n",
    "    \n",
    "#     # split content to sentences\n",
    "#     sentences = tokenizer.tokenize(content)\n",
    "    \n",
    "#     # replace punctuations with whitespaces\n",
    "#     content = re.sub(r\"[^a-zA-Z0-9]\",\" \", content)\n",
    "    \n",
    "    # replace punctuations and numbers with whitespaces\n",
    "    content = re.sub(r\"[^a-zA-Z]\",\" \", content)\n",
    "    \n",
    "#     # remove words that don't contain english (pure number, number+symbol). reserve something like \"CO2\"\n",
    "#     content = re.sub(r\"[^a-zA-Z0-9]\",\" \", content)\n",
    "    \n",
    "    # convert to lowercase\n",
    "    content = content.lower()\n",
    "    \n",
    "    # split into words\n",
    "    words = content.split()\n",
    "    \n",
    "    # remove stopwords\n",
    "    words = [word for word in words if word not in stops]\n",
    "    \n",
    "    # concat words to a string\n",
    "    content = ' '.join(words)\n",
    "    \n",
    "    return content"
   ]
  },
  {
   "cell_type": "code",
   "execution_count": 10,
   "metadata": {
    "collapsed": false
   },
   "outputs": [
    {
     "name": "stdout",
     "output_type": "stream",
     "text": [
      "6\n",
      "13196\n"
     ]
    }
   ],
   "source": [
    "domains_contents = [df['content'].tolist() for df in df_trains]  # list of list of strings\n",
    "print(len(domains_contents))\n",
    "print(len(domains_contents[0]))"
   ]
  },
  {
   "cell_type": "code",
   "execution_count": 14,
   "metadata": {
    "collapsed": false
   },
   "outputs": [],
   "source": [
    "cleansed_contents = [cleanse_lower_split(content) for domain_contents in domains_contents for content in domain_contents]"
   ]
  },
  {
   "cell_type": "code",
   "execution_count": 15,
   "metadata": {
    "collapsed": false
   },
   "outputs": [
    {
     "data": {
      "text/plain": [
       "[['in',\n",
       "  'prokaryotic',\n",
       "  'translation,',\n",
       "  'how',\n",
       "  'critical',\n",
       "  'for',\n",
       "  'efficient',\n",
       "  'translation',\n",
       "  'is',\n",
       "  'the',\n",
       "  'location',\n",
       "  'of',\n",
       "  'the',\n",
       "  'ribosome',\n",
       "  'binding',\n",
       "  'site,',\n",
       "  'relative',\n",
       "  'to',\n",
       "  'the',\n",
       "  'start',\n",
       "  'codon?',\n",
       "  'ideally,',\n",
       "  'it',\n",
       "  'is',\n",
       "  'supposed',\n",
       "  'to',\n",
       "  'be',\n",
       "  '-7b',\n",
       "  'away',\n",
       "  'from',\n",
       "  'the',\n",
       "  'start.',\n",
       "  'how',\n",
       "  'about',\n",
       "  'if',\n",
       "  'it',\n",
       "  'is',\n",
       "  '-9',\n",
       "  'bases',\n",
       "  'away',\n",
       "  'or',\n",
       "  'even',\n",
       "  'more?',\n",
       "  'will',\n",
       "  'this',\n",
       "  'have',\n",
       "  'an',\n",
       "  'observable',\n",
       "  'effect',\n",
       "  'on',\n",
       "  'translation?'],\n",
       " ['does',\n",
       "  'anyone',\n",
       "  'have',\n",
       "  'any',\n",
       "  'suggestions',\n",
       "  'to',\n",
       "  'prevent',\n",
       "  'rnase',\n",
       "  'contamination',\n",
       "  'when',\n",
       "  'working',\n",
       "  'with',\n",
       "  'rna?',\n",
       "  'i',\n",
       "  'tend',\n",
       "  'to',\n",
       "  'have',\n",
       "  'issues',\n",
       "  'with',\n",
       "  'degradation',\n",
       "  'regardless',\n",
       "  'of',\n",
       "  'whether',\n",
       "  'i',\n",
       "  'use',\n",
       "  'depc',\n",
       "  'treated',\n",
       "  '/',\n",
       "  'rnase',\n",
       "  'free',\n",
       "  'water',\n",
       "  'and',\n",
       "  'filtered',\n",
       "  'pipette',\n",
       "  'tips.'],\n",
       " ['tortora',\n",
       "  'writes',\n",
       "  'in',\n",
       "  'principles',\n",
       "  'of',\n",
       "  'anatomy',\n",
       "  'and',\n",
       "  'physiology:',\n",
       "  'lymphocytes',\n",
       "  'may',\n",
       "  'be',\n",
       "  'as',\n",
       "  'small',\n",
       "  'as',\n",
       "  '6–9',\n",
       "  'μm',\n",
       "  'in',\n",
       "  'diameter',\n",
       "  'or',\n",
       "  'as',\n",
       "  'large',\n",
       "  'as',\n",
       "  '10–14',\n",
       "  'μm',\n",
       "  'in',\n",
       "  'diameter.',\n",
       "  'those',\n",
       "  'ranges',\n",
       "  'are',\n",
       "  'quite',\n",
       "  'close',\n",
       "  'to',\n",
       "  'each',\n",
       "  'others.',\n",
       "  'should',\n",
       "  'the',\n",
       "  'above',\n",
       "  'be',\n",
       "  'taken',\n",
       "  'to',\n",
       "  'mean',\n",
       "  'that',\n",
       "  'lymphocytes',\n",
       "  'sizes',\n",
       "  'are',\n",
       "  'clustered',\n",
       "  'in',\n",
       "  'two',\n",
       "  'groups,',\n",
       "  'or',\n",
       "  'is',\n",
       "  'it',\n",
       "  'just',\n",
       "  'a',\n",
       "  'way',\n",
       "  'of',\n",
       "  'saying',\n",
       "  'that',\n",
       "  'lymphocytes',\n",
       "  'are',\n",
       "  '6-14',\n",
       "  'μm?'],\n",
       " ['various',\n",
       "  'people',\n",
       "  'in',\n",
       "  'our',\n",
       "  'lab',\n",
       "  'will',\n",
       "  'prepare',\n",
       "  'a',\n",
       "  'liter',\n",
       "  'or',\n",
       "  'so',\n",
       "  'of',\n",
       "  'lb,',\n",
       "  'add',\n",
       "  'kanamycin',\n",
       "  'to',\n",
       "  '25-37',\n",
       "  'mg/l',\n",
       "  'for',\n",
       "  'selection,',\n",
       "  'and',\n",
       "  'store',\n",
       "  'it',\n",
       "  'at',\n",
       "  '4',\n",
       "  '°c',\n",
       "  'for',\n",
       "  'minipreps',\n",
       "  'or',\n",
       "  'other',\n",
       "  'small',\n",
       "  'cultures',\n",
       "  '(where',\n",
       "  'dosing',\n",
       "  'straight',\n",
       "  'lb',\n",
       "  'with',\n",
       "  'a',\n",
       "  '1000x',\n",
       "  'stock',\n",
       "  'is',\n",
       "  'troublesome).',\n",
       "  'some',\n",
       "  'think',\n",
       "  'using',\n",
       "  'it',\n",
       "  'after',\n",
       "  'more',\n",
       "  'than',\n",
       "  'a',\n",
       "  'week',\n",
       "  'is',\n",
       "  'dubious,',\n",
       "  'but',\n",
       "  'we',\n",
       "  'routinely',\n",
       "  'use',\n",
       "  'kan',\n",
       "  'plates',\n",
       "  'that',\n",
       "  'are',\n",
       "  '1-2',\n",
       "  'months',\n",
       "  'old',\n",
       "  'with',\n",
       "  'no',\n",
       "  'ill',\n",
       "  'effect.',\n",
       "  'how',\n",
       "  'long',\n",
       "  'can',\n",
       "  'lb',\n",
       "  'with',\n",
       "  'antibiotic',\n",
       "  'such',\n",
       "  'as',\n",
       "  'kanamycin,',\n",
       "  'chloramphenicol,',\n",
       "  'or',\n",
       "  'ampicillin',\n",
       "  'be',\n",
       "  'stored',\n",
       "  'at',\n",
       "  '4',\n",
       "  '°c',\n",
       "  'and',\n",
       "  'maintain',\n",
       "  'selection?'],\n",
       " ['are',\n",
       "  'there',\n",
       "  'any',\n",
       "  'cases',\n",
       "  'in',\n",
       "  'which',\n",
       "  'the',\n",
       "  'splicing',\n",
       "  'machinery',\n",
       "  'constructs',\n",
       "  'an',\n",
       "  'mrna',\n",
       "  'in',\n",
       "  'which',\n",
       "  'the',\n",
       "  'exons',\n",
       "  'are',\n",
       "  'not',\n",
       "  'in',\n",
       "  'the',\n",
       "  \"5'\",\n",
       "  '->',\n",
       "  \"3'\",\n",
       "  'genomic',\n",
       "  'order?',\n",
       "  \"i'm\",\n",
       "  'interested',\n",
       "  'any',\n",
       "  'such',\n",
       "  'cases,',\n",
       "  'whether',\n",
       "  'they',\n",
       "  'involve',\n",
       "  'constitutive',\n",
       "  'or',\n",
       "  'alternative',\n",
       "  'splicing.']]"
      ]
     },
     "execution_count": 15,
     "metadata": {},
     "output_type": "execute_result"
    }
   ],
   "source": [
    "cleansed_contents[:5]"
   ]
  },
  {
   "cell_type": "markdown",
   "metadata": {},
   "source": [
    "# Extract Tags"
   ]
  },
  {
   "cell_type": "code",
   "execution_count": 35,
   "metadata": {
    "collapsed": false
   },
   "outputs": [
    {
     "data": {
      "text/plain": [
       "87000"
      ]
     },
     "execution_count": 35,
     "metadata": {},
     "output_type": "execute_result"
    }
   ],
   "source": [
    "domains_tags = [df['tags'].tolist() for df in df_trains]\n",
    "post_tags = [tags for domain_tags in domains_tags for tags in domain_tags]\n",
    "len(post_tags)"
   ]
  },
  {
   "cell_type": "code",
   "execution_count": 36,
   "metadata": {
    "collapsed": false
   },
   "outputs": [
    {
     "data": {
      "text/plain": [
       "[['ribosome', 'binding-sites', 'translation', 'synthetic-biology'],\n",
       " ['rna', 'biochemistry'],\n",
       " ['immunology', 'cell-biology', 'hematology'],\n",
       " ['cell-culture'],\n",
       " ['splicing', 'mrna', 'spliceosome', 'introns', 'exons'],\n",
       " ['dna', 'biochemistry', 'molecular-biology'],\n",
       " ['neuroscience', 'synapses'],\n",
       " ['plasmids'],\n",
       " ['molecular-genetics', 'gene-expression', 'experimental-design'],\n",
       " ['evolution', 'mitochondria', 'chloroplasts'],\n",
       " ['high-throughput', 'cell-based'],\n",
       " ['molecular-biology', 'synthetic-biology'],\n",
       " ['bioinformatics', 'homework'],\n",
       " ['neuroscience', 'immunology'],\n",
       " ['splicing', 'histone'],\n",
       " ['genomics', 'gene-annotation', 'exons'],\n",
       " ['microbiology', 'virology', 'influenza'],\n",
       " ['epigenetics'],\n",
       " ['molecular-biology', 'dna-isolation'],\n",
       " ['cell-membrane', 'adaptation', 'cell-biology'],\n",
       " ['transcription', 'chromatin'],\n",
       " ['biochemistry', 'neuroscience'],\n",
       " ['molecular-biology', 'transcription', 'rna-interference'],\n",
       " ['neuroscience', 'endocrinology', 'human-biology'],\n",
       " ['bioinformatics', 'phylogenetics'],\n",
       " ['splicing', 'introns', 'genetics'],\n",
       " ['biochemistry', 'rna'],\n",
       " ['microbiology', 'astrobiology'],\n",
       " ['dna', 'primer', 'genetics'],\n",
       " ['microbiology', 'history', 'bacteriology'],\n",
       " ['dna'],\n",
       " ['human-biology', 'neuroscience'],\n",
       " ['mycology'],\n",
       " ['molecular-biology', 'enzymes'],\n",
       " ['neuroscience', 'human-anatomy'],\n",
       " ['histology', 'staining'],\n",
       " ['zoology'],\n",
       " ['dna', 'staining'],\n",
       " ['human-biology', 'genetics', 'enzymes'],\n",
       " ['dna', 'zoology', 'radiation', 'entomology'],\n",
       " ['human-biology', 'immunology', 'enzymes', 'hematology'],\n",
       " ['evolution', 'zoology'],\n",
       " ['evolution', 'abiogenesis'],\n",
       " ['dna', 'biochemistry'],\n",
       " ['molecular-biology', 'green-fluorescent-protein'],\n",
       " ['molecular-biology', 'cloning', 'dna-isolation'],\n",
       " ['molecular-biology'],\n",
       " ['anatomy', 'histology'],\n",
       " ['human-biology', 'neuroscience', 'hearing'],\n",
       " ['biochemistry', 'organic-chemistry'],\n",
       " ['biochemistry', 'histone', 'rna-interference', 'histone-modifications'],\n",
       " ['cell-culture'],\n",
       " ['human-biology', 'immunology'],\n",
       " ['zoology', 'ethology'],\n",
       " ['ecology', 'extremophiles', 'astrobiology'],\n",
       " ['bioinformatics'],\n",
       " ['t7-promoter'],\n",
       " ['molecular-biology', 'yeast', 'dna-isolation'],\n",
       " ['biochemistry', 'dna', 'rna'],\n",
       " ['cell-biology', 'virology'],\n",
       " ['cell-culture'],\n",
       " ['physiology', 'metabolism', 'cell-culture'],\n",
       " ['microbiology', 'epidemiology'],\n",
       " ['microbiology', 'bacteriology'],\n",
       " ['human-biology', 'physiology', 'hematology'],\n",
       " ['staining', 'antibody'],\n",
       " ['human-biology', 'dna', 'telomere'],\n",
       " ['neuroscience', 'physiology', 'neuroanatomy'],\n",
       " ['human-biology', 'pharmacology'],\n",
       " ['evolution', 'bioluminescence'],\n",
       " ['zoology', 'evolution', 'palaeontology'],\n",
       " ['microbiology', 'transcription', 'learning', 'receptor'],\n",
       " ['human-biology'],\n",
       " ['homework', 'mitochondria'],\n",
       " ['human-biology', 'pathology', 'joints'],\n",
       " ['epigenetics'],\n",
       " ['plant-physiology', 'botany'],\n",
       " ['molecular-biology', 'genetics'],\n",
       " ['immunology', 'epidemiology', 'vaccination'],\n",
       " ['evolution',\n",
       "  'theoretical-biology',\n",
       "  'sexual-selection',\n",
       "  'palaeontology',\n",
       "  'extinction'],\n",
       " ['genetics', 'human-genome'],\n",
       " ['homeostasis'],\n",
       " ['botany'],\n",
       " ['human-biology', 'renal-physiology', 'organs'],\n",
       " ['molecular-biology', 'cell-biology'],\n",
       " ['epigenetics'],\n",
       " ['human-biology', 'physiology', 'cardiology', 'electrocardiography'],\n",
       " ['cell-culture'],\n",
       " ['dna-sequencing'],\n",
       " ['physiology', 'cardiology'],\n",
       " ['biochemistry', 'enzymes'],\n",
       " ['biochemistry', 'dna', 'rna', 'structural-biology'],\n",
       " ['gene-expression'],\n",
       " ['homework', 'staining', 'histology'],\n",
       " ['genetics'],\n",
       " ['homework', 'staining', 'cell-biology'],\n",
       " ['evolution'],\n",
       " ['genetics', 'ecology', 'population-dynamics', 'conservation-biology'],\n",
       " ['proteins', 'structural-biology', '3d-structure'],\n",
       " ['molecular-biology', 'enzymes', 'proteins']]"
      ]
     },
     "execution_count": 36,
     "metadata": {},
     "output_type": "execute_result"
    }
   ],
   "source": [
    "tags_split = [ts.split() for ts in post_tags]\n",
    "tags_split[:100]"
   ]
  },
  {
   "cell_type": "code",
   "execution_count": 19,
   "metadata": {
    "collapsed": false
   },
   "outputs": [
    {
     "data": {
      "text/plain": [
       "4268"
      ]
     },
     "execution_count": 19,
     "metadata": {},
     "output_type": "execute_result"
    }
   ],
   "source": [
    "tag_set = set()\n",
    "\n",
    "for tags in tags_split:\n",
    "    for tag in tags:\n",
    "        tag_set.add(tag)\n",
    "\n",
    "len(tag_set)"
   ]
  },
  {
   "cell_type": "code",
   "execution_count": 23,
   "metadata": {
    "collapsed": false
   },
   "outputs": [
    {
     "data": {
      "text/plain": [
       "{'sheetrock',\n",
       " 'minors',\n",
       " 'reflexes',\n",
       " 'pet-door',\n",
       " 'alcohol-content',\n",
       " 'humidity',\n",
       " 'bristol',\n",
       " 'conservation-biology',\n",
       " 'lawn',\n",
       " 'otr',\n",
       " 'work',\n",
       " 'uht',\n",
       " 'ciphertext-only-attack',\n",
       " 'gear',\n",
       " 'reduction',\n",
       " 'xian',\n",
       " 'screens',\n",
       " 'melting-chocolate',\n",
       " 'grapes',\n",
       " 'retaining-wall',\n",
       " 'baking',\n",
       " 'yamagata',\n",
       " 'product-review',\n",
       " 'volunteering',\n",
       " 'tiraspol',\n",
       " 'pdx',\n",
       " 'afghan-citizens',\n",
       " 'format-preserving',\n",
       " 'motion',\n",
       " 'world-cup',\n",
       " 'honolulu',\n",
       " 'proof-of-work',\n",
       " 'australian-cuisine',\n",
       " 'crimea',\n",
       " 'saliva',\n",
       " 'universal-re-encryption',\n",
       " 'salt-lake-city',\n",
       " 'sodium',\n",
       " 'grating',\n",
       " 'gps',\n",
       " 'flight-status',\n",
       " 'shellfish',\n",
       " 'saffron',\n",
       " 'got',\n",
       " 'boiling',\n",
       " 'publishing',\n",
       " 'alternative-energy',\n",
       " 'upgrades',\n",
       " 'indian-railways',\n",
       " 'mutations',\n",
       " 'vessel',\n",
       " 'passports',\n",
       " 'organelle',\n",
       " 'routers',\n",
       " 'star-alliance',\n",
       " 'transplantation',\n",
       " 'oceania',\n",
       " 'instinct',\n",
       " 'beer',\n",
       " 'steamed-pudding',\n",
       " 'zad',\n",
       " 'hmac',\n",
       " 'excavation',\n",
       " 'lakes',\n",
       " 'mozambican-citizen',\n",
       " 'alternating-step',\n",
       " 'proofing',\n",
       " 'nav',\n",
       " 'yerevan',\n",
       " 'burgundy',\n",
       " 'register',\n",
       " 'skipjack',\n",
       " 'hawaii',\n",
       " 'grout',\n",
       " 'esc',\n",
       " 'baikal',\n",
       " 'replacement',\n",
       " 'riyadh',\n",
       " 'kenya',\n",
       " 'oblivious-transfer',\n",
       " 'ecuador-citizens',\n",
       " 'thermometer',\n",
       " 'pcr',\n",
       " 'trench',\n",
       " 'coaxial-cable',\n",
       " 'jordanian-citizens',\n",
       " 'sapporo',\n",
       " 'image-processing',\n",
       " 'airport-terminal',\n",
       " 'trim',\n",
       " 'code-compliance',\n",
       " 'reykjavik',\n",
       " 'quiche',\n",
       " 'sugar-free',\n",
       " 'cabling',\n",
       " 'argentina',\n",
       " 'nordic-countries',\n",
       " 'chiang-mai',\n",
       " 'kuwait',\n",
       " 'etiquette',\n",
       " 'syracuse',\n",
       " 'frying',\n",
       " 'milano-centrale',\n",
       " 'pek',\n",
       " 'moisture',\n",
       " 'prepping',\n",
       " 'teeth',\n",
       " 'symmetric',\n",
       " 'secure-storage',\n",
       " 'cur',\n",
       " 'mayonnaise',\n",
       " 'washington-state',\n",
       " 'cellular-respiration',\n",
       " 'vision',\n",
       " 'organs',\n",
       " 'human-evolution',\n",
       " 'railing',\n",
       " 'biological-control',\n",
       " 'meter',\n",
       " 'tlv',\n",
       " 'metal',\n",
       " 'tangier',\n",
       " 'cryonics',\n",
       " 'tolls',\n",
       " 'multiple-entry',\n",
       " 'adhesive',\n",
       " 'negligible',\n",
       " 'uk-citizens',\n",
       " 'thessaloniki',\n",
       " 'mycology',\n",
       " 'identification',\n",
       " 'camellia',\n",
       " 'human-anatomy',\n",
       " 'wasps',\n",
       " 'soy',\n",
       " 'vacations',\n",
       " 'azerbaijani-citizens',\n",
       " 'grains',\n",
       " 'catering',\n",
       " 'rust-removal',\n",
       " 'key-size',\n",
       " 'greens',\n",
       " 'ecies',\n",
       " 'carpet',\n",
       " 'socket',\n",
       " 'extreme-sports',\n",
       " 'dxb',\n",
       " 'socializing',\n",
       " 'hepatitis',\n",
       " 'gastroenterology',\n",
       " 'netherlands-schengen-visa',\n",
       " 'review',\n",
       " 'human-ear',\n",
       " 'mouse',\n",
       " 'table',\n",
       " 'spray',\n",
       " 'great-plains',\n",
       " 'overstaying',\n",
       " 'calgary',\n",
       " 'openni',\n",
       " 'cucumbers',\n",
       " 'dry-rot',\n",
       " 'fra',\n",
       " 'roof',\n",
       " 'bench',\n",
       " 'grand-canyon',\n",
       " 'countries',\n",
       " 'p1363',\n",
       " 'belgium',\n",
       " 'eastern-usa',\n",
       " 'iberia',\n",
       " 'spout',\n",
       " 'sports-events',\n",
       " 'krabi',\n",
       " 'integration',\n",
       " 'side-channel-attack',\n",
       " 'seasoning',\n",
       " 'hearing',\n",
       " 'tax-refunds',\n",
       " 'coastline',\n",
       " 'cranial-nerves',\n",
       " 'event-travel',\n",
       " 'ground-beef',\n",
       " 'soccer',\n",
       " 'cambodia',\n",
       " 'chip',\n",
       " 'fatty-acid-synthase',\n",
       " 'back-up',\n",
       " 'sealant',\n",
       " 'hallucinogens',\n",
       " 'dna',\n",
       " 'leaks',\n",
       " 'shades',\n",
       " 'attack',\n",
       " 'evolutionary-game-theory',\n",
       " 'gravel',\n",
       " 'health-and-safety',\n",
       " 'channel-islands',\n",
       " 'auckland',\n",
       " 'crispr',\n",
       " 'cell-sorting',\n",
       " 'pressure-canner',\n",
       " 'quorum-sensing',\n",
       " 'dh-parameters',\n",
       " 'temperature',\n",
       " 'geek-travel',\n",
       " 'genetics',\n",
       " 'boiler',\n",
       " 'lounges',\n",
       " 'osl',\n",
       " 'rotation',\n",
       " 'histone-deacetylase',\n",
       " 'carbon-monoxide',\n",
       " 'bile',\n",
       " 'collision-resistance',\n",
       " 'gabon',\n",
       " 'servos',\n",
       " 'orlando',\n",
       " 'homology',\n",
       " 'sepsis',\n",
       " 'tokenization',\n",
       " 'sharm-el-sheikh',\n",
       " 'ledger',\n",
       " 'tuscany',\n",
       " 'retrofit',\n",
       " 'delta',\n",
       " 'manchester',\n",
       " 'mistakes',\n",
       " 'sewer',\n",
       " 'slope',\n",
       " 'road-signs',\n",
       " 'anchor',\n",
       " 'signature',\n",
       " 'activerobot',\n",
       " 'pregnancy',\n",
       " 'present',\n",
       " 'korean-air',\n",
       " 'sport-equipment',\n",
       " 'singapore',\n",
       " 'quantitative-genetics',\n",
       " 'toronto',\n",
       " 'chicken-wings',\n",
       " 'dunes',\n",
       " 'falkland-islands',\n",
       " 'sauerkraut',\n",
       " 'disney',\n",
       " 'joints',\n",
       " 'costa-rica',\n",
       " 'rcservo',\n",
       " 'casablanca',\n",
       " 'braising',\n",
       " 'applications',\n",
       " 'dehumidifier',\n",
       " 'russia',\n",
       " 'alcohol',\n",
       " 'dna-helix',\n",
       " 'pathophysiology',\n",
       " 'industrial-robot',\n",
       " 'ride-sharing',\n",
       " 'religion',\n",
       " 'freedom-of-movement',\n",
       " 'opening-hours',\n",
       " 'parachutes-skydiving',\n",
       " 'food-processing',\n",
       " 'crudo',\n",
       " 'algorithm',\n",
       " 'food-safety',\n",
       " 'length-extension',\n",
       " 'jonkoping',\n",
       " 'neapolitan-pizza',\n",
       " 'permutation',\n",
       " 'gondolas-and-cable-cars',\n",
       " 'airbnb',\n",
       " 'mount',\n",
       " 'timbuktu',\n",
       " 'austin',\n",
       " 'population-biology',\n",
       " 'faucet',\n",
       " 'goair',\n",
       " 'hurricane-panels',\n",
       " 'materials',\n",
       " 'ita-matrix',\n",
       " 'passwords',\n",
       " 'pepper',\n",
       " 'leeks',\n",
       " 'built-ins',\n",
       " 'free-range',\n",
       " 'cns',\n",
       " 'tsf',\n",
       " 'residency',\n",
       " 'pittsburgh',\n",
       " 'uk-residents',\n",
       " 'michigan',\n",
       " 'food-and-drink',\n",
       " 'protein-expression',\n",
       " 'laptop',\n",
       " 'death',\n",
       " 'enzymes',\n",
       " 'screws',\n",
       " 'iata',\n",
       " 'tongue-and-groove',\n",
       " 'democratic-republic-congo',\n",
       " 'particle-board',\n",
       " 'seoul',\n",
       " 'iowa',\n",
       " 'peel',\n",
       " 'rabat',\n",
       " 'geometry',\n",
       " 'elgamal-encryption',\n",
       " 'audio',\n",
       " 'tahini',\n",
       " 'macarons',\n",
       " 'diffie-hellman',\n",
       " 'lucas',\n",
       " 'south-korea',\n",
       " 'common-travel-area',\n",
       " 'glasgow',\n",
       " 'duck',\n",
       " 'vodka',\n",
       " 'hardy-weinberg',\n",
       " 'allium',\n",
       " 'sourdough',\n",
       " 'key-schedule',\n",
       " 'athens',\n",
       " 'peak-district',\n",
       " 'spouses',\n",
       " 'zoos',\n",
       " 'mco',\n",
       " 'synthetic-biology',\n",
       " 'visual-servoing',\n",
       " 'ath',\n",
       " 'shed',\n",
       " 'tortilla-press',\n",
       " 'british-columbia',\n",
       " 'miyaguchi-preneel',\n",
       " 'drainage',\n",
       " 'butter',\n",
       " 'matrix-multiplication',\n",
       " 'bolts',\n",
       " 'ships',\n",
       " 'gulf-of-guinea',\n",
       " 'polish-cuisine',\n",
       " 'pretzels',\n",
       " 'mongolian-citizens',\n",
       " 'lawn-mower',\n",
       " 'garlic',\n",
       " 'biogeography',\n",
       " 'excavator',\n",
       " 'evidence',\n",
       " 'siberia',\n",
       " 'autoreceptor',\n",
       " 'chemicals',\n",
       " 'mechanism',\n",
       " 't-and-t-citizens',\n",
       " 'arx',\n",
       " 'land-borders',\n",
       " 'aluminum-foil',\n",
       " 'sardinia',\n",
       " 'vegetation',\n",
       " 'rising',\n",
       " 'biology-misconceptions',\n",
       " 'porch-swing',\n",
       " 'book-recommendation',\n",
       " 'lima',\n",
       " 'merkle-damgaard',\n",
       " 'maple-syrup',\n",
       " 'sociobiology',\n",
       " 'brushless-motor',\n",
       " 'trains',\n",
       " 'fragile-luggage',\n",
       " 'qatar-airways',\n",
       " 'climate-change',\n",
       " 'sausages',\n",
       " 'sexual-dimorphism',\n",
       " 'open-jaw',\n",
       " 'gluten-free',\n",
       " 'sex-determination',\n",
       " 'mobile-operators',\n",
       " 'organic',\n",
       " 'scottish-cuisine',\n",
       " 'frying-pan',\n",
       " 'books',\n",
       " 'sexual-reproduction',\n",
       " 'sunroom',\n",
       " 'southern-california',\n",
       " 'kbv',\n",
       " 'engineering',\n",
       " 'stonehenge',\n",
       " 'citrus',\n",
       " 'microwave-oven',\n",
       " 'measuring-scales',\n",
       " 'iris',\n",
       " 'patagonia',\n",
       " 'rsa-pss',\n",
       " 'caulk',\n",
       " 'dead-sea',\n",
       " 'zambia',\n",
       " 'oman',\n",
       " 'digital-cash',\n",
       " 'scratches',\n",
       " 'world-war-ii',\n",
       " 'vector-field-histogram',\n",
       " 'secure-index',\n",
       " 'key-reuse',\n",
       " 'sofia',\n",
       " 'lymph',\n",
       " 'inverse-kinematics',\n",
       " 'veins',\n",
       " 'sorbet',\n",
       " 'alljoyn',\n",
       " 'gene-therapy',\n",
       " 'pie',\n",
       " 'pre-pay',\n",
       " 'intracellular-transport',\n",
       " 'not-exactly-c',\n",
       " 'batteries',\n",
       " 'car-sharing',\n",
       " 'breaker',\n",
       " 'curry',\n",
       " 'sakhalin',\n",
       " 'google-flight',\n",
       " 'cherries',\n",
       " 'chutney',\n",
       " 'engineered-flooring',\n",
       " 'batter',\n",
       " 'pilot-light',\n",
       " 'sprinkler-system',\n",
       " 'neurodegerative-disorders',\n",
       " 'doughnuts',\n",
       " 'squash',\n",
       " 'mass-spectrometry',\n",
       " 'pgp',\n",
       " 'galapagos-islands',\n",
       " 'diabetes-mellitus',\n",
       " 'termite',\n",
       " 'phone-wiring',\n",
       " 'wood-filler',\n",
       " 'chronic',\n",
       " 'crete',\n",
       " 'wasabi',\n",
       " 'polyurethane',\n",
       " 'arn',\n",
       " 'georgian-bay',\n",
       " 'avv',\n",
       " 'local-customs',\n",
       " 'eindhoven',\n",
       " 'milk',\n",
       " 'ghana',\n",
       " 'function-evaluation',\n",
       " 'migration',\n",
       " 'airline-alliances',\n",
       " 'minestrone',\n",
       " 'seaports',\n",
       " 'singaporean-citizens',\n",
       " 'asn.1',\n",
       " 'proof-of-employment',\n",
       " 'goa',\n",
       " 'ukraine',\n",
       " 'summer',\n",
       " 'linear-bearing',\n",
       " 'passport-stamps',\n",
       " 'render',\n",
       " 'poly1305',\n",
       " 'fryer',\n",
       " 'parking',\n",
       " 'force',\n",
       " 'territoriality',\n",
       " 'edinburgh',\n",
       " 'cozumel',\n",
       " 'kul',\n",
       " 'nostalgia',\n",
       " 'imaging',\n",
       " 'ramp',\n",
       " 'amazon-jungle',\n",
       " 'officials',\n",
       " 'rwanda',\n",
       " 'festivals',\n",
       " 'afghanistan',\n",
       " 'tgd',\n",
       " 'eggplant',\n",
       " 'untagged',\n",
       " 'quinoa',\n",
       " 'short-notice',\n",
       " 'heart-output',\n",
       " 'lhr',\n",
       " 'half-and-half',\n",
       " 'siphash',\n",
       " 'ist',\n",
       " 'tpe',\n",
       " 'avocados',\n",
       " 'sunchokes',\n",
       " 'panama-city',\n",
       " 'forced-air',\n",
       " 'integrity',\n",
       " 'dominican-republic',\n",
       " 'transportation',\n",
       " 'genetic-diagrams',\n",
       " 'dimmer-switch',\n",
       " 'football',\n",
       " 'magnetometer',\n",
       " 'non-repudiation',\n",
       " 'zzyzx',\n",
       " 'universal-hash',\n",
       " 'fuse-breaker',\n",
       " 'land-transit',\n",
       " 'convergent-encryption',\n",
       " 'bog',\n",
       " 'propulsion',\n",
       " 'barn',\n",
       " 'kortrijk',\n",
       " 'ardupilot',\n",
       " 'low-latency',\n",
       " 'publication',\n",
       " 'water-circulating-heating',\n",
       " 'maps',\n",
       " 'mountains',\n",
       " 'kitchen-sink',\n",
       " 'hardware',\n",
       " 'aeroflot',\n",
       " 'influenza',\n",
       " 'tahiti',\n",
       " 'ecosystem',\n",
       " 'vignettes',\n",
       " 'prion',\n",
       " 'republic-congo',\n",
       " 'vertebrates',\n",
       " 'clothing',\n",
       " 'parquet',\n",
       " 'northeast-china',\n",
       " 'pre-clearance',\n",
       " 'female-travellers',\n",
       " 'appliances',\n",
       " 'one-time-pad',\n",
       " 'cilia',\n",
       " 'speakers',\n",
       " 'chestnuts',\n",
       " 'crc',\n",
       " 'drain',\n",
       " 'old-work',\n",
       " 'space',\n",
       " 'reuse',\n",
       " 'uruguay',\n",
       " 'reprap',\n",
       " 'rs232',\n",
       " 'reinforcement-learning',\n",
       " 'chai',\n",
       " 'circuit-breaker',\n",
       " 'population-genetics',\n",
       " 'jetlag',\n",
       " 'guyanese-citizens',\n",
       " 'rum',\n",
       " 'caucasus',\n",
       " 'thickness',\n",
       " 'abkhazia',\n",
       " 'planning',\n",
       " 'luby-rackoff',\n",
       " 'quebec',\n",
       " 'taxonomy',\n",
       " 'rangefinder',\n",
       " 'gazpacho',\n",
       " 'lifespan',\n",
       " 'thalys',\n",
       " 'low-fat',\n",
       " 'memory',\n",
       " 'espresso',\n",
       " 'literature',\n",
       " 'crater-lake',\n",
       " 'jicama',\n",
       " 'backyard',\n",
       " 'south-america',\n",
       " 'hydronic',\n",
       " 'rivers',\n",
       " 'jro',\n",
       " 'chain',\n",
       " 'iraq-citizens',\n",
       " 'extreme-tourism',\n",
       " 'vermont',\n",
       " 'canning',\n",
       " 'chips',\n",
       " 'kosher-salt',\n",
       " 'dme',\n",
       " 'bikes',\n",
       " 'bones',\n",
       " 'wind',\n",
       " 'pwm',\n",
       " 'dakar',\n",
       " 'sichuan',\n",
       " 'cutting',\n",
       " 'pathology',\n",
       " 'authentication',\n",
       " 'septic',\n",
       " 'venting',\n",
       " 'vno',\n",
       " 'virgin-australia',\n",
       " 'backer-board',\n",
       " 'congruence',\n",
       " 'guatemala',\n",
       " 'digestion',\n",
       " 'griddle',\n",
       " 'ocb',\n",
       " 'water-purification',\n",
       " 'cnc',\n",
       " 'hermitian-curves',\n",
       " 'pid',\n",
       " 'research',\n",
       " 'kalman-filter',\n",
       " 'troubleshooting',\n",
       " 'vegetarian',\n",
       " 'kuka',\n",
       " 'islam',\n",
       " 'ala',\n",
       " 'sju',\n",
       " 'akl',\n",
       " 'hkdf',\n",
       " 'education',\n",
       " 'nonce',\n",
       " 'services',\n",
       " 'copper-tubing',\n",
       " 'aruba',\n",
       " 'snow',\n",
       " 'psychology',\n",
       " 'sinkhole',\n",
       " 'water-meter',\n",
       " 'bank-statement',\n",
       " 'train-stations',\n",
       " 'pseudogenes',\n",
       " 'canada',\n",
       " 'spackle',\n",
       " 'warsaw',\n",
       " 'cupcakes',\n",
       " 'jerk',\n",
       " 'belarus',\n",
       " 'mailbox',\n",
       " 'visual-cryptography',\n",
       " 'alkyd',\n",
       " 'buenos-aires',\n",
       " 'buddhism',\n",
       " 'uk',\n",
       " 'honduran-citizens',\n",
       " 'sealing',\n",
       " 'prefab',\n",
       " 'crackers',\n",
       " 'twins',\n",
       " 'stove-top',\n",
       " 'euro',\n",
       " 'pedagogy',\n",
       " 'cubes',\n",
       " 'hand-luggage',\n",
       " 'gene-regulation',\n",
       " 'walkway',\n",
       " 'japanese-visitors',\n",
       " 'seasonal',\n",
       " 'curonian-spit',\n",
       " 'vueling',\n",
       " 'air-asia',\n",
       " 'middle-east',\n",
       " 'deniable-encryption',\n",
       " 'dolomites',\n",
       " 'belize',\n",
       " 'bonn',\n",
       " 'vantage-points',\n",
       " 'ripemd',\n",
       " 'front-door',\n",
       " 'moss',\n",
       " 'protection',\n",
       " 'inspection',\n",
       " 'biostatistics',\n",
       " 'japanese-cuisine',\n",
       " 'ssh',\n",
       " 'msp',\n",
       " 'grounding-and-bonding',\n",
       " 'chime',\n",
       " 'vietnamese-cuisine',\n",
       " 'serving-suggestion',\n",
       " 'encoding',\n",
       " 'christchurch',\n",
       " 'maastricht',\n",
       " 'quickbread',\n",
       " 'quadratic-residuosity',\n",
       " 'membrane-transport',\n",
       " 'ratp',\n",
       " 'operating-systems',\n",
       " 'symbiosis',\n",
       " 'pot-roast',\n",
       " 'high-speed-rail',\n",
       " 'meatloaf',\n",
       " 'neurology',\n",
       " 'molluscs',\n",
       " 'pastry',\n",
       " 'stn',\n",
       " 'sharia-law',\n",
       " 'bru',\n",
       " 'feline',\n",
       " 'crust',\n",
       " 'nicaragua',\n",
       " 'skin',\n",
       " 'jeju',\n",
       " 'cju',\n",
       " 'probabilistic-encryption',\n",
       " 'novosibirsk',\n",
       " 'argon2',\n",
       " 'index-of-coincidence',\n",
       " 'electronics',\n",
       " 'standby',\n",
       " 'danfoss',\n",
       " 'wheat',\n",
       " 'haitian-citizens',\n",
       " 'self-leveling-concrete',\n",
       " 'laser',\n",
       " 'transfer-switch',\n",
       " 'occupancygrid',\n",
       " 'iad',\n",
       " 'photosynthesis',\n",
       " 'refunds',\n",
       " 'gait',\n",
       " 'ecoli',\n",
       " 'methods',\n",
       " 'tirana',\n",
       " 'traitor-tracing',\n",
       " 'luggage-storage',\n",
       " 'north-island',\n",
       " 'spray-foam',\n",
       " 'metal-roof',\n",
       " 'faq',\n",
       " 'pbkdf',\n",
       " 'black-sea',\n",
       " 'syx',\n",
       " 'nose',\n",
       " 'sweden',\n",
       " 'euronight',\n",
       " 'santiago-de-chile',\n",
       " 'stateless-persons',\n",
       " 'epoxy',\n",
       " 'transformer',\n",
       " 'syrup',\n",
       " 'queensland',\n",
       " 'beverages',\n",
       " 'usb',\n",
       " 'sociality',\n",
       " 'libya',\n",
       " 'mobile-internet',\n",
       " 'access-control',\n",
       " 'russian-cuisine',\n",
       " 'radiation',\n",
       " 'injury',\n",
       " 'pine',\n",
       " 'kerdi',\n",
       " 'japan',\n",
       " 'booking.com',\n",
       " 'synapses',\n",
       " 'deep-frying',\n",
       " 'bratislava',\n",
       " 'syrian-citizens',\n",
       " 'gas',\n",
       " 'water-treatment',\n",
       " 'whipper',\n",
       " 'error-propagation',\n",
       " 'skyteam',\n",
       " 'keccak',\n",
       " 'pakistani-citizens',\n",
       " 'sugar',\n",
       " 'brining',\n",
       " 'change-purpose-of-travel',\n",
       " 'roads',\n",
       " 'subfloor',\n",
       " 'underwater',\n",
       " 'bavaria',\n",
       " 'equipment',\n",
       " 'sex',\n",
       " 'winnipeg',\n",
       " 'short-connection',\n",
       " 'arabic-language',\n",
       " 'doors',\n",
       " 'paint',\n",
       " 'wellington',\n",
       " 'liechtenstein-citizens',\n",
       " 'ontogeny',\n",
       " 'steganography',\n",
       " 'lan-airlines',\n",
       " 'circuit',\n",
       " 'bandsaw',\n",
       " 'veal',\n",
       " 'clog',\n",
       " 'souffle',\n",
       " 'green-fluorescent-protein',\n",
       " 'fire-hazard',\n",
       " 'kitchen-counters',\n",
       " 'species-distribution',\n",
       " 'compressor',\n",
       " 'locate-this',\n",
       " 'kurdistan',\n",
       " 'eastern-europe',\n",
       " 'ljubljana',\n",
       " 'deoxys',\n",
       " 'carbonara',\n",
       " 'transport-security',\n",
       " 'md2',\n",
       " 'gro',\n",
       " 'cellular',\n",
       " 'yorkshire',\n",
       " 'padding-oracle',\n",
       " 'turkish-cuisine',\n",
       " 'cooling',\n",
       " 'bec',\n",
       " 'around-the-world',\n",
       " 'spain',\n",
       " 'traffic-analysis',\n",
       " 'rye',\n",
       " 'durian',\n",
       " 'rice-wine',\n",
       " 'winterizing',\n",
       " 'north-dakota',\n",
       " 'flambe',\n",
       " 'dual-nationality',\n",
       " 'sea',\n",
       " 's-mime',\n",
       " 'lgbt',\n",
       " 'yukon',\n",
       " 'medina',\n",
       " 'ccp4',\n",
       " 'modes-of-operation',\n",
       " 'rice',\n",
       " 'peeling',\n",
       " 'message-recovery',\n",
       " 'rental',\n",
       " 'color',\n",
       " 'rolls',\n",
       " 'java',\n",
       " 'pectin',\n",
       " 'security',\n",
       " 'andorra',\n",
       " 'niederreiter',\n",
       " 'recombination',\n",
       " 'mushroom',\n",
       " 'dehydration',\n",
       " 'senescence',\n",
       " 'skiing',\n",
       " 'des',\n",
       " 'waste-disposal',\n",
       " 'cracks',\n",
       " 'sweden-citizens',\n",
       " 'relocating',\n",
       " 'flashing',\n",
       " 'saudi-arabia',\n",
       " 'buses',\n",
       " 'structural',\n",
       " 'gammon',\n",
       " 'perperikon',\n",
       " '3d-model',\n",
       " 'nist',\n",
       " 'grading',\n",
       " 'aquaculture',\n",
       " 'toxicology',\n",
       " 'gates',\n",
       " 'mexican-cuisine',\n",
       " 'hyderabad',\n",
       " 'chukotka',\n",
       " 'lucerne',\n",
       " 'boarding-passes',\n",
       " 'cauliflower',\n",
       " 'sharpening',\n",
       " 'mongolian-language',\n",
       " 'kitchen',\n",
       " 'luxembourg-city',\n",
       " 'olive',\n",
       " 'fiat-shamir',\n",
       " 'cinderblock',\n",
       " 'tropical-destinations',\n",
       " 'genomes',\n",
       " 'human',\n",
       " 'denial-of-entry',\n",
       " 'war-zones',\n",
       " 'finnair',\n",
       " 'cocktails',\n",
       " 'light-fixture',\n",
       " 'ofii',\n",
       " 'oregano',\n",
       " 'animal-husbandry',\n",
       " 'cord-and-plug',\n",
       " 'voc',\n",
       " 'fortresses',\n",
       " 'truss',\n",
       " 'transposition-cipher',\n",
       " 'battle-bot',\n",
       " 'hkg',\n",
       " 'park-city',\n",
       " 'smoothie',\n",
       " 'exhaust-vent',\n",
       " 'el-calafate',\n",
       " 'lousiana',\n",
       " 'thermodynamics',\n",
       " 'icn',\n",
       " 'san-jose-california',\n",
       " 'pasteurization',\n",
       " 'fans',\n",
       " 'electric',\n",
       " 'forward-genetics',\n",
       " 'smell',\n",
       " 'parasitology',\n",
       " 'pressure-treated',\n",
       " 'herpetology',\n",
       " 'el-salvador-citizens',\n",
       " 'aes',\n",
       " 'freezing',\n",
       " 'peanuts',\n",
       " 'rsap',\n",
       " 'encapsulation',\n",
       " 'beans',\n",
       " 'den',\n",
       " '3des',\n",
       " 'thai',\n",
       " 'hillwalking',\n",
       " 'cramer-shoup',\n",
       " 'ramadan',\n",
       " 'gazebo',\n",
       " 'phosphate',\n",
       " 'factoids',\n",
       " 'pavers',\n",
       " 'input',\n",
       " 'wireless',\n",
       " 'waterproofing',\n",
       " 'atl',\n",
       " 'blum-blum-shub',\n",
       " 'lyon',\n",
       " 'castles',\n",
       " 'pvg',\n",
       " 'clt',\n",
       " 'crepe',\n",
       " 'podgorica',\n",
       " 'roast',\n",
       " 'british-citizens',\n",
       " 'central-america',\n",
       " 'macedonian-citizens',\n",
       " 'hot-water',\n",
       " 'oaxaca',\n",
       " 'scales',\n",
       " 'whipped-cream',\n",
       " 'panama',\n",
       " 'randomness',\n",
       " 'almonds',\n",
       " 'malt',\n",
       " 'augpake',\n",
       " 'shanghai',\n",
       " 'homocysteine',\n",
       " 'supermarket',\n",
       " 'robotic-arm',\n",
       " 'drywall-anchor',\n",
       " 'culture',\n",
       " 'washing-machine',\n",
       " 'fascia',\n",
       " 'iranian-citizens',\n",
       " 'bioinformatics',\n",
       " 'threefish',\n",
       " 'thai-citizens',\n",
       " 'cph',\n",
       " 'couples',\n",
       " 'languages',\n",
       " 'timezones',\n",
       " 'developmental-biology',\n",
       " 'basting',\n",
       " 'aerolineas-argentinas',\n",
       " 'metal-cutting',\n",
       " 'brain',\n",
       " 'hel',\n",
       " 'antibiotics',\n",
       " 'parasitism',\n",
       " 'hardwood',\n",
       " 'telephone',\n",
       " 'pharmacodynamics',\n",
       " 'wok',\n",
       " 'fireblocking',\n",
       " 'via-rail',\n",
       " 'blood-circulation',\n",
       " 'cell-culture',\n",
       " 'cell-cycle',\n",
       " 'kazakhstani-citizens',\n",
       " 'coloring',\n",
       " 'private-set-intersection',\n",
       " 'mold',\n",
       " 'soymilk',\n",
       " 'nails',\n",
       " 'cellphones',\n",
       " 'pasta',\n",
       " 'crockpot',\n",
       " 'ukrainian-language',\n",
       " 'malleability',\n",
       " 'wizz-air',\n",
       " 'aluminum-wiring',\n",
       " 'caribbean',\n",
       " 'scrypt',\n",
       " 'blake2b',\n",
       " 'botany',\n",
       " 'catalan-language',\n",
       " 'new-england',\n",
       " 'literature-search',\n",
       " 'paint-removal',\n",
       " 'planning-permission',\n",
       " 'clothes-washer',\n",
       " 'pairing',\n",
       " 'late-arrival',\n",
       " ...}"
      ]
     },
     "execution_count": 23,
     "metadata": {},
     "output_type": "execute_result"
    }
   ],
   "source": [
    "tag_set"
   ]
  },
  {
   "cell_type": "code",
   "execution_count": 51,
   "metadata": {
    "collapsed": true
   },
   "outputs": [],
   "source": [
    "useless_tags = set(['can', 'water', 'work', 'got', 'well', \\\n",
    "'light', 'idea', 'information', 'flight', 'planning', 'wire', 'main', 'remove', 'data', \\\n",
    "'power', 'floor', 'current', 'heat', 'ground', 'kitchen', 'switch', 'food', 'security', \\\n",
    "'algorithm', 'ceiling', 'control', 'space', 'building', 'metal', 'level', 'temperature', \\\n",
    "'advice', 'fan', 'saw', 'nice', 'cover', 'human', 'plastic', 'cost', 'taste', 'breaker', \\\n",
    "'pipe', 'hole', 'cell', 'circuit', 'research', 'bits', 'input', 'electric', 'oil', 'family', \\\n",
    "'support', 'wood', 'green', 'search', 'gas', 'countries', 'produce', 'concrete', 'drain', 'service', \\\n",
    "'post', 'salt', 'c', 'range', 'pan', 'fresh', 'keys', 'basement', 'damage', 'sugar', 'species', \\\n",
    "'fridge', 'present', 'gene', 'sounds', 'neutral', 'frame', 'oven', 'life', 'paint', 'table', 'attack', \\\n",
    "'seal', 'walls', 'internet', 'stuck', 'heater', 'methods', 'steps', 'outlets', 'pump', 'meat', 'garage', \\\n",
    "'structure', 'color', 'gap', 'addition', 'bathroom', 'price'])"
   ]
  },
  {
   "cell_type": "code",
   "execution_count": 52,
   "metadata": {
    "collapsed": false
   },
   "outputs": [
    {
     "data": {
      "text/plain": [
       "4168"
      ]
     },
     "execution_count": 52,
     "metadata": {},
     "output_type": "execute_result"
    }
   ],
   "source": [
    "useful_tag_set = tag_set - useless_tags\n",
    "len(useful_tag_set)"
   ]
  },
  {
   "cell_type": "code",
   "execution_count": null,
   "metadata": {
    "collapsed": true
   },
   "outputs": [],
   "source": [
    "# 'security', 'algorithm', "
   ]
  },
  {
   "cell_type": "code",
   "execution_count": null,
   "metadata": {
    "collapsed": true
   },
   "outputs": [],
   "source": []
  },
  {
   "cell_type": "code",
   "execution_count": 53,
   "metadata": {
    "collapsed": false
   },
   "outputs": [
    {
     "data": {
      "text/plain": [
       "87000"
      ]
     },
     "execution_count": 53,
     "metadata": {},
     "output_type": "execute_result"
    }
   ],
   "source": [
    "contents_predict_tags = []\n",
    "\n",
    "for content in cleansed_contents:\n",
    "    predict_tags = set()\n",
    "    for word in content:\n",
    "        if word in useful_tag_set:\n",
    "            predict_tags.add(word)\n",
    "    contents_predict_tags.append(list(predict_tags))\n",
    "\n",
    "len(contents_predict_tags)"
   ]
  },
  {
   "cell_type": "code",
   "execution_count": 54,
   "metadata": {
    "collapsed": false
   },
   "outputs": [
    {
     "data": {
      "text/plain": [
       "[['translation', 'ribosome'],\n",
       " [],\n",
       " ['anatomy'],\n",
       " ['minipreps', 'stock'],\n",
       " ['splicing', 'mrna', 'exons'],\n",
       " ['dna'],\n",
       " ['resources', 'signalling', 'electrical'],\n",
       " [],\n",
       " ['experiment', 'fluorescent'],\n",
       " ['chloroplasts', 'mitochondria'],\n",
       " ['high-throughput'],\n",
       " ['dna', 'protocol'],\n",
       " ['statistics'],\n",
       " ['metabolism', 'science'],\n",
       " ['experimental', 'histone'],\n",
       " ['exons'],\n",
       " [],\n",
       " ['basics', 'literature', 'children', 'epigenetics'],\n",
       " ['minipreps', 'wash', 'protocol', 'glucose', 'plasmids'],\n",
       " ['exchange', 'structural'],\n",
       " ['chromatin'],\n",
       " ['electrical'],\n",
       " ['lead', 'transcription'],\n",
       " [],\n",
       " ['root'],\n",
       " ['introns'],\n",
       " ['polymerase', 'literature', 'efficiency', 'transcription'],\n",
       " ['community', 'kidney', 'stone', 'mechanism'],\n",
       " ['primer'],\n",
       " ['microbiology', 'salmonella'],\n",
       " ['dna'],\n",
       " ['pulses', 'brain', 'electrical'],\n",
       " ['mushrooms'],\n",
       " ['polymerase', 'recombinant', 'culture'],\n",
       " ['brain', 'ventricles', 'pool'],\n",
       " ['stain', 'mammals'],\n",
       " ['diet', 'insects', 'fish', 'poison'],\n",
       " ['staining'],\n",
       " ['snp', 'china'],\n",
       " ['radiation', 'dna', 'insects', 'repair'],\n",
       " ['lead'],\n",
       " ['evolution', 'tree', 'extinction', 'mammals'],\n",
       " ['books', 'evolution'],\n",
       " ['dna'],\n",
       " ['recombinant', 'antibody'],\n",
       " ['dna', 'protocol', 'preparation', 'pcr', 'wet'],\n",
       " ['resources', 'learning'],\n",
       " [],\n",
       " [],\n",
       " ['chemicals'],\n",
       " ['histone', 'evidence', 'islands', 'rna', 'dna', 'long-term', 'cpg'],\n",
       " ['growth', 'phosphate', 'acid', 'medina', 'calcium'],\n",
       " ['liver', 'selection', 'virus'],\n",
       " ['dogs'],\n",
       " ['extremophiles', 'community', 'astrobiology', 'sea', 'vent'],\n",
       " ['blast', 'study', 'dna'],\n",
       " ['proteins', 'environment', 'ribosome', 'transcription'],\n",
       " ['concentration', 'protocol', 'yeast', 'column', 'kit', 'dna'],\n",
       " ['storage'],\n",
       " [],\n",
       " ['experiment'],\n",
       " ['concentration', 'insulin'],\n",
       " ['dynamics', 'infection', 'dose', 'probability'],\n",
       " ['virology'],\n",
       " [],\n",
       " ['antibody'],\n",
       " ['telomere', 'dna', 'evidence', 'indicator', 'mechanism'],\n",
       " ['cellular', 'tissue'],\n",
       " [],\n",
       " [],\n",
       " ['vertebrates'],\n",
       " ['transcription', 'learning', 'chain', 'receptor'],\n",
       " ['mechanism'],\n",
       " ['ncbi', 'chain', 'mitochondria'],\n",
       " ['growth', 'genetics', 'joints', 'mechanism', 'inflammation'],\n",
       " [],\n",
       " ['winter', 'frost'],\n",
       " [],\n",
       " [],\n",
       " ['experimental', 'selection', 'extinction', 'evidence', 'evolution'],\n",
       " ['dna'],\n",
       " ['humidity'],\n",
       " [],\n",
       " ['lead', 'physiology', 'kidney', 'organs'],\n",
       " ['guide', 'study', 'cellular'],\n",
       " ['learning'],\n",
       " [],\n",
       " [],\n",
       " ['software', 'proteomics', 'high-throughput'],\n",
       " [],\n",
       " ['purification', 'protocol'],\n",
       " ['enzymes', 'rna', 'dna', 'stability'],\n",
       " [],\n",
       " ['stain', 'staining', 'chromosome', 'malaria'],\n",
       " ['transcription', 'rna', 'errors', 'testing', 'delta'],\n",
       " ['stain', 'dna', 'staining', 'chromosome'],\n",
       " ['cycle', 'behavior', 'rates'],\n",
       " [],\n",
       " ['proteins', 'pdb', 'database'],\n",
       " ['enzymes']]"
      ]
     },
     "execution_count": 54,
     "metadata": {},
     "output_type": "execute_result"
    }
   ],
   "source": [
    "contents_predict_tags[:100]"
   ]
  },
  {
   "cell_type": "code",
   "execution_count": 55,
   "metadata": {
    "collapsed": false
   },
   "outputs": [],
   "source": [
    "# from collections import Counter\n",
    "\n",
    "# tags_flat = []\n",
    "\n",
    "# for tags in tags_split:\n",
    "#     tags_flat.extend(tags)\n",
    "    \n",
    "# tags_count = Counter(tags_flat)\n",
    "# tags_count.most_common(100)"
   ]
  },
  {
   "cell_type": "code",
   "execution_count": null,
   "metadata": {
    "collapsed": true
   },
   "outputs": [],
   "source": []
  },
  {
   "cell_type": "code",
   "execution_count": 56,
   "metadata": {
    "collapsed": false
   },
   "outputs": [],
   "source": [
    "# predict_tags_flat = []\n",
    "\n",
    "# for tags in contents_predict_tags:\n",
    "#     predict_tags_flat.extend(tags)\n",
    "\n",
    "# predict_tags_count = Counter(predict_tags_flat)\n",
    "\n",
    "# predict_tags_count.most_common(100)"
   ]
  },
  {
   "cell_type": "code",
   "execution_count": 32,
   "metadata": {
    "collapsed": true
   },
   "outputs": [],
   "source": []
  },
  {
   "cell_type": "markdown",
   "metadata": {},
   "source": [
    "# Test"
   ]
  },
  {
   "cell_type": "code",
   "execution_count": null,
   "metadata": {
    "collapsed": true
   },
   "outputs": [],
   "source": []
  },
  {
   "cell_type": "code",
   "execution_count": null,
   "metadata": {
    "collapsed": true
   },
   "outputs": [],
   "source": []
  },
  {
   "cell_type": "code",
   "execution_count": null,
   "metadata": {
    "collapsed": true
   },
   "outputs": [],
   "source": []
  },
  {
   "cell_type": "code",
   "execution_count": null,
   "metadata": {
    "collapsed": true
   },
   "outputs": [],
   "source": []
  },
  {
   "cell_type": "code",
   "execution_count": null,
   "metadata": {
    "collapsed": true
   },
   "outputs": [],
   "source": []
  },
  {
   "cell_type": "code",
   "execution_count": null,
   "metadata": {
    "collapsed": true
   },
   "outputs": [],
   "source": []
  },
  {
   "cell_type": "code",
   "execution_count": null,
   "metadata": {
    "collapsed": true
   },
   "outputs": [],
   "source": []
  },
  {
   "cell_type": "code",
   "execution_count": null,
   "metadata": {
    "collapsed": true
   },
   "outputs": [],
   "source": []
  },
  {
   "cell_type": "code",
   "execution_count": null,
   "metadata": {
    "collapsed": true
   },
   "outputs": [],
   "source": []
  },
  {
   "cell_type": "code",
   "execution_count": null,
   "metadata": {
    "collapsed": true
   },
   "outputs": [],
   "source": []
  },
  {
   "cell_type": "code",
   "execution_count": null,
   "metadata": {
    "collapsed": true
   },
   "outputs": [],
   "source": []
  },
  {
   "cell_type": "code",
   "execution_count": null,
   "metadata": {
    "collapsed": true
   },
   "outputs": [],
   "source": []
  },
  {
   "cell_type": "code",
   "execution_count": 57,
   "metadata": {
    "collapsed": false
   },
   "outputs": [],
   "source": [
    "# common_tags = [t[0] for t in predict_tags_count.most_common(100)]"
   ]
  },
  {
   "cell_type": "code",
   "execution_count": 45,
   "metadata": {
    "collapsed": false
   },
   "outputs": [
    {
     "name": "stdout",
     "output_type": "stream",
     "text": [
      "['can', 'water', 'work', 'got', 'well', 'light', 'idea', 'information', 'flight', 'planning', 'wire', 'main', 'remove', 'data', 'power', 'floor', 'current', 'heat', 'ground', 'kitchen', 'switch', 'food', 'security', 'algorithm', 'ceiling', 'control', 'space', 'building', 'metal', 'level', 'temperature', 'advice', 'fan', 'saw', 'nice', 'cover', 'human', 'plastic', 'cost', 'taste', 'breaker', 'pipe', 'hole', 'cell', 'circuit', 'research', 'bits', 'input', 'electric', 'oil', 'family', 'support', 'wood', 'green', 'search', 'gas', 'countries', 'produce', 'concrete', 'drain', 'service', 'post', 'salt', 'c', 'range', 'pan', 'fresh', 'keys', 'basement', 'damage', 'sugar', 'species', 'fridge', 'present', 'gene', 'sounds', 'neutral', 'frame', 'oven', 'life', 'paint', 'table', 'attack', 'seal', 'walls', 'internet', 'stuck', 'heater', 'methods', 'steps', 'outlets', 'pump', 'meat', 'garage', 'structure', 'color', 'gap', 'addition', 'bathroom', 'price']\n"
     ]
    }
   ],
   "source": [
    "# print(common_tags)"
   ]
  },
  {
   "cell_type": "code",
   "execution_count": null,
   "metadata": {
    "collapsed": true
   },
   "outputs": [],
   "source": []
  },
  {
   "cell_type": "code",
   "execution_count": null,
   "metadata": {
    "collapsed": true
   },
   "outputs": [],
   "source": []
  },
  {
   "cell_type": "code",
   "execution_count": null,
   "metadata": {
    "collapsed": true
   },
   "outputs": [],
   "source": []
  },
  {
   "cell_type": "code",
   "execution_count": 12,
   "metadata": {
    "collapsed": false
   },
   "outputs": [
    {
     "name": "stdout",
     "output_type": "stream",
     "text": [
      "87000\n",
      "182\n"
     ]
    },
    {
     "data": {
      "text/plain": [
       "'prokaryotic translation critical efficient translation location ribosome binding site relative start codon ideally supposed b away start bases away even observable effect translation'"
      ]
     },
     "execution_count": 12,
     "metadata": {},
     "output_type": "execute_result"
    }
   ],
   "source": [
    "print(len(cleansed_contents))\n",
    "print(len(cleansed_contents[0]))\n",
    "cleansed_contents[0]"
   ]
  },
  {
   "cell_type": "code",
   "execution_count": 13,
   "metadata": {
    "collapsed": false
   },
   "outputs": [],
   "source": [
    "# words = []\n",
    "# for w in cleansed_contents_words:\n",
    "#     words.extend(w)\n",
    "# print(len(words))"
   ]
  },
  {
   "cell_type": "markdown",
   "metadata": {},
   "source": [
    "# extract content features"
   ]
  },
  {
   "cell_type": "code",
   "execution_count": 15,
   "metadata": {
    "collapsed": true
   },
   "outputs": [],
   "source": [
    "from sklearn.feature_extraction.text import CountVectorizer, TfidfVectorizer\n",
    "\n",
    "vectorizer = TfidfVectorizer(use_idf=False, \\\n",
    "                             stop_words = \"english\", \\\n",
    "                             tokenizer = None,    \\\n",
    "                             preprocessor = None, \\\n",
    "                             max_features = 10000)\n",
    "\n",
    "# vectorizer = CountVectorizer(analyzer = \"word\",   \\\n",
    "#                              tokenizer = None,    \\\n",
    "#                              preprocessor = None, \\\n",
    "#                              stop_words = \"english\",   \\\n",
    "#                              max_features = 10000) "
   ]
  },
  {
   "cell_type": "code",
   "execution_count": 16,
   "metadata": {
    "collapsed": false
   },
   "outputs": [
    {
     "data": {
      "text/plain": [
       "(87000, 10000)"
      ]
     },
     "execution_count": 16,
     "metadata": {},
     "output_type": "execute_result"
    }
   ],
   "source": [
    "contents_feature = vectorizer.fit_transform(cleansed_contents)\n",
    "contents_feature.shape"
   ]
  },
  {
   "cell_type": "code",
   "execution_count": 17,
   "metadata": {
    "collapsed": false
   },
   "outputs": [
    {
     "name": "stdout",
     "output_type": "stream",
     "text": [
      "  (0, 2879)\t0.182574185835\n",
      "  (0, 700)\t0.182574185835\n",
      "  (0, 602)\t0.36514837167\n",
      "  (0, 8753)\t0.182574185835\n",
      "  (0, 4305)\t0.182574185835\n",
      "  (0, 1641)\t0.182574185835\n",
      "  (0, 8490)\t0.36514837167\n",
      "  (0, 7250)\t0.182574185835\n",
      "  (0, 8127)\t0.182574185835\n",
      "  (0, 829)\t0.182574185835\n",
      "  (0, 7475)\t0.182574185835\n",
      "  (0, 5161)\t0.182574185835\n",
      "  (0, 2887)\t0.182574185835\n",
      "  (0, 2107)\t0.182574185835\n",
      "  (0, 9238)\t0.547722557505\n",
      "  (0, 6821)\t0.182574185835\n"
     ]
    }
   ],
   "source": [
    "print(contents_feature[0])"
   ]
  },
  {
   "cell_type": "code",
   "execution_count": 17,
   "metadata": {
    "collapsed": false
   },
   "outputs": [],
   "source": [
    "# vectorizer.get_feature_names()"
   ]
  },
  {
   "cell_type": "markdown",
   "metadata": {},
   "source": [
    "# extract title features"
   ]
  },
  {
   "cell_type": "code",
   "execution_count": 18,
   "metadata": {
    "collapsed": false
   },
   "outputs": [],
   "source": [
    "# domains_titles = [df['title'].tolist() for df in df_trains]\n",
    "# titles = [titles for domain_titles in domains_titles for titles in domain_titles]\n",
    "# len(titles)"
   ]
  },
  {
   "cell_type": "code",
   "execution_count": 19,
   "metadata": {
    "collapsed": false
   },
   "outputs": [],
   "source": [
    "# cleansed_titles = [cleanse(title) for title in titles]\n",
    "# len(cleansed_titles)"
   ]
  },
  {
   "cell_type": "code",
   "execution_count": 20,
   "metadata": {
    "collapsed": false
   },
   "outputs": [],
   "source": [
    "# cleansed_titles[:10]"
   ]
  },
  {
   "cell_type": "code",
   "execution_count": 21,
   "metadata": {
    "collapsed": false
   },
   "outputs": [],
   "source": [
    "# titles_feature = vectorizer.transform(cleansed_titles)\n",
    "# titles_feature.shape"
   ]
  },
  {
   "cell_type": "code",
   "execution_count": 22,
   "metadata": {
    "collapsed": false
   },
   "outputs": [],
   "source": [
    "# print(titles_feature[:10])"
   ]
  },
  {
   "cell_type": "markdown",
   "metadata": {},
   "source": [
    "# extract tags features"
   ]
  },
  {
   "cell_type": "code",
   "execution_count": 23,
   "metadata": {
    "collapsed": true
   },
   "outputs": [],
   "source": [
    "# tag_vectorizer = CountVectorizer(analyzer = \"word\",   \\\n",
    "#                              tokenizer = None,    \\\n",
    "#                              preprocessor = None, \\\n",
    "#                              stop_words = None) "
   ]
  },
  {
   "cell_type": "code",
   "execution_count": 18,
   "metadata": {
    "collapsed": false
   },
   "outputs": [
    {
     "data": {
      "text/plain": [
       "87000"
      ]
     },
     "execution_count": 18,
     "metadata": {},
     "output_type": "execute_result"
    }
   ],
   "source": [
    "domains_tags = [df['tags'].tolist() for df in df_trains]\n",
    "tags = [tags for domain_tags in domains_tags for tags in domain_tags]\n",
    "len(tags)"
   ]
  },
  {
   "cell_type": "code",
   "execution_count": 19,
   "metadata": {
    "collapsed": false
   },
   "outputs": [],
   "source": [
    "# tags_feature = tag_vectorizer.fit_transform(tags)\n",
    "# tags_feature.shape"
   ]
  },
  {
   "cell_type": "code",
   "execution_count": 20,
   "metadata": {
    "collapsed": true
   },
   "outputs": [],
   "source": [
    "tags_split = [ts.split() for ts in tags]"
   ]
  },
  {
   "cell_type": "code",
   "execution_count": 21,
   "metadata": {
    "collapsed": false
   },
   "outputs": [
    {
     "data": {
      "text/plain": [
       "[['ribosome', 'binding-sites', 'translation', 'synthetic-biology'],\n",
       " ['rna', 'biochemistry'],\n",
       " ['immunology', 'cell-biology', 'hematology'],\n",
       " ['cell-culture'],\n",
       " ['splicing', 'mrna', 'spliceosome', 'introns', 'exons'],\n",
       " ['dna', 'biochemistry', 'molecular-biology'],\n",
       " ['neuroscience', 'synapses'],\n",
       " ['plasmids'],\n",
       " ['molecular-genetics', 'gene-expression', 'experimental-design'],\n",
       " ['evolution', 'mitochondria', 'chloroplasts']]"
      ]
     },
     "execution_count": 21,
     "metadata": {},
     "output_type": "execute_result"
    }
   ],
   "source": [
    "tags_split[:10]"
   ]
  },
  {
   "cell_type": "code",
   "execution_count": 22,
   "metadata": {
    "collapsed": false
   },
   "outputs": [],
   "source": [
    "from sklearn.preprocessing import MultiLabelBinarizer\n",
    "mlb = MultiLabelBinarizer()\n",
    "tags_feature = mlb.fit_transform(tags_split)"
   ]
  },
  {
   "cell_type": "code",
   "execution_count": 23,
   "metadata": {
    "collapsed": false
   },
   "outputs": [
    {
     "data": {
      "text/plain": [
       "(87000, 4268)"
      ]
     },
     "execution_count": 23,
     "metadata": {},
     "output_type": "execute_result"
    }
   ],
   "source": [
    "tags_feature.shape"
   ]
  },
  {
   "cell_type": "code",
   "execution_count": 32,
   "metadata": {
    "collapsed": true
   },
   "outputs": [],
   "source": [
    "labels = list(mlb.classes_)"
   ]
  },
  {
   "cell_type": "markdown",
   "metadata": {},
   "source": [
    "# Train"
   ]
  },
  {
   "cell_type": "code",
   "execution_count": 24,
   "metadata": {
    "collapsed": false
   },
   "outputs": [
    {
     "name": "stdout",
     "output_type": "stream",
     "text": [
      "(87000, 10000)\n",
      "(87000, 4268)\n"
     ]
    }
   ],
   "source": [
    "print(contents_feature.shape)\n",
    "print(tags_feature.shape)"
   ]
  },
  {
   "cell_type": "code",
   "execution_count": 25,
   "metadata": {
    "collapsed": false
   },
   "outputs": [],
   "source": [
    "# # sparse to dense\n",
    "# contents_feature_dense = contents_feature.toarray()"
   ]
  },
  {
   "cell_type": "code",
   "execution_count": 26,
   "metadata": {
    "collapsed": false
   },
   "outputs": [],
   "source": [
    "from sklearn.ensemble import RandomForestClassifier\n",
    "from sklearn.multiclass import OneVsRestClassifier\n",
    "from sklearn.multioutput import MultiOutputClassifier\n",
    "\n",
    "forest = RandomForestClassifier(n_estimators = 100)\n",
    "# multi_label_forest = OneVsRestClassifier(RandomForestClassifier(n_estimators = 100), n_jobs = -1)\n",
    "multi_label_forest = OneVsRestClassifier(RandomForestClassifier(n_estimators = 100), n_jobs = 4)\n",
    "\n",
    "# multi_target_forest = MultiOutputClassifier(forest, n_jobs=-1)"
   ]
  },
  {
   "cell_type": "code",
   "execution_count": null,
   "metadata": {
    "collapsed": true
   },
   "outputs": [],
   "source": []
  },
  {
   "cell_type": "code",
   "execution_count": null,
   "metadata": {
    "collapsed": true
   },
   "outputs": [],
   "source": []
  },
  {
   "cell_type": "code",
   "execution_count": 28,
   "metadata": {
    "collapsed": false
   },
   "outputs": [
    {
     "data": {
      "text/plain": [
       "OneVsRestClassifier(estimator=RandomForestClassifier(bootstrap=True, class_weight=None, criterion='gini',\n",
       "            max_depth=None, max_features='auto', max_leaf_nodes=None,\n",
       "            min_impurity_split=1e-07, min_samples_leaf=1,\n",
       "            min_samples_split=2, min_weight_fraction_leaf=0.0,\n",
       "            n_estimators=100, n_jobs=1, oob_score=False, random_state=None,\n",
       "            verbose=0, warm_start=False),\n",
       "          n_jobs=-1)"
      ]
     },
     "execution_count": 28,
     "metadata": {},
     "output_type": "execute_result"
    }
   ],
   "source": [
    "multi_label_forest.fit(contents_feature, tags_feature)"
   ]
  },
  {
   "cell_type": "code",
   "execution_count": 29,
   "metadata": {
    "collapsed": false
   },
   "outputs": [
    {
     "data": {
      "text/plain": [
       "['multi_label_forest_100.pkl']"
      ]
     },
     "execution_count": 29,
     "metadata": {},
     "output_type": "execute_result"
    }
   ],
   "source": [
    "# from sklearn.externals import joblib\n",
    "\n",
    "# joblib.dump(multi_label_forest, 'multi_label_forest_100.pkl')"
   ]
  },
  {
   "cell_type": "code",
   "execution_count": null,
   "metadata": {
    "collapsed": true
   },
   "outputs": [],
   "source": [
    "Y_predict = multi_label_forest.predict(contents_feature)"
   ]
  },
  {
   "cell_type": "code",
   "execution_count": null,
   "metadata": {
    "collapsed": false
   },
   "outputs": [],
   "source": [
    "Y_predict.shape"
   ]
  },
  {
   "cell_type": "code",
   "execution_count": 35,
   "metadata": {
    "collapsed": false
   },
   "outputs": [
    {
     "data": {
      "text/plain": [
       "0"
      ]
     },
     "execution_count": 35,
     "metadata": {},
     "output_type": "execute_result"
    }
   ],
   "source": [
    "Y_predict[1][1]"
   ]
  },
  {
   "cell_type": "code",
   "execution_count": 41,
   "metadata": {
    "collapsed": false
   },
   "outputs": [],
   "source": [
    "def print_labels(Y):\n",
    "    for i in range(Y.shape[0]):\n",
    "        for j in range(Y.shape[1]):\n",
    "            if Y[i, j] != 0:\n",
    "                print(labels[j])\n",
    "        print()"
   ]
  },
  {
   "cell_type": "code",
   "execution_count": 42,
   "metadata": {
    "collapsed": false
   },
   "outputs": [
    {
     "name": "stdout",
     "output_type": "stream",
     "text": [
      "binding-sites\n",
      "ribosome\n",
      "synthetic-biology\n",
      "translation\n",
      "\n",
      "biochemistry\n",
      "rna\n",
      "\n",
      "cell-biology\n",
      "hematology\n",
      "immunology\n",
      "\n"
     ]
    }
   ],
   "source": [
    "print_labels(Y_predict)"
   ]
  },
  {
   "cell_type": "code",
   "execution_count": 44,
   "metadata": {
    "collapsed": false
   },
   "outputs": [
    {
     "name": "stdout",
     "output_type": "stream",
     "text": [
      "binding-sites\n",
      "ribosome\n",
      "synthetic-biology\n",
      "translation\n",
      "\n",
      "biochemistry\n",
      "rna\n",
      "\n",
      "cell-biology\n",
      "hematology\n",
      "immunology\n",
      "\n"
     ]
    }
   ],
   "source": [
    "print_labels(tags_feature[:3])"
   ]
  },
  {
   "cell_type": "code",
   "execution_count": null,
   "metadata": {
    "collapsed": true
   },
   "outputs": [],
   "source": []
  },
  {
   "cell_type": "markdown",
   "metadata": {},
   "source": [
    "# Test"
   ]
  },
  {
   "cell_type": "code",
   "execution_count": 46,
   "metadata": {
    "collapsed": false
   },
   "outputs": [
    {
     "data": {
      "text/html": [
       "<div>\n",
       "<table border=\"1\" class=\"dataframe\">\n",
       "  <thead>\n",
       "    <tr style=\"text-align: right;\">\n",
       "      <th></th>\n",
       "      <th>id</th>\n",
       "      <th>title</th>\n",
       "      <th>content</th>\n",
       "    </tr>\n",
       "  </thead>\n",
       "  <tbody>\n",
       "    <tr>\n",
       "      <th>0</th>\n",
       "      <td>1</td>\n",
       "      <td>What is spin as it relates to subatomic partic...</td>\n",
       "      <td>&lt;p&gt;I often hear about subatomic particles havi...</td>\n",
       "    </tr>\n",
       "    <tr>\n",
       "      <th>1</th>\n",
       "      <td>2</td>\n",
       "      <td>What is your simplest explanation of the strin...</td>\n",
       "      <td>&lt;p&gt;How would you explain string theory to non ...</td>\n",
       "    </tr>\n",
       "    <tr>\n",
       "      <th>2</th>\n",
       "      <td>3</td>\n",
       "      <td>Lie theory, Representations and particle physics</td>\n",
       "      <td>&lt;p&gt;This is a question that has been posted at ...</td>\n",
       "    </tr>\n",
       "    <tr>\n",
       "      <th>3</th>\n",
       "      <td>7</td>\n",
       "      <td>Will Determinism be ever possible?</td>\n",
       "      <td>&lt;p&gt;What are the main problems that we need to ...</td>\n",
       "    </tr>\n",
       "    <tr>\n",
       "      <th>4</th>\n",
       "      <td>9</td>\n",
       "      <td>Hamilton's Principle</td>\n",
       "      <td>&lt;p&gt;Hamilton's principle states that a dynamic ...</td>\n",
       "    </tr>\n",
       "    <tr>\n",
       "      <th>5</th>\n",
       "      <td>13</td>\n",
       "      <td>What is sound and how is it produced?</td>\n",
       "      <td>&lt;p&gt;I've been using the term \"sound\" all my lif...</td>\n",
       "    </tr>\n",
       "    <tr>\n",
       "      <th>6</th>\n",
       "      <td>15</td>\n",
       "      <td>What experiment would disprove string theory?</td>\n",
       "      <td>&lt;p&gt;I know that there's big controversy between...</td>\n",
       "    </tr>\n",
       "    <tr>\n",
       "      <th>7</th>\n",
       "      <td>17</td>\n",
       "      <td>Why does the sky change color? Why the sky is ...</td>\n",
       "      <td>&lt;p&gt;Why does the sky change color? Why the sky ...</td>\n",
       "    </tr>\n",
       "    <tr>\n",
       "      <th>8</th>\n",
       "      <td>19</td>\n",
       "      <td>How's the energy of particle collisions calcul...</td>\n",
       "      <td>&lt;p&gt;Physicists often refer to the energy of col...</td>\n",
       "    </tr>\n",
       "    <tr>\n",
       "      <th>9</th>\n",
       "      <td>21</td>\n",
       "      <td>Monte Carlo use</td>\n",
       "      <td>&lt;p&gt;Where is the Monte Carlo method used in phy...</td>\n",
       "    </tr>\n",
       "    <tr>\n",
       "      <th>10</th>\n",
       "      <td>24</td>\n",
       "      <td>Does leaning (banking) help cause turning on a...</td>\n",
       "      <td>&lt;p&gt;I think it's clear enough that if you turn ...</td>\n",
       "    </tr>\n",
       "    <tr>\n",
       "      <th>11</th>\n",
       "      <td>26</td>\n",
       "      <td>Velocity of Object from electromagnetic field</td>\n",
       "      <td>&lt;p&gt;I am wondering if someone could provide me ...</td>\n",
       "    </tr>\n",
       "    <tr>\n",
       "      <th>12</th>\n",
       "      <td>27</td>\n",
       "      <td>What is the difference between a measurement a...</td>\n",
       "      <td>&lt;p&gt;We've learned that the wave function of a p...</td>\n",
       "    </tr>\n",
       "    <tr>\n",
       "      <th>13</th>\n",
       "      <td>29</td>\n",
       "      <td>How to calculate average speed?</td>\n",
       "      <td>&lt;p&gt;I recently encountered a puzzle where a per...</td>\n",
       "    </tr>\n",
       "    <tr>\n",
       "      <th>14</th>\n",
       "      <td>31</td>\n",
       "      <td>Lay explanation of the special theory of relat...</td>\n",
       "      <td>&lt;p&gt;What is Einstein's theory of &lt;a href=\"http:...</td>\n",
       "    </tr>\n",
       "    <tr>\n",
       "      <th>15</th>\n",
       "      <td>32</td>\n",
       "      <td>How to show that the Coriolis effect is irrele...</td>\n",
       "      <td>&lt;p&gt;There is a common myth that water flowing o...</td>\n",
       "    </tr>\n",
       "    <tr>\n",
       "      <th>16</th>\n",
       "      <td>35</td>\n",
       "      <td>Where do magnets get the energy to repel?</td>\n",
       "      <td>&lt;p&gt;If I separate two magnets whose opposite po...</td>\n",
       "    </tr>\n",
       "    <tr>\n",
       "      <th>17</th>\n",
       "      <td>37</td>\n",
       "      <td>How to check Einstein-like equations on their ...</td>\n",
       "      <td>&lt;p&gt;Physicists studying the grounds of physics ...</td>\n",
       "    </tr>\n",
       "    <tr>\n",
       "      <th>18</th>\n",
       "      <td>41</td>\n",
       "      <td>Impressions of Topological field theories in m...</td>\n",
       "      <td>&lt;p&gt;There have been recent results in mathemati...</td>\n",
       "    </tr>\n",
       "    <tr>\n",
       "      <th>19</th>\n",
       "      <td>49</td>\n",
       "      <td>What is a capacitive screen sensing?</td>\n",
       "      <td>&lt;p&gt;What should be a properties of a body so a ...</td>\n",
       "    </tr>\n",
       "    <tr>\n",
       "      <th>20</th>\n",
       "      <td>52</td>\n",
       "      <td>How do 2 magnets spin by themselves if positio...</td>\n",
       "      <td>&lt;p&gt;A few years ago I went to a museum, where t...</td>\n",
       "    </tr>\n",
       "    <tr>\n",
       "      <th>21</th>\n",
       "      <td>62</td>\n",
       "      <td>Why is the LHC circular and 27km long?</td>\n",
       "      <td>&lt;p&gt;The LHC in Geneva is a circular accelerator...</td>\n",
       "    </tr>\n",
       "    <tr>\n",
       "      <th>22</th>\n",
       "      <td>68</td>\n",
       "      <td>What causes polarised materials to change colo...</td>\n",
       "      <td>&lt;p&gt;Our physics teacher showed the class a real...</td>\n",
       "    </tr>\n",
       "    <tr>\n",
       "      <th>23</th>\n",
       "      <td>71</td>\n",
       "      <td>What is an intuitive explanation of Gouy phase?</td>\n",
       "      <td>&lt;p&gt;In laser resonators, higher order modes (i....</td>\n",
       "    </tr>\n",
       "    <tr>\n",
       "      <th>24</th>\n",
       "      <td>72</td>\n",
       "      <td>Proton therapy in cancer treatment</td>\n",
       "      <td>&lt;p&gt;Why are protons used in cancer therapy ? Is...</td>\n",
       "    </tr>\n",
       "    <tr>\n",
       "      <th>25</th>\n",
       "      <td>73</td>\n",
       "      <td>How do physicists use solutions to the Yang-Ba...</td>\n",
       "      <td>&lt;p&gt;As a mathematician working the area of repr...</td>\n",
       "    </tr>\n",
       "    <tr>\n",
       "      <th>26</th>\n",
       "      <td>75</td>\n",
       "      <td>Mnemonics to remember various properties of ma...</td>\n",
       "      <td>&lt;p&gt;I'm trying to figure out how to remember th...</td>\n",
       "    </tr>\n",
       "    <tr>\n",
       "      <th>27</th>\n",
       "      <td>78</td>\n",
       "      <td>Why do neutrons repel each other?</td>\n",
       "      <td>&lt;p&gt;I can understand why 2 protons will repel e...</td>\n",
       "    </tr>\n",
       "    <tr>\n",
       "      <th>28</th>\n",
       "      <td>79</td>\n",
       "      <td>Is quantum entanglement mediated by an interac...</td>\n",
       "      <td>&lt;p&gt;You can get two photons entangled, and send...</td>\n",
       "    </tr>\n",
       "    <tr>\n",
       "      <th>29</th>\n",
       "      <td>83</td>\n",
       "      <td>How is squeezed light produced?</td>\n",
       "      <td>&lt;p&gt;Ordinary laser light has equal uncertainty ...</td>\n",
       "    </tr>\n",
       "    <tr>\n",
       "      <th>...</th>\n",
       "      <td>...</td>\n",
       "      <td>...</td>\n",
       "      <td>...</td>\n",
       "    </tr>\n",
       "    <tr>\n",
       "      <th>81896</th>\n",
       "      <td>278070</td>\n",
       "      <td>biconvex vs plano convex lenses for 4f imaging</td>\n",
       "      <td>&lt;p&gt;Will biconvex or plano convex lenses be bes...</td>\n",
       "    </tr>\n",
       "    <tr>\n",
       "      <th>81897</th>\n",
       "      <td>278071</td>\n",
       "      <td>Formula of the Magnus force</td>\n",
       "      <td>&lt;p&gt;I was researching online about the &lt;a href=...</td>\n",
       "    </tr>\n",
       "    <tr>\n",
       "      <th>81898</th>\n",
       "      <td>278075</td>\n",
       "      <td>Is this \"invention\" by a Dutch inventor a hoax?</td>\n",
       "      <td>&lt;p&gt;I'm from media and would appreciate if you ...</td>\n",
       "    </tr>\n",
       "    <tr>\n",
       "      <th>81899</th>\n",
       "      <td>278077</td>\n",
       "      <td>Could you please diagram a few simple Z boson/...</td>\n",
       "      <td>&lt;p&gt;Could you please diagram a few simple Z bos...</td>\n",
       "    </tr>\n",
       "    <tr>\n",
       "      <th>81900</th>\n",
       "      <td>278079</td>\n",
       "      <td>Is F.D.C. Willard's second helium paper availa...</td>\n",
       "      <td>&lt;p&gt;I am curious to read F.D.C. Willard's secon...</td>\n",
       "    </tr>\n",
       "    <tr>\n",
       "      <th>81901</th>\n",
       "      <td>278080</td>\n",
       "      <td>How can we measure the frequency of taste of a...</td>\n",
       "      <td>&lt;p&gt;How can we measure the frequency of taste f...</td>\n",
       "    </tr>\n",
       "    <tr>\n",
       "      <th>81902</th>\n",
       "      <td>278081</td>\n",
       "      <td>The position vector $\\mathbf{r}$ in the electr...</td>\n",
       "      <td>&lt;p&gt;I often see the electric field denoted \\beg...</td>\n",
       "    </tr>\n",
       "    <tr>\n",
       "      <th>81903</th>\n",
       "      <td>278084</td>\n",
       "      <td>Master-level Minicourse on Topological Propert...</td>\n",
       "      <td>&lt;p&gt;I am doing a master's thesis on the propert...</td>\n",
       "    </tr>\n",
       "    <tr>\n",
       "      <th>81904</th>\n",
       "      <td>278086</td>\n",
       "      <td>Photon Energy and frequency</td>\n",
       "      <td>&lt;p&gt;If every photon is identical and travels wi...</td>\n",
       "    </tr>\n",
       "    <tr>\n",
       "      <th>81905</th>\n",
       "      <td>278088</td>\n",
       "      <td>What would happen if you shot a rocket while i...</td>\n",
       "      <td>&lt;p&gt;Recently I've been hearing a lot about that...</td>\n",
       "    </tr>\n",
       "    <tr>\n",
       "      <th>81906</th>\n",
       "      <td>278091</td>\n",
       "      <td>Difference/relation between Zeeman effect and ...</td>\n",
       "      <td>&lt;p&gt;From what I see, there are to ways of treat...</td>\n",
       "    </tr>\n",
       "    <tr>\n",
       "      <th>81907</th>\n",
       "      <td>278092</td>\n",
       "      <td>Falling Chimney using Lagranges Equation</td>\n",
       "      <td>&lt;p&gt;There is this interesting problem for a fal...</td>\n",
       "    </tr>\n",
       "    <tr>\n",
       "      <th>81908</th>\n",
       "      <td>278093</td>\n",
       "      <td>What is the general form of projection operators?</td>\n",
       "      <td>&lt;p&gt;Usaully, a projection operator is expressed...</td>\n",
       "    </tr>\n",
       "    <tr>\n",
       "      <th>81909</th>\n",
       "      <td>278095</td>\n",
       "      <td>What's the difference between a tachyon and an...</td>\n",
       "      <td>&lt;p&gt;I'd like to preemptively apologize for bein...</td>\n",
       "    </tr>\n",
       "    <tr>\n",
       "      <th>81910</th>\n",
       "      <td>278096</td>\n",
       "      <td>Any equipment that allows the viewing of a las...</td>\n",
       "      <td>&lt;p&gt;Would equipment such as infrared googles, n...</td>\n",
       "    </tr>\n",
       "    <tr>\n",
       "      <th>81911</th>\n",
       "      <td>278099</td>\n",
       "      <td>Calculate electric energy</td>\n",
       "      <td>&lt;p&gt;An electrically driven train has weight 120...</td>\n",
       "    </tr>\n",
       "    <tr>\n",
       "      <th>81912</th>\n",
       "      <td>278101</td>\n",
       "      <td>Creation of electron = creation of mass?</td>\n",
       "      <td>&lt;p&gt;By turning a turbine for example, if I'm no...</td>\n",
       "    </tr>\n",
       "    <tr>\n",
       "      <th>81913</th>\n",
       "      <td>278107</td>\n",
       "      <td>Force needed to lift a hinged slab/lever?</td>\n",
       "      <td>&lt;p&gt;I'm developing a prop and need to figure ou...</td>\n",
       "    </tr>\n",
       "    <tr>\n",
       "      <th>81914</th>\n",
       "      <td>278108</td>\n",
       "      <td>Why are nuclide charts shown two completely di...</td>\n",
       "      <td>&lt;p&gt;Why are some nuclide charts shown with Z on...</td>\n",
       "    </tr>\n",
       "    <tr>\n",
       "      <th>81915</th>\n",
       "      <td>278109</td>\n",
       "      <td>If a gas in a pipe is travelling from a large ...</td>\n",
       "      <td>&lt;p&gt;So in a problem like the one in the link be...</td>\n",
       "    </tr>\n",
       "    <tr>\n",
       "      <th>81916</th>\n",
       "      <td>278111</td>\n",
       "      <td>Can we detect neutrinos (interaction) in other...</td>\n",
       "      <td>&lt;p&gt;I do not know if that is possible and i cou...</td>\n",
       "    </tr>\n",
       "    <tr>\n",
       "      <th>81917</th>\n",
       "      <td>278113</td>\n",
       "      <td>Is there a mass relation of the core left behi...</td>\n",
       "      <td>&lt;p&gt;Assuming that you have the mass of the star...</td>\n",
       "    </tr>\n",
       "    <tr>\n",
       "      <th>81918</th>\n",
       "      <td>278116</td>\n",
       "      <td>Vector and frame of reference?</td>\n",
       "      <td>&lt;p&gt;My textbook has stated the following:&lt;/p&gt;\\n...</td>\n",
       "    </tr>\n",
       "    <tr>\n",
       "      <th>81919</th>\n",
       "      <td>278117</td>\n",
       "      <td>How fast can the Earth spin and support life?</td>\n",
       "      <td>&lt;p&gt;In prehistoric times, dinosaurs were so mas...</td>\n",
       "    </tr>\n",
       "    <tr>\n",
       "      <th>81920</th>\n",
       "      <td>278118</td>\n",
       "      <td>Operators on a joint Hilbert Space</td>\n",
       "      <td>&lt;p&gt;Can anyone please help me understand this. ...</td>\n",
       "    </tr>\n",
       "    <tr>\n",
       "      <th>81921</th>\n",
       "      <td>278119</td>\n",
       "      <td>Kinematics (Projectile Motion)</td>\n",
       "      <td>&lt;p&gt;A projectile is fired with a speed 6.25 m/s...</td>\n",
       "    </tr>\n",
       "    <tr>\n",
       "      <th>81922</th>\n",
       "      <td>278120</td>\n",
       "      <td>How is lift generated due to Coanda effect</td>\n",
       "      <td>&lt;p&gt;I can understand the generation of lift via...</td>\n",
       "    </tr>\n",
       "    <tr>\n",
       "      <th>81923</th>\n",
       "      <td>278121</td>\n",
       "      <td>Why is a resonance curve asymmetric?</td>\n",
       "      <td>&lt;p&gt;When I was measuring the current with varyi...</td>\n",
       "    </tr>\n",
       "    <tr>\n",
       "      <th>81924</th>\n",
       "      <td>278124</td>\n",
       "      <td>What are the forces acting during a drop impac...</td>\n",
       "      <td>&lt;p&gt;I am trying to investigate how surface tens...</td>\n",
       "    </tr>\n",
       "    <tr>\n",
       "      <th>81925</th>\n",
       "      <td>278126</td>\n",
       "      <td>Gravity manipulation i s it a possibly?</td>\n",
       "      <td>&lt;pre&gt;&lt;code&gt;I have done almost no research on t...</td>\n",
       "    </tr>\n",
       "  </tbody>\n",
       "</table>\n",
       "<p>81926 rows × 3 columns</p>\n",
       "</div>"
      ],
      "text/plain": [
       "           id                                              title  \\\n",
       "0           1  What is spin as it relates to subatomic partic...   \n",
       "1           2  What is your simplest explanation of the strin...   \n",
       "2           3   Lie theory, Representations and particle physics   \n",
       "3           7                 Will Determinism be ever possible?   \n",
       "4           9                               Hamilton's Principle   \n",
       "5          13              What is sound and how is it produced?   \n",
       "6          15      What experiment would disprove string theory?   \n",
       "7          17  Why does the sky change color? Why the sky is ...   \n",
       "8          19  How's the energy of particle collisions calcul...   \n",
       "9          21                                    Monte Carlo use   \n",
       "10         24  Does leaning (banking) help cause turning on a...   \n",
       "11         26      Velocity of Object from electromagnetic field   \n",
       "12         27  What is the difference between a measurement a...   \n",
       "13         29                    How to calculate average speed?   \n",
       "14         31  Lay explanation of the special theory of relat...   \n",
       "15         32  How to show that the Coriolis effect is irrele...   \n",
       "16         35          Where do magnets get the energy to repel?   \n",
       "17         37  How to check Einstein-like equations on their ...   \n",
       "18         41  Impressions of Topological field theories in m...   \n",
       "19         49               What is a capacitive screen sensing?   \n",
       "20         52  How do 2 magnets spin by themselves if positio...   \n",
       "21         62             Why is the LHC circular and 27km long?   \n",
       "22         68  What causes polarised materials to change colo...   \n",
       "23         71    What is an intuitive explanation of Gouy phase?   \n",
       "24         72                 Proton therapy in cancer treatment   \n",
       "25         73  How do physicists use solutions to the Yang-Ba...   \n",
       "26         75  Mnemonics to remember various properties of ma...   \n",
       "27         78                  Why do neutrons repel each other?   \n",
       "28         79  Is quantum entanglement mediated by an interac...   \n",
       "29         83                    How is squeezed light produced?   \n",
       "...       ...                                                ...   \n",
       "81896  278070     biconvex vs plano convex lenses for 4f imaging   \n",
       "81897  278071                        Formula of the Magnus force   \n",
       "81898  278075    Is this \"invention\" by a Dutch inventor a hoax?   \n",
       "81899  278077  Could you please diagram a few simple Z boson/...   \n",
       "81900  278079  Is F.D.C. Willard's second helium paper availa...   \n",
       "81901  278080  How can we measure the frequency of taste of a...   \n",
       "81902  278081  The position vector $\\mathbf{r}$ in the electr...   \n",
       "81903  278084  Master-level Minicourse on Topological Propert...   \n",
       "81904  278086                        Photon Energy and frequency   \n",
       "81905  278088  What would happen if you shot a rocket while i...   \n",
       "81906  278091  Difference/relation between Zeeman effect and ...   \n",
       "81907  278092           Falling Chimney using Lagranges Equation   \n",
       "81908  278093  What is the general form of projection operators?   \n",
       "81909  278095  What's the difference between a tachyon and an...   \n",
       "81910  278096  Any equipment that allows the viewing of a las...   \n",
       "81911  278099                          Calculate electric energy   \n",
       "81912  278101           Creation of electron = creation of mass?   \n",
       "81913  278107          Force needed to lift a hinged slab/lever?   \n",
       "81914  278108  Why are nuclide charts shown two completely di...   \n",
       "81915  278109  If a gas in a pipe is travelling from a large ...   \n",
       "81916  278111  Can we detect neutrinos (interaction) in other...   \n",
       "81917  278113  Is there a mass relation of the core left behi...   \n",
       "81918  278116                     Vector and frame of reference?   \n",
       "81919  278117      How fast can the Earth spin and support life?   \n",
       "81920  278118                 Operators on a joint Hilbert Space   \n",
       "81921  278119                     Kinematics (Projectile Motion)   \n",
       "81922  278120         How is lift generated due to Coanda effect   \n",
       "81923  278121               Why is a resonance curve asymmetric?   \n",
       "81924  278124  What are the forces acting during a drop impac...   \n",
       "81925  278126            Gravity manipulation i s it a possibly?   \n",
       "\n",
       "                                                 content  \n",
       "0      <p>I often hear about subatomic particles havi...  \n",
       "1      <p>How would you explain string theory to non ...  \n",
       "2      <p>This is a question that has been posted at ...  \n",
       "3      <p>What are the main problems that we need to ...  \n",
       "4      <p>Hamilton's principle states that a dynamic ...  \n",
       "5      <p>I've been using the term \"sound\" all my lif...  \n",
       "6      <p>I know that there's big controversy between...  \n",
       "7      <p>Why does the sky change color? Why the sky ...  \n",
       "8      <p>Physicists often refer to the energy of col...  \n",
       "9      <p>Where is the Monte Carlo method used in phy...  \n",
       "10     <p>I think it's clear enough that if you turn ...  \n",
       "11     <p>I am wondering if someone could provide me ...  \n",
       "12     <p>We've learned that the wave function of a p...  \n",
       "13     <p>I recently encountered a puzzle where a per...  \n",
       "14     <p>What is Einstein's theory of <a href=\"http:...  \n",
       "15     <p>There is a common myth that water flowing o...  \n",
       "16     <p>If I separate two magnets whose opposite po...  \n",
       "17     <p>Physicists studying the grounds of physics ...  \n",
       "18     <p>There have been recent results in mathemati...  \n",
       "19     <p>What should be a properties of a body so a ...  \n",
       "20     <p>A few years ago I went to a museum, where t...  \n",
       "21     <p>The LHC in Geneva is a circular accelerator...  \n",
       "22     <p>Our physics teacher showed the class a real...  \n",
       "23     <p>In laser resonators, higher order modes (i....  \n",
       "24     <p>Why are protons used in cancer therapy ? Is...  \n",
       "25     <p>As a mathematician working the area of repr...  \n",
       "26     <p>I'm trying to figure out how to remember th...  \n",
       "27     <p>I can understand why 2 protons will repel e...  \n",
       "28     <p>You can get two photons entangled, and send...  \n",
       "29     <p>Ordinary laser light has equal uncertainty ...  \n",
       "...                                                  ...  \n",
       "81896  <p>Will biconvex or plano convex lenses be bes...  \n",
       "81897  <p>I was researching online about the <a href=...  \n",
       "81898  <p>I'm from media and would appreciate if you ...  \n",
       "81899  <p>Could you please diagram a few simple Z bos...  \n",
       "81900  <p>I am curious to read F.D.C. Willard's secon...  \n",
       "81901  <p>How can we measure the frequency of taste f...  \n",
       "81902  <p>I often see the electric field denoted \\beg...  \n",
       "81903  <p>I am doing a master's thesis on the propert...  \n",
       "81904  <p>If every photon is identical and travels wi...  \n",
       "81905  <p>Recently I've been hearing a lot about that...  \n",
       "81906  <p>From what I see, there are to ways of treat...  \n",
       "81907  <p>There is this interesting problem for a fal...  \n",
       "81908  <p>Usaully, a projection operator is expressed...  \n",
       "81909  <p>I'd like to preemptively apologize for bein...  \n",
       "81910  <p>Would equipment such as infrared googles, n...  \n",
       "81911  <p>An electrically driven train has weight 120...  \n",
       "81912  <p>By turning a turbine for example, if I'm no...  \n",
       "81913  <p>I'm developing a prop and need to figure ou...  \n",
       "81914  <p>Why are some nuclide charts shown with Z on...  \n",
       "81915  <p>So in a problem like the one in the link be...  \n",
       "81916  <p>I do not know if that is possible and i cou...  \n",
       "81917  <p>Assuming that you have the mass of the star...  \n",
       "81918  <p>My textbook has stated the following:</p>\\n...  \n",
       "81919  <p>In prehistoric times, dinosaurs were so mas...  \n",
       "81920  <p>Can anyone please help me understand this. ...  \n",
       "81921  <p>A projectile is fired with a speed 6.25 m/s...  \n",
       "81922  <p>I can understand the generation of lift via...  \n",
       "81923  <p>When I was measuring the current with varyi...  \n",
       "81924  <p>I am trying to investigate how surface tens...  \n",
       "81925  <pre><code>I have done almost no research on t...  \n",
       "\n",
       "[81926 rows x 3 columns]"
      ]
     },
     "execution_count": 46,
     "metadata": {},
     "output_type": "execute_result"
    }
   ],
   "source": [
    "df_test = pd.read_csv(DATA_FOLDER + TEST_FILE)\n",
    "df_test"
   ]
  },
  {
   "cell_type": "code",
   "execution_count": null,
   "metadata": {
    "collapsed": true
   },
   "outputs": [],
   "source": [
    "test_contents = "
   ]
  },
  {
   "cell_type": "code",
   "execution_count": null,
   "metadata": {
    "collapsed": true
   },
   "outputs": [],
   "source": []
  },
  {
   "cell_type": "code",
   "execution_count": null,
   "metadata": {
    "collapsed": true
   },
   "outputs": [],
   "source": []
  },
  {
   "cell_type": "code",
   "execution_count": null,
   "metadata": {
    "collapsed": true
   },
   "outputs": [],
   "source": [
    "# remove [n]\n",
    "# remove pure numbers, don't remove letter+number words, like CO2\n",
    "# remove urls"
   ]
  },
  {
   "cell_type": "code",
   "execution_count": null,
   "metadata": {
    "collapsed": true
   },
   "outputs": [],
   "source": [
    "# tf-idf over all contents\n",
    "# same-category contents concat as one doc"
   ]
  },
  {
   "cell_type": "code",
   "execution_count": null,
   "metadata": {
    "collapsed": true
   },
   "outputs": [],
   "source": [
    "# for each tag, find words that mostly exist in title and contents of that tag\n",
    "# use entropy to do the above thing\n",
    "# if a test content contains words only exist in , then the content is very likely about that domain"
   ]
  },
  {
   "cell_type": "code",
   "execution_count": null,
   "metadata": {
    "collapsed": true
   },
   "outputs": [],
   "source": [
    "# as classification problem\n",
    "# features: bow (normalized)\n"
   ]
  }
 ],
 "metadata": {
  "anaconda-cloud": {},
  "kernelspec": {
   "display_name": "Python [conda root]",
   "language": "python",
   "name": "conda-root-py"
  },
  "language_info": {
   "codemirror_mode": {
    "name": "ipython",
    "version": 3
   },
   "file_extension": ".py",
   "mimetype": "text/x-python",
   "name": "python",
   "nbconvert_exporter": "python",
   "pygments_lexer": "ipython3",
   "version": "3.5.2"
  }
 },
 "nbformat": 4,
 "nbformat_minor": 1
}
