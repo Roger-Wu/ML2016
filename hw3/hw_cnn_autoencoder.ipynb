{
 "cells": [
  {
   "cell_type": "code",
   "execution_count": 1,
   "metadata": {
    "collapsed": false
   },
   "outputs": [
    {
     "name": "stderr",
     "output_type": "stream",
     "text": [
      "Using TensorFlow backend.\n"
     ]
    }
   ],
   "source": [
    "import numpy as np\n",
    "import pickle\n",
    "from keras.models import Sequential, load_model\n",
    "from keras.layers import Input, Dense, Dropout, Activation, Flatten\n",
    "from keras.layers import Convolution2D, MaxPooling2D, AveragePooling2D, UpSampling2D\n",
    "from keras.optimizers import SGD\n",
    "from keras.utils import np_utils"
   ]
  },
  {
   "cell_type": "code",
   "execution_count": 2,
   "metadata": {
    "collapsed": true
   },
   "outputs": [],
   "source": [
    "METHOD = 'cnn_autoencoder'\n",
    "\n",
    "LABELLED_DATA_FILE = 'data/all_label.p'\n",
    "UNLABELED_DATA_FILE = 'data/all_unlabel.p'\n",
    "TEST_DATA_FILE = 'data/test.p'\n",
    "\n",
    "OUTPUT_FOLDER = 'output/'\n",
    "MODEL_FOLDER = 'model/' + METHOD + '/'"
   ]
  },
  {
   "cell_type": "code",
   "execution_count": 3,
   "metadata": {
    "collapsed": true
   },
   "outputs": [],
   "source": [
    "import os\n",
    "if not os.path.exists(MODEL_FOLDER):\n",
    "    os.makedirs(MODEL_FOLDER)\n",
    "if not os.path.exists(OUTPUT_FOLDER):\n",
    "    os.makedirs(OUTPUT_FOLDER)"
   ]
  },
  {
   "cell_type": "markdown",
   "metadata": {},
   "source": [
    "# Train"
   ]
  },
  {
   "cell_type": "markdown",
   "metadata": {},
   "source": [
    "### Loading Training Data"
   ]
  },
  {
   "cell_type": "code",
   "execution_count": 4,
   "metadata": {
    "collapsed": false
   },
   "outputs": [],
   "source": [
    "labelled_data = np.array(pickle.load(open(LABELLED_DATA_FILE, 'rb')))\n",
    "unlabeled_data = np.array(pickle.load(open(UNLABELED_DATA_FILE, 'rb')))"
   ]
  },
  {
   "cell_type": "code",
   "execution_count": 5,
   "metadata": {
    "collapsed": true
   },
   "outputs": [],
   "source": [
    "nb_classes = 10\n",
    "img_rows, img_cols, img_channels = 32, 32, 3"
   ]
  },
  {
   "cell_type": "code",
   "execution_count": 6,
   "metadata": {
    "collapsed": false
   },
   "outputs": [],
   "source": [
    "# generate x, y from data\n",
    "\n",
    "# reshape labelled data to (5000, 3, 32, 32)\n",
    "X_train_label = labelled_data.reshape((5000, img_channels, img_rows, img_cols)).astype('float32') / 255\n",
    "\n",
    "# reshape unlabeled data to (45000, 3, 32, 32)\n",
    "nb_unlabeled_data = unlabeled_data.shape[0]\n",
    "X_train_unlabel = unlabeled_data.reshape((nb_unlabeled_data, img_channels, img_rows, img_cols)).astype('float32') / 255\n",
    "\n",
    "X_train_all = np.concatenate((X_train_label, X_train_unlabel))\n",
    "\n",
    "y_train_label_class = np.array([classIdx for classIdx in range(len(labelled_data)) for i in range(len(labelled_data[classIdx]))])\n",
    "Y_train_label = np_utils.to_categorical(y_train_label_class, nb_classes)"
   ]
  },
  {
   "cell_type": "code",
   "execution_count": 7,
   "metadata": {
    "collapsed": false
   },
   "outputs": [
    {
     "data": {
      "image/png": "[encoded data removed]",
      "text/plain": [
       "<PIL.Image.Image image mode=RGB size=32x32 at 0x7F34056DABA8>"
      ]
     },
     "execution_count": 7,
     "metadata": {},
     "output_type": "execute_result"
    }
   ],
   "source": [
    "# visualize\n",
    "from scipy.misc import toimage\n",
    "toimage(X_train_unlabel[5])"
   ]
  },
  {
   "cell_type": "markdown",
   "metadata": {},
   "source": [
    "### Training"
   ]
  },
  {
   "cell_type": "markdown",
   "metadata": {},
   "source": [
    "#### autoencoder"
   ]
  },
  {
   "cell_type": "code",
   "execution_count": 8,
   "metadata": {
    "collapsed": false
   },
   "outputs": [],
   "source": [
    "from keras.layers import Input, Dense, Convolution2D, MaxPooling2D, UpSampling2D\n",
    "from keras.models import Model\n",
    "\n",
    "input_img = Input(shape=(3, 32, 32))\n",
    "\n",
    "x = Convolution2D(64, 3, 3, activation='relu', border_mode='same', dim_ordering=\"th\")(input_img)\n",
    "x = Convolution2D(64, 3, 3, activation='relu', border_mode='same', dim_ordering=\"th\")(x)\n",
    "x = MaxPooling2D((2, 2), dim_ordering=\"th\")(x)\n",
    "\n",
    "encoded_1 = x\n",
    "\n",
    "x = Convolution2D(64, 3, 3, activation='relu', border_mode='same', dim_ordering=\"th\")(input_img)\n",
    "x = Convolution2D(64, 3, 3, activation='relu', border_mode='same', dim_ordering=\"th\")(input_img)\n",
    "x = AveragePooling2D((2, 2), border_mode='same', dim_ordering=\"th\")(x)\n",
    "\n",
    "encoded_2 = x\n",
    "\n",
    "x = Convolution2D(32, 3, 3, activation='relu', border_mode='same', dim_ordering=\"th\")(x)\n",
    "\n",
    "x = Convolution2D(16, 3, 3, activation='relu', border_mode='same', dim_ordering=\"th\")(x)\n",
    "# x = AveragePooling2D((2, 2), border_mode='same', dim_ordering=\"th\")(x)\n",
    "\n",
    "x = Convolution2D(8, 3, 3, activation='relu', border_mode='same', dim_ordering=\"th\")(x)\n",
    "x = AveragePooling2D((2, 2), dim_ordering=\"th\")(x)\n",
    "\n",
    "encoded = x\n",
    "\n",
    "x = UpSampling2D((2, 2), dim_ordering=\"th\")(x)\n",
    "x = Convolution2D(16, 3, 3, activation='relu', border_mode='same', dim_ordering=\"th\")(x)\n",
    "x = Convolution2D(32, 3, 3, activation='relu', border_mode='same', dim_ordering=\"th\")(x)\n",
    "x = UpSampling2D((2, 2), dim_ordering=\"th\")(x)\n",
    "x = Convolution2D(64, 3, 3, activation='relu', border_mode='same', dim_ordering=\"th\")(x)\n",
    "x = Convolution2D(64, 3, 3, activation='relu', border_mode='same', dim_ordering=\"th\")(x)\n",
    "# x = UpSampling2D((2, 2), dim_ordering=\"th\")(x)\n",
    "x = Convolution2D(64, 3, 3, activation='relu', border_mode='same', dim_ordering=\"th\")(x)\n",
    "x = Convolution2D(64, 3, 3, activation='relu', border_mode='same', dim_ordering=\"th\")(x)\n",
    "# x = UpSampling2D((2, 2), dim_ordering=\"th\")(x)\n",
    "decoded = Convolution2D(3, 3, 3, activation='sigmoid', border_mode='same', dim_ordering=\"th\")(x)\n",
    "\n",
    "autoencoder = Model(input_img, decoded)\n",
    "autoencoder.compile(optimizer='adam', loss='binary_crossentropy')"
   ]
  },
  {
   "cell_type": "code",
   "execution_count": 9,
   "metadata": {
    "collapsed": true
   },
   "outputs": [],
   "source": [
    "nb_epoch = 15\n",
    "batch_size = 64"
   ]
  },
  {
   "cell_type": "code",
   "execution_count": 10,
   "metadata": {
    "collapsed": false
   },
   "outputs": [
    {
     "name": "stdout",
     "output_type": "stream",
     "text": [
      "Epoch 1/1\n",
      "50000/50000 [==============================] - 47s - loss: 0.5705    \n"
     ]
    },
    {
     "data": {
      "text/plain": [
       "<keras.callbacks.History at 0x7f33a816c780>"
      ]
     },
     "execution_count": 10,
     "metadata": {},
     "output_type": "execute_result"
    }
   ],
   "source": [
    "autoencoder.fit(X_train_all, X_train_all,\n",
    "                nb_epoch=nb_epoch,\n",
    "                batch_size=batch_size,\n",
    "                shuffle=True)"
   ]
  },
  {
   "cell_type": "code",
   "execution_count": 11,
   "metadata": {
    "collapsed": false
   },
   "outputs": [],
   "source": [
    "encoder_1 = Model(input=input_img, output=encoded_1)\n",
    "encoder_2 = Model(input=input_img, output=encoded_2)"
   ]
  },
  {
   "cell_type": "code",
   "execution_count": 12,
   "metadata": {
    "collapsed": true
   },
   "outputs": [],
   "source": [
    "X_train_label_encoded_1 = encoder_1.predict(X_train_label)\n",
    "X_train_label_encoded_2 = encoder_2.predict(X_train_label)"
   ]
  },
  {
   "cell_type": "code",
   "execution_count": null,
   "metadata": {
    "collapsed": true
   },
   "outputs": [],
   "source": []
  },
  {
   "cell_type": "code",
   "execution_count": 13,
   "metadata": {
    "collapsed": true
   },
   "outputs": [],
   "source": [
    "encoder = Model(input=input_img, output=encoded)"
   ]
  },
  {
   "cell_type": "markdown",
   "metadata": {},
   "source": [
    "#### classify"
   ]
  },
  {
   "cell_type": "code",
   "execution_count": 18,
   "metadata": {
    "collapsed": false
   },
   "outputs": [],
   "source": [
    "classifier = Sequential()\n",
    "\n",
    "classifier.add(Flatten(input_shape=X_train_label_encoded_2.shape[1:]))\n",
    "\n",
    "classifier.add(Dense(512))\n",
    "classifier.add(Activation('relu'))\n",
    "classifier.add(Dropout(0.5))\n",
    "\n",
    "classifier.add(Dense(256))\n",
    "classifier.add(Activation('relu'))\n",
    "classifier.add(Dropout(0.5))\n",
    "\n",
    "classifier.add(Dense(128))\n",
    "classifier.add(Activation('relu'))\n",
    "classifier.add(Dropout(0.5))\n",
    "\n",
    "classifier.add(Dense(nb_classes))\n",
    "classifier.add(Activation('softmax'))\n",
    "\n",
    "# sgd = SGD(lr=0.01, decay=1e-6, momentum=0.9, nesterov=True)\n",
    "classifier.compile(loss='categorical_crossentropy',\n",
    "              optimizer='adam',\n",
    "              metrics=['accuracy'])"
   ]
  },
  {
   "cell_type": "code",
   "execution_count": 19,
   "metadata": {
    "collapsed": true
   },
   "outputs": [],
   "source": [
    "nb_epoch = 100\n",
    "batch_size = 64"
   ]
  },
  {
   "cell_type": "code",
   "execution_count": 20,
   "metadata": {
    "collapsed": false
   },
   "outputs": [
    {
     "name": "stdout",
     "output_type": "stream",
     "text": [
      "Epoch 1/10\n",
      "5000/5000 [==============================] - 1s - loss: 2.3902 - acc: 0.1186     \n",
      "Epoch 2/10\n",
      "5000/5000 [==============================] - 0s - loss: 2.2073 - acc: 0.1646     \n",
      "Epoch 3/10\n",
      "5000/5000 [==============================] - 0s - loss: 2.1347 - acc: 0.1816     \n",
      "Epoch 4/10\n",
      "5000/5000 [==============================] - 1s - loss: 2.0967 - acc: 0.1994     \n",
      "Epoch 5/10\n",
      "5000/5000 [==============================] - 0s - loss: 2.0757 - acc: 0.2032     \n",
      "Epoch 6/10\n",
      "5000/5000 [==============================] - 0s - loss: 2.0308 - acc: 0.2196     \n",
      "Epoch 7/10\n",
      "5000/5000 [==============================] - 0s - loss: 2.0218 - acc: 0.2246     \n",
      "Epoch 8/10\n",
      "5000/5000 [==============================] - 0s - loss: 2.0034 - acc: 0.2254     \n",
      "Epoch 9/10\n",
      "5000/5000 [==============================] - 0s - loss: 2.0033 - acc: 0.2316     \n",
      "Epoch 10/10\n",
      "5000/5000 [==============================] - 0s - loss: 1.9915 - acc: 0.2202     \n"
     ]
    },
    {
     "data": {
      "text/plain": [
       "<keras.callbacks.History at 0x7f33957d4b70>"
      ]
     },
     "execution_count": 20,
     "metadata": {},
     "output_type": "execute_result"
    }
   ],
   "source": [
    "classifier.fit(X_train_label_encoded_2, Y_train_label,\n",
    "    batch_size=batch_size,\n",
    "    nb_epoch=nb_epoch,\n",
    "    shuffle=True)"
   ]
  },
  {
   "cell_type": "code",
   "execution_count": 23,
   "metadata": {
    "collapsed": false
   },
   "outputs": [],
   "source": [
    "model = Sequential()\n",
    "\n",
    "model.add(encoder_2)\n",
    "model.add(classifier)\n",
    "\n",
    "model.save(\"model_auto_test\")"
   ]
  },
  {
   "cell_type": "code",
   "execution_count": null,
   "metadata": {
    "collapsed": true
   },
   "outputs": [],
   "source": []
  },
  {
   "cell_type": "markdown",
   "metadata": {
    "collapsed": true
   },
   "source": [
    "# Test"
   ]
  },
  {
   "cell_type": "markdown",
   "metadata": {},
   "source": [
    "### Loading test data "
   ]
  },
  {
   "cell_type": "code",
   "execution_count": 24,
   "metadata": {
    "collapsed": false,
    "scrolled": true
   },
   "outputs": [],
   "source": [
    "test_data = pickle.load(open(TEST_DATA_FILE, 'rb'))  # dict\n",
    "X_test = np.array(test_data['data']).reshape((10000, 3, 32, 32)).astype('float32') / 255"
   ]
  },
  {
   "cell_type": "markdown",
   "metadata": {},
   "source": [
    "### Predict"
   ]
  },
  {
   "cell_type": "code",
   "execution_count": 26,
   "metadata": {
    "collapsed": false
   },
   "outputs": [
    {
     "name": "stdout",
     "output_type": "stream",
     "text": [
      " 9952/10000 [============================>.] - ETA: 0s"
     ]
    }
   ],
   "source": [
    "Y_test = model.predict_classes(X_test)\n",
    "csv_content = list(zip(test_data['ID'], Y_test.tolist()))\n",
    "np.savetxt(\"out_auto_test.csv\", csv_content, fmt=\"%i\", header=\"ID,class\", comments=\"\", delimiter=\",\")"
   ]
  },
  {
   "cell_type": "code",
   "execution_count": null,
   "metadata": {
    "collapsed": false
   },
   "outputs": [],
   "source": [
    "# X_test_encoded = encoder_2.predict(X_test)\n",
    "# Y_test = classifier.predict_classes(X_test_encoded)\n",
    "# csv_content = list(zip(test_data['ID'], Y_test.tolist()))\n",
    "# np.savetxt(OUTPUT_FOLDER + model_name + \".csv\", csv_content, fmt=\"%i\", header=\"ID,class\", comments=\"\", delimiter=\",\")"
   ]
  },
  {
   "cell_type": "code",
   "execution_count": null,
   "metadata": {
    "collapsed": false
   },
   "outputs": [],
   "source": []
  },
  {
   "cell_type": "code",
   "execution_count": null,
   "metadata": {
    "collapsed": true
   },
   "outputs": [],
   "source": []
  }
 ],
 "metadata": {
  "anaconda-cloud": {},
  "kernelspec": {
   "display_name": "Python [conda root]",
   "language": "python",
   "name": "conda-root-py"
  },
  "language_info": {
   "codemirror_mode": {
    "name": "ipython",
    "version": 3
   },
   "file_extension": ".py",
   "mimetype": "text/x-python",
   "name": "python",
   "nbconvert_exporter": "python",
   "pygments_lexer": "ipython3",
   "version": "3.5.2"
  }
 },
 "nbformat": 4,
 "nbformat_minor": 0
}
