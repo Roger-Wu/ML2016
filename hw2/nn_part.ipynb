{
 "cells": [
  {
   "cell_type": "code",
   "execution_count": 1,
   "metadata": {
    "collapsed": false
   },
   "outputs": [
    {
     "name": "stdout",
     "output_type": "stream",
     "text": [
      "Populating the interactive namespace from numpy and matplotlib\n"
     ]
    }
   ],
   "source": [
    "%pylab inline\n",
    "import numpy as np\n",
    "from scipy import special\n",
    "import pandas as pd\n",
    "import os"
   ]
  },
  {
   "cell_type": "code",
   "execution_count": 2,
   "metadata": {
    "collapsed": true
   },
   "outputs": [],
   "source": [
    "METHOD_NAME = \"nn_part-32-4\"\n",
    "DATA_FOLDER = \"data/\"\n",
    "MODEL_FOLDER = \"models/\" + METHOD_NAME + \"/\"\n",
    "OUTPUT_FOLDER = \"outputs/\"\n",
    "TRAIN_FILE_PATH = DATA_FOLDER + \"spam_train.csv\"\n",
    "TEST_FILE_PATH = DATA_FOLDER + \"spam_test.csv\""
   ]
  },
  {
   "cell_type": "code",
   "execution_count": 3,
   "metadata": {
    "collapsed": true
   },
   "outputs": [],
   "source": [
    "if not os.path.exists(MODEL_FOLDER):\n",
    "    os.makedirs(MODEL_FOLDER)\n",
    "if not os.path.exists(OUTPUT_FOLDER):\n",
    "    os.makedirs(OUTPUT_FOLDER)"
   ]
  },
  {
   "cell_type": "markdown",
   "metadata": {},
   "source": [
    "## Read Training Data"
   ]
  },
  {
   "cell_type": "code",
   "execution_count": 4,
   "metadata": {
    "collapsed": false
   },
   "outputs": [
    {
     "data": {
      "text/html": [
       "<div>\n",
       "<table border=\"1\" class=\"dataframe\">\n",
       "  <thead>\n",
       "    <tr style=\"text-align: right;\">\n",
       "      <th></th>\n",
       "      <th>0</th>\n",
       "      <th>1</th>\n",
       "      <th>2</th>\n",
       "      <th>3</th>\n",
       "      <th>4</th>\n",
       "      <th>5</th>\n",
       "      <th>6</th>\n",
       "      <th>7</th>\n",
       "      <th>8</th>\n",
       "      <th>9</th>\n",
       "      <th>...</th>\n",
       "      <th>49</th>\n",
       "      <th>50</th>\n",
       "      <th>51</th>\n",
       "      <th>52</th>\n",
       "      <th>53</th>\n",
       "      <th>54</th>\n",
       "      <th>55</th>\n",
       "      <th>56</th>\n",
       "      <th>57</th>\n",
       "      <th>58</th>\n",
       "    </tr>\n",
       "  </thead>\n",
       "  <tbody>\n",
       "    <tr>\n",
       "      <th>0</th>\n",
       "      <td>1</td>\n",
       "      <td>0.0</td>\n",
       "      <td>0.00</td>\n",
       "      <td>1.13</td>\n",
       "      <td>0.0</td>\n",
       "      <td>0.37</td>\n",
       "      <td>0.00</td>\n",
       "      <td>0.00</td>\n",
       "      <td>0.0</td>\n",
       "      <td>0.00</td>\n",
       "      <td>...</td>\n",
       "      <td>0.0</td>\n",
       "      <td>0.145</td>\n",
       "      <td>0.000</td>\n",
       "      <td>0.436</td>\n",
       "      <td>0.000</td>\n",
       "      <td>0.0</td>\n",
       "      <td>1.792</td>\n",
       "      <td>55</td>\n",
       "      <td>147</td>\n",
       "      <td>0</td>\n",
       "    </tr>\n",
       "    <tr>\n",
       "      <th>1</th>\n",
       "      <td>2</td>\n",
       "      <td>0.0</td>\n",
       "      <td>0.00</td>\n",
       "      <td>0.60</td>\n",
       "      <td>0.0</td>\n",
       "      <td>0.00</td>\n",
       "      <td>0.60</td>\n",
       "      <td>0.00</td>\n",
       "      <td>0.0</td>\n",
       "      <td>0.60</td>\n",
       "      <td>...</td>\n",
       "      <td>0.0</td>\n",
       "      <td>0.143</td>\n",
       "      <td>0.047</td>\n",
       "      <td>0.191</td>\n",
       "      <td>0.143</td>\n",
       "      <td>0.0</td>\n",
       "      <td>2.041</td>\n",
       "      <td>31</td>\n",
       "      <td>196</td>\n",
       "      <td>1</td>\n",
       "    </tr>\n",
       "    <tr>\n",
       "      <th>2</th>\n",
       "      <td>3</td>\n",
       "      <td>0.0</td>\n",
       "      <td>0.00</td>\n",
       "      <td>0.48</td>\n",
       "      <td>0.0</td>\n",
       "      <td>0.00</td>\n",
       "      <td>0.00</td>\n",
       "      <td>0.00</td>\n",
       "      <td>0.0</td>\n",
       "      <td>0.00</td>\n",
       "      <td>...</td>\n",
       "      <td>0.0</td>\n",
       "      <td>0.000</td>\n",
       "      <td>0.000</td>\n",
       "      <td>0.450</td>\n",
       "      <td>0.000</td>\n",
       "      <td>0.0</td>\n",
       "      <td>1.138</td>\n",
       "      <td>4</td>\n",
       "      <td>41</td>\n",
       "      <td>0</td>\n",
       "    </tr>\n",
       "    <tr>\n",
       "      <th>3</th>\n",
       "      <td>4</td>\n",
       "      <td>0.0</td>\n",
       "      <td>0.51</td>\n",
       "      <td>0.00</td>\n",
       "      <td>0.0</td>\n",
       "      <td>0.51</td>\n",
       "      <td>0.51</td>\n",
       "      <td>1.02</td>\n",
       "      <td>0.0</td>\n",
       "      <td>0.00</td>\n",
       "      <td>...</td>\n",
       "      <td>0.0</td>\n",
       "      <td>0.142</td>\n",
       "      <td>0.000</td>\n",
       "      <td>0.071</td>\n",
       "      <td>1.212</td>\n",
       "      <td>0.0</td>\n",
       "      <td>7.025</td>\n",
       "      <td>130</td>\n",
       "      <td>281</td>\n",
       "      <td>1</td>\n",
       "    </tr>\n",
       "    <tr>\n",
       "      <th>4</th>\n",
       "      <td>5</td>\n",
       "      <td>0.0</td>\n",
       "      <td>0.00</td>\n",
       "      <td>0.00</td>\n",
       "      <td>0.0</td>\n",
       "      <td>0.00</td>\n",
       "      <td>0.00</td>\n",
       "      <td>0.00</td>\n",
       "      <td>0.0</td>\n",
       "      <td>0.64</td>\n",
       "      <td>...</td>\n",
       "      <td>0.0</td>\n",
       "      <td>0.116</td>\n",
       "      <td>0.000</td>\n",
       "      <td>0.232</td>\n",
       "      <td>0.000</td>\n",
       "      <td>0.0</td>\n",
       "      <td>1.551</td>\n",
       "      <td>6</td>\n",
       "      <td>45</td>\n",
       "      <td>0</td>\n",
       "    </tr>\n",
       "  </tbody>\n",
       "</table>\n",
       "<p>5 rows × 59 columns</p>\n",
       "</div>"
      ],
      "text/plain": [
       "   0    1     2     3    4     5     6     7    8     9  ...   49     50  \\\n",
       "0   1  0.0  0.00  1.13  0.0  0.37  0.00  0.00  0.0  0.00 ...  0.0  0.145   \n",
       "1   2  0.0  0.00  0.60  0.0  0.00  0.60  0.00  0.0  0.60 ...  0.0  0.143   \n",
       "2   3  0.0  0.00  0.48  0.0  0.00  0.00  0.00  0.0  0.00 ...  0.0  0.000   \n",
       "3   4  0.0  0.51  0.00  0.0  0.51  0.51  1.02  0.0  0.00 ...  0.0  0.142   \n",
       "4   5  0.0  0.00  0.00  0.0  0.00  0.00  0.00  0.0  0.64 ...  0.0  0.116   \n",
       "\n",
       "      51     52     53   54     55   56   57  58  \n",
       "0  0.000  0.436  0.000  0.0  1.792   55  147   0  \n",
       "1  0.047  0.191  0.143  0.0  2.041   31  196   1  \n",
       "2  0.000  0.450  0.000  0.0  1.138    4   41   0  \n",
       "3  0.000  0.071  1.212  0.0  7.025  130  281   1  \n",
       "4  0.000  0.232  0.000  0.0  1.551    6   45   0  \n",
       "\n",
       "[5 rows x 59 columns]"
      ]
     },
     "execution_count": 4,
     "metadata": {},
     "output_type": "execute_result"
    }
   ],
   "source": [
    "train_data = pd.read_csv(TRAIN_FILE_PATH, header=None)\n",
    "train_data.head()"
   ]
  },
  {
   "cell_type": "code",
   "execution_count": 5,
   "metadata": {
    "collapsed": false
   },
   "outputs": [],
   "source": [
    "x_data_rows = train_data[list(range(1, 58))].as_matrix()\n",
    "y_data_rows = train_data[[58]].as_matrix()"
   ]
  },
  {
   "cell_type": "markdown",
   "metadata": {},
   "source": [
    "## Select Data"
   ]
  },
  {
   "cell_type": "code",
   "execution_count": 6,
   "metadata": {
    "collapsed": true
   },
   "outputs": [],
   "source": [
    "x_select_col_idxs = [26, 40, 31, 24,  3, 41, 54, 55, 45, 52, 28, 22, 53, 34, 43, 47, 6, 44, 15, 25, 16, 19, 38,  8, 56, 32,  4, 35, 27,  5, 48, 14]\n",
    "x_data_rows = x_data_rows[:, x_select_col_idxs]"
   ]
  },
  {
   "cell_type": "markdown",
   "metadata": {},
   "source": [
    "## Preprocess Data"
   ]
  },
  {
   "cell_type": "markdown",
   "metadata": {},
   "source": [
    "## Transform Data"
   ]
  },
  {
   "cell_type": "code",
   "execution_count": 7,
   "metadata": {
    "collapsed": false
   },
   "outputs": [],
   "source": [
    "# Normalize\n",
    "x_train_means = np.mean(x_data_rows, axis=0)\n",
    "x_train_stds =  np.std(x_data_rows, axis=0)\n",
    "x_data_rows = (x_data_rows - x_train_means) / x_train_stds"
   ]
  },
  {
   "cell_type": "code",
   "execution_count": 8,
   "metadata": {
    "collapsed": false
   },
   "outputs": [],
   "source": [
    "# print(np.mean(x_data_rows, axis=0), np.std(x_data_rows, axis=0))"
   ]
  },
  {
   "cell_type": "code",
   "execution_count": 9,
   "metadata": {
    "collapsed": false
   },
   "outputs": [],
   "source": [
    "# add 1 in the last column, so that b in including in w\n",
    "x_data_rows = np.c_[x_data_rows, np.ones(x_data_rows.shape[0]) ]"
   ]
  },
  {
   "cell_type": "code",
   "execution_count": 10,
   "metadata": {
    "collapsed": true
   },
   "outputs": [],
   "source": [
    "# pre-transpose x for matrix multiplication\n",
    "x_data_rows_trans = np.transpose(x_data_rows)"
   ]
  },
  {
   "cell_type": "code",
   "execution_count": 11,
   "metadata": {
    "collapsed": false
   },
   "outputs": [],
   "source": [
    "x_row_num, x_col_num = x_data_rows.shape  # 4001, 58"
   ]
  },
  {
   "cell_type": "markdown",
   "metadata": {},
   "source": [
    "## Train"
   ]
  },
  {
   "cell_type": "code",
   "execution_count": 12,
   "metadata": {
    "collapsed": false
   },
   "outputs": [],
   "source": [
    "# reset parameters\n",
    "w = np.random.randn(x_col_num, 1)  # shape = (x_col_num, 1). not (1, x_col_num) for the convenience of matrix multiplication\n",
    "total_epoch = 0"
   ]
  },
  {
   "cell_type": "code",
   "execution_count": 13,
   "metadata": {
    "collapsed": true
   },
   "outputs": [],
   "source": [
    "layer_1_node_num = 50"
   ]
  },
  {
   "cell_type": "code",
   "execution_count": 14,
   "metadata": {
    "collapsed": true
   },
   "outputs": [],
   "source": [
    "w_1 = np.random.randn(x_col_num, layer_1_node_num)  # dot(x, w_1) output a x_row_num * layer_1_node_num matrix\n",
    "w_2 = np.random.randn(layer_1_node_num, 1)  # dot(layer_1_output, w_2) output a x_row_num * 1 matrix\n",
    "# v_w_1 = np.random.randn(x_col_num, layer_1_node_num)  # dot(x, w_1) output a x_row_num * layer_1_node_num matrix\n",
    "# v_w_2 = np.random.randn(layer_1_node_num, 1)  # dot(layer_1_output, w_2) output a x_row_num * 1 matrix"
   ]
  },
  {
   "cell_type": "code",
   "execution_count": 15,
   "metadata": {
    "collapsed": false
   },
   "outputs": [],
   "source": [
    "# momentum\n",
    "gamma = 0.9\n",
    "# vw = np.zeros((x_col_num, 1))"
   ]
  },
  {
   "cell_type": "code",
   "execution_count": 36,
   "metadata": {
    "collapsed": true
   },
   "outputs": [],
   "source": [
    "lr = (10) / x_row_num "
   ]
  },
  {
   "cell_type": "code",
   "execution_count": 17,
   "metadata": {
    "collapsed": true
   },
   "outputs": [],
   "source": [
    "def sigmoid_deriv(x):  # input may be an matrix\n",
    "    return x * (1-x)  # element-wise"
   ]
  },
  {
   "cell_type": "code",
   "execution_count": 40,
   "metadata": {
    "collapsed": false
   },
   "outputs": [
    {
     "name": "stdout",
     "output_type": "stream",
     "text": [
      "epo690000_err0.017855\n",
      "rms_error 0.0178557186413\n",
      "pred_error 73\n",
      "epo700000_err0.017839\n",
      "rms_error 0.0178397118103\n",
      "pred_error 73\n",
      "epo710000_err0.017823\n",
      "rms_error 0.0178233689029\n",
      "pred_error 73\n",
      "epo720000_err0.017806\n",
      "rms_error 0.0178069274799\n",
      "pred_error 73\n",
      "epo730000_err0.017790\n",
      "rms_error 0.0177903895768\n",
      "pred_error 73\n",
      "epo740000_err0.017773\n",
      "rms_error 0.0177737747818\n",
      "pred_error 73\n",
      "epo750000_err0.017757\n",
      "rms_error 0.0177571362433\n",
      "pred_error 73\n",
      "epo760000_err0.017740\n",
      "rms_error 0.0177405408139\n",
      "pred_error 73\n",
      "epo770000_err0.017723\n",
      "rms_error 0.0177239895236\n",
      "pred_error 73\n",
      "epo780000_err0.017707\n",
      "rms_error 0.0177074698454\n",
      "pred_error 73\n",
      "epo790000_err0.017690\n",
      "rms_error 0.0176909402527\n",
      "pred_error 73\n",
      "epo800000_err0.017674\n",
      "rms_error 0.0176742739149\n",
      "pred_error 73\n",
      "epo810000_err0.017657\n",
      "rms_error 0.0176578629523\n",
      "pred_error 73\n",
      "epo820000_err0.017641\n",
      "rms_error 0.0176414229246\n",
      "pred_error 73\n",
      "epo830000_err0.017624\n",
      "rms_error 0.0176248189091\n",
      "pred_error 73\n",
      "epo840000_err0.017608\n",
      "rms_error 0.0176080374672\n",
      "pred_error 73\n",
      "epo850000_err0.017591\n",
      "rms_error 0.0175913150274\n",
      "pred_error 73\n",
      "epo860000_err0.017574\n",
      "rms_error 0.0175746658056\n",
      "pred_error 73\n",
      "epo870000_err0.017557\n",
      "rms_error 0.0175572198094\n",
      "pred_error 73\n",
      "epo880000_err0.017538\n",
      "rms_error 0.017538783622\n",
      "pred_error 73\n",
      "epo890000_err0.017517\n",
      "rms_error 0.0175177197592\n",
      "pred_error 74\n",
      "epo900000_err0.017495\n",
      "rms_error 0.0174959972684\n",
      "pred_error 74\n",
      "epo910000_err0.017473\n",
      "rms_error 0.0174738369515\n",
      "pred_error 74\n",
      "epo920000_err0.017451\n",
      "rms_error 0.0174512787377\n",
      "pred_error 74\n",
      "epo930000_err0.017428\n",
      "rms_error 0.0174283973244\n",
      "pred_error 74\n",
      "epo940000_err0.017405\n",
      "rms_error 0.0174052771084\n",
      "pred_error 74\n",
      "epo950000_err0.017382\n",
      "rms_error 0.0173827242343\n",
      "pred_error 74\n",
      "epo960000_err0.017360\n",
      "rms_error 0.0173600745725\n",
      "pred_error 74\n",
      "epo970000_err0.017337\n",
      "rms_error 0.0173372497434\n",
      "pred_error 74\n",
      "epo980000_err0.017314\n",
      "rms_error 0.0173147812828\n",
      "pred_error 74\n",
      "epo990000_err0.017292\n",
      "rms_error 0.0172927218296\n",
      "pred_error 74\n",
      "epo1000000_err0.017271\n",
      "rms_error 0.0172711958349\n",
      "pred_error 74\n",
      "epo1010000_err0.017250\n",
      "rms_error 0.0172502964939\n",
      "pred_error 74\n",
      "epo1020000_err0.017230\n",
      "rms_error 0.0172301282429\n",
      "pred_error 74\n",
      "epo1030000_err0.017210\n",
      "rms_error 0.0172107823918\n",
      "pred_error 74\n",
      "epo1040000_err0.017192\n",
      "rms_error 0.0171924963067\n",
      "pred_error 74\n",
      "epo1050000_err0.017174\n",
      "rms_error 0.0171745180315\n",
      "pred_error 74\n",
      "epo1060000_err0.017156\n",
      "rms_error 0.0171568477785\n",
      "pred_error 74\n",
      "epo1070000_err0.017139\n",
      "rms_error 0.0171398713061\n",
      "pred_error 74\n",
      "epo1080000_err0.017123\n",
      "rms_error 0.0171233954721\n",
      "pred_error 74\n",
      "epo1090000_err0.017107\n",
      "rms_error 0.0171076609331\n",
      "pred_error 74\n",
      "epo1100000_err0.017092\n",
      "rms_error 0.0170927272359\n",
      "pred_error 74\n",
      "epo1110000_err0.017078\n",
      "rms_error 0.0170786396636\n",
      "pred_error 74\n",
      "epo1120000_err0.017065\n",
      "rms_error 0.0170653755863\n",
      "pred_error 74\n",
      "epo1130000_err0.017052\n",
      "rms_error 0.0170528665817\n",
      "pred_error 74\n",
      "epo1140000_err0.017041\n",
      "rms_error 0.0170410312394\n",
      "pred_error 74\n",
      "epo1150000_err0.017029\n",
      "rms_error 0.0170295589503\n",
      "pred_error 74\n",
      "epo1160000_err0.017018\n",
      "rms_error 0.0170183235089\n",
      "pred_error 74\n",
      "epo1170000_err0.017007\n",
      "rms_error 0.0170076583903\n",
      "pred_error 74\n",
      "epo1180000_err0.016997\n",
      "rms_error 0.0169975220966\n",
      "pred_error 74\n",
      "epo1190000_err0.016987\n",
      "rms_error 0.0169878030124\n",
      "pred_error 74\n",
      "epo1200000_err0.016978\n",
      "rms_error 0.0169784184518\n",
      "pred_error 74\n",
      "epo1210000_err0.016969\n",
      "rms_error 0.0169693093574\n",
      "pred_error 74\n",
      "epo1220000_err0.016960\n",
      "rms_error 0.0169604279611\n",
      "pred_error 74\n",
      "epo1230000_err0.016951\n",
      "rms_error 0.0169517407013\n",
      "pred_error 74\n",
      "epo1240000_err0.016943\n",
      "rms_error 0.0169432279609\n",
      "pred_error 74\n",
      "epo1250000_err0.016934\n",
      "rms_error 0.0169348746242\n",
      "pred_error 74\n",
      "epo1260000_err0.016926\n",
      "rms_error 0.0169266668891\n",
      "pred_error 74\n",
      "epo1270000_err0.016918\n",
      "rms_error 0.0169185944388\n",
      "pred_error 74\n",
      "epo1280000_err0.016910\n",
      "rms_error 0.0169106532525\n",
      "pred_error 74\n",
      "epo1290000_err0.016902\n",
      "rms_error 0.0169028463462\n",
      "pred_error 74\n",
      "epo1300000_err0.016895\n",
      "rms_error 0.0168951892961\n",
      "pred_error 74\n",
      "epo1310000_err0.016887\n",
      "rms_error 0.0168876889905\n",
      "pred_error 74\n",
      "epo1320000_err0.016880\n",
      "rms_error 0.0168803342671\n",
      "pred_error 74\n",
      "epo1330000_err0.016873\n",
      "rms_error 0.0168731446456\n",
      "pred_error 74\n",
      "epo1340000_err0.016866\n",
      "rms_error 0.0168661280478\n",
      "pred_error 74\n",
      "epo1350000_err0.016859\n",
      "rms_error 0.0168592938013\n",
      "pred_error 74\n",
      "epo1360000_err0.016852\n",
      "rms_error 0.0168526572675\n",
      "pred_error 74\n",
      "epo1370000_err0.016846\n",
      "rms_error 0.0168462289506\n",
      "pred_error 74\n",
      "epo1380000_err0.016840\n",
      "rms_error 0.0168400138736\n",
      "pred_error 74\n",
      "epo1390000_err0.016834\n",
      "rms_error 0.0168340164818\n",
      "pred_error 74\n",
      "epo1400000_err0.016828\n",
      "rms_error 0.0168282355318\n",
      "pred_error 74\n",
      "epo1410000_err0.016822\n",
      "rms_error 0.0168226624942\n",
      "pred_error 74\n",
      "epo1420000_err0.016817\n",
      "rms_error 0.0168172861634\n",
      "pred_error 74\n",
      "epo1430000_err0.016812\n",
      "rms_error 0.0168120962394\n",
      "pred_error 74\n",
      "epo1440000_err0.016807\n",
      "rms_error 0.0168070838843\n",
      "pred_error 74\n",
      "epo1450000_err0.016802\n",
      "rms_error 0.0168022412268\n",
      "pred_error 74\n",
      "epo1460000_err0.016797\n",
      "rms_error 0.0167975609874\n",
      "pred_error 74\n",
      "epo1470000_err0.016793\n",
      "rms_error 0.0167930363123\n",
      "pred_error 74\n",
      "epo1480000_err0.016788\n",
      "rms_error 0.0167886606096\n",
      "pred_error 74\n",
      "epo1490000_err0.016784\n",
      "rms_error 0.0167844273235\n",
      "pred_error 74\n",
      "epo1500000_err0.016780\n",
      "rms_error 0.0167803298077\n",
      "pred_error 73\n"
     ]
    },
    {
     "ename": "KeyboardInterrupt",
     "evalue": "",
     "output_type": "error",
     "traceback": [
      "\u001b[0;31m---------------------------------------------------------------------------\u001b[0m",
      "\u001b[0;31mKeyboardInterrupt\u001b[0m                         Traceback (most recent call last)",
      "\u001b[0;32m<ipython-input-40-e778aeaad617>\u001b[0m in \u001b[0;36m<module>\u001b[0;34m()\u001b[0m\n\u001b[1;32m      5\u001b[0m \u001b[0;32mwhile\u001b[0m \u001b[0;32mTrue\u001b[0m\u001b[0;34m:\u001b[0m\u001b[0;34m\u001b[0m\u001b[0m\n\u001b[1;32m      6\u001b[0m     \u001b[0mlayer_0_output\u001b[0m \u001b[0;34m=\u001b[0m \u001b[0mx_data_rows\u001b[0m\u001b[0;34m\u001b[0m\u001b[0m\n\u001b[0;32m----> 7\u001b[0;31m     \u001b[0mlayer_1_output\u001b[0m \u001b[0;34m=\u001b[0m \u001b[0mspecial\u001b[0m\u001b[0;34m.\u001b[0m\u001b[0mexpit\u001b[0m\u001b[0;34m(\u001b[0m\u001b[0mnp\u001b[0m\u001b[0;34m.\u001b[0m\u001b[0mdot\u001b[0m\u001b[0;34m(\u001b[0m\u001b[0mlayer_0_output\u001b[0m\u001b[0;34m,\u001b[0m \u001b[0mw_1\u001b[0m\u001b[0;34m)\u001b[0m\u001b[0;34m)\u001b[0m  \u001b[0;31m# shape = (x_row_num, layer_1_node_num)\u001b[0m\u001b[0;34m\u001b[0m\u001b[0m\n\u001b[0m\u001b[1;32m      8\u001b[0m     \u001b[0mlayer_2_output\u001b[0m \u001b[0;34m=\u001b[0m \u001b[0mspecial\u001b[0m\u001b[0;34m.\u001b[0m\u001b[0mexpit\u001b[0m\u001b[0;34m(\u001b[0m\u001b[0mnp\u001b[0m\u001b[0;34m.\u001b[0m\u001b[0mdot\u001b[0m\u001b[0;34m(\u001b[0m\u001b[0mlayer_1_output\u001b[0m\u001b[0;34m,\u001b[0m \u001b[0mw_2\u001b[0m\u001b[0;34m)\u001b[0m\u001b[0;34m)\u001b[0m  \u001b[0;31m# shape = (x_row_num, 1)\u001b[0m\u001b[0;34m\u001b[0m\u001b[0m\n\u001b[1;32m      9\u001b[0m     \u001b[0my_diff_rows\u001b[0m \u001b[0;34m=\u001b[0m \u001b[0;34m(\u001b[0m\u001b[0my_data_rows\u001b[0m \u001b[0;34m-\u001b[0m \u001b[0mlayer_2_output\u001b[0m\u001b[0;34m)\u001b[0m  \u001b[0;31m# shape = (x_row_num, 1)\u001b[0m\u001b[0;34m\u001b[0m\u001b[0m\n",
      "\u001b[0;31mKeyboardInterrupt\u001b[0m: "
     ]
    }
   ],
   "source": [
    "# training iterations\n",
    "\n",
    "# special.expit is sigmoid\n",
    "\n",
    "while True:\n",
    "    layer_0_output = x_data_rows\n",
    "    layer_1_output = special.expit(np.dot(layer_0_output, w_1))  # shape = (x_row_num, layer_1_node_num)\n",
    "    layer_2_output = special.expit(np.dot(layer_1_output, w_2))  # shape = (x_row_num, 1)\n",
    "    y_diff_rows = (y_data_rows - layer_2_output)  # shape = (x_row_num, 1)\n",
    "    \n",
    "    # backpropagation\n",
    "    layer_2_error = y_diff_rows  # shape = (x_row_num, 1)\n",
    "    layer_2_delta = layer_2_error * sigmoid_deriv(layer_2_output)  # shape = (x_row_num, 1)\n",
    "    \n",
    "    layer_1_error = layer_2_delta.dot(w_2.T)  # shape = (x_row_num, layer_1_node_num)\n",
    "    layer_1_delta = layer_1_error * sigmoid_deriv(layer_1_output)  # shape = (x_row_num, layer_1_node_num)\n",
    "\n",
    "    w_2 += lr * (layer_1_output.T).dot(layer_2_delta)  # shape = (layer_1_node_num, 1)\n",
    "    w_1 += lr * (layer_0_output.T).dot(layer_1_delta)  # shape = (x_row_num, layer_1_node_num)\n",
    "    \n",
    "#     v_w_2 = lr * (layer_1_output.T).dot(layer_2_delta) + gamma * v_w_2\n",
    "#     v_w_1 = lr * (layer_0_output.T).dot(layer_1_delta) + gamma * v_w_1\n",
    "#     w_2 += v_w_2  # shape = (layer_1_node_num, 1)\n",
    "#     w_1 += v_w_1  # shape = (x_row_num, layer_1_node_num)\n",
    "\n",
    "    # write model\n",
    "    if total_epoch % 10000 == 0:\n",
    "        pred_error = np.sum(np.abs(y_data_rows - to_bool(layer_2_output)))\n",
    "        rms_error = np.mean(np.square(y_diff_rows))\n",
    "        \n",
    "        model_file_info = \"epo\" + str(total_epoch) + \"_err\" + str(rms_error)[:8]\n",
    "        print(model_file_info)\n",
    "        print('rms_error', rms_error)\n",
    "        print('pred_error', pred_error)\n",
    "        \n",
    "        np.savez(MODEL_FOLDER + model_file_info, w_1=w_1, w_2=w_2, lr=lr, total_epoch=total_epoch, x_train_means=x_train_means, x_train_stds=x_train_stds)\n",
    "\n",
    "#     vw = lr * w_grad + gamma * vw\n",
    "#     w = w - vw\n",
    "\n",
    "    total_epoch += 1\n",
    "    "
   ]
  },
  {
   "cell_type": "markdown",
   "metadata": {},
   "source": [
    "## Test"
   ]
  },
  {
   "cell_type": "code",
   "execution_count": 41,
   "metadata": {
    "collapsed": false
   },
   "outputs": [
    {
     "data": {
      "text/plain": [
       "(600, 58)"
      ]
     },
     "execution_count": 41,
     "metadata": {},
     "output_type": "execute_result"
    }
   ],
   "source": [
    "test_data = pd.read_csv(TEST_FILE_PATH, header=None)\n",
    "test_data.shape"
   ]
  },
  {
   "cell_type": "code",
   "execution_count": 42,
   "metadata": {
    "collapsed": false
   },
   "outputs": [],
   "source": [
    "_id = test_data[0].apply(str)"
   ]
  },
  {
   "cell_type": "code",
   "execution_count": 43,
   "metadata": {
    "collapsed": true
   },
   "outputs": [],
   "source": [
    "x_test_data_rows = test_data[list(range(1, 58))].as_matrix()"
   ]
  },
  {
   "cell_type": "code",
   "execution_count": 44,
   "metadata": {
    "collapsed": true
   },
   "outputs": [],
   "source": [
    "x_test_data_rows = x_test_data_rows[:, x_select_col_idxs]"
   ]
  },
  {
   "cell_type": "code",
   "execution_count": 45,
   "metadata": {
    "collapsed": true
   },
   "outputs": [],
   "source": [
    "# read model"
   ]
  },
  {
   "cell_type": "code",
   "execution_count": 46,
   "metadata": {
    "collapsed": false
   },
   "outputs": [],
   "source": [
    "# normalize\n",
    "x_test_data_rows = (x_test_data_rows - x_train_means) / x_train_stds\n",
    "# add 1\n",
    "x_test_data_rows = np.c_[x_test_data_rows, np.ones(x_test_data_rows.shape[0]) ]"
   ]
  },
  {
   "cell_type": "code",
   "execution_count": 47,
   "metadata": {
    "collapsed": true
   },
   "outputs": [],
   "source": [
    "def to_bool(x):\n",
    "    return 1 if x > 0.5 else 0\n",
    "\n",
    "to_bool = np.vectorize(to_bool)"
   ]
  },
  {
   "cell_type": "code",
   "execution_count": 48,
   "metadata": {
    "collapsed": false
   },
   "outputs": [],
   "source": [
    "# test\n",
    "test_layer_1_output = special.expit(np.dot(x_test_data_rows, w_1))\n",
    "test_layer_2_output = special.expit(np.dot(test_layer_1_output, w_2))\n",
    "y_test_rows = to_bool(test_layer_2_output)\n",
    "\n",
    "y_test_series = pd.Series(y_test_rows.flatten())\n",
    "\n",
    "# concat id and y\n",
    "output = pd.concat([_id, y_test_series], axis=1)\n",
    "output.columns=[\"id\",\"label\"]\n",
    "\n",
    "# write file\n",
    "output.to_csv(OUTPUT_FOLDER + \"output_\" + METHOD_NAME + \"_\" + model_file_info + \".csv\", index=False)"
   ]
  },
  {
   "cell_type": "code",
   "execution_count": null,
   "metadata": {
    "collapsed": true
   },
   "outputs": [],
   "source": []
  }
 ],
 "metadata": {
  "anaconda-cloud": {},
  "kernelspec": {
   "display_name": "Python [conda root]",
   "language": "python",
   "name": "conda-root-py"
  },
  "language_info": {
   "codemirror_mode": {
    "name": "ipython",
    "version": 3
   },
   "file_extension": ".py",
   "mimetype": "text/x-python",
   "name": "python",
   "nbconvert_exporter": "python",
   "pygments_lexer": "ipython3",
   "version": "3.5.2"
  }
 },
 "nbformat": 4,
 "nbformat_minor": 0
}
