{
 "cells": [
  {
   "cell_type": "code",
   "execution_count": 31,
   "metadata": {
    "collapsed": false
   },
   "outputs": [
    {
     "name": "stdout",
     "output_type": "stream",
     "text": [
      "Populating the interactive namespace from numpy and matplotlib\n"
     ]
    }
   ],
   "source": [
    "%pylab inline\n",
    "import numpy as np\n",
    "from scipy import special\n",
    "import pandas as pd\n",
    "import os"
   ]
  },
  {
   "cell_type": "code",
   "execution_count": 32,
   "metadata": {
    "collapsed": true
   },
   "outputs": [],
   "source": [
    "METHOD_NAME = \"logistic_all_2\"\n",
    "MODEL_NAME = \"epo1000000_err0.0535.npz\""
   ]
  },
  {
   "cell_type": "code",
   "execution_count": 33,
   "metadata": {
    "collapsed": true
   },
   "outputs": [],
   "source": [
    "DATA_FOLDER = \"data/\"\n",
    "MODEL_FOLDER = \"models/\" + METHOD_NAME + \"/\"\n",
    "OUTPUT_FOLDER = \"outputs/\"\n",
    "TRAIN_FILE_PATH = DATA_FOLDER + \"spam_train.csv\"\n",
    "TEST_FILE_PATH = DATA_FOLDER + \"spam_test.csv\""
   ]
  },
  {
   "cell_type": "code",
   "execution_count": 34,
   "metadata": {
    "collapsed": true
   },
   "outputs": [],
   "source": [
    "model = np.load(MODEL_FOLDER + MODEL_NAME)\n",
    "w = model['w']"
   ]
  },
  {
   "cell_type": "code",
   "execution_count": 35,
   "metadata": {
    "collapsed": false
   },
   "outputs": [
    {
     "data": {
      "text/plain": [
       "array([26, 57, 40, 31, 24,  3, 41, 54, 55, 45, 52, 28, 22, 53, 34, 43, 47,\n",
       "        6, 44, 15, 25, 16, 19, 38,  8, 56, 32,  4, 35, 27,  5, 48, 14, 20,\n",
       "       42, 33, 51, 49,  7,  1, 29,  0, 23, 21, 18, 37, 39, 46, 11, 36, 50,\n",
       "       17,  2,  9, 30, 13, 10, 12])"
      ]
     },
     "execution_count": 35,
     "metadata": {},
     "output_type": "execute_result"
    }
   ],
   "source": [
    "w_square = np.square(w).flatten()\n",
    "np.argsort(w_square)[::-1]"
   ]
  },
  {
   "cell_type": "code",
   "execution_count": 36,
   "metadata": {
    "collapsed": false
   },
   "outputs": [
    {
     "data": {
      "text/plain": [
       "[(6671.8394362301387, 26),\n",
       " (541.64088602013715, 57),\n",
       " (376.7971690761305, 40),\n",
       " (35.965115151995853, 31),\n",
       " (10.141460874417028, 24),\n",
       " (7.4902357713814256, 3),\n",
       " (6.5998286418821275, 41),\n",
       " (4.7028054094339131, 54),\n",
       " (4.1001906804176418, 55),\n",
       " (1.9178514836594451, 45),\n",
       " (1.6215738631879277, 52),\n",
       " (1.2611715508467265, 28),\n",
       " (1.2566261307922024, 22),\n",
       " (1.2530882750836867, 53),\n",
       " (1.034407383640743, 34),\n",
       " (0.88366394926913483, 43),\n",
       " (0.85208956034954231, 47),\n",
       " (0.84523010908431873, 6),\n",
       " (0.61449647958089171, 44),\n",
       " (0.49834735246106027, 15),\n",
       " (0.42103923237613666, 25),\n",
       " (0.32083857039757296, 16),\n",
       " (0.26035141889330332, 19),\n",
       " (0.22781550360021352, 38),\n",
       " (0.15491000216535505, 8),\n",
       " (0.1544571200899566, 56),\n",
       " (0.11870203629312297, 32),\n",
       " (0.11286614887481146, 4),\n",
       " (0.10749012601624283, 35),\n",
       " (0.10595069917143575, 27),\n",
       " (0.1016803674577897, 5),\n",
       " (0.098877170672888093, 48),\n",
       " (0.08946730804617016, 14),\n",
       " (0.064762159257445939, 20),\n",
       " (0.063304771070687077, 42),\n",
       " (0.062866786534226213, 33),\n",
       " (0.059728673575129079, 51),\n",
       " (0.051366483246728586, 49),\n",
       " (0.045155942464870202, 7),\n",
       " (0.044656593029469761, 1),\n",
       " (0.032051407064001308, 29),\n",
       " (0.031036064082063754, 0),\n",
       " (0.030598548762065227, 23),\n",
       " (0.028223242678066408, 21),\n",
       " (0.022667460635462929, 18),\n",
       " (0.021010092911564988, 37),\n",
       " (0.020232518619656921, 39),\n",
       " (0.015783357830882833, 46),\n",
       " (0.014258828670061013, 11),\n",
       " (0.0099199974113804747, 36),\n",
       " (0.0063519751847660576, 50),\n",
       " (0.0055354649600773036, 17),\n",
       " (0.0045635089026528092, 2),\n",
       " (0.0045467897459087426, 9),\n",
       " (0.0026679686634409183, 30),\n",
       " (0.0011973652379176042, 13),\n",
       " (0.00045951845456300438, 10),\n",
       " (8.2675129827192241e-05, 12)]"
      ]
     },
     "execution_count": 36,
     "metadata": {},
     "output_type": "execute_result"
    }
   ],
   "source": [
    "w_square_with_idx = [(w_square[i], i) for i in range(len(w_square))]\n",
    "sorted(w_square_with_idx)[::-1]"
   ]
  },
  {
   "cell_type": "code",
   "execution_count": null,
   "metadata": {
    "collapsed": true
   },
   "outputs": [],
   "source": []
  }
 ],
 "metadata": {
  "kernelspec": {
   "display_name": "Python [Root]",
   "language": "python",
   "name": "Python [Root]"
  },
  "language_info": {
   "codemirror_mode": {
    "name": "ipython",
    "version": 3
   },
   "file_extension": ".py",
   "mimetype": "text/x-python",
   "name": "python",
   "nbconvert_exporter": "python",
   "pygments_lexer": "ipython3",
   "version": "3.5.2"
  }
 },
 "nbformat": 4,
 "nbformat_minor": 0
}
