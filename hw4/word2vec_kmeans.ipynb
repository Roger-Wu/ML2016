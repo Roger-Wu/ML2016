{
 "cells": [
  {
   "cell_type": "code",
   "execution_count": 72,
   "metadata": {
    "collapsed": true
   },
   "outputs": [],
   "source": [
    "import os\n",
    "import pandas as pd\n",
    "import numpy as np"
   ]
  },
  {
   "cell_type": "code",
   "execution_count": 73,
   "metadata": {
    "collapsed": true
   },
   "outputs": [],
   "source": [
    "from sklearn.feature_extraction.text import TfidfVectorizer\n",
    "from sklearn.cluster import KMeans, MiniBatchKMeans"
   ]
  },
  {
   "cell_type": "code",
   "execution_count": 74,
   "metadata": {
    "collapsed": true
   },
   "outputs": [],
   "source": [
    "import re"
   ]
  },
  {
   "cell_type": "code",
   "execution_count": 75,
   "metadata": {
    "collapsed": true
   },
   "outputs": [],
   "source": [
    "from nltk.corpus import stopwords\n",
    "stops = set(stopwords.words(\"english\"))"
   ]
  },
  {
   "cell_type": "code",
   "execution_count": 76,
   "metadata": {
    "collapsed": true
   },
   "outputs": [],
   "source": [
    "CLUSTER_COUNT = 20"
   ]
  },
  {
   "cell_type": "code",
   "execution_count": 77,
   "metadata": {
    "collapsed": true
   },
   "outputs": [],
   "source": [
    "METHOD = \"word2vec_kmeans\"\n",
    "DATA_FOLDER = \"data/\"\n",
    "OUTPUT_FOLDER = \"output/\"\n",
    "MODEL_FOLDER = \"model/\"\n",
    "\n",
    "TITLE_FILE = DATA_FOLDER + \"title_StackOverflow.txt\"\n",
    "CHECK_INDEX_FILE = DATA_FOLDER + \"check_index.csv\"\n",
    "MODEL_FILE = MODEL_FOLDER + \"w2v_with-title_1000feature_10minwords_10iter\""
   ]
  },
  {
   "cell_type": "code",
   "execution_count": 78,
   "metadata": {
    "collapsed": true
   },
   "outputs": [],
   "source": [
    "if not os.path.exists(OUTPUT_FOLDER):\n",
    "    os.makedirs(OUTPUT_FOLDER)"
   ]
  },
  {
   "cell_type": "markdown",
   "metadata": {},
   "source": [
    "# Read and cleaning data"
   ]
  },
  {
   "cell_type": "code",
   "execution_count": 79,
   "metadata": {
    "collapsed": true
   },
   "outputs": [],
   "source": [
    "# substitute symbols with whitespaces, to lowercase\n",
    "def sentenceToCleanWordSeqs(s):\n",
    "    return [w for w in re.sub(\"[^a-zA-Z]\", \" \", s).lower().split() if not w in stops]"
   ]
  },
  {
   "cell_type": "code",
   "execution_count": 80,
   "metadata": {
    "collapsed": false
   },
   "outputs": [],
   "source": [
    "with open(TITLE_FILE) as f:\n",
    "    titles = f.read().splitlines()"
   ]
  },
  {
   "cell_type": "code",
   "execution_count": 81,
   "metadata": {
    "collapsed": false
   },
   "outputs": [],
   "source": [
    "clean_title_word_seqs = [sentenceToCleanWordSeqs(title) for title in titles]"
   ]
  },
  {
   "cell_type": "code",
   "execution_count": 82,
   "metadata": {
    "collapsed": false
   },
   "outputs": [
    {
     "data": {
      "text/plain": [
       "[['fill', 'dataset', 'datatable', 'linq', 'query', 'resultset'],\n",
       " ['page', 'collection', 'linq'],\n",
       " ['best', 'subversion', 'clients', 'windows', 'vista', 'bit'],\n",
       " ['best',\n",
       "  'practice',\n",
       "  'collaborative',\n",
       "  'environment',\n",
       "  'bin',\n",
       "  'directory',\n",
       "  'svn'],\n",
       " ['visual',\n",
       "  'studio',\n",
       "  'setup',\n",
       "  'project',\n",
       "  'per',\n",
       "  'user',\n",
       "  'registry',\n",
       "  'settings'],\n",
       " ['elegantly', 'express', 'left', 'join', 'aggregate', 'sql', 'linq', 'query'],\n",
       " ['net', 'xml', 'comment', 'api', 'documentation'],\n",
       " ['modify',\n",
       "  'address',\n",
       "  'bar',\n",
       "  'url',\n",
       "  'ajax',\n",
       "  'app',\n",
       "  'match',\n",
       "  'current',\n",
       "  'state'],\n",
       " ['integrating', 'visual', 'studio', 'test', 'project', 'cruise', 'control'],\n",
       " ['longtime', 'windows', 'user', 'know', 'starting', 'use', 'linux']]"
      ]
     },
     "execution_count": 82,
     "metadata": {},
     "output_type": "execute_result"
    }
   ],
   "source": [
    "clean_title_word_seqs[:10]"
   ]
  },
  {
   "cell_type": "markdown",
   "metadata": {},
   "source": [
    "# Extract Features"
   ]
  },
  {
   "cell_type": "code",
   "execution_count": 83,
   "metadata": {
    "collapsed": false
   },
   "outputs": [],
   "source": [
    "from gensim.models import Word2Vec\n",
    "w2v_model = Word2Vec.load(MODEL_FILE)\n",
    "index2word_set = set(w2v_model.index2word)\n",
    "num_features = w2v_model.syn0.shape[1]"
   ]
  },
  {
   "cell_type": "code",
   "execution_count": 84,
   "metadata": {
    "collapsed": false
   },
   "outputs": [
    {
     "data": {
      "text/plain": [
       "[('vc', 0.6702888011932373),\n",
       " ('visualstudio', 0.6470158100128174),\n",
       " ('debugger', 0.5769426822662354),\n",
       " ('xcode', 0.5612576007843018),\n",
       " ('eclipse', 0.5576363205909729),\n",
       " ('mingw', 0.5571197867393494),\n",
       " ('exe', 0.5404865741729736),\n",
       " ('qtcreator', 0.5351230502128601),\n",
       " ('dll', 0.5250240564346313),\n",
       " ('qmake', 0.5237623453140259)]"
      ]
     },
     "execution_count": 84,
     "metadata": {},
     "output_type": "execute_result"
    }
   ],
   "source": [
    "w2v_model.most_similar(\"vs\")"
   ]
  },
  {
   "cell_type": "code",
   "execution_count": 85,
   "metadata": {
    "collapsed": false
   },
   "outputs": [],
   "source": [
    "# avg_vec = np.zeros((num_features,),dtype=\"float32\")\n",
    "# total_count = 0\n",
    "\n",
    "# for ws in clean_title_word_seqs:\n",
    "#     featureVec = np.zeros((num_features,),dtype=\"float32\")\n",
    "#     count = 0\n",
    "#     for w in ws:\n",
    "#         if w in index2word_set:\n",
    "#             count += 1\n",
    "#             total_count += 1\n",
    "#             featureVec += w2v_model[w]\n",
    "#             avg_vec += w2v_model[w]\n",
    "#     if count > 0:\n",
    "#         featureVec /= count\n",
    "#     title_vecs.append(featureVec)\n",
    "    \n",
    "# avg_vec /= total_count"
   ]
  },
  {
   "cell_type": "code",
   "execution_count": 86,
   "metadata": {
    "collapsed": false
   },
   "outputs": [
    {
     "name": "stdout",
     "output_type": "stream",
     "text": [
      "['progressive', 'enhancement']\n",
      "['maskededitextender']\n",
      "['unfiltering', 'nspasteboard']\n",
      "['stringstream', 'manipulators', 'vstudio']\n",
      "['linqify']\n",
      "['ajaxify']\n",
      "['portalsitemapprovider']\n",
      "['nsmanagedobjectcontextobjectswillchangenotification']\n",
      "['vssettings']\n",
      "['cgbitmapcontext', 'bitmapcontext']\n",
      "['listtemplateowner']\n",
      "['uiwebview', 'multithread', 'viewcontroller']\n",
      "['uinavigationcontroller', 'autorotation']\n",
      "['pushd', 'popd', 'ksh']\n",
      "['setquerytimeout', 'simplejdbctemplate']\n",
      "['floatvalue', 'cgfloat']\n",
      "['animating', 'nsdrawer']\n",
      "['htcaccess', 'modrewrite']\n",
      "['macid']\n",
      "['cgwindowid', 'axuielement']\n",
      "['qtpython', 'removechild', 'addchild', 'qgroupbox']\n",
      "['qabstractsocket', 'unknownsocketerror']\n",
      "['kext']\n",
      "['xlshtml']\n",
      "['jpatamplate', 'autocommit']\n",
      "['etl', 'esper', 'drools']\n"
     ]
    }
   ],
   "source": [
    "title_vecs = []\n",
    "\n",
    "for ws in clean_title_word_seqs:\n",
    "    featureVec = np.zeros((num_features,),dtype=\"float32\")\n",
    "    count = 0\n",
    "    for w in ws:\n",
    "        if w in index2word_set:\n",
    "            count += 1\n",
    "            featureVec += w2v_model[w]\n",
    "    if count > 0:\n",
    "        featureVec /= count\n",
    "    else:\n",
    "        print(ws)\n",
    "    title_vecs.append(featureVec)\n",
    "    \n",
    "title_vecs = np.array(title_vecs)"
   ]
  },
  {
   "cell_type": "code",
   "execution_count": 92,
   "metadata": {
    "collapsed": false
   },
   "outputs": [],
   "source": [
    "# lsa\n",
    "from sklearn.pipeline import make_pipeline\n",
    "from sklearn.preprocessing import Normalizer\n",
    "\n",
    "svd = TruncatedSVD(20)\n",
    "normalizer = Normalizer(copy=False)\n",
    "lsa = make_pipeline(svd, normalizer)\n",
    "\n",
    "title_vecs_lsa = lsa.fit_transform(title_vecs)"
   ]
  },
  {
   "cell_type": "code",
   "execution_count": 93,
   "metadata": {
    "collapsed": false
   },
   "outputs": [
    {
     "data": {
      "text/plain": [
       "array([[ 0.55039386,  0.61745062, -0.29672747, ...,  0.10141526,\n",
       "         0.10213984, -0.12702088],\n",
       "       [ 0.61783593,  0.18098015, -0.42473836, ...,  0.16945103,\n",
       "         0.00436111, -0.23357334],\n",
       "       [ 0.25033621, -0.48412724,  0.63550865, ...,  0.03234976,\n",
       "        -0.1437222 , -0.06945906],\n",
       "       ..., \n",
       "       [ 0.53880156, -0.42118677, -0.42941789, ..., -0.12891905,\n",
       "        -0.01625044,  0.00865129],\n",
       "       [ 0.40982346, -0.56971975,  0.17546881, ..., -0.21373959,\n",
       "        -0.07800356,  0.12536061],\n",
       "       [ 0.6097553 ,  0.40847302, -0.34783933, ..., -0.16346196,\n",
       "        -0.20467865,  0.00435352]])"
      ]
     },
     "execution_count": 93,
     "metadata": {},
     "output_type": "execute_result"
    }
   ],
   "source": [
    "title_vecs_lsa"
   ]
  },
  {
   "cell_type": "markdown",
   "metadata": {},
   "source": [
    "# Visualize"
   ]
  },
  {
   "cell_type": "code",
   "execution_count": 58,
   "metadata": {
    "collapsed": false
   },
   "outputs": [],
   "source": [
    "from sklearn.manifold import TSNE\n",
    "from sklearn.decomposition import TruncatedSVD, PCA\n",
    "import matplotlib.pyplot as plt"
   ]
  },
  {
   "cell_type": "code",
   "execution_count": 61,
   "metadata": {
    "collapsed": true
   },
   "outputs": [],
   "source": [
    "pca = PCA(n_components=2)\n",
    "pca.fit(title_vecs)\n",
    "Y = pca.transform(title_vecs)"
   ]
  },
  {
   "cell_type": "code",
   "execution_count": 71,
   "metadata": {
    "collapsed": false
   },
   "outputs": [
    {
     "data": {
      "image/png": "[encoded data removed]",
      "text/plain": [
       "<matplotlib.figure.Figure at 0x7f80e5d49c88>"
      ]
     },
     "metadata": {},
     "output_type": "display_data"
    }
   ],
   "source": [
    "plt.scatter(Y[:,0], Y[:,1])\n",
    "plt.show()"
   ]
  },
  {
   "cell_type": "code",
   "execution_count": 35,
   "metadata": {
    "collapsed": false
   },
   "outputs": [],
   "source": [
    "# model = TSNE(n_components=2, random_state=0)\n",
    "# np.set_printoptions(suppress=True)\n",
    "# Y = model.fit_transform(title_vecs)"
   ]
  },
  {
   "cell_type": "code",
   "execution_count": null,
   "metadata": {
    "collapsed": true
   },
   "outputs": [],
   "source": []
  },
  {
   "cell_type": "markdown",
   "metadata": {},
   "source": [
    "# Clustering"
   ]
  },
  {
   "cell_type": "code",
   "execution_count": 97,
   "metadata": {
    "collapsed": false
   },
   "outputs": [
    {
     "data": {
      "text/plain": [
       "KMeans(algorithm='auto', copy_x=True, init='k-means++', max_iter=100,\n",
       "    n_clusters=20, n_init=1, n_jobs=1, precompute_distances='auto',\n",
       "    random_state=None, tol=0.0001, verbose=0)"
      ]
     },
     "execution_count": 97,
     "metadata": {},
     "output_type": "execute_result"
    }
   ],
   "source": [
    "# model = MiniBatchKMeans(n_clusters=CLUSTER_COUNT, init='k-means++', n_init=1, init_size=1000, batch_size=1000, max_iter=500)\n",
    "model = KMeans(n_clusters=CLUSTER_COUNT, init='k-means++', max_iter=100, n_init=1)\n",
    "model.fit(title_vecs_lsa)"
   ]
  },
  {
   "cell_type": "code",
   "execution_count": 98,
   "metadata": {
    "collapsed": true
   },
   "outputs": [],
   "source": [
    "title_clusters = np.array(model.labels_.tolist())"
   ]
  },
  {
   "cell_type": "code",
   "execution_count": 99,
   "metadata": {
    "collapsed": false
   },
   "outputs": [
    {
     "name": "stdout",
     "output_type": "stream",
     "text": [
      "2.99075041575\n",
      "[[   0 1192]\n",
      " [   1  861]\n",
      " [   2  970]\n",
      " [   3 1003]\n",
      " [   4  998]\n",
      " [   5  969]\n",
      " [   6 1122]\n",
      " [   7 1059]\n",
      " [   8  847]\n",
      " [   9 1019]\n",
      " [  10 1078]\n",
      " [  11  998]\n",
      " [  12  863]\n",
      " [  13 1100]\n",
      " [  14 1075]\n",
      " [  15 1127]\n",
      " [  16  998]\n",
      " [  17  996]\n",
      " [  18  902]\n",
      " [  19  823]]\n"
     ]
    }
   ],
   "source": [
    "from scipy.stats import entropy\n",
    "\n",
    "unique, counts = np.unique(title_clusters, return_counts=True)\n",
    "print(entropy(counts))\n",
    "print(np.asarray((unique, counts)).T)"
   ]
  },
  {
   "cell_type": "code",
   "execution_count": 47,
   "metadata": {
    "collapsed": false
   },
   "outputs": [
    {
     "data": {
      "text/plain": [
       "2.9957322735539909"
      ]
     },
     "execution_count": 47,
     "metadata": {},
     "output_type": "execute_result"
    }
   ],
   "source": [
    "entropy([1]*20)"
   ]
  },
  {
   "cell_type": "markdown",
   "metadata": {},
   "source": [
    "# output"
   ]
  },
  {
   "cell_type": "code",
   "execution_count": 100,
   "metadata": {
    "collapsed": false
   },
   "outputs": [],
   "source": [
    "checkIndexDF = pd.read_csv(CHECK_INDEX_FILE)"
   ]
  },
  {
   "cell_type": "code",
   "execution_count": 101,
   "metadata": {
    "collapsed": false
   },
   "outputs": [
    {
     "data": {
      "text/html": [
       "<div>\n",
       "<table border=\"1\" class=\"dataframe\">\n",
       "  <thead>\n",
       "    <tr style=\"text-align: right;\">\n",
       "      <th></th>\n",
       "      <th>ID</th>\n",
       "      <th>x_ID</th>\n",
       "      <th>y_ID</th>\n",
       "    </tr>\n",
       "  </thead>\n",
       "  <tbody>\n",
       "    <tr>\n",
       "      <th>0</th>\n",
       "      <td>0</td>\n",
       "      <td>11726</td>\n",
       "      <td>1565</td>\n",
       "    </tr>\n",
       "    <tr>\n",
       "      <th>1</th>\n",
       "      <td>1</td>\n",
       "      <td>16528</td>\n",
       "      <td>7523</td>\n",
       "    </tr>\n",
       "    <tr>\n",
       "      <th>2</th>\n",
       "      <td>2</td>\n",
       "      <td>16683</td>\n",
       "      <td>19401</td>\n",
       "    </tr>\n",
       "    <tr>\n",
       "      <th>3</th>\n",
       "      <td>3</td>\n",
       "      <td>6506</td>\n",
       "      <td>5239</td>\n",
       "    </tr>\n",
       "    <tr>\n",
       "      <th>4</th>\n",
       "      <td>4</td>\n",
       "      <td>10279</td>\n",
       "      <td>19928</td>\n",
       "    </tr>\n",
       "  </tbody>\n",
       "</table>\n",
       "</div>"
      ],
      "text/plain": [
       "   ID   x_ID   y_ID\n",
       "0   0  11726   1565\n",
       "1   1  16528   7523\n",
       "2   2  16683  19401\n",
       "3   3   6506   5239\n",
       "4   4  10279  19928"
      ]
     },
     "execution_count": 101,
     "metadata": {},
     "output_type": "execute_result"
    }
   ],
   "source": [
    "checkIndexDF.head()"
   ]
  },
  {
   "cell_type": "code",
   "execution_count": 102,
   "metadata": {
    "collapsed": false
   },
   "outputs": [],
   "source": [
    "checkIndexDF[\"Ans\"] = (title_clusters[checkIndexDF[\"x_ID\"]] == title_clusters[checkIndexDF[\"y_ID\"]]).astype(int)"
   ]
  },
  {
   "cell_type": "code",
   "execution_count": 103,
   "metadata": {
    "collapsed": false
   },
   "outputs": [
    {
     "data": {
      "text/html": [
       "<div>\n",
       "<table border=\"1\" class=\"dataframe\">\n",
       "  <thead>\n",
       "    <tr style=\"text-align: right;\">\n",
       "      <th></th>\n",
       "      <th>ID</th>\n",
       "      <th>x_ID</th>\n",
       "      <th>y_ID</th>\n",
       "      <th>Ans</th>\n",
       "    </tr>\n",
       "  </thead>\n",
       "  <tbody>\n",
       "    <tr>\n",
       "      <th>0</th>\n",
       "      <td>0</td>\n",
       "      <td>11726</td>\n",
       "      <td>1565</td>\n",
       "      <td>0</td>\n",
       "    </tr>\n",
       "    <tr>\n",
       "      <th>1</th>\n",
       "      <td>1</td>\n",
       "      <td>16528</td>\n",
       "      <td>7523</td>\n",
       "      <td>0</td>\n",
       "    </tr>\n",
       "    <tr>\n",
       "      <th>2</th>\n",
       "      <td>2</td>\n",
       "      <td>16683</td>\n",
       "      <td>19401</td>\n",
       "      <td>0</td>\n",
       "    </tr>\n",
       "    <tr>\n",
       "      <th>3</th>\n",
       "      <td>3</td>\n",
       "      <td>6506</td>\n",
       "      <td>5239</td>\n",
       "      <td>0</td>\n",
       "    </tr>\n",
       "    <tr>\n",
       "      <th>4</th>\n",
       "      <td>4</td>\n",
       "      <td>10279</td>\n",
       "      <td>19928</td>\n",
       "      <td>0</td>\n",
       "    </tr>\n",
       "    <tr>\n",
       "      <th>5</th>\n",
       "      <td>5</td>\n",
       "      <td>19846</td>\n",
       "      <td>2428</td>\n",
       "      <td>0</td>\n",
       "    </tr>\n",
       "    <tr>\n",
       "      <th>6</th>\n",
       "      <td>6</td>\n",
       "      <td>3532</td>\n",
       "      <td>18102</td>\n",
       "      <td>0</td>\n",
       "    </tr>\n",
       "    <tr>\n",
       "      <th>7</th>\n",
       "      <td>7</td>\n",
       "      <td>11502</td>\n",
       "      <td>9753</td>\n",
       "      <td>0</td>\n",
       "    </tr>\n",
       "    <tr>\n",
       "      <th>8</th>\n",
       "      <td>8</td>\n",
       "      <td>13470</td>\n",
       "      <td>18420</td>\n",
       "      <td>0</td>\n",
       "    </tr>\n",
       "    <tr>\n",
       "      <th>9</th>\n",
       "      <td>9</td>\n",
       "      <td>4867</td>\n",
       "      <td>4793</td>\n",
       "      <td>0</td>\n",
       "    </tr>\n",
       "    <tr>\n",
       "      <th>10</th>\n",
       "      <td>10</td>\n",
       "      <td>3682</td>\n",
       "      <td>12903</td>\n",
       "      <td>1</td>\n",
       "    </tr>\n",
       "    <tr>\n",
       "      <th>11</th>\n",
       "      <td>11</td>\n",
       "      <td>1866</td>\n",
       "      <td>11118</td>\n",
       "      <td>0</td>\n",
       "    </tr>\n",
       "    <tr>\n",
       "      <th>12</th>\n",
       "      <td>12</td>\n",
       "      <td>2817</td>\n",
       "      <td>8448</td>\n",
       "      <td>0</td>\n",
       "    </tr>\n",
       "    <tr>\n",
       "      <th>13</th>\n",
       "      <td>13</td>\n",
       "      <td>16339</td>\n",
       "      <td>17294</td>\n",
       "      <td>0</td>\n",
       "    </tr>\n",
       "    <tr>\n",
       "      <th>14</th>\n",
       "      <td>14</td>\n",
       "      <td>11805</td>\n",
       "      <td>6608</td>\n",
       "      <td>0</td>\n",
       "    </tr>\n",
       "    <tr>\n",
       "      <th>15</th>\n",
       "      <td>15</td>\n",
       "      <td>10589</td>\n",
       "      <td>8367</td>\n",
       "      <td>0</td>\n",
       "    </tr>\n",
       "    <tr>\n",
       "      <th>16</th>\n",
       "      <td>16</td>\n",
       "      <td>14697</td>\n",
       "      <td>15341</td>\n",
       "      <td>0</td>\n",
       "    </tr>\n",
       "    <tr>\n",
       "      <th>17</th>\n",
       "      <td>17</td>\n",
       "      <td>940</td>\n",
       "      <td>3478</td>\n",
       "      <td>0</td>\n",
       "    </tr>\n",
       "    <tr>\n",
       "      <th>18</th>\n",
       "      <td>18</td>\n",
       "      <td>15659</td>\n",
       "      <td>12049</td>\n",
       "      <td>0</td>\n",
       "    </tr>\n",
       "    <tr>\n",
       "      <th>19</th>\n",
       "      <td>19</td>\n",
       "      <td>3877</td>\n",
       "      <td>11089</td>\n",
       "      <td>0</td>\n",
       "    </tr>\n",
       "  </tbody>\n",
       "</table>\n",
       "</div>"
      ],
      "text/plain": [
       "    ID   x_ID   y_ID  Ans\n",
       "0    0  11726   1565    0\n",
       "1    1  16528   7523    0\n",
       "2    2  16683  19401    0\n",
       "3    3   6506   5239    0\n",
       "4    4  10279  19928    0\n",
       "5    5  19846   2428    0\n",
       "6    6   3532  18102    0\n",
       "7    7  11502   9753    0\n",
       "8    8  13470  18420    0\n",
       "9    9   4867   4793    0\n",
       "10  10   3682  12903    1\n",
       "11  11   1866  11118    0\n",
       "12  12   2817   8448    0\n",
       "13  13  16339  17294    0\n",
       "14  14  11805   6608    0\n",
       "15  15  10589   8367    0\n",
       "16  16  14697  15341    0\n",
       "17  17    940   3478    0\n",
       "18  18  15659  12049    0\n",
       "19  19   3877  11089    0"
      ]
     },
     "execution_count": 103,
     "metadata": {},
     "output_type": "execute_result"
    }
   ],
   "source": [
    "checkIndexDF.head(20)"
   ]
  },
  {
   "cell_type": "code",
   "execution_count": 104,
   "metadata": {
    "collapsed": true
   },
   "outputs": [],
   "source": [
    "checkIndexDF.to_csv(OUTPUT_FOLDER + METHOD + \"_w2v-1000_lsa20.csv\", columns=[\"ID\", \"Ans\"], index=False)"
   ]
  },
  {
   "cell_type": "code",
   "execution_count": null,
   "metadata": {
    "collapsed": true
   },
   "outputs": [],
   "source": []
  }
 ],
 "metadata": {
  "anaconda-cloud": {},
  "kernelspec": {
   "display_name": "Python [conda root]",
   "language": "python",
   "name": "conda-root-py"
  },
  "language_info": {
   "codemirror_mode": {
    "name": "ipython",
    "version": 3
   },
   "file_extension": ".py",
   "mimetype": "text/x-python",
   "name": "python",
   "nbconvert_exporter": "python",
   "pygments_lexer": "ipython3",
   "version": "3.5.2"
  }
 },
 "nbformat": 4,
 "nbformat_minor": 1
}
