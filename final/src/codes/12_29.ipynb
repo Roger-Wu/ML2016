{
 "cells": [
  {
   "cell_type": "code",
   "execution_count": 1,
   "metadata": {
    "collapsed": false,
    "scrolled": true
   },
   "outputs": [
    {
     "name": "stdout",
     "output_type": "stream",
     "text": [
      " 磁碟區 C 中的磁碟是 OS\n",
      " 磁碟區序號:  98BA-B3AB\n",
      "\n",
      " C:\\Users\\user\\Desktop\\project3 的目錄\n",
      "\n",
      "2016/12/17  下午 07:50    <DIR>          .\n",
      "2016/12/17  下午 07:50    <DIR>          ..\n",
      "2016/12/17  下午 01:55    <DIR>          .ipynb_checkpoints\n",
      "2016/10/28  上午 11:20         9,877,261 biology.csv\n",
      "2016/10/28  上午 11:20         9,635,454 cooking.csv\n",
      "2016/10/28  上午 11:20        10,798,435 crypto.csv\n",
      "2016/10/28  上午 11:20        21,454,177 diy.csv\n",
      "2016/10/28  上午 11:20         3,141,453 robotics.csv\n",
      "2016/10/28  上午 11:56         2,098,983 sample_submission.csv\n",
      "2016/10/28  上午 11:20        75,624,518 test.csv\n",
      "2016/10/28  上午 11:20        13,607,529 travel.csv\n",
      "2016/12/17  下午 07:50            82,812 Untitled.ipynb\n",
      "2016/12/17  下午 06:03         7,651,005 wordvec.bin\n",
      "2016/12/17  下午 06:03        47,052,080 wordvec.bin.syn0.npy\n",
      "2016/12/17  下午 06:03        47,052,080 wordvec.bin.syn1neg.npy\n",
      "              12 個檔案     248,075,787 位元組\n",
      "               3 個目錄  70,045,302,784 位元組可用\n"
     ]
    }
   ],
   "source": [
    "ls"
   ]
  },
  {
   "cell_type": "code",
   "execution_count": 22,
   "metadata": {
    "collapsed": true
   },
   "outputs": [],
   "source": [
    "import re\n",
    "from bs4 import BeautifulSoup\n",
    "from nltk.corpus import stopwords\n",
    "stops = set(stopwords.words(\"english\"))\n",
    "\n",
    "# return a list of words\n",
    "def cleanseContent(content):\n",
    "    # remove html tags\n",
    "    content = BeautifulSoup(content, \"lxml\").get_text()\n",
    "\n",
    "    # remove urls\n",
    "    content = re.sub(r\"\\S+:/\\S+\",\"\", content)  # \"xxx:/xxx\"\n",
    "    content = re.sub(r\"\\S+\\\\\\S+\",\"\", content)  # \"xxx\\xxx\"\n",
    " \n",
    "    # replace punctuations and numbers with whitespaces\n",
    "    content = re.sub(r\"[^a-zA-Z]\",\" \", content)\n",
    "\n",
    "    # convert to lowercase and split into words\n",
    "    words = content.lower().split()\n",
    "    \n",
    "    # remove stopwords\n",
    "    words = [word for word in words if word not in stops]\n",
    "\n",
    "    return words\n",
    "def cleansentence(content):\n",
    "    # remove html tags\n",
    "    content = BeautifulSoup(content, \"lxml\").get_text()\n",
    "\n",
    "    # remove urls\n",
    "    content = re.sub(r\"\\S+:/\\S+\",\"\", content)  # \"xxx:/xxx\"\n",
    "    content = re.sub(r\"\\S+\\\\\\S+\",\"\", content)  # \"xxx\\xxx\"\n",
    " \n",
    "    # replace punctuations and numbers with whitespaces\n",
    "    content = re.sub(r\"[^a-zA-Z]\",\" \", content)\n",
    "\n",
    "    # convert to lowercase and split into words\n",
    "    words = content.lower().split()\n",
    "    \n",
    "    return words"
   ]
  },
  {
   "cell_type": "code",
   "execution_count": 3,
   "metadata": {
    "collapsed": false
   },
   "outputs": [],
   "source": [
    "import pandas as pd\n",
    "import numpy as np"
   ]
  },
  {
   "cell_type": "code",
   "execution_count": 4,
   "metadata": {
    "collapsed": true
   },
   "outputs": [],
   "source": [
    "cook = pd.read_csv(\"cooking.csv\")"
   ]
  },
  {
   "cell_type": "code",
   "execution_count": 5,
   "metadata": {
    "collapsed": true
   },
   "outputs": [],
   "source": [
    "crypto = pd.read_csv(\"crypto.csv\")"
   ]
  },
  {
   "cell_type": "code",
   "execution_count": 6,
   "metadata": {
    "collapsed": true
   },
   "outputs": [],
   "source": [
    "robotics = pd.read_csv(\"robotics.csv\")"
   ]
  },
  {
   "cell_type": "code",
   "execution_count": 7,
   "metadata": {
    "collapsed": true
   },
   "outputs": [],
   "source": [
    "travel = pd.read_csv(\"travel.csv\")"
   ]
  },
  {
   "cell_type": "code",
   "execution_count": 8,
   "metadata": {
    "collapsed": true
   },
   "outputs": [],
   "source": [
    "biology = pd.read_csv(\"biology.csv\")"
   ]
  },
  {
   "cell_type": "code",
   "execution_count": 9,
   "metadata": {
    "collapsed": true
   },
   "outputs": [],
   "source": [
    "diy = pd.read_csv(\"diy.csv\")"
   ]
  },
  {
   "cell_type": "code",
   "execution_count": 10,
   "metadata": {
    "collapsed": true
   },
   "outputs": [],
   "source": [
    "test = pd.read_csv(\"test.csv\")"
   ]
  },
  {
   "cell_type": "code",
   "execution_count": 23,
   "metadata": {
    "collapsed": false
   },
   "outputs": [
    {
     "data": {
      "text/html": [
       "<div>\n",
       "<table border=\"1\" class=\"dataframe\">\n",
       "  <thead>\n",
       "    <tr style=\"text-align: right;\">\n",
       "      <th></th>\n",
       "      <th>id</th>\n",
       "      <th>title</th>\n",
       "      <th>content</th>\n",
       "      <th>tags</th>\n",
       "    </tr>\n",
       "  </thead>\n",
       "  <tbody>\n",
       "    <tr>\n",
       "      <th>0</th>\n",
       "      <td>1</td>\n",
       "      <td>How can I get chewy chocolate chip cookies?</td>\n",
       "      <td>&lt;p&gt;My chocolate chips cookies are always too c...</td>\n",
       "      <td>baking cookies texture</td>\n",
       "    </tr>\n",
       "    <tr>\n",
       "      <th>1</th>\n",
       "      <td>2</td>\n",
       "      <td>How should I cook bacon in an oven?</td>\n",
       "      <td>&lt;p&gt;I've heard of people cooking bacon in an ov...</td>\n",
       "      <td>oven cooking-time bacon</td>\n",
       "    </tr>\n",
       "    <tr>\n",
       "      <th>2</th>\n",
       "      <td>3</td>\n",
       "      <td>What is the difference between white and brown...</td>\n",
       "      <td>&lt;p&gt;I always use brown extra large eggs, but I ...</td>\n",
       "      <td>eggs</td>\n",
       "    </tr>\n",
       "    <tr>\n",
       "      <th>3</th>\n",
       "      <td>4</td>\n",
       "      <td>What is the difference between baking soda and...</td>\n",
       "      <td>&lt;p&gt;And can I use one in place of the other in ...</td>\n",
       "      <td>substitutions please-remove-this-tag baking-so...</td>\n",
       "    </tr>\n",
       "    <tr>\n",
       "      <th>4</th>\n",
       "      <td>5</td>\n",
       "      <td>In a tomato sauce recipe, how can I cut the ac...</td>\n",
       "      <td>&lt;p&gt;It seems that every time I make a tomato sa...</td>\n",
       "      <td>sauce pasta tomatoes italian-cuisine</td>\n",
       "    </tr>\n",
       "    <tr>\n",
       "      <th>5</th>\n",
       "      <td>6</td>\n",
       "      <td>What ingredients (available in specific region...</td>\n",
       "      <td>&lt;p&gt;I have a recipe that calls for fresh parsle...</td>\n",
       "      <td>substitutions herbs parsley</td>\n",
       "    </tr>\n",
       "    <tr>\n",
       "      <th>6</th>\n",
       "      <td>9</td>\n",
       "      <td>What is the internal temperature a steak shoul...</td>\n",
       "      <td>&lt;p&gt;I'd like to know when to take my steaks off...</td>\n",
       "      <td>food-safety beef cooking-time</td>\n",
       "    </tr>\n",
       "    <tr>\n",
       "      <th>7</th>\n",
       "      <td>11</td>\n",
       "      <td>How should I poach an egg?</td>\n",
       "      <td>&lt;p&gt;What's the best method to poach an egg with...</td>\n",
       "      <td>eggs basics poaching</td>\n",
       "    </tr>\n",
       "    <tr>\n",
       "      <th>8</th>\n",
       "      <td>12</td>\n",
       "      <td>How can I make my Ice Cream \"creamier\"</td>\n",
       "      <td>&lt;p&gt;My ice cream doesn't feel creamy enough.  I...</td>\n",
       "      <td>ice-cream</td>\n",
       "    </tr>\n",
       "    <tr>\n",
       "      <th>9</th>\n",
       "      <td>17</td>\n",
       "      <td>How long and at what temperature do the variou...</td>\n",
       "      <td>&lt;p&gt;I'm interested in baking thighs, legs, brea...</td>\n",
       "      <td>baking chicken cooking-time</td>\n",
       "    </tr>\n",
       "    <tr>\n",
       "      <th>10</th>\n",
       "      <td>23</td>\n",
       "      <td>Besides salmon, what other meats can be grille...</td>\n",
       "      <td>&lt;p&gt;I've fallen in love with this wonderful &lt;a ...</td>\n",
       "      <td>grilling salmon cedar-plank</td>\n",
       "    </tr>\n",
       "    <tr>\n",
       "      <th>11</th>\n",
       "      <td>27</td>\n",
       "      <td>Do I need to sift flour that is labeled sifted?</td>\n",
       "      <td>&lt;p&gt;Is there really an advantage to sifting flo...</td>\n",
       "      <td>baking flour measurements sifting</td>\n",
       "    </tr>\n",
       "    <tr>\n",
       "      <th>12</th>\n",
       "      <td>28</td>\n",
       "      <td>Storage life for goose fat</td>\n",
       "      <td>&lt;p&gt;When I roast a goose, I decant the fat, str...</td>\n",
       "      <td>storage-method storage-lifetime fats</td>\n",
       "    </tr>\n",
       "    <tr>\n",
       "      <th>13</th>\n",
       "      <td>30</td>\n",
       "      <td>Pressure canning instructions</td>\n",
       "      <td>&lt;p&gt;Where can safe and reliable instructions (i...</td>\n",
       "      <td>canning pressure-canner food-preservation</td>\n",
       "    </tr>\n",
       "    <tr>\n",
       "      <th>14</th>\n",
       "      <td>32</td>\n",
       "      <td>What's a good resource for knowing what spices...</td>\n",
       "      <td>&lt;p&gt;I know what spices like garlic and black pe...</td>\n",
       "      <td>spices resources basics learning</td>\n",
       "    </tr>\n",
       "    <tr>\n",
       "      <th>15</th>\n",
       "      <td>36</td>\n",
       "      <td>Is it safe to leave butter at room temperature?</td>\n",
       "      <td>&lt;p&gt;Is it safe to leave butter at room temperat...</td>\n",
       "      <td>food-safety storage-method storage-lifetime bu...</td>\n",
       "    </tr>\n",
       "    <tr>\n",
       "      <th>16</th>\n",
       "      <td>38</td>\n",
       "      <td>Does resting the dough for a long time reduce ...</td>\n",
       "      <td>&lt;p&gt;In this &lt;a href=\"http://www.chefmichaelsmit...</td>\n",
       "      <td>baking bread dough</td>\n",
       "    </tr>\n",
       "    <tr>\n",
       "      <th>17</th>\n",
       "      <td>54</td>\n",
       "      <td>How should I prepare Risotto</td>\n",
       "      <td>&lt;p&gt;I've been watching a lot of Hells Kitchen, ...</td>\n",
       "      <td>rice italian-cuisine risotto</td>\n",
       "    </tr>\n",
       "    <tr>\n",
       "      <th>18</th>\n",
       "      <td>57</td>\n",
       "      <td>How does a splash of vinegar help when poachin...</td>\n",
       "      <td>&lt;p&gt;What does splashing in a shot of white vine...</td>\n",
       "      <td>eggs food-science vinegar poaching</td>\n",
       "    </tr>\n",
       "    <tr>\n",
       "      <th>19</th>\n",
       "      <td>61</td>\n",
       "      <td>What are the pros and cons of storing bread in...</td>\n",
       "      <td>&lt;p&gt;Why should/shouldn't I store my bread in th...</td>\n",
       "      <td>storage-method bread</td>\n",
       "    </tr>\n",
       "    <tr>\n",
       "      <th>20</th>\n",
       "      <td>62</td>\n",
       "      <td>What are some good resources for learning Knif...</td>\n",
       "      <td>&lt;p&gt;What are some good resources for learning k...</td>\n",
       "      <td>knife-skills resources learning cutting</td>\n",
       "    </tr>\n",
       "    <tr>\n",
       "      <th>21</th>\n",
       "      <td>66</td>\n",
       "      <td>How to calculate the calorie content of cooked...</td>\n",
       "      <td>&lt;p&gt;I like to cook from scratch, and I'm curren...</td>\n",
       "      <td>nutrient-composition calories</td>\n",
       "    </tr>\n",
       "    <tr>\n",
       "      <th>22</th>\n",
       "      <td>68</td>\n",
       "      <td>Recommendations for spice organization strategies</td>\n",
       "      <td>&lt;p&gt;Spices have always been the hardest thing f...</td>\n",
       "      <td>storage-method spices organization pantry</td>\n",
       "    </tr>\n",
       "    <tr>\n",
       "      <th>23</th>\n",
       "      <td>70</td>\n",
       "      <td>Shelf life of spices</td>\n",
       "      <td>&lt;p&gt;The common wisdom I've heard is that dried ...</td>\n",
       "      <td>storage-method storage-lifetime spices</td>\n",
       "    </tr>\n",
       "    <tr>\n",
       "      <th>24</th>\n",
       "      <td>76</td>\n",
       "      <td>How do I convert between the various measureme...</td>\n",
       "      <td>&lt;p&gt;I found a recipe that's using one or more m...</td>\n",
       "      <td>conversion measurements</td>\n",
       "    </tr>\n",
       "    <tr>\n",
       "      <th>25</th>\n",
       "      <td>81</td>\n",
       "      <td>How do I pound chicken (or other meat) without...</td>\n",
       "      <td>&lt;p&gt;Despite my best efforts, my kitchen (and so...</td>\n",
       "      <td>chicken meat chicken-breast tenderizing</td>\n",
       "    </tr>\n",
       "    <tr>\n",
       "      <th>26</th>\n",
       "      <td>84</td>\n",
       "      <td>Is there a formula for converting pancake batt...</td>\n",
       "      <td>&lt;p&gt;I have a wonderful pancake recipe that I wo...</td>\n",
       "      <td>baking pancakes conversion waffle</td>\n",
       "    </tr>\n",
       "    <tr>\n",
       "      <th>27</th>\n",
       "      <td>85</td>\n",
       "      <td>Wok preparation and caring</td>\n",
       "      <td>&lt;p&gt;What is a good technique for initially seas...</td>\n",
       "      <td>equipment wok seasoning-pans</td>\n",
       "    </tr>\n",
       "    <tr>\n",
       "      <th>28</th>\n",
       "      <td>87</td>\n",
       "      <td>How can I keep delicate food from sticking to ...</td>\n",
       "      <td>&lt;p&gt;When I grill fish or chicken, often much of...</td>\n",
       "      <td>grilling</td>\n",
       "    </tr>\n",
       "    <tr>\n",
       "      <th>29</th>\n",
       "      <td>89</td>\n",
       "      <td>What can I do to help my avocados ripen?</td>\n",
       "      <td>&lt;p&gt;I bought some avocados recently, and one of...</td>\n",
       "      <td>storage-method ripe avocados</td>\n",
       "    </tr>\n",
       "    <tr>\n",
       "      <th>...</th>\n",
       "      <td>...</td>\n",
       "      <td>...</td>\n",
       "      <td>...</td>\n",
       "      <td>...</td>\n",
       "    </tr>\n",
       "    <tr>\n",
       "      <th>15374</th>\n",
       "      <td>73574</td>\n",
       "      <td>Vietnamese burnt sugar beverage</td>\n",
       "      <td>&lt;p&gt;A while ago we ate at a Vietnamese restaura...</td>\n",
       "      <td>sugar food-identification dairy beverages viet...</td>\n",
       "    </tr>\n",
       "    <tr>\n",
       "      <th>15375</th>\n",
       "      <td>73576</td>\n",
       "      <td>Can you cook a digorno's pizza after its been ...</td>\n",
       "      <td>&lt;p&gt;is the pizza still ok to eat  after being t...</td>\n",
       "      <td>thawing</td>\n",
       "    </tr>\n",
       "    <tr>\n",
       "      <th>15376</th>\n",
       "      <td>73577</td>\n",
       "      <td>How to remove brownies cleanly from silicone m...</td>\n",
       "      <td>&lt;p&gt;I've recently started looking into making b...</td>\n",
       "      <td>baking brownies</td>\n",
       "    </tr>\n",
       "    <tr>\n",
       "      <th>15377</th>\n",
       "      <td>73584</td>\n",
       "      <td>Should Pickle Slices be Above or Below the Ham...</td>\n",
       "      <td>&lt;p&gt;When making hamburgers that will be eaten i...</td>\n",
       "      <td>hamburgers</td>\n",
       "    </tr>\n",
       "    <tr>\n",
       "      <th>15378</th>\n",
       "      <td>73585</td>\n",
       "      <td>Substitute for noodles</td>\n",
       "      <td>&lt;p&gt;I love all kinds of noodles, be it be Schez...</td>\n",
       "      <td>substitutions</td>\n",
       "    </tr>\n",
       "    <tr>\n",
       "      <th>15379</th>\n",
       "      <td>73594</td>\n",
       "      <td>Could you smoke a sauce?</td>\n",
       "      <td>&lt;p&gt;If  you wanted to add smoke flavour to a so...</td>\n",
       "      <td>chili-peppers hot-sauce pepper</td>\n",
       "    </tr>\n",
       "    <tr>\n",
       "      <th>15380</th>\n",
       "      <td>73598</td>\n",
       "      <td>Does reducing the clear juice from tomatoes ha...</td>\n",
       "      <td>&lt;p&gt;I have been cooking a very light tomato top...</td>\n",
       "      <td>sauce tomatoes</td>\n",
       "    </tr>\n",
       "    <tr>\n",
       "      <th>15381</th>\n",
       "      <td>73610</td>\n",
       "      <td>Mushy-firm pasta in soup ..... help?</td>\n",
       "      <td>&lt;p&gt;I need soup help.\\nI am unable to make a ho...</td>\n",
       "      <td>pasta soup</td>\n",
       "    </tr>\n",
       "    <tr>\n",
       "      <th>15382</th>\n",
       "      <td>73613</td>\n",
       "      <td>How can I keep greengage jam green rather than...</td>\n",
       "      <td>&lt;p&gt;How Cani keep greengage jam green rather th...</td>\n",
       "      <td>jam</td>\n",
       "    </tr>\n",
       "    <tr>\n",
       "      <th>15383</th>\n",
       "      <td>73616</td>\n",
       "      <td>Has anyone tried to cook spaghetti or other pa...</td>\n",
       "      <td>&lt;p&gt;I was watching Sara Moulton's TV show last ...</td>\n",
       "      <td>pasta</td>\n",
       "    </tr>\n",
       "    <tr>\n",
       "      <th>15384</th>\n",
       "      <td>73627</td>\n",
       "      <td>Cooked meat in slow cooker on warm. Can it sti...</td>\n",
       "      <td>&lt;p&gt;I put a beef roast in the slow cooker (croc...</td>\n",
       "      <td>crockpot</td>\n",
       "    </tr>\n",
       "    <tr>\n",
       "      <th>15385</th>\n",
       "      <td>73628</td>\n",
       "      <td>Does soy sauce counteract hot stuff?</td>\n",
       "      <td>&lt;p&gt;I put some soy sauce and a generous amount ...</td>\n",
       "      <td>spicy-hot soy hot-sauce</td>\n",
       "    </tr>\n",
       "    <tr>\n",
       "      <th>15386</th>\n",
       "      <td>73629</td>\n",
       "      <td>How much salt should be used in dishes for the...</td>\n",
       "      <td>&lt;p&gt;Is there a way to determine how much salt p...</td>\n",
       "      <td>salt</td>\n",
       "    </tr>\n",
       "    <tr>\n",
       "      <th>15387</th>\n",
       "      <td>73633</td>\n",
       "      <td>Dissolving xylitol in a raw, home-made chocolate</td>\n",
       "      <td>&lt;p&gt;I was doing a home-made, raw chocolate, mad...</td>\n",
       "      <td>chocolate sugar raw</td>\n",
       "    </tr>\n",
       "    <tr>\n",
       "      <th>15388</th>\n",
       "      <td>73638</td>\n",
       "      <td>What is the term for serving a soft-cooked fri...</td>\n",
       "      <td>&lt;p&gt;Recently I went to a restaurant where they ...</td>\n",
       "      <td>eggs fried-eggs</td>\n",
       "    </tr>\n",
       "    <tr>\n",
       "      <th>15389</th>\n",
       "      <td>73645</td>\n",
       "      <td>What is the proper way to cook a hamburger on ...</td>\n",
       "      <td>&lt;p&gt;I have a Pit Barrel Cooker. I have made ham...</td>\n",
       "      <td>barbecue hamburgers</td>\n",
       "    </tr>\n",
       "    <tr>\n",
       "      <th>15390</th>\n",
       "      <td>73647</td>\n",
       "      <td>Options to prepare tasty spicy snacks without ...</td>\n",
       "      <td>&lt;p&gt;We have a startup environment at office and...</td>\n",
       "      <td>substitutions flavor seasoning spicy-hot</td>\n",
       "    </tr>\n",
       "    <tr>\n",
       "      <th>15391</th>\n",
       "      <td>73650</td>\n",
       "      <td>Non plastic/glass microwavable plates</td>\n",
       "      <td>&lt;p&gt;Its well debated topic whether plastic / gl...</td>\n",
       "      <td>oven microwave ceramic</td>\n",
       "    </tr>\n",
       "    <tr>\n",
       "      <th>15392</th>\n",
       "      <td>73651</td>\n",
       "      <td>fish pie safe to cook half way, then cook the ...</td>\n",
       "      <td>&lt;p&gt;Bit of an odd one, was half way through coo...</td>\n",
       "      <td>fish</td>\n",
       "    </tr>\n",
       "    <tr>\n",
       "      <th>15393</th>\n",
       "      <td>73656</td>\n",
       "      <td>What cooking gadget is that?</td>\n",
       "      <td>&lt;p&gt;I was watching youtube vids about cooking a...</td>\n",
       "      <td>equipment</td>\n",
       "    </tr>\n",
       "    <tr>\n",
       "      <th>15394</th>\n",
       "      <td>73659</td>\n",
       "      <td>Can I cook with cosmetic coconut oil?</td>\n",
       "      <td>&lt;p&gt;I have &lt;a href=\"https://www.nowfoods.com/be...</td>\n",
       "      <td>oil coconut</td>\n",
       "    </tr>\n",
       "    <tr>\n",
       "      <th>15395</th>\n",
       "      <td>73661</td>\n",
       "      <td>Chemistry of making carbonated water?</td>\n",
       "      <td>&lt;p&gt;I've found guides online for making carbona...</td>\n",
       "      <td>carbonation</td>\n",
       "    </tr>\n",
       "    <tr>\n",
       "      <th>15396</th>\n",
       "      <td>73665</td>\n",
       "      <td>Can chicken stock be used as the basis of a sa...</td>\n",
       "      <td>&lt;p&gt;I have a surplus of jelly like chicken stoc...</td>\n",
       "      <td>chicken chicken-stock</td>\n",
       "    </tr>\n",
       "    <tr>\n",
       "      <th>15397</th>\n",
       "      <td>73666</td>\n",
       "      <td>Can I freeze left over Shake &amp; Bake coating mi...</td>\n",
       "      <td>&lt;p&gt;After coating my chicken with Shake &amp;amp; B...</td>\n",
       "      <td>food-safety freezing</td>\n",
       "    </tr>\n",
       "    <tr>\n",
       "      <th>15398</th>\n",
       "      <td>73668</td>\n",
       "      <td>Why is my Buckwheat soba noodle dough crumbling?</td>\n",
       "      <td>&lt;p&gt;I am trying to make Buckwheat noodles (Soba...</td>\n",
       "      <td>dough japanese-cuisine noodles buckwheat</td>\n",
       "    </tr>\n",
       "    <tr>\n",
       "      <th>15399</th>\n",
       "      <td>73670</td>\n",
       "      <td>Poached eggs at altitude?</td>\n",
       "      <td>&lt;p&gt;I recently signed up for America's Test Kit...</td>\n",
       "      <td>eggs poaching high-altitude</td>\n",
       "    </tr>\n",
       "    <tr>\n",
       "      <th>15400</th>\n",
       "      <td>73678</td>\n",
       "      <td>How to thicken buttercream without adding more...</td>\n",
       "      <td>&lt;p&gt;I made some buttercream frosting for browni...</td>\n",
       "      <td>frosting</td>\n",
       "    </tr>\n",
       "    <tr>\n",
       "      <th>15401</th>\n",
       "      <td>73680</td>\n",
       "      <td>Looking for old Italian recipe for chamellas</td>\n",
       "      <td>&lt;p&gt;My Italian mom gowould pour flour on a boar...</td>\n",
       "      <td>baking</td>\n",
       "    </tr>\n",
       "    <tr>\n",
       "      <th>15402</th>\n",
       "      <td>73681</td>\n",
       "      <td>Can i make ice cream with artificial sweetener</td>\n",
       "      <td>&lt;p&gt;I wonder if an artificial sweetener like su...</td>\n",
       "      <td>ice-cream</td>\n",
       "    </tr>\n",
       "    <tr>\n",
       "      <th>15403</th>\n",
       "      <td>73683</td>\n",
       "      <td>What are these white 'bits' in my nutella</td>\n",
       "      <td>&lt;p&gt;&lt;a href=\"http://i.stack.imgur.com/p45hW.jpg...</td>\n",
       "      <td>fats food-identification mold</td>\n",
       "    </tr>\n",
       "  </tbody>\n",
       "</table>\n",
       "<p>15404 rows × 4 columns</p>\n",
       "</div>"
      ],
      "text/plain": [
       "          id                                              title  \\\n",
       "0          1        How can I get chewy chocolate chip cookies?   \n",
       "1          2                How should I cook bacon in an oven?   \n",
       "2          3  What is the difference between white and brown...   \n",
       "3          4  What is the difference between baking soda and...   \n",
       "4          5  In a tomato sauce recipe, how can I cut the ac...   \n",
       "5          6  What ingredients (available in specific region...   \n",
       "6          9  What is the internal temperature a steak shoul...   \n",
       "7         11                         How should I poach an egg?   \n",
       "8         12             How can I make my Ice Cream \"creamier\"   \n",
       "9         17  How long and at what temperature do the variou...   \n",
       "10        23  Besides salmon, what other meats can be grille...   \n",
       "11        27    Do I need to sift flour that is labeled sifted?   \n",
       "12        28                         Storage life for goose fat   \n",
       "13        30                      Pressure canning instructions   \n",
       "14        32  What's a good resource for knowing what spices...   \n",
       "15        36    Is it safe to leave butter at room temperature?   \n",
       "16        38  Does resting the dough for a long time reduce ...   \n",
       "17        54                       How should I prepare Risotto   \n",
       "18        57  How does a splash of vinegar help when poachin...   \n",
       "19        61  What are the pros and cons of storing bread in...   \n",
       "20        62  What are some good resources for learning Knif...   \n",
       "21        66  How to calculate the calorie content of cooked...   \n",
       "22        68  Recommendations for spice organization strategies   \n",
       "23        70                               Shelf life of spices   \n",
       "24        76  How do I convert between the various measureme...   \n",
       "25        81  How do I pound chicken (or other meat) without...   \n",
       "26        84  Is there a formula for converting pancake batt...   \n",
       "27        85                         Wok preparation and caring   \n",
       "28        87  How can I keep delicate food from sticking to ...   \n",
       "29        89           What can I do to help my avocados ripen?   \n",
       "...      ...                                                ...   \n",
       "15374  73574                    Vietnamese burnt sugar beverage   \n",
       "15375  73576  Can you cook a digorno's pizza after its been ...   \n",
       "15376  73577  How to remove brownies cleanly from silicone m...   \n",
       "15377  73584  Should Pickle Slices be Above or Below the Ham...   \n",
       "15378  73585                             Substitute for noodles   \n",
       "15379  73594                           Could you smoke a sauce?   \n",
       "15380  73598  Does reducing the clear juice from tomatoes ha...   \n",
       "15381  73610               Mushy-firm pasta in soup ..... help?   \n",
       "15382  73613  How can I keep greengage jam green rather than...   \n",
       "15383  73616  Has anyone tried to cook spaghetti or other pa...   \n",
       "15384  73627  Cooked meat in slow cooker on warm. Can it sti...   \n",
       "15385  73628               Does soy sauce counteract hot stuff?   \n",
       "15386  73629  How much salt should be used in dishes for the...   \n",
       "15387  73633   Dissolving xylitol in a raw, home-made chocolate   \n",
       "15388  73638  What is the term for serving a soft-cooked fri...   \n",
       "15389  73645  What is the proper way to cook a hamburger on ...   \n",
       "15390  73647  Options to prepare tasty spicy snacks without ...   \n",
       "15391  73650              Non plastic/glass microwavable plates   \n",
       "15392  73651  fish pie safe to cook half way, then cook the ...   \n",
       "15393  73656                       What cooking gadget is that?   \n",
       "15394  73659              Can I cook with cosmetic coconut oil?   \n",
       "15395  73661              Chemistry of making carbonated water?   \n",
       "15396  73665  Can chicken stock be used as the basis of a sa...   \n",
       "15397  73666  Can I freeze left over Shake & Bake coating mi...   \n",
       "15398  73668   Why is my Buckwheat soba noodle dough crumbling?   \n",
       "15399  73670                          Poached eggs at altitude?   \n",
       "15400  73678  How to thicken buttercream without adding more...   \n",
       "15401  73680       Looking for old Italian recipe for chamellas   \n",
       "15402  73681     Can i make ice cream with artificial sweetener   \n",
       "15403  73683          What are these white 'bits' in my nutella   \n",
       "\n",
       "                                                 content  \\\n",
       "0      <p>My chocolate chips cookies are always too c...   \n",
       "1      <p>I've heard of people cooking bacon in an ov...   \n",
       "2      <p>I always use brown extra large eggs, but I ...   \n",
       "3      <p>And can I use one in place of the other in ...   \n",
       "4      <p>It seems that every time I make a tomato sa...   \n",
       "5      <p>I have a recipe that calls for fresh parsle...   \n",
       "6      <p>I'd like to know when to take my steaks off...   \n",
       "7      <p>What's the best method to poach an egg with...   \n",
       "8      <p>My ice cream doesn't feel creamy enough.  I...   \n",
       "9      <p>I'm interested in baking thighs, legs, brea...   \n",
       "10     <p>I've fallen in love with this wonderful <a ...   \n",
       "11     <p>Is there really an advantage to sifting flo...   \n",
       "12     <p>When I roast a goose, I decant the fat, str...   \n",
       "13     <p>Where can safe and reliable instructions (i...   \n",
       "14     <p>I know what spices like garlic and black pe...   \n",
       "15     <p>Is it safe to leave butter at room temperat...   \n",
       "16     <p>In this <a href=\"http://www.chefmichaelsmit...   \n",
       "17     <p>I've been watching a lot of Hells Kitchen, ...   \n",
       "18     <p>What does splashing in a shot of white vine...   \n",
       "19     <p>Why should/shouldn't I store my bread in th...   \n",
       "20     <p>What are some good resources for learning k...   \n",
       "21     <p>I like to cook from scratch, and I'm curren...   \n",
       "22     <p>Spices have always been the hardest thing f...   \n",
       "23     <p>The common wisdom I've heard is that dried ...   \n",
       "24     <p>I found a recipe that's using one or more m...   \n",
       "25     <p>Despite my best efforts, my kitchen (and so...   \n",
       "26     <p>I have a wonderful pancake recipe that I wo...   \n",
       "27     <p>What is a good technique for initially seas...   \n",
       "28     <p>When I grill fish or chicken, often much of...   \n",
       "29     <p>I bought some avocados recently, and one of...   \n",
       "...                                                  ...   \n",
       "15374  <p>A while ago we ate at a Vietnamese restaura...   \n",
       "15375  <p>is the pizza still ok to eat  after being t...   \n",
       "15376  <p>I've recently started looking into making b...   \n",
       "15377  <p>When making hamburgers that will be eaten i...   \n",
       "15378  <p>I love all kinds of noodles, be it be Schez...   \n",
       "15379  <p>If  you wanted to add smoke flavour to a so...   \n",
       "15380  <p>I have been cooking a very light tomato top...   \n",
       "15381  <p>I need soup help.\\nI am unable to make a ho...   \n",
       "15382  <p>How Cani keep greengage jam green rather th...   \n",
       "15383  <p>I was watching Sara Moulton's TV show last ...   \n",
       "15384  <p>I put a beef roast in the slow cooker (croc...   \n",
       "15385  <p>I put some soy sauce and a generous amount ...   \n",
       "15386  <p>Is there a way to determine how much salt p...   \n",
       "15387  <p>I was doing a home-made, raw chocolate, mad...   \n",
       "15388  <p>Recently I went to a restaurant where they ...   \n",
       "15389  <p>I have a Pit Barrel Cooker. I have made ham...   \n",
       "15390  <p>We have a startup environment at office and...   \n",
       "15391  <p>Its well debated topic whether plastic / gl...   \n",
       "15392  <p>Bit of an odd one, was half way through coo...   \n",
       "15393  <p>I was watching youtube vids about cooking a...   \n",
       "15394  <p>I have <a href=\"https://www.nowfoods.com/be...   \n",
       "15395  <p>I've found guides online for making carbona...   \n",
       "15396  <p>I have a surplus of jelly like chicken stoc...   \n",
       "15397  <p>After coating my chicken with Shake &amp; B...   \n",
       "15398  <p>I am trying to make Buckwheat noodles (Soba...   \n",
       "15399  <p>I recently signed up for America's Test Kit...   \n",
       "15400  <p>I made some buttercream frosting for browni...   \n",
       "15401  <p>My Italian mom gowould pour flour on a boar...   \n",
       "15402  <p>I wonder if an artificial sweetener like su...   \n",
       "15403  <p><a href=\"http://i.stack.imgur.com/p45hW.jpg...   \n",
       "\n",
       "                                                    tags  \n",
       "0                                 baking cookies texture  \n",
       "1                                oven cooking-time bacon  \n",
       "2                                                   eggs  \n",
       "3      substitutions please-remove-this-tag baking-so...  \n",
       "4                   sauce pasta tomatoes italian-cuisine  \n",
       "5                            substitutions herbs parsley  \n",
       "6                          food-safety beef cooking-time  \n",
       "7                                   eggs basics poaching  \n",
       "8                                              ice-cream  \n",
       "9                            baking chicken cooking-time  \n",
       "10                           grilling salmon cedar-plank  \n",
       "11                     baking flour measurements sifting  \n",
       "12                  storage-method storage-lifetime fats  \n",
       "13             canning pressure-canner food-preservation  \n",
       "14                      spices resources basics learning  \n",
       "15     food-safety storage-method storage-lifetime bu...  \n",
       "16                                    baking bread dough  \n",
       "17                          rice italian-cuisine risotto  \n",
       "18                    eggs food-science vinegar poaching  \n",
       "19                                  storage-method bread  \n",
       "20               knife-skills resources learning cutting  \n",
       "21                         nutrient-composition calories  \n",
       "22             storage-method spices organization pantry  \n",
       "23                storage-method storage-lifetime spices  \n",
       "24                               conversion measurements  \n",
       "25               chicken meat chicken-breast tenderizing  \n",
       "26                     baking pancakes conversion waffle  \n",
       "27                          equipment wok seasoning-pans  \n",
       "28                                              grilling  \n",
       "29                          storage-method ripe avocados  \n",
       "...                                                  ...  \n",
       "15374  sugar food-identification dairy beverages viet...  \n",
       "15375                                            thawing  \n",
       "15376                                    baking brownies  \n",
       "15377                                         hamburgers  \n",
       "15378                                      substitutions  \n",
       "15379                     chili-peppers hot-sauce pepper  \n",
       "15380                                     sauce tomatoes  \n",
       "15381                                         pasta soup  \n",
       "15382                                                jam  \n",
       "15383                                              pasta  \n",
       "15384                                           crockpot  \n",
       "15385                            spicy-hot soy hot-sauce  \n",
       "15386                                               salt  \n",
       "15387                                chocolate sugar raw  \n",
       "15388                                    eggs fried-eggs  \n",
       "15389                                barbecue hamburgers  \n",
       "15390           substitutions flavor seasoning spicy-hot  \n",
       "15391                             oven microwave ceramic  \n",
       "15392                                               fish  \n",
       "15393                                          equipment  \n",
       "15394                                        oil coconut  \n",
       "15395                                        carbonation  \n",
       "15396                              chicken chicken-stock  \n",
       "15397                               food-safety freezing  \n",
       "15398           dough japanese-cuisine noodles buckwheat  \n",
       "15399                        eggs poaching high-altitude  \n",
       "15400                                           frosting  \n",
       "15401                                             baking  \n",
       "15402                                          ice-cream  \n",
       "15403                      fats food-identification mold  \n",
       "\n",
       "[15404 rows x 4 columns]"
      ]
     },
     "execution_count": 23,
     "metadata": {},
     "output_type": "execute_result"
    }
   ],
   "source": [
    "cook"
   ]
  },
  {
   "cell_type": "code",
   "execution_count": 26,
   "metadata": {
    "collapsed": false,
    "scrolled": true
   },
   "outputs": [],
   "source": [
    "titles = np.hstack([cook['title'].values,crypto['title'].values,robotics['title'].values,travel['title'].values,biology['title'].values,diy['title'].values,test['title'].values])"
   ]
  },
  {
   "cell_type": "code",
   "execution_count": 27,
   "metadata": {
    "collapsed": false
   },
   "outputs": [],
   "source": [
    "title_list=list()\n",
    "for sentence in titles:\n",
    "    title_list.append(cleanseContent(sentence))"
   ]
  },
  {
   "cell_type": "code",
   "execution_count": 29,
   "metadata": {
    "collapsed": true
   },
   "outputs": [],
   "source": [
    "contents = np.hstack([cook['content'].values,crypto['content'].values,robotics['content'].values,travel['content'].values,biology['content'].values,diy['content'].values,test['content'].values])"
   ]
  },
  {
   "cell_type": "code",
   "execution_count": 30,
   "metadata": {
    "collapsed": false
   },
   "outputs": [],
   "source": [
    "content_list=list()\n",
    "for sentence in contents:\n",
    "    content_list.append(cleanseContent(sentence))"
   ]
  },
  {
   "cell_type": "code",
   "execution_count": 32,
   "metadata": {
    "collapsed": false
   },
   "outputs": [],
   "source": [
    "total_list=list()\n",
    "for i in range(len(title_list)):\n",
    "    total_list.append(title_list[i]+content_list[i])"
   ]
  },
  {
   "cell_type": "code",
   "execution_count": 34,
   "metadata": {
    "collapsed": false
   },
   "outputs": [],
   "source": [
    "testlist=total_list[87000:]"
   ]
  },
  {
   "cell_type": "code",
   "execution_count": 35,
   "metadata": {
    "collapsed": false
   },
   "outputs": [
    {
     "data": {
      "text/plain": [
       "81926"
      ]
     },
     "execution_count": 35,
     "metadata": {},
     "output_type": "execute_result"
    }
   ],
   "source": [
    "len(testlist)"
   ]
  },
  {
   "cell_type": "markdown",
   "metadata": {},
   "source": [
    "# train word2vec"
   ]
  },
  {
   "cell_type": "code",
   "execution_count": 28,
   "metadata": {
    "collapsed": false,
    "scrolled": true
   },
   "outputs": [],
   "source": [
    "title_list2=list()\n",
    "for sentence in titles:\n",
    "    title_list2.append(cleansentence(sentence))"
   ]
  },
  {
   "cell_type": "code",
   "execution_count": 31,
   "metadata": {
    "collapsed": true
   },
   "outputs": [],
   "source": [
    "content_list2=list()\n",
    "for sentence in contents:\n",
    "    content_list2.append(cleansentence(sentence))"
   ]
  },
  {
   "cell_type": "code",
   "execution_count": 33,
   "metadata": {
    "collapsed": true
   },
   "outputs": [],
   "source": [
    "total_list2 = title_list2 + content_list2"
   ]
  },
  {
   "cell_type": "code",
   "execution_count": 38,
   "metadata": {
    "collapsed": false
   },
   "outputs": [],
   "source": [
    "import gensim"
   ]
  },
  {
   "cell_type": "code",
   "execution_count": 40,
   "metadata": {
    "collapsed": false
   },
   "outputs": [],
   "source": [
    "from gensim.models import Word2Vec\n",
    "word2vec=Word2Vec(total_list2 ,min_count=1,sg=0,window=5,iter=10,size=100)"
   ]
  },
  {
   "cell_type": "markdown",
   "metadata": {},
   "source": [
    "## get the total word vectors"
   ]
  },
  {
   "cell_type": "code",
   "execution_count": 42,
   "metadata": {
    "collapsed": false
   },
   "outputs": [],
   "source": [
    "wordvec_matrix=np.zeros(shape=(len(word2vec.vocab),100))\n",
    "count=0\n",
    "for i in word2vec.vocab.keys():\n",
    "    wordvec_matrix[count,:]=word2vec[i]\n",
    "    count+=1"
   ]
  },
  {
   "cell_type": "markdown",
   "metadata": {},
   "source": [
    "## get the normalize model (for wordvectors)"
   ]
  },
  {
   "cell_type": "code",
   "execution_count": 43,
   "metadata": {
    "collapsed": false
   },
   "outputs": [],
   "source": [
    "from sklearn.preprocessing import Normalizer\n",
    "normword_model = Normalizer(copy=False).fit(wordvec_matrix)"
   ]
  },
  {
   "cell_type": "markdown",
   "metadata": {},
   "source": [
    "## list of total words"
   ]
  },
  {
   "cell_type": "code",
   "execution_count": 44,
   "metadata": {
    "collapsed": false
   },
   "outputs": [],
   "source": [
    "words = list()\n",
    "for i in word2vec.vocab.keys():\n",
    "    words.append(i)"
   ]
  },
  {
   "cell_type": "code",
   "execution_count": 45,
   "metadata": {
    "collapsed": false
   },
   "outputs": [
    {
     "data": {
      "text/plain": [
       "117782"
      ]
     },
     "execution_count": 45,
     "metadata": {},
     "output_type": "execute_result"
    }
   ],
   "source": [
    "len(words)"
   ]
  },
  {
   "cell_type": "code",
   "execution_count": 46,
   "metadata": {
    "collapsed": true
   },
   "outputs": [],
   "source": [
    "word2vec.save(\"wordvec.bin\")"
   ]
  },
  {
   "cell_type": "code",
   "execution_count": 62,
   "metadata": {
    "collapsed": false
   },
   "outputs": [
    {
     "data": {
      "text/plain": [
       "[('mathematical', 0.7132173776626587),\n",
       " ('geometric', 0.632178783416748),\n",
       " ('fundamental', 0.6282174587249756),\n",
       " ('geometrical', 0.6149731874465942),\n",
       " ('biological', 0.6054855585098267),\n",
       " ('underlying', 0.5957832336425781),\n",
       " ('macroscopic', 0.5815680027008057),\n",
       " ('dynamical', 0.5638841390609741),\n",
       " ('measurable', 0.5482238531112671),\n",
       " ('microscopic', 0.5475676655769348)]"
      ]
     },
     "execution_count": 62,
     "metadata": {},
     "output_type": "execute_result"
    }
   ],
   "source": [
    "word2vec.most_similar(\"physical\")"
   ]
  },
  {
   "cell_type": "markdown",
   "metadata": {},
   "source": [
    "## training data's tag"
   ]
  },
  {
   "cell_type": "code",
   "execution_count": 63,
   "metadata": {
    "collapsed": false
   },
   "outputs": [],
   "source": [
    "tags = np.hstack([cook['tags'].values,crypto['tags'].values,robotics['tags'].values,travel['tags'].values,biology['tags'].values,diy['tags'].values])"
   ]
  },
  {
   "cell_type": "code",
   "execution_count": 64,
   "metadata": {
    "collapsed": false
   },
   "outputs": [
    {
     "data": {
      "text/plain": [
       "87000"
      ]
     },
     "execution_count": 64,
     "metadata": {},
     "output_type": "execute_result"
    }
   ],
   "source": [
    "len(tags)"
   ]
  },
  {
   "cell_type": "markdown",
   "metadata": {},
   "source": [
    "## remove \"please-remove-this-tag\""
   ]
  },
  {
   "cell_type": "code",
   "execution_count": 65,
   "metadata": {
    "collapsed": false
   },
   "outputs": [],
   "source": [
    "stops=list(stops)+['please','remove','this','tag']"
   ]
  },
  {
   "cell_type": "code",
   "execution_count": 66,
   "metadata": {
    "collapsed": false
   },
   "outputs": [],
   "source": [
    "tags_filter=list()\n",
    "for i in range(len(tags)):\n",
    "    temp=cleanseContent(tags[i])\n",
    "    tags_filter.append(temp)#[word for word in temp if word !='please-remove-this-tag' ])"
   ]
  },
  {
   "cell_type": "code",
   "execution_count": 67,
   "metadata": {
    "collapsed": false,
    "scrolled": true
   },
   "outputs": [
    {
     "name": "stdout",
     "output_type": "stream",
     "text": [
      "yes\n"
     ]
    }
   ],
   "source": [
    "if 'halfway' in word2vec.vocab.keys():\n",
    "    print(\"yes\")"
   ]
  },
  {
   "cell_type": "markdown",
   "metadata": {},
   "source": [
    "## get the tag vector"
   ]
  },
  {
   "cell_type": "code",
   "execution_count": 72,
   "metadata": {
    "collapsed": false,
    "scrolled": true
   },
   "outputs": [
    {
     "name": "stdout",
     "output_type": "stream",
     "text": [
      "867\n",
      "3525\n",
      "12341\n",
      "23230\n",
      "26015\n",
      "26111\n",
      "26285\n",
      "26289\n",
      "26313\n",
      "26483\n",
      "26617\n",
      "27253\n",
      "27467\n",
      "27769\n",
      "49278\n",
      "50269\n",
      "50331\n",
      "51068\n",
      "52711\n",
      "52904\n",
      "53586\n",
      "55900\n",
      "56769\n",
      "57863\n",
      "58589\n",
      "59396\n",
      "60352\n",
      "60520\n",
      "60594\n",
      "62091\n",
      "62730\n",
      "62787\n",
      "62889\n",
      "63686\n",
      "63859\n",
      "65154\n",
      "67281\n",
      "69593\n",
      "71369\n",
      "71780\n",
      "72771\n",
      "73453\n",
      "75433\n",
      "77969\n",
      "78019\n",
      "79452\n",
      "79748\n",
      "79819\n",
      "79839\n",
      "81442\n",
      "82136\n",
      "84684\n",
      "85652\n"
     ]
    }
   ],
   "source": [
    "tag_vector = np.zeros(shape=(tags.shape[0],100),dtype='float64')\n",
    "for i in range(len(tags_filter)):\n",
    "    temp = np.zeros(100)\n",
    "    #templist = list()\n",
    "    count=0\n",
    "    for word in tags_filter[i]:\n",
    "        if word in words:\n",
    "            #temp+=normword_model.transform(np.array(word2vec[word]).reshape((1,100))).reshape(100)\n",
    "            temp+=word2vec[word]\n",
    "            count+=1\n",
    "            #templist.append(words.index(word))\n",
    "    if count==0:\n",
    "        count=1\n",
    "        print(i)\n",
    "    tag_vector[i,:]=temp/count\n",
    "    #templist = [words.index(word) for word in tags_filter[i] if word in words]\n",
    "    #tag_vector[i,:]=np.sum(normword[templist,:],axis=0)"
   ]
  },
  {
   "cell_type": "code",
   "execution_count": 113,
   "metadata": {
    "collapsed": false
   },
   "outputs": [],
   "source": [
    "colum_sum = np.sum(tag_vector,axis=1)"
   ]
  },
  {
   "cell_type": "code",
   "execution_count": 116,
   "metadata": {
    "collapsed": false
   },
   "outputs": [],
   "source": [
    "zerovec = np.where(colum_sum == 0)[0]"
   ]
  },
  {
   "cell_type": "markdown",
   "metadata": {},
   "source": [
    "## normalize the tag vector"
   ]
  },
  {
   "cell_type": "code",
   "execution_count": 77,
   "metadata": {
    "collapsed": false,
    "scrolled": true
   },
   "outputs": [],
   "source": [
    "#normtag=tag_vector\n",
    "from sklearn.preprocessing import Normalizer\n",
    "normalize = Normalizer(copy=False)\n",
    "normtag = normalize.fit_transform(tag_vector)"
   ]
  },
  {
   "cell_type": "code",
   "execution_count": 78,
   "metadata": {
    "collapsed": false
   },
   "outputs": [
    {
     "data": {
      "text/plain": [
       "[('baking', 0.86363685131073),\n",
       " ('soda', 0.7902254462242126),\n",
       " ('powder', 0.7426607608795166),\n",
       " ('bicarb', 0.7183796167373657),\n",
       " ('applesauce', 0.706801176071167),\n",
       " ('vinegar', 0.7032784223556519),\n",
       " ('cornmeal', 0.6949033737182617),\n",
       " ('buttermilk', 0.685578465461731),\n",
       " ('cornstarch', 0.6793028116226196),\n",
       " ('brandy', 0.6749625205993652),\n",
       " ('cocoa', 0.6731220483779907),\n",
       " ('sherry', 0.67292320728302),\n",
       " ('bread', 0.6618828773498535),\n",
       " ('pasta', 0.6579564809799194),\n",
       " ('margarine', 0.6564160585403442),\n",
       " ('meringue', 0.655002236366272),\n",
       " ('unsweetened', 0.6512348055839539),\n",
       " ('oatmeal', 0.6500673294067383),\n",
       " ('splenda', 0.6472420692443848),\n",
       " ('butter', 0.6469136476516724)]"
      ]
     },
     "execution_count": 78,
     "metadata": {},
     "output_type": "execute_result"
    }
   ],
   "source": [
    "word2vec.most_similar([tag_vector[3,:]],topn=20)"
   ]
  },
  {
   "cell_type": "markdown",
   "metadata": {},
   "source": [
    "# do tf-idf for all the document"
   ]
  },
  {
   "cell_type": "code",
   "execution_count": 79,
   "metadata": {
    "collapsed": false
   },
   "outputs": [],
   "source": [
    "total=list()\n",
    "for i in range(len(total_list)):\n",
    "    total.append(' '.join(total_list[i]))"
   ]
  },
  {
   "cell_type": "code",
   "execution_count": 80,
   "metadata": {
    "collapsed": false
   },
   "outputs": [],
   "source": [
    "from sklearn.feature_extraction.text import TfidfVectorizer\n",
    "totalvec =TfidfVectorizer(encoding='UTF-8',max_df=0.5,min_df=2,max_features=500000)\n",
    "total_tfidf=totalvec.fit_transform(total)"
   ]
  },
  {
   "cell_type": "code",
   "execution_count": 81,
   "metadata": {
    "collapsed": false
   },
   "outputs": [
    {
     "data": {
      "text/plain": [
       "<168926x57818 sparse matrix of type '<class 'numpy.float64'>'\n",
       "\twith 7151068 stored elements in Compressed Sparse Row format>"
      ]
     },
     "execution_count": 81,
     "metadata": {},
     "output_type": "execute_result"
    }
   ],
   "source": [
    "total_tfidf"
   ]
  },
  {
   "cell_type": "markdown",
   "metadata": {},
   "source": [
    "## do LSA"
   ]
  },
  {
   "cell_type": "code",
   "execution_count": 82,
   "metadata": {
    "collapsed": false
   },
   "outputs": [],
   "source": [
    "from sklearn.decomposition import TruncatedSVD\n",
    "from sklearn.pipeline import make_pipeline\n",
    "from sklearn.preprocessing import Normalizer"
   ]
  },
  {
   "cell_type": "code",
   "execution_count": 83,
   "metadata": {
    "collapsed": false
   },
   "outputs": [],
   "source": [
    "svd = TruncatedSVD(1000)\n",
    "normalizer = Normalizer(copy=False)\n",
    "lsa = make_pipeline(svd, normalizer)\n",
    "\n",
    "X = lsa.fit_transform(total_tfidf)"
   ]
  },
  {
   "cell_type": "markdown",
   "metadata": {},
   "source": [
    "## split the training , validation , testing"
   ]
  },
  {
   "cell_type": "code",
   "execution_count": 84,
   "metadata": {
    "collapsed": true
   },
   "outputs": [],
   "source": [
    "train = X[:len(tags),:]\n",
    "test_X = X[len(tags):,:]"
   ]
  },
  {
   "cell_type": "code",
   "execution_count": 108,
   "metadata": {
    "collapsed": true
   },
   "outputs": [],
   "source": [
    "from sklearn.model_selection import KFold\n",
    "kfold = KFold(5,shuffle=True)\n",
    "train_index = list()\n",
    "valid_index = list()\n",
    "for t_index,v_index in kfold.split(train):\n",
    "    train_index.append(t_index)\n",
    "    valid_index.append(v_index)"
   ]
  },
  {
   "cell_type": "code",
   "execution_count": 85,
   "metadata": {
    "collapsed": true
   },
   "outputs": [],
   "source": [
    "# cook_len=cook['tags'].values.shape[0]\n",
    "# crypto_len=crypto['tags'].values.shape[0]\n",
    "# robotics_len=robotics['tags'].values.shape[0]\n",
    "# travel_len=travel['tags'].values.shape[0]\n",
    "# biology_len=biology['tags'].values.shape[0]\n",
    "# diy_len=diy['tags'].values.shape[0]"
   ]
  },
  {
   "cell_type": "code",
   "execution_count": 86,
   "metadata": {
    "collapsed": true
   },
   "outputs": [],
   "source": [
    "# cook_data=X[:cook_len,:]\n",
    "# crypto_data=X[cook_len:cook_len+crypto_len,:]\n",
    "# robotics_data=X[cook_len+crypto_len:cook_len+crypto_len+robotics_len,:]\n",
    "# travel_data=X[cook_len+crypto_len+robotics_len:cook_len+crypto_len+robotics_len+travel_len,:]\n",
    "# biology_data=X[cook_len+crypto_len+robotics_len+travel_len:cook_len+crypto_len+robotics_len+travel_len+biology_len,:]\n",
    "# diy_data=X[cook_len+crypto_len+robotics_len+travel_len+biology_len:cook_len+crypto_len+robotics_len+travel_len+biology_len+diy_len,:]"
   ]
  },
  {
   "cell_type": "code",
   "execution_count": 87,
   "metadata": {
    "collapsed": true
   },
   "outputs": [],
   "source": [
    "# train_cook = cook_data[:int(cook_len*(4/5)),:]\n",
    "# train_crypto = crypto_data[:int(crypto_len*(4/5)),:]\n",
    "# train_robotics = robotics_data[:int(robotics_len*(4/5)),:]\n",
    "# train_travel = travel_data[:int(travel_len*(4/5)),:]\n",
    "# train_biology = biology_data[:int(biology_len*(4/5)),:]\n",
    "# train_diy = diy_data[:int(diy_len*(4/5)),:]\n",
    "\n",
    "# val_cook = cook_data[int(cook_len*(4/5)):,:]\n",
    "# val_crypto = crypto_data[int(crypto_len*(4/5)):,:]\n",
    "# val_robotics =  robotics_data[int(robotics_len*(4/5)):,:]\n",
    "# val_travel = travel_data[int(travel_len*(4/5)):,:]\n",
    "# val_biology = biology_data[int(biology_len*(4/5)):,:]\n",
    "# val_diy = diy_data[int(diy_len*(4/5)):,:]"
   ]
  },
  {
   "cell_type": "code",
   "execution_count": 88,
   "metadata": {
    "collapsed": true
   },
   "outputs": [],
   "source": [
    "# train_X = np.vstack([train_cook,train_crypto,train_robotics,train_travel,train_biology,train_diy])\n",
    "# val_X = np.vstack([val_cook,val_crypto,val_robotics,val_travel,val_biology,val_diy])"
   ]
  },
  {
   "cell_type": "code",
   "execution_count": 89,
   "metadata": {
    "collapsed": false
   },
   "outputs": [
    {
     "name": "stdout",
     "output_type": "stream",
     "text": [
      "(69597, 1000) (17403, 1000)\n"
     ]
    }
   ],
   "source": [
    "# print(train_X.shape,val_X.shape)"
   ]
  },
  {
   "cell_type": "code",
   "execution_count": 90,
   "metadata": {
    "collapsed": false
   },
   "outputs": [],
   "source": [
    "# y_cook = normtag[:cook_len,:]\n",
    "# y_crypto = normtag[cook_len:cook_len+crypto_len,:]\n",
    "# y_robotics = normtag[cook_len+crypto_len:cook_len+crypto_len+robotics_len,:]\n",
    "# y_travel = normtag[cook_len+crypto_len+robotics_len:cook_len+crypto_len+robotics_len+travel_len,:]\n",
    "# y_biology = normtag[cook_len+crypto_len+robotics_len+travel_len:cook_len+crypto_len+robotics_len+travel_len+biology_len,:]\n",
    "# y_diy = normtag[cook_len+crypto_len+robotics_len+travel_len+biology_len:cook_len+crypto_len+robotics_len+travel_len+biology_len+diy_len,:]"
   ]
  },
  {
   "cell_type": "code",
   "execution_count": 91,
   "metadata": {
    "collapsed": true
   },
   "outputs": [],
   "source": [
    "# train_cook_y = y_cook[:int(cook_len*(4/5)),:]\n",
    "# train_crypto_y = y_crypto[:int(crypto_len*(4/5)),:]\n",
    "# train_robotics_y = y_robotics[:int(robotics_len*(4/5)),:]\n",
    "# train_travel_y = y_travel[:int(travel_len*(4/5)),:]\n",
    "# train_biology_y = y_biology[:int(biology_len*(4/5)),:]\n",
    "# train_diy_y = y_diy[:int(diy_len*(4/5)),:]\n",
    "\n",
    "# val_cook_y = y_cook[int(cook_len*(4/5)):,:]\n",
    "# val_crypto_y = y_crypto[int(crypto_len*(4/5)):,:]\n",
    "# val_robotics_y =  y_robotics[int(robotics_len*(4/5)):,:]\n",
    "# val_travel_y = y_travel[int(travel_len*(4/5)):,:]\n",
    "# val_biology_y = y_biology[int(biology_len*(4/5)):,:]\n",
    "# val_diy_y = y_diy[int(diy_len*(4/5)):,:]"
   ]
  },
  {
   "cell_type": "code",
   "execution_count": 92,
   "metadata": {
    "collapsed": true
   },
   "outputs": [],
   "source": [
    "# train_y = np.vstack([train_cook_y,train_crypto_y,train_robotics_y,train_travel_y,train_biology_y,train_diy_y])\n",
    "# val_y = np.vstack([val_cook_y,val_crypto_y,val_robotics_y,val_travel_y,val_biology_y,val_diy_y])"
   ]
  },
  {
   "cell_type": "code",
   "execution_count": 93,
   "metadata": {
    "collapsed": false
   },
   "outputs": [
    {
     "name": "stdout",
     "output_type": "stream",
     "text": [
      "(69597, 100) (17403, 100)\n"
     ]
    }
   ],
   "source": [
    "# print(train_y.shape,val_y.shape)"
   ]
  },
  {
   "cell_type": "markdown",
   "metadata": {},
   "source": [
    "# train dnn"
   ]
  },
  {
   "cell_type": "code",
   "execution_count": 94,
   "metadata": {
    "collapsed": true
   },
   "outputs": [],
   "source": [
    "import theano"
   ]
  },
  {
   "cell_type": "code",
   "execution_count": 95,
   "metadata": {
    "collapsed": false
   },
   "outputs": [
    {
     "name": "stderr",
     "output_type": "stream",
     "text": [
      "Using Theano backend.\n"
     ]
    }
   ],
   "source": [
    "from keras.models import Sequential, Model\n",
    "from keras.layers import Dense, Dropout, Activation ,Input\n",
    "from keras.optimizers import Adam, SGD\n",
    "from keras.callbacks import EarlyStopping\n",
    "from keras.regularizers import l2, activity_l2\n",
    "from keras.layers.normalization import BatchNormalization"
   ]
  },
  {
   "cell_type": "code",
   "execution_count": 120,
   "metadata": {
    "collapsed": false
   },
   "outputs": [],
   "source": [
    "model = Sequential()\n",
    "model.add(Dense(500, input_dim=1000, init='normal'))\n",
    "model.add(BatchNormalization())\n",
    "model.add(Activation('relu'))\n",
    "model.add(Dropout(0.2))\n",
    "\n",
    "# model.add(Dense(800, init='normal'))\n",
    "# model.add(BatchNormalization())\n",
    "# model.add(Activation('relu'))\n",
    "# model.add(Dropout(0.1))\n",
    "\n",
    "# model.add(Dense(500, init='normal'))\n",
    "# model.add(BatchNormalization())\n",
    "# model.add(Activation('tanh'))\n",
    "# model.add(Dropout(0.1))\n",
    "\n",
    "# model.add(Dense(150, init='normal'))\n",
    "# model.add(BatchNormalization())\n",
    "# model.add(Activation('relu'))\n",
    "# model.add(Dropout(0.1))\n",
    "\n",
    "model.add(Dense(100, init='normal'))\n",
    "model.add(BatchNormalization())\n",
    "model.add(Activation('tanh'))\n"
   ]
  },
  {
   "cell_type": "code",
   "execution_count": 121,
   "metadata": {
    "collapsed": false,
    "scrolled": true
   },
   "outputs": [
    {
     "name": "stdout",
     "output_type": "stream",
     "text": [
      "____________________________________________________________________________________________________\n",
      "Layer (type)                     Output Shape          Param #     Connected to                     \n",
      "====================================================================================================\n",
      "dense_7 (Dense)                  (None, 500)           500500      dense_input_4[0][0]              \n",
      "____________________________________________________________________________________________________\n",
      "batchnormalization_7 (BatchNormal(None, 500)           1000        dense_7[0][0]                    \n",
      "____________________________________________________________________________________________________\n",
      "activation_7 (Activation)        (None, 500)           0           batchnormalization_7[0][0]       \n",
      "____________________________________________________________________________________________________\n",
      "dropout_5 (Dropout)              (None, 500)           0           activation_7[0][0]               \n",
      "____________________________________________________________________________________________________\n",
      "dense_8 (Dense)                  (None, 100)           50100       dropout_5[0][0]                  \n",
      "____________________________________________________________________________________________________\n",
      "batchnormalization_8 (BatchNormal(None, 100)           200         dense_8[0][0]                    \n",
      "____________________________________________________________________________________________________\n",
      "activation_8 (Activation)        (None, 100)           0           batchnormalization_8[0][0]       \n",
      "====================================================================================================\n",
      "Total params: 551800\n",
      "____________________________________________________________________________________________________\n"
     ]
    }
   ],
   "source": [
    "model.compile(optimizer='Adam',loss='mse',metrics=['accuracy'])\n",
    "model.summary()"
   ]
  },
  {
   "cell_type": "code",
   "execution_count": 122,
   "metadata": {
    "collapsed": false,
    "scrolled": true
   },
   "outputs": [
    {
     "name": "stdout",
     "output_type": "stream",
     "text": [
      "Train on 69600 samples, validate on 17400 samples\n",
      "Epoch 1/50\n",
      "69600/69600 [==============================] - 4s - loss: 0.1108 - acc: 0.0560 - val_loss: 0.0435 - val_acc: 0.1205\n",
      "Epoch 2/50\n",
      "69600/69600 [==============================] - 4s - loss: 0.0424 - acc: 0.1149 - val_loss: 0.0319 - val_acc: 0.1640\n",
      "Epoch 3/50\n",
      "69600/69600 [==============================] - 4s - loss: 0.0275 - acc: 0.1634 - val_loss: 0.0148 - val_acc: 0.1821\n",
      "Epoch 4/50\n",
      "69600/69600 [==============================] - 4s - loss: 0.0082 - acc: 0.1609 - val_loss: 0.0063 - val_acc: 0.1691\n",
      "Epoch 5/50\n",
      "69600/69600 [==============================] - 4s - loss: 0.0055 - acc: 0.2075 - val_loss: 0.0050 - val_acc: 0.2464\n",
      "Epoch 6/50\n",
      "69600/69600 [==============================] - 4s - loss: 0.0048 - acc: 0.2499 - val_loss: 0.0045 - val_acc: 0.2721\n",
      "Epoch 7/50\n",
      "69600/69600 [==============================] - 4s - loss: 0.0045 - acc: 0.2673 - val_loss: 0.0042 - val_acc: 0.2895\n",
      "Epoch 8/50\n",
      "69600/69600 [==============================] - 5s - loss: 0.0043 - acc: 0.2768 - val_loss: 0.0041 - val_acc: 0.2985\n",
      "Epoch 9/50\n",
      "69600/69600 [==============================] - 5s - loss: 0.0042 - acc: 0.2856 - val_loss: 0.0040 - val_acc: 0.3063\n",
      "Epoch 10/50\n",
      "69600/69600 [==============================] - 5s - loss: 0.0042 - acc: 0.2920 - val_loss: 0.0040 - val_acc: 0.3074\n",
      "Epoch 11/50\n",
      "69600/69600 [==============================] - 5s - loss: 0.0041 - acc: 0.2958 - val_loss: 0.0040 - val_acc: 0.3113\n",
      "Epoch 12/50\n",
      "69600/69600 [==============================] - 4s - loss: 0.0041 - acc: 0.2966 - val_loss: 0.0039 - val_acc: 0.3099\n",
      "Epoch 13/50\n",
      "69600/69600 [==============================] - 4s - loss: 0.0040 - acc: 0.2999 - val_loss: 0.0039 - val_acc: 0.3147\n",
      "Epoch 14/50\n",
      "69600/69600 [==============================] - 4s - loss: 0.0040 - acc: 0.3030 - val_loss: 0.0039 - val_acc: 0.3164\n",
      "Epoch 15/50\n",
      "69600/69600 [==============================] - 4s - loss: 0.0040 - acc: 0.3061 - val_loss: 0.0039 - val_acc: 0.3182\n",
      "Epoch 16/50\n",
      "69600/69600 [==============================] - 4s - loss: 0.0039 - acc: 0.3092 - val_loss: 0.0039 - val_acc: 0.3184\n",
      "Epoch 17/50\n",
      "69600/69600 [==============================] - 4s - loss: 0.0039 - acc: 0.3104 - val_loss: 0.0039 - val_acc: 0.3161\n",
      "Epoch 18/50\n",
      "69600/69600 [==============================] - 4s - loss: 0.0039 - acc: 0.3130 - val_loss: 0.0039 - val_acc: 0.3213\n"
     ]
    },
    {
     "data": {
      "text/plain": [
       "<keras.callbacks.History at 0x21d4983f588>"
      ]
     },
     "execution_count": 122,
     "metadata": {},
     "output_type": "execute_result"
    }
   ],
   "source": [
    "model.fit(train[train_index[0],:],normtag[train_index[0],:],nb_epoch=50,batch_size=100,validation_data=(train[valid_index[0],:],normtag[valid_index[0],:]),shuffle=True,callbacks=[EarlyStopping(monitor='loss',patience=10,min_delta=0.001,mode='auto')])"
   ]
  },
  {
   "cell_type": "code",
   "execution_count": 212,
   "metadata": {
    "collapsed": false
   },
   "outputs": [],
   "source": [
    "y=model.predict(test_X)"
   ]
  },
  {
   "cell_type": "code",
   "execution_count": 123,
   "metadata": {
    "collapsed": false,
    "scrolled": true
   },
   "outputs": [
    {
     "data": {
      "text/plain": [
       "[('faucets', 0.5779094696044922),\n",
       " ('semen', 0.5753418803215027),\n",
       " ('detergents', 0.5652230978012085),\n",
       " ('sediment', 0.5616544485092163),\n",
       " ('bleeding', 0.5608097314834595),\n",
       " ('algae', 0.5543233156204224),\n",
       " ('cells', 0.5542008280754089),\n",
       " ('vial', 0.554182767868042),\n",
       " ('chemicals', 0.5523062348365784),\n",
       " ('tissue', 0.5508087873458862)]"
      ]
     },
     "execution_count": 123,
     "metadata": {},
     "output_type": "execute_result"
    }
   ],
   "source": [
    "word2vec.most_similar([y[0,:]])"
   ]
  },
  {
   "cell_type": "code",
   "execution_count": 36,
   "metadata": {
    "collapsed": false
   },
   "outputs": [],
   "source": [
    "test_wordlist=list()\n",
    "for i in range(len(testlist)):\n",
    "    test_wordlist+=testlist[i]"
   ]
  },
  {
   "cell_type": "code",
   "execution_count": 99,
   "metadata": {
    "collapsed": false
   },
   "outputs": [],
   "source": [
    "test_wordindex = list()\n",
    "for i in set(test_wordlist):\n",
    "    if i in words:\n",
    "        test_wordindex.append(words.index(i))"
   ]
  },
  {
   "cell_type": "code",
   "execution_count": 103,
   "metadata": {
    "collapsed": false
   },
   "outputs": [],
   "source": [
    "test_wordlist=np.array(test_wordlist)[test_wordindex]"
   ]
  },
  {
   "cell_type": "code",
   "execution_count": 106,
   "metadata": {
    "collapsed": false
   },
   "outputs": [],
   "source": [
    "from sklearn.metrics.pairwise import cosine_similarity\n",
    "sim = cosine_similarity(y[:10,:],normword[test_wordindex,:])"
   ]
  },
  {
   "cell_type": "code",
   "execution_count": 107,
   "metadata": {
    "collapsed": true
   },
   "outputs": [],
   "source": [
    "tag_sim = np.zeros(shape=(10,10),dtype='int')\n",
    "for i in range(10):\n",
    "    tag_sim[i,:] = (-sim[i,:]).argsort()[:10]"
   ]
  },
  {
   "cell_type": "code",
   "execution_count": 108,
   "metadata": {
    "collapsed": false
   },
   "outputs": [
    {
     "name": "stdout",
     "output_type": "stream",
     "text": [
      "possible thrower time horizontal created superposed data know continuous initial\n",
      "another layman bar scalar size give baseball metric given lower\n",
      "whose e calculate forever say despite function mass measurements possible\n",
      "accelerate dimensions entries physicists better particles someone another field phase\n",
      "whose dimension calculate despite nothing k incident x strictly form\n",
      "learn apparently abstract ambiguities layers gives another e field answers\n",
      "inclusive merits attosecond ludwigs air another choose move pushed instance\n",
      "usual possible similar similar problem dimensions ambiguities whose broglie refractive\n",
      "whose well despite beam space reproduced flow b minimum velocity\n",
      "scattering v solutes parameter vacua n system many low whether\n"
     ]
    }
   ],
   "source": [
    "for i in range(tag_sim.shape[0]):\n",
    "    print(' '.join([test_wordlist[index] for index in tag_sim[i,:]]))"
   ]
  },
  {
   "cell_type": "code",
   "execution_count": 75,
   "metadata": {
    "collapsed": false,
    "scrolled": true
   },
   "outputs": [
    {
     "data": {
      "text/plain": [
       "array([[1, 'What is spin as it relates to subatomic particles?',\n",
       "        '<p>I often hear about subatomic particles having a property called \"spin\" but also that it doesn\\'t actually relate to spinning about an axis like you would think. Which particles have spin? What does spin mean if not an actual spinning motion?</p>\\n'],\n",
       "       [2, 'What is your simplest explanation of the string theory?',\n",
       "        \"<p>How would you explain string theory to non physicists such as myself? I'm specially interested on how plausible is it and what is needed to successfully prove it?</p>\\n\"],\n",
       "       [3, 'Lie theory, Representations and particle physics',\n",
       "        '<p>This is a question that has been posted at many different forums, I thought maybe someone here would have a better or more conceptual answer than I have seen before:</p>\\n\\n<p>Why do physicists care about representations of Lie groups? For myself, when I think about a representation that means there is some sort of group acting on a vector space, what is the vector space that this Lie group is acting on? </p>\\n\\n<p>Or is it that certain things have to be invariant under a group action?\\nmaybe this is a dumb question, but i thought it might be a good start...</p>\\n\\n<p>To clarify, I am specifically thinking of the symmetry groups that people think about in relation to the standard model. I do not care why it might be a certain group, but more how we see the group acting, what is it acting on? etc.</p>\\n'],\n",
       "       [7, 'Will Determinism be ever possible?',\n",
       "        \"<p>What are the main problems that we need to solve to prove Laplace's determinism correct and overcome the Uncertainty principle?</p>\\n\"],\n",
       "       [9, \"Hamilton's Principle\",\n",
       "        \"<p>Hamilton's principle states that a dynamic system always follows a path such that its action integral is stationary (that is, maximum or minimum).</p>\\n\\n<p>Why should the action integral be stationary? On what basis did Hamilton state this principle?</p>\\n\"],\n",
       "       [13, 'What is sound and how is it produced?',\n",
       "        '<p>I\\'ve been using the term \"sound\" all my life, but I really have no clue as to what sound exactly is or how it is created. What is sound? How is it produced? Can it be measured?</p>\\n'],\n",
       "       [15, 'What experiment would disprove string theory?',\n",
       "        \"<p>I know that there's big controversy between two groups of physicists:</p>\\n\\n<ol>\\n<li>those who support string theory (most of them, I think)</li>\\n<li>and those who oppose it.</li>\\n</ol>\\n\\n<p>One of the arguments of the second group is that there's no way to disprove the correctness of the string theory.</p>\\n\\n<p>So my question is if there's any defined experiment that would disprove string theory? </p>\\n\"],\n",
       "       [17,\n",
       "        'Why does the sky change color? Why the sky is blue during the day, red during sunrise/set and black during the night?',\n",
       "        '<p>Why does the sky change color? Why the sky is blue during the day, red during sunrise/set and black during the night?</p>\\n'],\n",
       "       [19, \"How's the energy of particle collisions calculated?\",\n",
       "        '<p>Physicists often refer to the energy of collisions between different particles. My question is: how is that energy calculated? Is that kinetic energy?</p>\\n\\n<p>Also, related to this question, I know that the aim is to have higher and higher energy collisions (e.g to test for Higgs Boson). My understanding is that to have higher energy you can either accelerate them more, or use particles with higher mass. Is this correct?</p>\\n'],\n",
       "       [21, 'Monte Carlo use',\n",
       "        '<p>Where is the Monte Carlo method used in physics?</p>\\n']], dtype=object)"
      ]
     },
     "execution_count": 75,
     "metadata": {},
     "output_type": "execute_result"
    }
   ],
   "source": [
    "test.values[:10,:]"
   ]
  }
 ],
 "metadata": {
  "anaconda-cloud": {},
  "kernelspec": {
   "display_name": "Python [conda root]",
   "language": "python",
   "name": "conda-root-py"
  },
  "language_info": {
   "codemirror_mode": {
    "name": "ipython",
    "version": 3
   },
   "file_extension": ".py",
   "mimetype": "text/x-python",
   "name": "python",
   "nbconvert_exporter": "python",
   "pygments_lexer": "ipython3",
   "version": "3.5.2"
  }
 },
 "nbformat": 4,
 "nbformat_minor": 1
}
