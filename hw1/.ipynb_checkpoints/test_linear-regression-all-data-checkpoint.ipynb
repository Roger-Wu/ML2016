{
 "cells": [
  {
   "cell_type": "code",
   "execution_count": 2,
   "metadata": {
    "collapsed": false
   },
   "outputs": [
    {
     "name": "stdout",
     "output_type": "stream",
     "text": [
      "Populating the interactive namespace from numpy and matplotlib\n"
     ]
    }
   ],
   "source": [
    "%pylab inline\n",
    "import numpy as np\n",
    "import pandas as pd"
   ]
  },
  {
   "cell_type": "code",
   "execution_count": 3,
   "metadata": {
    "collapsed": true
   },
   "outputs": [],
   "source": [
    "DATA_FOLDER = \"data/\"\n",
    "MODEL_FOLDER = \"models/\"\n",
    "OUTPUT_FOLDER = \"outputs/\"\n",
    "TRAIN_FILE_PATH = DATA_FOLDER + \"train.csv\"\n",
    "TEST_FILE_PATH = DATA_FOLDER + \"test_X.csv\""
   ]
  },
  {
   "cell_type": "markdown",
   "metadata": {},
   "source": [
    "## Load Test Data"
   ]
  },
  {
   "cell_type": "code",
   "execution_count": 13,
   "metadata": {
    "collapsed": true
   },
   "outputs": [],
   "source": [
    "test_data = pd.read_csv(TEST_FILE_PATH, header=None, encoding=\"big5\")\n",
    "test_data[test_data==\"NR\"] = 0\n",
    "test_array = test_data[:][list(range(2, 11))].apply(pd.to_numeric).as_matrix()"
   ]
  },
  {
   "cell_type": "markdown",
   "metadata": {},
   "source": [
    "## Test"
   ]
  },
  {
   "cell_type": "code",
   "execution_count": 15,
   "metadata": {
    "collapsed": true
   },
   "outputs": [],
   "source": [
    "_id = pd.Series([\"id_\" + str(i) for i in range(dataNum)])"
   ]
  },
  {
   "cell_type": "code",
   "execution_count": 17,
   "metadata": {
    "collapsed": false
   },
   "outputs": [],
   "source": [
    "# load model\n",
    "MODEL_FOLDER = \"models/\"\n",
    "model_file = '5.89982371595.npz'\n",
    "model = np.load(MODEL_FOLDER + model_file)\n",
    "w = model['w']\n",
    "b = model['b']\n",
    "\n",
    "# calc y\n",
    "y_preds = []\n",
    "dataNum = 240\n",
    "for dataIdx in range(dataNum):\n",
    "    rowIdx = dataIdx * 18\n",
    "    x = test_array[rowIdx:rowIdx+18, :]\n",
    "    y_pred = einsum('ij,ij', x, w) + b\n",
    "    y_preds.append(y_pred)\n",
    "y_pred_series = pd.Series(y_preds)\n",
    "\n",
    "# concat id and y\n",
    "output = pd.concat([_id, y_pred_series], axis=1)\n",
    "output.columns=[\"id\",\"value\"]\n",
    "\n",
    "# write file\n",
    "output.to_csv(OUTPUT_FOLDER + \"output_linear_all_\" + model_file[:-4] + \".csv\", index=False)"
   ]
  },
  {
   "cell_type": "code",
   "execution_count": null,
   "metadata": {
    "collapsed": true
   },
   "outputs": [],
   "source": []
  }
 ],
 "metadata": {
  "anaconda-cloud": {},
  "kernelspec": {
   "display_name": "Python [Root]",
   "language": "python",
   "name": "Python [Root]"
  },
  "language_info": {
   "codemirror_mode": {
    "name": "ipython",
    "version": 3
   },
   "file_extension": ".py",
   "mimetype": "text/x-python",
   "name": "python",
   "nbconvert_exporter": "python",
   "pygments_lexer": "ipython3",
   "version": "3.5.2"
  }
 },
 "nbformat": 4,
 "nbformat_minor": 0
}
