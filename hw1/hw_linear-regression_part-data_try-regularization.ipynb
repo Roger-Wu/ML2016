{
 "cells": [
  {
   "cell_type": "code",
   "execution_count": 24,
   "metadata": {
    "collapsed": false,
    "scrolled": true
   },
   "outputs": [
    {
     "name": "stdout",
     "output_type": "stream",
     "text": [
      "Populating the interactive namespace from numpy and matplotlib\n"
     ]
    },
    {
     "name": "stderr",
     "output_type": "stream",
     "text": [
      "/home/roger/anaconda3/lib/python3.5/site-packages/IPython/core/magics/pylab.py:161: UserWarning: pylab import has clobbered these variables: ['diff', 'gamma']\n",
      "`%matplotlib` prevents importing * from pylab and numpy\n",
      "  \"\\n`%matplotlib` prevents importing * from pylab and numpy\"\n"
     ]
    }
   ],
   "source": [
    "%pylab inline\n",
    "import numpy as np\n",
    "import pandas as pd\n",
    "import os"
   ]
  },
  {
   "cell_type": "code",
   "execution_count": 25,
   "metadata": {
    "collapsed": true
   },
   "outputs": [],
   "source": [
    "DATA_FOLDER = \"data/\"\n",
    "MODEL_FOLDER = \"models/hw_regular/\"\n",
    "OUTPUT_FOLDER = \"outputs/\"\n",
    "TRAIN_FILE_PATH = DATA_FOLDER + \"train.csv\"\n",
    "TEST_FILE_PATH = DATA_FOLDER + \"test_X.csv\""
   ]
  },
  {
   "cell_type": "code",
   "execution_count": 26,
   "metadata": {
    "collapsed": false
   },
   "outputs": [],
   "source": [
    "if not os.path.exists(MODEL_FOLDER):\n",
    "    os.makedirs(MODEL_FOLDER)"
   ]
  },
  {
   "cell_type": "code",
   "execution_count": 27,
   "metadata": {
    "collapsed": false,
    "scrolled": true
   },
   "outputs": [],
   "source": [
    "# read train data\n",
    "train_data = pd.read_csv(TRAIN_FILE_PATH, header=0, encoding=\"big5\")"
   ]
  },
  {
   "cell_type": "code",
   "execution_count": 28,
   "metadata": {
    "collapsed": false
   },
   "outputs": [],
   "source": [
    "# preprocess train data\n",
    "train_data[train_data==\"NR\"] = 0"
   ]
  },
  {
   "cell_type": "code",
   "execution_count": 29,
   "metadata": {
    "collapsed": false,
    "scrolled": true
   },
   "outputs": [
    {
     "data": {
      "text/html": [
       "<div>\n",
       "<table border=\"1\" class=\"dataframe\">\n",
       "  <thead>\n",
       "    <tr style=\"text-align: right;\">\n",
       "      <th></th>\n",
       "      <th>日期</th>\n",
       "      <th>測站</th>\n",
       "      <th>測項</th>\n",
       "      <th>0</th>\n",
       "      <th>1</th>\n",
       "      <th>2</th>\n",
       "      <th>3</th>\n",
       "      <th>4</th>\n",
       "      <th>5</th>\n",
       "      <th>6</th>\n",
       "      <th>...</th>\n",
       "      <th>14</th>\n",
       "      <th>15</th>\n",
       "      <th>16</th>\n",
       "      <th>17</th>\n",
       "      <th>18</th>\n",
       "      <th>19</th>\n",
       "      <th>20</th>\n",
       "      <th>21</th>\n",
       "      <th>22</th>\n",
       "      <th>23</th>\n",
       "    </tr>\n",
       "  </thead>\n",
       "  <tbody>\n",
       "    <tr>\n",
       "      <th>0</th>\n",
       "      <td>2014/1/1</td>\n",
       "      <td>豐原</td>\n",
       "      <td>AMB_TEMP</td>\n",
       "      <td>14</td>\n",
       "      <td>14</td>\n",
       "      <td>14</td>\n",
       "      <td>13</td>\n",
       "      <td>12</td>\n",
       "      <td>12</td>\n",
       "      <td>12</td>\n",
       "      <td>...</td>\n",
       "      <td>22</td>\n",
       "      <td>22</td>\n",
       "      <td>21</td>\n",
       "      <td>19</td>\n",
       "      <td>17</td>\n",
       "      <td>16</td>\n",
       "      <td>15</td>\n",
       "      <td>15</td>\n",
       "      <td>15</td>\n",
       "      <td>15</td>\n",
       "    </tr>\n",
       "    <tr>\n",
       "      <th>1</th>\n",
       "      <td>2014/1/1</td>\n",
       "      <td>豐原</td>\n",
       "      <td>CH4</td>\n",
       "      <td>1.8</td>\n",
       "      <td>1.8</td>\n",
       "      <td>1.8</td>\n",
       "      <td>1.8</td>\n",
       "      <td>1.8</td>\n",
       "      <td>1.8</td>\n",
       "      <td>1.8</td>\n",
       "      <td>...</td>\n",
       "      <td>1.8</td>\n",
       "      <td>1.8</td>\n",
       "      <td>1.8</td>\n",
       "      <td>1.8</td>\n",
       "      <td>1.8</td>\n",
       "      <td>1.8</td>\n",
       "      <td>1.8</td>\n",
       "      <td>1.8</td>\n",
       "      <td>1.8</td>\n",
       "      <td>1.8</td>\n",
       "    </tr>\n",
       "    <tr>\n",
       "      <th>2</th>\n",
       "      <td>2014/1/1</td>\n",
       "      <td>豐原</td>\n",
       "      <td>CO</td>\n",
       "      <td>0.51</td>\n",
       "      <td>0.41</td>\n",
       "      <td>0.39</td>\n",
       "      <td>0.37</td>\n",
       "      <td>0.35</td>\n",
       "      <td>0.3</td>\n",
       "      <td>0.37</td>\n",
       "      <td>...</td>\n",
       "      <td>0.37</td>\n",
       "      <td>0.37</td>\n",
       "      <td>0.47</td>\n",
       "      <td>0.69</td>\n",
       "      <td>0.56</td>\n",
       "      <td>0.45</td>\n",
       "      <td>0.38</td>\n",
       "      <td>0.35</td>\n",
       "      <td>0.36</td>\n",
       "      <td>0.32</td>\n",
       "    </tr>\n",
       "    <tr>\n",
       "      <th>3</th>\n",
       "      <td>2014/1/1</td>\n",
       "      <td>豐原</td>\n",
       "      <td>NMHC</td>\n",
       "      <td>0.2</td>\n",
       "      <td>0.15</td>\n",
       "      <td>0.13</td>\n",
       "      <td>0.12</td>\n",
       "      <td>0.11</td>\n",
       "      <td>0.06</td>\n",
       "      <td>0.1</td>\n",
       "      <td>...</td>\n",
       "      <td>0.1</td>\n",
       "      <td>0.13</td>\n",
       "      <td>0.14</td>\n",
       "      <td>0.23</td>\n",
       "      <td>0.18</td>\n",
       "      <td>0.12</td>\n",
       "      <td>0.1</td>\n",
       "      <td>0.09</td>\n",
       "      <td>0.1</td>\n",
       "      <td>0.08</td>\n",
       "    </tr>\n",
       "    <tr>\n",
       "      <th>4</th>\n",
       "      <td>2014/1/1</td>\n",
       "      <td>豐原</td>\n",
       "      <td>NO</td>\n",
       "      <td>0.9</td>\n",
       "      <td>0.6</td>\n",
       "      <td>0.5</td>\n",
       "      <td>1.7</td>\n",
       "      <td>1.8</td>\n",
       "      <td>1.5</td>\n",
       "      <td>1.9</td>\n",
       "      <td>...</td>\n",
       "      <td>2.5</td>\n",
       "      <td>2.2</td>\n",
       "      <td>2.5</td>\n",
       "      <td>2.3</td>\n",
       "      <td>2.1</td>\n",
       "      <td>1.9</td>\n",
       "      <td>1.5</td>\n",
       "      <td>1.6</td>\n",
       "      <td>1.8</td>\n",
       "      <td>1.5</td>\n",
       "    </tr>\n",
       "    <tr>\n",
       "      <th>5</th>\n",
       "      <td>2014/1/1</td>\n",
       "      <td>豐原</td>\n",
       "      <td>NO2</td>\n",
       "      <td>16</td>\n",
       "      <td>9.2</td>\n",
       "      <td>8.2</td>\n",
       "      <td>6.9</td>\n",
       "      <td>6.8</td>\n",
       "      <td>3.8</td>\n",
       "      <td>6.9</td>\n",
       "      <td>...</td>\n",
       "      <td>11</td>\n",
       "      <td>11</td>\n",
       "      <td>22</td>\n",
       "      <td>28</td>\n",
       "      <td>19</td>\n",
       "      <td>12</td>\n",
       "      <td>8.1</td>\n",
       "      <td>7</td>\n",
       "      <td>6.9</td>\n",
       "      <td>6</td>\n",
       "    </tr>\n",
       "    <tr>\n",
       "      <th>6</th>\n",
       "      <td>2014/1/1</td>\n",
       "      <td>豐原</td>\n",
       "      <td>NOx</td>\n",
       "      <td>17</td>\n",
       "      <td>9.8</td>\n",
       "      <td>8.7</td>\n",
       "      <td>8.6</td>\n",
       "      <td>8.5</td>\n",
       "      <td>5.3</td>\n",
       "      <td>8.8</td>\n",
       "      <td>...</td>\n",
       "      <td>14</td>\n",
       "      <td>13</td>\n",
       "      <td>25</td>\n",
       "      <td>30</td>\n",
       "      <td>21</td>\n",
       "      <td>13</td>\n",
       "      <td>9.7</td>\n",
       "      <td>8.6</td>\n",
       "      <td>8.7</td>\n",
       "      <td>7.5</td>\n",
       "    </tr>\n",
       "    <tr>\n",
       "      <th>7</th>\n",
       "      <td>2014/1/1</td>\n",
       "      <td>豐原</td>\n",
       "      <td>O3</td>\n",
       "      <td>16</td>\n",
       "      <td>30</td>\n",
       "      <td>27</td>\n",
       "      <td>23</td>\n",
       "      <td>24</td>\n",
       "      <td>28</td>\n",
       "      <td>24</td>\n",
       "      <td>...</td>\n",
       "      <td>65</td>\n",
       "      <td>64</td>\n",
       "      <td>51</td>\n",
       "      <td>34</td>\n",
       "      <td>33</td>\n",
       "      <td>34</td>\n",
       "      <td>37</td>\n",
       "      <td>38</td>\n",
       "      <td>38</td>\n",
       "      <td>36</td>\n",
       "    </tr>\n",
       "    <tr>\n",
       "      <th>8</th>\n",
       "      <td>2014/1/1</td>\n",
       "      <td>豐原</td>\n",
       "      <td>PM10</td>\n",
       "      <td>56</td>\n",
       "      <td>50</td>\n",
       "      <td>48</td>\n",
       "      <td>35</td>\n",
       "      <td>25</td>\n",
       "      <td>12</td>\n",
       "      <td>4</td>\n",
       "      <td>...</td>\n",
       "      <td>52</td>\n",
       "      <td>51</td>\n",
       "      <td>66</td>\n",
       "      <td>85</td>\n",
       "      <td>85</td>\n",
       "      <td>63</td>\n",
       "      <td>46</td>\n",
       "      <td>36</td>\n",
       "      <td>42</td>\n",
       "      <td>42</td>\n",
       "    </tr>\n",
       "    <tr>\n",
       "      <th>9</th>\n",
       "      <td>2014/1/1</td>\n",
       "      <td>豐原</td>\n",
       "      <td>PM2.5</td>\n",
       "      <td>26</td>\n",
       "      <td>39</td>\n",
       "      <td>36</td>\n",
       "      <td>35</td>\n",
       "      <td>31</td>\n",
       "      <td>28</td>\n",
       "      <td>25</td>\n",
       "      <td>...</td>\n",
       "      <td>36</td>\n",
       "      <td>45</td>\n",
       "      <td>42</td>\n",
       "      <td>49</td>\n",
       "      <td>45</td>\n",
       "      <td>44</td>\n",
       "      <td>41</td>\n",
       "      <td>30</td>\n",
       "      <td>24</td>\n",
       "      <td>13</td>\n",
       "    </tr>\n",
       "    <tr>\n",
       "      <th>10</th>\n",
       "      <td>2014/1/1</td>\n",
       "      <td>豐原</td>\n",
       "      <td>RAINFALL</td>\n",
       "      <td>0</td>\n",
       "      <td>0</td>\n",
       "      <td>0</td>\n",
       "      <td>0</td>\n",
       "      <td>0</td>\n",
       "      <td>0</td>\n",
       "      <td>0</td>\n",
       "      <td>...</td>\n",
       "      <td>0</td>\n",
       "      <td>0</td>\n",
       "      <td>0</td>\n",
       "      <td>0</td>\n",
       "      <td>0</td>\n",
       "      <td>0</td>\n",
       "      <td>0</td>\n",
       "      <td>0</td>\n",
       "      <td>0</td>\n",
       "      <td>0</td>\n",
       "    </tr>\n",
       "    <tr>\n",
       "      <th>11</th>\n",
       "      <td>2014/1/1</td>\n",
       "      <td>豐原</td>\n",
       "      <td>RH</td>\n",
       "      <td>77</td>\n",
       "      <td>68</td>\n",
       "      <td>67</td>\n",
       "      <td>74</td>\n",
       "      <td>72</td>\n",
       "      <td>73</td>\n",
       "      <td>74</td>\n",
       "      <td>...</td>\n",
       "      <td>47</td>\n",
       "      <td>49</td>\n",
       "      <td>56</td>\n",
       "      <td>67</td>\n",
       "      <td>72</td>\n",
       "      <td>69</td>\n",
       "      <td>70</td>\n",
       "      <td>70</td>\n",
       "      <td>70</td>\n",
       "      <td>69</td>\n",
       "    </tr>\n",
       "    <tr>\n",
       "      <th>12</th>\n",
       "      <td>2014/1/1</td>\n",
       "      <td>豐原</td>\n",
       "      <td>SO2</td>\n",
       "      <td>1.8</td>\n",
       "      <td>2</td>\n",
       "      <td>1.7</td>\n",
       "      <td>1.6</td>\n",
       "      <td>1.9</td>\n",
       "      <td>1.4</td>\n",
       "      <td>1.5</td>\n",
       "      <td>...</td>\n",
       "      <td>3.9</td>\n",
       "      <td>4.4</td>\n",
       "      <td>9.9</td>\n",
       "      <td>5.1</td>\n",
       "      <td>3.4</td>\n",
       "      <td>2.3</td>\n",
       "      <td>2</td>\n",
       "      <td>1.9</td>\n",
       "      <td>1.9</td>\n",
       "      <td>1.9</td>\n",
       "    </tr>\n",
       "    <tr>\n",
       "      <th>13</th>\n",
       "      <td>2014/1/1</td>\n",
       "      <td>豐原</td>\n",
       "      <td>THC</td>\n",
       "      <td>2</td>\n",
       "      <td>2</td>\n",
       "      <td>2</td>\n",
       "      <td>1.9</td>\n",
       "      <td>1.9</td>\n",
       "      <td>1.8</td>\n",
       "      <td>1.9</td>\n",
       "      <td>...</td>\n",
       "      <td>1.9</td>\n",
       "      <td>1.9</td>\n",
       "      <td>1.9</td>\n",
       "      <td>2.1</td>\n",
       "      <td>2</td>\n",
       "      <td>1.9</td>\n",
       "      <td>1.9</td>\n",
       "      <td>1.9</td>\n",
       "      <td>1.9</td>\n",
       "      <td>1.9</td>\n",
       "    </tr>\n",
       "    <tr>\n",
       "      <th>14</th>\n",
       "      <td>2014/1/1</td>\n",
       "      <td>豐原</td>\n",
       "      <td>WD_HR</td>\n",
       "      <td>37</td>\n",
       "      <td>80</td>\n",
       "      <td>57</td>\n",
       "      <td>76</td>\n",
       "      <td>110</td>\n",
       "      <td>106</td>\n",
       "      <td>101</td>\n",
       "      <td>...</td>\n",
       "      <td>307</td>\n",
       "      <td>304</td>\n",
       "      <td>307</td>\n",
       "      <td>124</td>\n",
       "      <td>118</td>\n",
       "      <td>121</td>\n",
       "      <td>113</td>\n",
       "      <td>112</td>\n",
       "      <td>106</td>\n",
       "      <td>110</td>\n",
       "    </tr>\n",
       "    <tr>\n",
       "      <th>15</th>\n",
       "      <td>2014/1/1</td>\n",
       "      <td>豐原</td>\n",
       "      <td>WIND_DIREC</td>\n",
       "      <td>35</td>\n",
       "      <td>79</td>\n",
       "      <td>2.4</td>\n",
       "      <td>55</td>\n",
       "      <td>94</td>\n",
       "      <td>116</td>\n",
       "      <td>106</td>\n",
       "      <td>...</td>\n",
       "      <td>313</td>\n",
       "      <td>305</td>\n",
       "      <td>291</td>\n",
       "      <td>124</td>\n",
       "      <td>119</td>\n",
       "      <td>118</td>\n",
       "      <td>114</td>\n",
       "      <td>108</td>\n",
       "      <td>102</td>\n",
       "      <td>111</td>\n",
       "    </tr>\n",
       "    <tr>\n",
       "      <th>16</th>\n",
       "      <td>2014/1/1</td>\n",
       "      <td>豐原</td>\n",
       "      <td>WIND_SPEED</td>\n",
       "      <td>1.4</td>\n",
       "      <td>1.8</td>\n",
       "      <td>1</td>\n",
       "      <td>0.6</td>\n",
       "      <td>1.7</td>\n",
       "      <td>2.5</td>\n",
       "      <td>2.5</td>\n",
       "      <td>...</td>\n",
       "      <td>2.5</td>\n",
       "      <td>2.2</td>\n",
       "      <td>1.4</td>\n",
       "      <td>2.2</td>\n",
       "      <td>2.8</td>\n",
       "      <td>3</td>\n",
       "      <td>2.6</td>\n",
       "      <td>2.7</td>\n",
       "      <td>2.1</td>\n",
       "      <td>2.1</td>\n",
       "    </tr>\n",
       "    <tr>\n",
       "      <th>17</th>\n",
       "      <td>2014/1/1</td>\n",
       "      <td>豐原</td>\n",
       "      <td>WS_HR</td>\n",
       "      <td>0.5</td>\n",
       "      <td>0.9</td>\n",
       "      <td>0.6</td>\n",
       "      <td>0.3</td>\n",
       "      <td>0.6</td>\n",
       "      <td>1.9</td>\n",
       "      <td>2</td>\n",
       "      <td>...</td>\n",
       "      <td>2.1</td>\n",
       "      <td>2.1</td>\n",
       "      <td>1.9</td>\n",
       "      <td>1</td>\n",
       "      <td>2.5</td>\n",
       "      <td>2.5</td>\n",
       "      <td>2.8</td>\n",
       "      <td>2.6</td>\n",
       "      <td>2.4</td>\n",
       "      <td>2.3</td>\n",
       "    </tr>\n",
       "  </tbody>\n",
       "</table>\n",
       "<p>18 rows × 27 columns</p>\n",
       "</div>"
      ],
      "text/plain": [
       "          日期  測站          測項     0     1     2     3     4     5     6  ...   \\\n",
       "0   2014/1/1  豐原    AMB_TEMP    14    14    14    13    12    12    12  ...    \n",
       "1   2014/1/1  豐原         CH4   1.8   1.8   1.8   1.8   1.8   1.8   1.8  ...    \n",
       "2   2014/1/1  豐原          CO  0.51  0.41  0.39  0.37  0.35   0.3  0.37  ...    \n",
       "3   2014/1/1  豐原        NMHC   0.2  0.15  0.13  0.12  0.11  0.06   0.1  ...    \n",
       "4   2014/1/1  豐原          NO   0.9   0.6   0.5   1.7   1.8   1.5   1.9  ...    \n",
       "5   2014/1/1  豐原         NO2    16   9.2   8.2   6.9   6.8   3.8   6.9  ...    \n",
       "6   2014/1/1  豐原         NOx    17   9.8   8.7   8.6   8.5   5.3   8.8  ...    \n",
       "7   2014/1/1  豐原          O3    16    30    27    23    24    28    24  ...    \n",
       "8   2014/1/1  豐原        PM10    56    50    48    35    25    12     4  ...    \n",
       "9   2014/1/1  豐原       PM2.5    26    39    36    35    31    28    25  ...    \n",
       "10  2014/1/1  豐原    RAINFALL     0     0     0     0     0     0     0  ...    \n",
       "11  2014/1/1  豐原          RH    77    68    67    74    72    73    74  ...    \n",
       "12  2014/1/1  豐原         SO2   1.8     2   1.7   1.6   1.9   1.4   1.5  ...    \n",
       "13  2014/1/1  豐原         THC     2     2     2   1.9   1.9   1.8   1.9  ...    \n",
       "14  2014/1/1  豐原       WD_HR    37    80    57    76   110   106   101  ...    \n",
       "15  2014/1/1  豐原  WIND_DIREC    35    79   2.4    55    94   116   106  ...    \n",
       "16  2014/1/1  豐原  WIND_SPEED   1.4   1.8     1   0.6   1.7   2.5   2.5  ...    \n",
       "17  2014/1/1  豐原       WS_HR   0.5   0.9   0.6   0.3   0.6   1.9     2  ...    \n",
       "\n",
       "      14    15    16    17    18    19    20    21    22    23  \n",
       "0     22    22    21    19    17    16    15    15    15    15  \n",
       "1    1.8   1.8   1.8   1.8   1.8   1.8   1.8   1.8   1.8   1.8  \n",
       "2   0.37  0.37  0.47  0.69  0.56  0.45  0.38  0.35  0.36  0.32  \n",
       "3    0.1  0.13  0.14  0.23  0.18  0.12   0.1  0.09   0.1  0.08  \n",
       "4    2.5   2.2   2.5   2.3   2.1   1.9   1.5   1.6   1.8   1.5  \n",
       "5     11    11    22    28    19    12   8.1     7   6.9     6  \n",
       "6     14    13    25    30    21    13   9.7   8.6   8.7   7.5  \n",
       "7     65    64    51    34    33    34    37    38    38    36  \n",
       "8     52    51    66    85    85    63    46    36    42    42  \n",
       "9     36    45    42    49    45    44    41    30    24    13  \n",
       "10     0     0     0     0     0     0     0     0     0     0  \n",
       "11    47    49    56    67    72    69    70    70    70    69  \n",
       "12   3.9   4.4   9.9   5.1   3.4   2.3     2   1.9   1.9   1.9  \n",
       "13   1.9   1.9   1.9   2.1     2   1.9   1.9   1.9   1.9   1.9  \n",
       "14   307   304   307   124   118   121   113   112   106   110  \n",
       "15   313   305   291   124   119   118   114   108   102   111  \n",
       "16   2.5   2.2   1.4   2.2   2.8     3   2.6   2.7   2.1   2.1  \n",
       "17   2.1   2.1   1.9     1   2.5   2.5   2.8   2.6   2.4   2.3  \n",
       "\n",
       "[18 rows x 27 columns]"
      ]
     },
     "execution_count": 29,
     "metadata": {},
     "output_type": "execute_result"
    }
   ],
   "source": [
    "train_data.head(18)"
   ]
  },
  {
   "cell_type": "code",
   "execution_count": 30,
   "metadata": {
    "collapsed": false
   },
   "outputs": [],
   "source": [
    "# concat 20 days data\n",
    "train_array_months = []  # 12 numpy.array, array's shape is (18, 480)\n",
    "for month in range(12):\n",
    "    temp_train_array = np.concatenate( [train_data[(360*month+18*day):(360*month+18*(day+1))][list(range(3, 27))].apply(pd.to_numeric).as_matrix() for day in range(20)], axis=1)\n",
    "    train_array_months.append(temp_train_array)"
   ]
  },
  {
   "cell_type": "code",
   "execution_count": 31,
   "metadata": {
    "collapsed": true
   },
   "outputs": [],
   "source": [
    "# use part of data\n",
    "x_row_idxs = [1, 2, 3, 5, 6, 7, 8, 9, 11, 12, 13]  # > 0.2\n",
    "x_row_num = len(x_row_idxs)\n",
    "x_col_num = 9\n",
    "\n",
    "train_array_months_processed = [train_array_months[month][x_row_idxs, :] for month in range(12)]"
   ]
  },
  {
   "cell_type": "markdown",
   "metadata": {},
   "source": [
    "## Train"
   ]
  },
  {
   "cell_type": "code",
   "execution_count": 32,
   "metadata": {
    "collapsed": true
   },
   "outputs": [],
   "source": [
    "w = np.random.randn(x_row_num, x_col_num)\n",
    "b = np.random.randn()"
   ]
  },
  {
   "cell_type": "code",
   "execution_count": 33,
   "metadata": {
    "collapsed": true
   },
   "outputs": [],
   "source": [
    "prev_loss = np.inf"
   ]
  },
  {
   "cell_type": "code",
   "execution_count": 34,
   "metadata": {
    "collapsed": true
   },
   "outputs": [],
   "source": [
    "# momentum\n",
    "gamma = 0.9\n",
    "vb = 0\n",
    "vw = np.zeros((x_row_num, x_col_num))"
   ]
  },
  {
   "cell_type": "code",
   "execution_count": 35,
   "metadata": {
    "collapsed": true
   },
   "outputs": [],
   "source": [
    "# b = np.random.randn()\n",
    "# w = np.random.randn(x_row_num, x_col_num)"
   ]
  },
  {
   "cell_type": "code",
   "execution_count": 56,
   "metadata": {
    "collapsed": true
   },
   "outputs": [],
   "source": [
    "lr = 3 * 10**(-9)"
   ]
  },
  {
   "cell_type": "code",
   "execution_count": 37,
   "metadata": {
    "collapsed": false
   },
   "outputs": [],
   "source": [
    "# # load model\n",
    "# model = np.load(MODEL_FOLDER + 'epo2100_los4.9199.npz')\n",
    "# w = model['w']\n",
    "# b = model['b']\n",
    "# vb = model['vb']\n",
    "# vw = model['vw']\n",
    "# lr = model['lr']\n",
    "# total_epoch = model['total_epoch']"
   ]
  },
  {
   "cell_type": "code",
   "execution_count": 38,
   "metadata": {
    "collapsed": true
   },
   "outputs": [],
   "source": [
    "init_b = np.random.randn()\n",
    "init_w = np.random.randn(x_row_num, x_col_num)"
   ]
  },
  {
   "cell_type": "code",
   "execution_count": 39,
   "metadata": {
    "collapsed": true
   },
   "outputs": [],
   "source": [
    "total_epoch = 0"
   ]
  },
  {
   "cell_type": "code",
   "execution_count": 40,
   "metadata": {
    "collapsed": true
   },
   "outputs": [],
   "source": [
    "_lambda = 10000"
   ]
  },
  {
   "cell_type": "code",
   "execution_count": 57,
   "metadata": {
    "collapsed": false
   },
   "outputs": [
    {
     "name": "stdout",
     "output_type": "stream",
     "text": [
      "22500 5.79142662163\n",
      "22600 5.79142652417\n",
      "22700 5.79142642676\n",
      "22800 5.79142632941\n",
      "22900 5.7914262321\n",
      "23000 5.79142613484\n",
      "lambda10000_epo23000_los5.7914\n",
      "23100 5.79142603763\n",
      "23200 5.79142594047\n",
      "23300 5.79142584336\n",
      "23400 5.7914257463\n",
      "23500 5.79142564929\n",
      "23600 5.79142555232\n",
      "23700 5.79142545541\n",
      "23800 5.79142535854\n",
      "23900 5.79142526173\n",
      "24000 5.79142516496\n",
      "lambda10000_epo24000_los5.7914\n",
      "24100 5.79142506824\n",
      "24200 5.79142497157\n",
      "24300 5.79142487495\n",
      "24400 5.79142477838\n",
      "24500 5.79142468186\n",
      "24600 5.79142458538\n",
      "24700 5.79142448896\n",
      "24800 5.79142439258\n",
      "24900 5.79142429626\n",
      "25000 5.79142419998\n",
      "lambda10000_epo25000_los5.7914\n",
      "25100 5.79142410375\n",
      "25200 5.79142400757\n",
      "25300 5.79142391144\n"
     ]
    },
    {
     "ename": "KeyboardInterrupt",
     "evalue": "",
     "output_type": "error",
     "traceback": [
      "\u001b[0;31m---------------------------------------------------------------------------\u001b[0m",
      "\u001b[0;31mKeyboardInterrupt\u001b[0m                         Traceback (most recent call last)",
      "\u001b[0;32m<ipython-input-57-34330d4e0be8>\u001b[0m in \u001b[0;36m<module>\u001b[0;34m()\u001b[0m\n\u001b[1;32m     17\u001b[0m \u001b[0;34m\u001b[0m\u001b[0m\n\u001b[1;32m     18\u001b[0m             \u001b[0;31m# calculate y from x, w, b\u001b[0m\u001b[0;34m\u001b[0m\u001b[0;34m\u001b[0m\u001b[0m\n\u001b[0;32m---> 19\u001b[0;31m             \u001b[0my_pred\u001b[0m\u001b[0;34m=\u001b[0m \u001b[0meinsum\u001b[0m\u001b[0;34m(\u001b[0m\u001b[0;34m'ij,ij'\u001b[0m\u001b[0;34m,\u001b[0m \u001b[0mx\u001b[0m\u001b[0;34m,\u001b[0m \u001b[0mw\u001b[0m\u001b[0;34m)\u001b[0m \u001b[0;34m+\u001b[0m \u001b[0mb\u001b[0m\u001b[0;34m\u001b[0m\u001b[0m\n\u001b[0m\u001b[1;32m     20\u001b[0m \u001b[0;34m\u001b[0m\u001b[0m\n\u001b[1;32m     21\u001b[0m             \u001b[0;31m# update loss\u001b[0m\u001b[0;34m\u001b[0m\u001b[0;34m\u001b[0m\u001b[0m\n",
      "\u001b[0;31mKeyboardInterrupt\u001b[0m: "
     ]
    }
   ],
   "source": [
    "while True:\n",
    "    # one training epoch\n",
    "\n",
    "    # reset temp variables \n",
    "    loss = 0\n",
    "    b_grad = 0\n",
    "    w_grad = np.zeros((x_row_num, x_col_num))\n",
    "\n",
    "    # calculate loss and gradient over all training data\n",
    "    for month in range(12):\n",
    "        for hour in range(470):\n",
    "            # extract x and y from training data\n",
    "            # train_array_months is a list of 12 arrays\n",
    "            # x will be an ?x9 numpy array. '?' depends on how we process training data\n",
    "            x = train_array_months_processed[month][:, hour:hour+9]\n",
    "            y_data = train_array_months[month][9, hour+9]\n",
    "\n",
    "            # calculate y from x, w, b\n",
    "            y_pred= einsum('ij,ij', x, w) + b\n",
    "\n",
    "            # update loss\n",
    "            diff = y_data - y_pred\n",
    "            loss += diff * diff\n",
    "\n",
    "            # update gradient of b and w\n",
    "            mult = 2 * diff * (-1)\n",
    "            b_grad += mult\n",
    "            w_grad += mult * x  # 2 * diff * (-1) * x\n",
    "\n",
    "    w_grad += 2 * _lambda * w\n",
    "\n",
    "    # calculate rms error\n",
    "    loss = sqrt(loss/(12*470))\n",
    "    losses.append(loss)\n",
    "\n",
    "    if total_epoch % 100 == 0:\n",
    "        print(total_epoch, loss)\n",
    "\n",
    "\n",
    "    # save model\n",
    "    if total_epoch % 1000 == 0:\n",
    "        model_file_info = \"lambda\" + str(_lambda) + \"_epo\" + str(total_epoch) + \"_los\" + str(loss)[:6]\n",
    "        print(model_file_info)\n",
    "        np.savez(MODEL_FOLDER + model_file_info, b=b, w=w, vb=vb, vw=vw, lr=lr, total_epoch=total_epoch)\n",
    "\n",
    "#         # stop training in some cases\n",
    "#         if total_epoch >= 1000:\n",
    "#             break\n",
    "\n",
    "    # update parameters\n",
    "    vb = lr * b_grad + gamma * vb\n",
    "    vw = lr * w_grad + gamma * vw\n",
    "    b = b - vb\n",
    "    w = w - vw\n",
    "    total_epoch += 1\n",
    "\n",
    "print('end of training')"
   ]
  },
  {
   "cell_type": "markdown",
   "metadata": {},
   "source": [
    "## Plot"
   ]
  },
  {
   "cell_type": "code",
   "execution_count": 42,
   "metadata": {
    "collapsed": false
   },
   "outputs": [
    {
     "name": "stderr",
     "output_type": "stream",
     "text": [
      "/home/roger/anaconda3/lib/python3.5/site-packages/matplotlib/axes/_axes.py:531: UserWarning: No labelled objects found. Use label='...' kwarg on individual plots.\n",
      "  warnings.warn(\"No labelled objects found. \"\n"
     ]
    },
    {
     "data": {
      "image/png": "[encoded data removed]",
      "text/plain": [
       "<matplotlib.figure.Figure at 0x7f0ac85af978>"
      ]
     },
     "metadata": {},
     "output_type": "display_data"
    }
   ],
   "source": [
    "# log_losses_by_lr = [np.log(losses) for losses in losses_by_lr]\n",
    "\n",
    "rcParams.update({'font.size': 12})\n",
    "figure(figsize=(6, 4), dpi=240, edgecolor='k')\n",
    "\n",
    "for i in range(len(losses_by_lambda)):\n",
    "    plot(losses_by_lambda[i][100:], label=str(_lambdas[i]))\n",
    "\n",
    "ylabel('rms error')\n",
    "xlabel('iterations')\n",
    "legend(bbox_to_anchor=(1.02, 1), loc=2, borderaxespad=0)"
   ]
  },
  {
   "cell_type": "markdown",
   "metadata": {},
   "source": [
    "## Test"
   ]
  },
  {
   "cell_type": "code",
   "execution_count": 49,
   "metadata": {
    "collapsed": true
   },
   "outputs": [],
   "source": [
    "test_data = pd.read_csv(TEST_FILE_PATH, header=None, encoding=\"big5\")\n",
    "test_data[test_data==\"NR\"] = 0\n",
    "test_array = test_data[:][list(range(2, 11))].apply(pd.to_numeric).as_matrix()\n",
    "data_num = 240"
   ]
  },
  {
   "cell_type": "code",
   "execution_count": 50,
   "metadata": {
    "collapsed": true
   },
   "outputs": [],
   "source": [
    "x_test_arrays = []\n",
    "for data_idx in range(data_num):\n",
    "    row_start_idx = data_idx*18\n",
    "    this_row_idxs = [row_start_idx+i for i in x_row_idxs]\n",
    "    this_extr_rows = test_array[this_row_idxs, :]\n",
    "    x_test_arrays.append(this_extr_rows)"
   ]
  },
  {
   "cell_type": "code",
   "execution_count": 51,
   "metadata": {
    "collapsed": true
   },
   "outputs": [],
   "source": [
    "_id = pd.Series([\"id_\" + str(i) for i in range(data_num)])"
   ]
  },
  {
   "cell_type": "code",
   "execution_count": 52,
   "metadata": {
    "collapsed": true
   },
   "outputs": [],
   "source": [
    "# # load model\n",
    "# model_file = 'epo1532682_los5.7251.npz'\n",
    "# model = np.load(MODEL_FOLDER + model_file)\n",
    "# w = model['w']\n",
    "# b = model['b']\n",
    "# model_file_info = model_file[:-4]"
   ]
  },
  {
   "cell_type": "code",
   "execution_count": 54,
   "metadata": {
    "collapsed": false
   },
   "outputs": [],
   "source": [
    "\n",
    "# calc y\n",
    "y_preds = []\n",
    "for dataIdx in range(data_num):\n",
    "    x = x_test_arrays[dataIdx]\n",
    "    y_pred = einsum('ij,ij', x, w) + b\n",
    "    y_preds.append(y_pred)\n",
    "y_pred_series = pd.Series(y_preds)\n",
    "\n",
    "# concat id and y\n",
    "output = pd.concat([_id, y_pred_series], axis=1)\n",
    "output.columns=[\"id\",\"value\"]\n",
    "\n",
    "# set as 0 if value < 0\n",
    "#     output.ix[output[\"value\"] < 0, [\"value\"]] = 0\n",
    "\n",
    "# write file\n",
    "output.to_csv(OUTPUT_FOLDER + \"output_hw_regular_lambda\" + str(_lambda) + \"_loss\" + str(loss)[:6] + \".csv\", index=False)\n",
    "#     output.to_csv(\"linear_regression.csv\", index=False)"
   ]
  },
  {
   "cell_type": "code",
   "execution_count": null,
   "metadata": {
    "collapsed": true
   },
   "outputs": [],
   "source": []
  }
 ],
 "metadata": {
  "anaconda-cloud": {},
  "kernelspec": {
   "display_name": "Python [conda root]",
   "language": "python",
   "name": "conda-root-py"
  },
  "language_info": {
   "codemirror_mode": {
    "name": "ipython",
    "version": 3
   },
   "file_extension": ".py",
   "mimetype": "text/x-python",
   "name": "python",
   "nbconvert_exporter": "python",
   "pygments_lexer": "ipython3",
   "version": "3.5.2"
  }
 },
 "nbformat": 4,
 "nbformat_minor": 0
}
