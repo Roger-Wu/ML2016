{
 "cells": [
  {
   "cell_type": "code",
   "execution_count": 22,
   "metadata": {
    "collapsed": false
   },
   "outputs": [
    {
     "name": "stdout",
     "output_type": "stream",
     "text": [
      "Populating the interactive namespace from numpy and matplotlib\n"
     ]
    },
    {
     "name": "stderr",
     "output_type": "stream",
     "text": [
      "WARNING: pylab import has clobbered these variables: ['gamma']\n",
      "`%matplotlib` prevents importing * from pylab and numpy\n"
     ]
    }
   ],
   "source": [
    "%pylab inline\n",
    "import numpy as np\n",
    "from scipy import special\n",
    "import pandas as pd\n",
    "import os"
   ]
  },
  {
   "cell_type": "code",
   "execution_count": 23,
   "metadata": {
    "collapsed": true
   },
   "outputs": [],
   "source": [
    "METHOD_NAME = \"nn_all_dropout0.5_50-3\"\n",
    "DATA_FOLDER = \"data/\"\n",
    "MODEL_FOLDER = \"models/\" + METHOD_NAME + \"/\"\n",
    "OUTPUT_FOLDER = \"outputs/\"\n",
    "TRAIN_FILE_PATH = DATA_FOLDER + \"spam_train.csv\"\n",
    "TEST_FILE_PATH = DATA_FOLDER + \"spam_test.csv\""
   ]
  },
  {
   "cell_type": "code",
   "execution_count": 24,
   "metadata": {
    "collapsed": true
   },
   "outputs": [],
   "source": [
    "if not os.path.exists(MODEL_FOLDER):\n",
    "    os.makedirs(MODEL_FOLDER)\n",
    "if not os.path.exists(OUTPUT_FOLDER):\n",
    "    os.makedirs(OUTPUT_FOLDER)"
   ]
  },
  {
   "cell_type": "markdown",
   "metadata": {},
   "source": [
    "## Read Training Data"
   ]
  },
  {
   "cell_type": "code",
   "execution_count": 25,
   "metadata": {
    "collapsed": false
   },
   "outputs": [
    {
     "data": {
      "text/html": [
       "<div>\n",
       "<table border=\"1\" class=\"dataframe\">\n",
       "  <thead>\n",
       "    <tr style=\"text-align: right;\">\n",
       "      <th></th>\n",
       "      <th>0</th>\n",
       "      <th>1</th>\n",
       "      <th>2</th>\n",
       "      <th>3</th>\n",
       "      <th>4</th>\n",
       "      <th>5</th>\n",
       "      <th>6</th>\n",
       "      <th>7</th>\n",
       "      <th>8</th>\n",
       "      <th>9</th>\n",
       "      <th>...</th>\n",
       "      <th>49</th>\n",
       "      <th>50</th>\n",
       "      <th>51</th>\n",
       "      <th>52</th>\n",
       "      <th>53</th>\n",
       "      <th>54</th>\n",
       "      <th>55</th>\n",
       "      <th>56</th>\n",
       "      <th>57</th>\n",
       "      <th>58</th>\n",
       "    </tr>\n",
       "  </thead>\n",
       "  <tbody>\n",
       "    <tr>\n",
       "      <th>0</th>\n",
       "      <td>1</td>\n",
       "      <td>0.0</td>\n",
       "      <td>0.00</td>\n",
       "      <td>1.13</td>\n",
       "      <td>0.0</td>\n",
       "      <td>0.37</td>\n",
       "      <td>0.00</td>\n",
       "      <td>0.00</td>\n",
       "      <td>0.0</td>\n",
       "      <td>0.00</td>\n",
       "      <td>...</td>\n",
       "      <td>0.0</td>\n",
       "      <td>0.145</td>\n",
       "      <td>0.000</td>\n",
       "      <td>0.436</td>\n",
       "      <td>0.000</td>\n",
       "      <td>0.0</td>\n",
       "      <td>1.792</td>\n",
       "      <td>55</td>\n",
       "      <td>147</td>\n",
       "      <td>0</td>\n",
       "    </tr>\n",
       "    <tr>\n",
       "      <th>1</th>\n",
       "      <td>2</td>\n",
       "      <td>0.0</td>\n",
       "      <td>0.00</td>\n",
       "      <td>0.60</td>\n",
       "      <td>0.0</td>\n",
       "      <td>0.00</td>\n",
       "      <td>0.60</td>\n",
       "      <td>0.00</td>\n",
       "      <td>0.0</td>\n",
       "      <td>0.60</td>\n",
       "      <td>...</td>\n",
       "      <td>0.0</td>\n",
       "      <td>0.143</td>\n",
       "      <td>0.047</td>\n",
       "      <td>0.191</td>\n",
       "      <td>0.143</td>\n",
       "      <td>0.0</td>\n",
       "      <td>2.041</td>\n",
       "      <td>31</td>\n",
       "      <td>196</td>\n",
       "      <td>1</td>\n",
       "    </tr>\n",
       "    <tr>\n",
       "      <th>2</th>\n",
       "      <td>3</td>\n",
       "      <td>0.0</td>\n",
       "      <td>0.00</td>\n",
       "      <td>0.48</td>\n",
       "      <td>0.0</td>\n",
       "      <td>0.00</td>\n",
       "      <td>0.00</td>\n",
       "      <td>0.00</td>\n",
       "      <td>0.0</td>\n",
       "      <td>0.00</td>\n",
       "      <td>...</td>\n",
       "      <td>0.0</td>\n",
       "      <td>0.000</td>\n",
       "      <td>0.000</td>\n",
       "      <td>0.450</td>\n",
       "      <td>0.000</td>\n",
       "      <td>0.0</td>\n",
       "      <td>1.138</td>\n",
       "      <td>4</td>\n",
       "      <td>41</td>\n",
       "      <td>0</td>\n",
       "    </tr>\n",
       "    <tr>\n",
       "      <th>3</th>\n",
       "      <td>4</td>\n",
       "      <td>0.0</td>\n",
       "      <td>0.51</td>\n",
       "      <td>0.00</td>\n",
       "      <td>0.0</td>\n",
       "      <td>0.51</td>\n",
       "      <td>0.51</td>\n",
       "      <td>1.02</td>\n",
       "      <td>0.0</td>\n",
       "      <td>0.00</td>\n",
       "      <td>...</td>\n",
       "      <td>0.0</td>\n",
       "      <td>0.142</td>\n",
       "      <td>0.000</td>\n",
       "      <td>0.071</td>\n",
       "      <td>1.212</td>\n",
       "      <td>0.0</td>\n",
       "      <td>7.025</td>\n",
       "      <td>130</td>\n",
       "      <td>281</td>\n",
       "      <td>1</td>\n",
       "    </tr>\n",
       "    <tr>\n",
       "      <th>4</th>\n",
       "      <td>5</td>\n",
       "      <td>0.0</td>\n",
       "      <td>0.00</td>\n",
       "      <td>0.00</td>\n",
       "      <td>0.0</td>\n",
       "      <td>0.00</td>\n",
       "      <td>0.00</td>\n",
       "      <td>0.00</td>\n",
       "      <td>0.0</td>\n",
       "      <td>0.64</td>\n",
       "      <td>...</td>\n",
       "      <td>0.0</td>\n",
       "      <td>0.116</td>\n",
       "      <td>0.000</td>\n",
       "      <td>0.232</td>\n",
       "      <td>0.000</td>\n",
       "      <td>0.0</td>\n",
       "      <td>1.551</td>\n",
       "      <td>6</td>\n",
       "      <td>45</td>\n",
       "      <td>0</td>\n",
       "    </tr>\n",
       "  </tbody>\n",
       "</table>\n",
       "<p>5 rows × 59 columns</p>\n",
       "</div>"
      ],
      "text/plain": [
       "   0    1     2     3    4     5     6     7    8     9  ...   49     50  \\\n",
       "0   1  0.0  0.00  1.13  0.0  0.37  0.00  0.00  0.0  0.00 ...  0.0  0.145   \n",
       "1   2  0.0  0.00  0.60  0.0  0.00  0.60  0.00  0.0  0.60 ...  0.0  0.143   \n",
       "2   3  0.0  0.00  0.48  0.0  0.00  0.00  0.00  0.0  0.00 ...  0.0  0.000   \n",
       "3   4  0.0  0.51  0.00  0.0  0.51  0.51  1.02  0.0  0.00 ...  0.0  0.142   \n",
       "4   5  0.0  0.00  0.00  0.0  0.00  0.00  0.00  0.0  0.64 ...  0.0  0.116   \n",
       "\n",
       "      51     52     53   54     55   56   57  58  \n",
       "0  0.000  0.436  0.000  0.0  1.792   55  147   0  \n",
       "1  0.047  0.191  0.143  0.0  2.041   31  196   1  \n",
       "2  0.000  0.450  0.000  0.0  1.138    4   41   0  \n",
       "3  0.000  0.071  1.212  0.0  7.025  130  281   1  \n",
       "4  0.000  0.232  0.000  0.0  1.551    6   45   0  \n",
       "\n",
       "[5 rows x 59 columns]"
      ]
     },
     "execution_count": 25,
     "metadata": {},
     "output_type": "execute_result"
    }
   ],
   "source": [
    "train_data = pd.read_csv(TRAIN_FILE_PATH, header=None)\n",
    "train_data.head()"
   ]
  },
  {
   "cell_type": "code",
   "execution_count": 26,
   "metadata": {
    "collapsed": false
   },
   "outputs": [],
   "source": [
    "x_data_rows = train_data[list(range(1, 58))].as_matrix()\n",
    "y_data_rows = train_data[[58]].as_matrix()"
   ]
  },
  {
   "cell_type": "markdown",
   "metadata": {},
   "source": [
    "## Select Data"
   ]
  },
  {
   "cell_type": "code",
   "execution_count": 27,
   "metadata": {
    "collapsed": true
   },
   "outputs": [],
   "source": [
    "# x_select_col_idxs = [26, 40, 31, 24,  3, 41, 54, 55, 45, 52, 28, 22, 53, 34, 43, 47, 6, 44, 15, 25, 16, 19, 38,  8, 56, 32,  4, 35, 27,  5, 48, 14]\n",
    "# x_data_rows = x_data_rows[:, x_select_col_idxs]"
   ]
  },
  {
   "cell_type": "markdown",
   "metadata": {},
   "source": [
    "## Preprocess Data"
   ]
  },
  {
   "cell_type": "markdown",
   "metadata": {},
   "source": [
    "## Transform Data"
   ]
  },
  {
   "cell_type": "code",
   "execution_count": 28,
   "metadata": {
    "collapsed": false
   },
   "outputs": [],
   "source": [
    "# Normalize\n",
    "x_train_means = np.mean(x_data_rows, axis=0)\n",
    "x_train_stds =  np.std(x_data_rows, axis=0)\n",
    "x_data_rows = (x_data_rows - x_train_means) / x_train_stds"
   ]
  },
  {
   "cell_type": "code",
   "execution_count": 29,
   "metadata": {
    "collapsed": false
   },
   "outputs": [],
   "source": [
    "# print(np.mean(x_data_rows, axis=0), np.std(x_data_rows, axis=0))"
   ]
  },
  {
   "cell_type": "code",
   "execution_count": 30,
   "metadata": {
    "collapsed": false
   },
   "outputs": [],
   "source": [
    "# append 1 in the last column, so that b in including in w\n",
    "x_data_rows = np.c_[x_data_rows, np.ones(x_data_rows.shape[0]) ]"
   ]
  },
  {
   "cell_type": "code",
   "execution_count": 31,
   "metadata": {
    "collapsed": true
   },
   "outputs": [],
   "source": [
    "# pre-transpose x for matrix multiplication\n",
    "x_data_rows_trans = np.transpose(x_data_rows)"
   ]
  },
  {
   "cell_type": "code",
   "execution_count": 32,
   "metadata": {
    "collapsed": false
   },
   "outputs": [],
   "source": [
    "x_row_num, x_col_num = x_data_rows.shape  # 4001, 58"
   ]
  },
  {
   "cell_type": "markdown",
   "metadata": {},
   "source": [
    "## Train"
   ]
  },
  {
   "cell_type": "code",
   "execution_count": 33,
   "metadata": {
    "collapsed": false
   },
   "outputs": [],
   "source": [
    "# reset parameters\n",
    "w = np.random.randn(x_col_num, 1)  # shape = (x_col_num, 1). not (1, x_col_num) for the convenience of matrix multiplication\n",
    "total_epoch = 0"
   ]
  },
  {
   "cell_type": "code",
   "execution_count": 34,
   "metadata": {
    "collapsed": true
   },
   "outputs": [],
   "source": [
    "layer_1_node_num = 40\n",
    "layer_2_node_num = layer_1_node_num\n",
    "layer_3_node_num = layer_2_node_num"
   ]
  },
  {
   "cell_type": "code",
   "execution_count": 35,
   "metadata": {
    "collapsed": true
   },
   "outputs": [],
   "source": [
    "w_1 = np.random.randn(x_col_num, layer_1_node_num)  # dot(x, w_1) output a x_row_num * layer_1_node_num matrix\n",
    "w_2 = np.random.randn(layer_1_node_num, layer_2_node_num)\n",
    "w_3 = np.random.randn(layer_2_node_num, layer_3_node_num)\n",
    "w_out = np.random.randn(layer_3_node_num, 1)  # dot(layer_1_output, w_2) output a x_row_num * 1 matrix\n",
    "# v_w_1 = np.random.randn(x_col_num, layer_1_node_num)  # dot(x, w_1) output a x_row_num * layer_1_node_num matrix\n",
    "# v_w_2 = np.random.randn(layer_1_node_num, 1)  # dot(layer_1_output, w_2) output a x_row_num * 1 matrix"
   ]
  },
  {
   "cell_type": "code",
   "execution_count": 36,
   "metadata": {
    "collapsed": true
   },
   "outputs": [],
   "source": [
    "dropout_rate = 0.5"
   ]
  },
  {
   "cell_type": "code",
   "execution_count": 37,
   "metadata": {
    "collapsed": false
   },
   "outputs": [],
   "source": [
    "# momentum\n",
    "gamma = 0.9\n",
    "# vw = np.zeros((x_col_num, 1))"
   ]
  },
  {
   "cell_type": "code",
   "execution_count": 38,
   "metadata": {
    "collapsed": true
   },
   "outputs": [],
   "source": [
    "lr = (10) / x_row_num "
   ]
  },
  {
   "cell_type": "code",
   "execution_count": 39,
   "metadata": {
    "collapsed": true
   },
   "outputs": [],
   "source": [
    "def to_bool(x):\n",
    "    return 1 if x > 0.5 else 0\n",
    "\n",
    "to_bool = np.vectorize(to_bool)"
   ]
  },
  {
   "cell_type": "code",
   "execution_count": 40,
   "metadata": {
    "collapsed": true
   },
   "outputs": [],
   "source": [
    "def sigmoid_deriv(x):  # input may be an matrix\n",
    "    return x * (1-x)  # element-wise"
   ]
  },
  {
   "cell_type": "code",
   "execution_count": 41,
   "metadata": {
    "collapsed": false
   },
   "outputs": [],
   "source": [
    "# a = np.ones((3, 10))\n",
    "# m = np.random.binomial(1, 0.5, 10)\n",
    "# a * m"
   ]
  },
  {
   "cell_type": "code",
   "execution_count": 42,
   "metadata": {
    "collapsed": false
   },
   "outputs": [
    {
     "name": "stdout",
     "output_type": "stream",
     "text": [
      "==== epo0_rms0.583877_err2447\n",
      "rms_error 0.583877792275\n",
      "pred_error 2447 / 4001 = 0.611597100725\n",
      "==== epo1000_rms0.061704_err280\n",
      "rms_error 0.0617048908026\n",
      "pred_error 280 / 4001 = 0.0699825043739\n",
      "==== epo2000_rms0.053456_err235\n",
      "rms_error 0.0534568822662\n",
      "pred_error 235 / 4001 = 0.058735316171\n",
      "==== epo3000_rms0.048784_err211\n",
      "rms_error 0.0487842837467\n",
      "pred_error 211 / 4001 = 0.0527368157961\n",
      "==== epo4000_rms0.046184_err204\n",
      "rms_error 0.046184713051\n",
      "pred_error 204 / 4001 = 0.0509872531867\n",
      "==== epo5000_rms0.045040_err197\n",
      "rms_error 0.0450401357448\n",
      "pred_error 197 / 4001 = 0.0492376905774\n",
      "==== epo6000_rms0.043745_err199\n",
      "rms_error 0.0437450007849\n",
      "pred_error 199 / 4001 = 0.0497375656086\n",
      "==== epo7000_rms0.042816_err194\n",
      "rms_error 0.0428160012341\n",
      "pred_error 194 / 4001 = 0.0484878780305\n",
      "==== epo8000_rms0.041807_err195\n",
      "rms_error 0.0418074107633\n",
      "pred_error 195 / 4001 = 0.0487378155461\n",
      "==== epo9000_rms0.040571_err190\n",
      "rms_error 0.0405711767728\n",
      "pred_error 190 / 4001 = 0.047488127968\n",
      "==== epo10000_rms0.040011_err187\n",
      "rms_error 0.0400117890815\n",
      "pred_error 187 / 4001 = 0.0467383154211\n",
      "==== epo20000_rms0.034099_err160\n",
      "rms_error 0.0340998787574\n",
      "pred_error 160 / 4001 = 0.0399900024994\n",
      "==== epo30000_rms0.030852_err139\n",
      "rms_error 0.0308522561472\n",
      "pred_error 139 / 4001 = 0.0347413146713\n",
      "==== epo40000_rms0.028401_err131\n",
      "rms_error 0.0284019801233\n",
      "pred_error 131 / 4001 = 0.0327418145464\n",
      "==== epo50000_rms0.026964_err121\n",
      "rms_error 0.0269646924626\n",
      "pred_error 121 / 4001 = 0.0302424393902\n",
      "==== epo60000_rms0.025761_err116\n",
      "rms_error 0.0257617203476\n",
      "pred_error 116 / 4001 = 0.028992751812\n",
      "==== epo70000_rms0.024810_err109\n",
      "rms_error 0.0248104823042\n",
      "pred_error 109 / 4001 = 0.0272431892027\n",
      "==== epo80000_rms0.024137_err106\n",
      "rms_error 0.0241379766685\n",
      "pred_error 106 / 4001 = 0.0264933766558\n",
      "==== epo90000_rms0.023642_err103\n",
      "rms_error 0.0236425874243\n",
      "pred_error 103 / 4001 = 0.025743564109\n",
      "==== epo100000_rms0.023147_err100\n",
      "rms_error 0.0231472553419\n",
      "pred_error 100 / 4001 = 0.0249937515621\n",
      "==== epo110000_rms0.022967_err97\n",
      "rms_error 0.0229673179555\n",
      "pred_error 97 / 4001 = 0.0242439390152\n",
      "==== epo120000_rms0.022683_err97\n",
      "rms_error 0.0226839007252\n",
      "pred_error 97 / 4001 = 0.0242439390152\n",
      "==== epo130000_rms0.022166_err95\n",
      "rms_error 0.0221667511379\n",
      "pred_error 95 / 4001 = 0.023744063984\n",
      "==== epo140000_rms0.021997_err95\n",
      "rms_error 0.0219972381156\n",
      "pred_error 95 / 4001 = 0.023744063984\n",
      "==== epo150000_rms0.021801_err93\n",
      "rms_error 0.0218018322485\n",
      "pred_error 93 / 4001 = 0.0232441889528\n",
      "==== epo160000_rms0.021534_err92\n",
      "rms_error 0.0215345235755\n",
      "pred_error 92 / 4001 = 0.0229942514371\n",
      "==== epo170000_rms0.021449_err92\n",
      "rms_error 0.0214491491347\n",
      "pred_error 92 / 4001 = 0.0229942514371\n",
      "==== epo180000_rms0.021306_err90\n",
      "rms_error 0.0213060475643\n",
      "pred_error 90 / 4001 = 0.0224943764059\n",
      "==== epo190000_rms0.021154_err90\n",
      "rms_error 0.0211542921883\n",
      "pred_error 90 / 4001 = 0.0224943764059\n",
      "==== epo200000_rms0.021102_err89\n",
      "rms_error 0.0211021261705\n",
      "pred_error 89 / 4001 = 0.0222444388903\n",
      "==== epo210000_rms0.020836_err89\n",
      "rms_error 0.0208362513475\n",
      "pred_error 89 / 4001 = 0.0222444388903\n",
      "==== epo220000_rms0.020708_err88\n",
      "rms_error 0.0207085904563\n",
      "pred_error 88 / 4001 = 0.0219945013747\n",
      "==== epo230000_rms0.020563_err85\n",
      "rms_error 0.0205636183685\n",
      "pred_error 85 / 4001 = 0.0212446888278\n",
      "==== epo240000_rms0.020478_err86\n",
      "rms_error 0.0204786209756\n",
      "pred_error 86 / 4001 = 0.0214946263434\n",
      "==== epo250000_rms0.020331_err85\n",
      "rms_error 0.0203313107511\n",
      "pred_error 85 / 4001 = 0.0212446888278\n",
      "==== epo260000_rms0.020156_err85\n",
      "rms_error 0.0201561011152\n",
      "pred_error 85 / 4001 = 0.0212446888278\n",
      "==== epo270000_rms0.020074_err85\n",
      "rms_error 0.0200749487315\n",
      "pred_error 85 / 4001 = 0.0212446888278\n",
      "==== epo280000_rms0.020026_err84\n",
      "rms_error 0.020026899208\n",
      "pred_error 84 / 4001 = 0.0209947513122\n",
      "==== epo290000_rms0.019904_err84\n",
      "rms_error 0.0199043399738\n",
      "pred_error 84 / 4001 = 0.0209947513122\n",
      "==== epo300000_rms0.019769_err83\n",
      "rms_error 0.0197690928647\n",
      "pred_error 83 / 4001 = 0.0207448137966\n",
      "==== epo310000_rms0.019737_err84\n",
      "rms_error 0.0197376267123\n",
      "pred_error 84 / 4001 = 0.0209947513122\n",
      "==== epo320000_rms0.019659_err84\n",
      "rms_error 0.0196592174569\n",
      "pred_error 84 / 4001 = 0.0209947513122\n",
      "==== epo330000_rms0.019431_err83\n",
      "rms_error 0.0194311927965\n",
      "pred_error 83 / 4001 = 0.0207448137966\n",
      "==== epo340000_rms0.019458_err84\n",
      "rms_error 0.0194589236522\n",
      "pred_error 84 / 4001 = 0.0209947513122\n",
      "==== epo350000_rms0.019266_err82\n",
      "rms_error 0.0192667089035\n",
      "pred_error 82 / 4001 = 0.0204948762809\n",
      "==== epo360000_rms0.019206_err82\n",
      "rms_error 0.0192062162774\n",
      "pred_error 82 / 4001 = 0.0204948762809\n",
      "==== epo370000_rms0.019105_err82\n",
      "rms_error 0.0191059053741\n",
      "pred_error 82 / 4001 = 0.0204948762809\n",
      "==== epo380000_rms0.018973_err82\n",
      "rms_error 0.0189734909165\n",
      "pred_error 82 / 4001 = 0.0204948762809\n",
      "==== epo390000_rms0.018906_err82\n",
      "rms_error 0.0189064253383\n",
      "pred_error 82 / 4001 = 0.0204948762809\n",
      "==== epo400000_rms0.018862_err81\n",
      "rms_error 0.0188629026554\n",
      "pred_error 81 / 4001 = 0.0202449387653\n",
      "==== epo410000_rms0.018722_err81\n",
      "rms_error 0.0187220801612\n",
      "pred_error 81 / 4001 = 0.0202449387653\n",
      "==== epo420000_rms0.018641_err81\n",
      "rms_error 0.0186416678698\n",
      "pred_error 81 / 4001 = 0.0202449387653\n",
      "==== epo430000_rms0.018475_err80\n",
      "rms_error 0.0184752008702\n",
      "pred_error 80 / 4001 = 0.0199950012497\n",
      "==== epo440000_rms0.018297_err79\n",
      "rms_error 0.0182975968606\n",
      "pred_error 79 / 4001 = 0.0197450637341\n",
      "==== epo450000_rms0.018174_err79\n",
      "rms_error 0.0181746349729\n",
      "pred_error 79 / 4001 = 0.0197450637341\n",
      "==== epo460000_rms0.018061_err79\n",
      "rms_error 0.0180612177369\n",
      "pred_error 79 / 4001 = 0.0197450637341\n",
      "==== epo470000_rms0.018100_err80\n",
      "rms_error 0.0181001396954\n",
      "pred_error 80 / 4001 = 0.0199950012497\n",
      "==== epo480000_rms0.017733_err79\n",
      "rms_error 0.0177330017827\n",
      "pred_error 79 / 4001 = 0.0197450637341\n",
      "==== epo490000_rms0.017674_err79\n",
      "rms_error 0.0176741397662\n",
      "pred_error 79 / 4001 = 0.0197450637341\n",
      "==== epo500000_rms0.017544_err79\n",
      "rms_error 0.0175440999951\n",
      "pred_error 79 / 4001 = 0.0197450637341\n",
      "==== epo510000_rms0.017495_err79\n",
      "rms_error 0.0174953394896\n",
      "pred_error 79 / 4001 = 0.0197450637341\n",
      "==== epo520000_rms0.017393_err79\n",
      "rms_error 0.0173931397145\n",
      "pred_error 79 / 4001 = 0.0197450637341\n",
      "==== epo530000_rms0.017168_err79\n",
      "rms_error 0.0171687259255\n",
      "pred_error 79 / 4001 = 0.0197450637341\n",
      "==== epo540000_rms0.017163_err79\n",
      "rms_error 0.0171630257396\n",
      "pred_error 79 / 4001 = 0.0197450637341\n",
      "==== epo550000_rms0.017016_err78\n",
      "rms_error 0.0170161092668\n",
      "pred_error 78 / 4001 = 0.0194951262184\n",
      "==== epo560000_rms0.016796_err77\n",
      "rms_error 0.0167962618249\n",
      "pred_error 77 / 4001 = 0.0192451887028\n",
      "==== epo570000_rms0.016666_err77\n",
      "rms_error 0.0166666573597\n",
      "pred_error 77 / 4001 = 0.0192451887028\n",
      "==== epo580000_rms0.016671_err76\n",
      "rms_error 0.01667127291\n",
      "pred_error 76 / 4001 = 0.0189952511872\n",
      "==== epo590000_rms0.016516_err76\n",
      "rms_error 0.0165168664883\n",
      "pred_error 76 / 4001 = 0.0189952511872\n",
      "==== epo600000_rms0.016410_err75\n",
      "rms_error 0.016410312511\n",
      "pred_error 75 / 4001 = 0.0187453136716\n",
      "==== epo610000_rms0.016477_err74\n",
      "rms_error 0.0164775706647\n",
      "pred_error 74 / 4001 = 0.018495376156\n",
      "==== epo620000_rms0.016287_err73\n",
      "rms_error 0.0162878603348\n",
      "pred_error 73 / 4001 = 0.0182454386403\n",
      "==== epo630000_rms0.016354_err73\n",
      "rms_error 0.0163544602856\n",
      "pred_error 73 / 4001 = 0.0182454386403\n",
      "==== epo640000_rms0.016056_err73\n",
      "rms_error 0.0160565824976\n",
      "pred_error 73 / 4001 = 0.0182454386403\n",
      "==== epo650000_rms0.015919_err72\n",
      "rms_error 0.0159192590284\n",
      "pred_error 72 / 4001 = 0.0179955011247\n",
      "==== epo660000_rms0.015824_err71\n",
      "rms_error 0.0158249310088\n",
      "pred_error 71 / 4001 = 0.0177455636091\n",
      "==== epo670000_rms0.015687_err72\n",
      "rms_error 0.0156871831562\n",
      "pred_error 72 / 4001 = 0.0179955011247\n",
      "==== epo680000_rms0.015628_err72\n",
      "rms_error 0.0156281456447\n",
      "pred_error 72 / 4001 = 0.0179955011247\n",
      "==== epo690000_rms0.015478_err72\n",
      "rms_error 0.015478117981\n",
      "pred_error 72 / 4001 = 0.0179955011247\n",
      "==== epo700000_rms0.015359_err68\n",
      "rms_error 0.015359373891\n",
      "pred_error 68 / 4001 = 0.0169957510622\n",
      "==== epo710000_rms0.015210_err66\n",
      "rms_error 0.0152106042577\n",
      "pred_error 66 / 4001 = 0.016495876031\n",
      "==== epo720000_rms0.015187_err67\n",
      "rms_error 0.0151870246447\n",
      "pred_error 67 / 4001 = 0.0167458135466\n",
      "==== epo730000_rms0.014906_err65\n",
      "rms_error 0.0149060238014\n",
      "pred_error 65 / 4001 = 0.0162459385154\n",
      "==== epo740000_rms0.015068_err66\n",
      "rms_error 0.0150684663986\n",
      "pred_error 66 / 4001 = 0.016495876031\n",
      "==== epo750000_rms0.014599_err64\n",
      "rms_error 0.0145995034004\n",
      "pred_error 64 / 4001 = 0.0159960009998\n",
      "==== epo760000_rms0.014541_err63\n",
      "rms_error 0.014541445612\n",
      "pred_error 63 / 4001 = 0.0157460634841\n",
      "==== epo770000_rms0.014380_err61\n",
      "rms_error 0.0143800345233\n",
      "pred_error 61 / 4001 = 0.0152461884529\n",
      "==== epo780000_rms0.014291_err60\n",
      "rms_error 0.0142912443046\n",
      "pred_error 60 / 4001 = 0.0149962509373\n",
      "==== epo790000_rms0.014250_err61\n",
      "rms_error 0.0142505750542\n",
      "pred_error 61 / 4001 = 0.0152461884529\n",
      "==== epo800000_rms0.014202_err60\n",
      "rms_error 0.0142024168207\n",
      "pred_error 60 / 4001 = 0.0149962509373\n",
      "==== epo810000_rms0.014165_err61\n",
      "rms_error 0.0141653018896\n",
      "pred_error 61 / 4001 = 0.0152461884529\n",
      "==== epo820000_rms0.014189_err61\n",
      "rms_error 0.0141894674433\n",
      "pred_error 61 / 4001 = 0.0152461884529\n",
      "==== epo830000_rms0.013909_err60\n",
      "rms_error 0.0139090677513\n",
      "pred_error 60 / 4001 = 0.0149962509373\n",
      "==== epo840000_rms0.013847_err59\n",
      "rms_error 0.0138475783074\n",
      "pred_error 59 / 4001 = 0.0147463134216\n",
      "==== epo850000_rms0.013889_err60\n",
      "rms_error 0.013889094018\n",
      "pred_error 60 / 4001 = 0.0149962509373\n",
      "==== epo860000_rms0.013777_err59\n",
      "rms_error 0.0137772003685\n",
      "pred_error 59 / 4001 = 0.0147463134216\n",
      "==== epo870000_rms0.013720_err58\n",
      "rms_error 0.0137201869679\n",
      "pred_error 58 / 4001 = 0.014496375906\n",
      "==== epo880000_rms0.013691_err58\n",
      "rms_error 0.0136917550942\n",
      "pred_error 58 / 4001 = 0.014496375906\n",
      "==== epo890000_rms0.013564_err58\n",
      "rms_error 0.0135646132516\n",
      "pred_error 58 / 4001 = 0.014496375906\n",
      "==== epo900000_rms0.013606_err58\n",
      "rms_error 0.0136063496777\n",
      "pred_error 58 / 4001 = 0.014496375906\n",
      "==== epo910000_rms0.013487_err57\n",
      "rms_error 0.0134875193184\n",
      "pred_error 57 / 4001 = 0.0142464383904\n",
      "==== epo920000_rms0.013489_err57\n",
      "rms_error 0.0134892432962\n",
      "pred_error 57 / 4001 = 0.0142464383904\n",
      "==== epo930000_rms0.013481_err57\n",
      "rms_error 0.013481540664\n",
      "pred_error 57 / 4001 = 0.0142464383904\n",
      "==== epo940000_rms0.013399_err57\n",
      "rms_error 0.0133994728\n",
      "pred_error 57 / 4001 = 0.0142464383904\n",
      "==== epo950000_rms0.013246_err56\n",
      "rms_error 0.0132463384614\n",
      "pred_error 56 / 4001 = 0.0139965008748\n",
      "==== epo960000_rms0.013342_err57\n",
      "rms_error 0.013342231794\n",
      "pred_error 57 / 4001 = 0.0142464383904\n",
      "==== epo970000_rms0.013196_err56\n",
      "rms_error 0.0131964209517\n",
      "pred_error 56 / 4001 = 0.0139965008748\n",
      "==== epo980000_rms0.013461_err57\n",
      "rms_error 0.0134612893465\n",
      "pred_error 57 / 4001 = 0.0142464383904\n",
      "==== epo990000_rms0.013366_err57\n",
      "rms_error 0.0133669403328\n",
      "pred_error 57 / 4001 = 0.0142464383904\n",
      "==== epo1000000_rms0.013231_err56\n",
      "rms_error 0.0132319436976\n",
      "pred_error 56 / 4001 = 0.0139965008748\n",
      "==== epo1010000_rms0.013269_err56\n",
      "rms_error 0.0132690311743\n",
      "pred_error 56 / 4001 = 0.0139965008748\n",
      "==== epo1020000_rms0.013160_err56\n",
      "rms_error 0.0131609099615\n",
      "pred_error 56 / 4001 = 0.0139965008748\n",
      "==== epo1030000_rms0.013119_err56\n",
      "rms_error 0.0131195658737\n",
      "pred_error 56 / 4001 = 0.0139965008748\n"
     ]
    },
    {
     "ename": "KeyboardInterrupt",
     "evalue": "",
     "output_type": "error",
     "traceback": [
      "\u001b[0;31m---------------------------------------------------------------------------\u001b[0m",
      "\u001b[0;31mKeyboardInterrupt\u001b[0m                         Traceback (most recent call last)",
      "\u001b[0;32m<ipython-input-42-d2317954b4f2>\u001b[0m in \u001b[0;36m<module>\u001b[0;34m()\u001b[0m\n\u001b[1;32m     30\u001b[0m     \u001b[0mlayer_2_delta\u001b[0m \u001b[0;34m=\u001b[0m \u001b[0mlayer_2_error\u001b[0m \u001b[0;34m*\u001b[0m \u001b[0msigmoid_deriv\u001b[0m\u001b[0;34m(\u001b[0m\u001b[0mlayer_2_output\u001b[0m\u001b[0;34m)\u001b[0m  \u001b[0;31m# shape = (x_row_num, layer_1_node_num)\u001b[0m\u001b[0;34m\u001b[0m\u001b[0m\n\u001b[1;32m     31\u001b[0m \u001b[0;34m\u001b[0m\u001b[0m\n\u001b[0;32m---> 32\u001b[0;31m     \u001b[0mlayer_1_error\u001b[0m \u001b[0;34m=\u001b[0m \u001b[0mlayer_2_delta\u001b[0m\u001b[0;34m.\u001b[0m\u001b[0mdot\u001b[0m\u001b[0;34m(\u001b[0m\u001b[0mw_2\u001b[0m\u001b[0;34m.\u001b[0m\u001b[0mT\u001b[0m\u001b[0;34m)\u001b[0m  \u001b[0;31m# shape = (x_row_num, layer_1_node_num)\u001b[0m\u001b[0;34m\u001b[0m\u001b[0m\n\u001b[0m\u001b[1;32m     33\u001b[0m     \u001b[0mlayer_1_delta\u001b[0m \u001b[0;34m=\u001b[0m \u001b[0mlayer_1_error\u001b[0m \u001b[0;34m*\u001b[0m \u001b[0msigmoid_deriv\u001b[0m\u001b[0;34m(\u001b[0m\u001b[0mlayer_1_output\u001b[0m\u001b[0;34m)\u001b[0m  \u001b[0;31m# shape = (x_row_num, layer_1_node_num)\u001b[0m\u001b[0;34m\u001b[0m\u001b[0m\n\u001b[1;32m     34\u001b[0m \u001b[0;34m\u001b[0m\u001b[0m\n",
      "\u001b[0;31mKeyboardInterrupt\u001b[0m: "
     ]
    }
   ],
   "source": [
    "# training iterations\n",
    "\n",
    "# special.expit is sigmoid\n",
    "\n",
    "layer_0_output = x_data_rows\n",
    "\n",
    "while True:\n",
    "    layer_1_output = special.expit(np.dot(layer_0_output, w_1))  # shape = (x_row_num, layer_1_node_num)\n",
    "    mask_1 = numpy.random.binomial(1, dropout_rate, layer_1_node_num)  # TODO: check if need *2\n",
    "    layer_1_output *= mask_1\n",
    "\n",
    "    layer_2_output = special.expit(np.dot(layer_1_output, w_2))  # shape = (x_row_num, layer_2_node_num)\n",
    "    mask_2 = numpy.random.binomial(1, dropout_rate, layer_2_node_num)\n",
    "    layer_2_output *= mask_2\n",
    "\n",
    "    layer_3_output = special.expit(np.dot(layer_2_output, w_3))  # shape = (x_row_num, layer_3_node_num)\n",
    "    mask_3 = numpy.random.binomial(1, dropout_rate, layer_3_node_num)\n",
    "    layer_3_output *= mask_3\n",
    "\n",
    "    layer_out_output = special.expit(np.dot(layer_3_output, w_out))  # shape = (x_row_num, 1)\n",
    "\n",
    "    # backpropagation\n",
    "    layer_out_error = layer_out_output - y_data_rows\n",
    "    layer_out_delta = layer_out_error * sigmoid_deriv(layer_out_output)\n",
    "\n",
    "    layer_3_error = layer_out_delta.dot(w_out.T)\n",
    "    layer_3_delta = layer_3_error * sigmoid_deriv(layer_3_output)\n",
    "\n",
    "    layer_2_error = layer_3_delta.dot(w_3.T)  # shape = (x_row_num, layer_1_node_num)\n",
    "    layer_2_delta = layer_2_error * sigmoid_deriv(layer_2_output)  # shape = (x_row_num, layer_1_node_num)\n",
    "\n",
    "    layer_1_error = layer_2_delta.dot(w_2.T)  # shape = (x_row_num, layer_1_node_num)\n",
    "    layer_1_delta = layer_1_error * sigmoid_deriv(layer_1_output)  # shape = (x_row_num, layer_1_node_num)\n",
    "\n",
    "    w_out -= lr * (layer_3_output.T).dot(layer_out_delta)  # (20, 4001) * (4001, 1)\n",
    "    w_3 -= lr * (layer_2_output.T).dot(layer_3_delta)  # shape = (layer_1_node_num, 1)\n",
    "    w_2 -= lr * (layer_1_output.T).dot(layer_2_delta)  # shape = (layer_1_node_num, 1)\n",
    "    w_1 -= lr * (layer_0_output.T).dot(layer_1_delta)  # shape = (x_row_num, layer_1_node_num)\n",
    "\n",
    "#     v_w_2 = lr * (layer_1_output.T).dot(layer_2_delta) + gamma * v_w_2\n",
    "#     v_w_1 = lr * (layer_0_output.T).dot(layer_1_delta) + gamma * v_w_1\n",
    "#     w_2 += v_w_2  # shape = (layer_1_node_num, 1)\n",
    "#     w_1 += v_w_1  # shape = (x_row_num, layer_1_node_num)\n",
    "\n",
    "    # write model\n",
    "    if (total_epoch < 10000 and total_epoch % 1000 == 0) or (total_epoch % 10000 == 0):\n",
    "        layer_1_output = dropout_rate * special.expit(np.dot(layer_0_output, w_1))\n",
    "        layer_2_output = dropout_rate * special.expit(np.dot(layer_1_output, w_2))\n",
    "        layer_3_output = dropout_rate * special.expit(np.dot(layer_2_output, w_3))\n",
    "        layer_out_output = special.expit(np.dot(layer_3_output, w_out))\n",
    "        layer_out_error = layer_out_output - y_data_rows\n",
    "\n",
    "        pred_error = np.sum(np.abs(to_bool(layer_out_output) - y_data_rows))\n",
    "        rms_error = np.mean(np.square(layer_out_error))\n",
    "\n",
    "        model_file_info = \"epo\" + str(total_epoch) + \"_rms\" + str(rms_error)[:8] + \"_err\" + str(pred_error)\n",
    "        print('====', model_file_info)\n",
    "        print('rms_error', rms_error)\n",
    "        print('pred_error', pred_error, '/', x_row_num, '=', pred_error/x_row_num)\n",
    "\n",
    "        np.savez(MODEL_FOLDER + model_file_info, w_1=w_1, w_2=w_2, w_3=w_3, w_out=w_out, lr=lr, dropout_rate=dropout_rate, total_epoch=total_epoch, x_train_means=x_train_means, x_train_stds=x_train_stds)\n",
    "\n",
    "#     vw = lr * w_grad + gamma * vw\n",
    "#     w = w - vw\n",
    "\n",
    "    total_epoch += 1\n"
   ]
  },
  {
   "cell_type": "markdown",
   "metadata": {},
   "source": [
    "## Test"
   ]
  },
  {
   "cell_type": "code",
   "execution_count": 43,
   "metadata": {
    "collapsed": false
   },
   "outputs": [],
   "source": [
    "test_data = pd.read_csv(TEST_FILE_PATH, header=None)"
   ]
  },
  {
   "cell_type": "code",
   "execution_count": 44,
   "metadata": {
    "collapsed": false
   },
   "outputs": [],
   "source": [
    "_id = test_data[0].apply(str)"
   ]
  },
  {
   "cell_type": "code",
   "execution_count": 45,
   "metadata": {
    "collapsed": true
   },
   "outputs": [],
   "source": [
    "x_test_data_rows = test_data[list(range(1, 58))].as_matrix()"
   ]
  },
  {
   "cell_type": "code",
   "execution_count": 46,
   "metadata": {
    "collapsed": true
   },
   "outputs": [],
   "source": [
    "# x_test_data_rows = x_test_data_rows[:, x_select_col_idxs]"
   ]
  },
  {
   "cell_type": "code",
   "execution_count": 47,
   "metadata": {
    "collapsed": true
   },
   "outputs": [],
   "source": [
    "# # read model\n",
    "# model_file = 'epo900000_rms0.020180_err97.npz'\n",
    "# model = np.load(MODEL_FOLDER + model_file)\n",
    "# w_1 = model['w_1']\n",
    "# w_2 = model['w_2']\n",
    "# w_3 = model['w_3']\n",
    "# w_out = model['w_out']\n",
    "# model_file_info = model_file[:-4]"
   ]
  },
  {
   "cell_type": "code",
   "execution_count": 48,
   "metadata": {
    "collapsed": false
   },
   "outputs": [],
   "source": [
    "# normalize\n",
    "x_test_data_rows = (x_test_data_rows - x_train_means) / x_train_stds\n",
    "# add 1\n",
    "x_test_data_rows = np.c_[x_test_data_rows, np.ones(x_test_data_rows.shape[0]) ]"
   ]
  },
  {
   "cell_type": "code",
   "execution_count": 49,
   "metadata": {
    "collapsed": false
   },
   "outputs": [],
   "source": [
    "# test\n",
    "test_layer_1_output = dropout_rate * special.expit(np.dot(x_test_data_rows, w_1))\n",
    "test_layer_2_output = dropout_rate * special.expit(np.dot(test_layer_1_output, w_2))\n",
    "test_layer_3_output = dropout_rate * special.expit(np.dot(test_layer_2_output, w_3))\n",
    "test_layer_out_output = special.expit(np.dot(test_layer_3_output, w_out))\n",
    "y_test_rows = to_bool(test_layer_out_output)\n",
    "\n",
    "y_test_series = pd.Series(y_test_rows.flatten())\n",
    "\n",
    "# concat id and y\n",
    "output = pd.concat([_id, y_test_series], axis=1)\n",
    "output.columns=[\"id\",\"label\"]\n",
    "\n",
    "# write file\n",
    "output.to_csv(OUTPUT_FOLDER + \"output_\" + METHOD_NAME + \"_\" + model_file_info + \".csv\", index=False)"
   ]
  },
  {
   "cell_type": "code",
   "execution_count": null,
   "metadata": {
    "collapsed": true
   },
   "outputs": [],
   "source": []
  }
 ],
 "metadata": {
  "anaconda-cloud": {},
  "kernelspec": {
   "display_name": "Python [Root]",
   "language": "python",
   "name": "Python [Root]"
  },
  "language_info": {
   "codemirror_mode": {
    "name": "ipython",
    "version": 3
   },
   "file_extension": ".py",
   "mimetype": "text/x-python",
   "name": "python",
   "nbconvert_exporter": "python",
   "pygments_lexer": "ipython3",
   "version": "3.5.2"
  }
 },
 "nbformat": 4,
 "nbformat_minor": 0
}
