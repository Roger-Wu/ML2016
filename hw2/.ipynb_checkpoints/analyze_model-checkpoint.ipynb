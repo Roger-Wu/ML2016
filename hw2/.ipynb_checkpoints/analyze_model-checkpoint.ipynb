{
 "cells": [
  {
   "cell_type": "code",
   "execution_count": 18,
   "metadata": {
    "collapsed": false
   },
   "outputs": [
    {
     "name": "stdout",
     "output_type": "stream",
     "text": [
      "Populating the interactive namespace from numpy and matplotlib\n"
     ]
    }
   ],
   "source": [
    "%pylab inline\n",
    "import numpy as np\n",
    "from scipy import special\n",
    "import pandas as pd\n",
    "import os"
   ]
  },
  {
   "cell_type": "code",
   "execution_count": 19,
   "metadata": {
    "collapsed": true
   },
   "outputs": [],
   "source": [
    "METHOD_NAME = \"logistic_all_momentum\"\n",
    "DATA_FOLDER = \"data/\"\n",
    "MODEL_FOLDER = \"models/\" + METHOD_NAME + \"/\"\n",
    "OUTPUT_FOLDER = \"outputs/\"\n",
    "TRAIN_FILE_PATH = DATA_FOLDER + \"spam_train.csv\"\n",
    "TEST_FILE_PATH = DATA_FOLDER + \"spam_test.csv\""
   ]
  },
  {
   "cell_type": "code",
   "execution_count": 20,
   "metadata": {
    "collapsed": true
   },
   "outputs": [],
   "source": [
    "MODEL_NAME = \"epo2000000_err0.0535.npz\""
   ]
  },
  {
   "cell_type": "code",
   "execution_count": 21,
   "metadata": {
    "collapsed": true
   },
   "outputs": [],
   "source": [
    "model = np.load(MODEL_FOLDER + MODEL_NAME)\n",
    "w = model['w']"
   ]
  },
  {
   "cell_type": "code",
   "execution_count": 22,
   "metadata": {
    "collapsed": false
   },
   "outputs": [
    {
     "data": {
      "text/plain": [
       "array([26, 57, 40, 31, 24,  3, 41, 54, 55, 45, 52, 28, 22, 53, 34, 43, 47,\n",
       "        6, 44, 15, 25, 16, 19, 38,  8, 56, 32,  4, 35, 27,  5, 48, 14, 20,\n",
       "       42, 33, 51, 49,  7,  1, 29,  0, 23, 21, 18, 37, 39, 46, 11, 36, 50,\n",
       "       17,  2,  9, 30, 13, 10, 12])"
      ]
     },
     "execution_count": 22,
     "metadata": {},
     "output_type": "execute_result"
    }
   ],
   "source": [
    "w_square = np.square(w).flatten()\n",
    "np.argsort(w_square)[::-1]"
   ]
  },
  {
   "cell_type": "code",
   "execution_count": 24,
   "metadata": {
    "collapsed": false
   },
   "outputs": [
    {
     "data": {
      "text/plain": [
       "[(6671.9787997021176, 26),\n",
       " (545.8507299043805, 57),\n",
       " (376.8251088907453, 40),\n",
       " (43.908924128697883, 31),\n",
       " (10.141496721439085, 24),\n",
       " (7.4901911478635883, 3),\n",
       " (6.5998547557353398, 41),\n",
       " (4.7030000454852123, 54),\n",
       " (4.1001698210391604, 55),\n",
       " (1.9178525090829559, 45),\n",
       " (1.6215745091159501, 52),\n",
       " (1.2611797060066017, 28),\n",
       " (1.2566348653012966, 22),\n",
       " (1.2530841581972763, 53),\n",
       " (1.0344116867748858, 34),\n",
       " (0.88366416889904764, 43),\n",
       " (0.85209087846356069, 47),\n",
       " (0.84522815894227643, 6),\n",
       " (0.61449736525749055, 44),\n",
       " (0.49834628270138137, 15),\n",
       " (0.42103791710687211, 25),\n",
       " (0.32084055304948378, 16),\n",
       " (0.26035159308823647, 19),\n",
       " (0.22781701469683291, 38),\n",
       " (0.15491129510077331, 8),\n",
       " (0.15445801230113171, 56),\n",
       " (0.11870161644961358, 32),\n",
       " (0.11286593502409013, 4),\n",
       " (0.10749105833321319, 35),\n",
       " (0.10595032625404546, 27),\n",
       " (0.10168067684922402, 5),\n",
       " (0.098877038404874634, 48),\n",
       " (0.089467444605455831, 14),\n",
       " (0.064761885889977819, 20),\n",
       " (0.063304989016523996, 42),\n",
       " (0.062866610860310007, 33),\n",
       " (0.059728606899951048, 51),\n",
       " (0.05136623501547976, 49),\n",
       " (0.045155845727357591, 7),\n",
       " (0.044656053184889147, 1),\n",
       " (0.032051462654869543, 29),\n",
       " (0.031036176361605262, 0),\n",
       " (0.030598476675153311, 23),\n",
       " (0.028222945639238654, 21),\n",
       " (0.022667390845700006, 18),\n",
       " (0.021010077515359278, 37),\n",
       " (0.020232627583581537, 39),\n",
       " (0.015783428320387666, 46),\n",
       " (0.014258204659973574, 11),\n",
       " (0.0099199371677926914, 36),\n",
       " (0.0063520156447427652, 50),\n",
       " (0.0055357471644111016, 17),\n",
       " (0.0045634418206477066, 2),\n",
       " (0.0045467421851641482, 9),\n",
       " (0.002667954192976179, 30),\n",
       " (0.0011973573473397462, 13),\n",
       " (0.00045953674071967985, 10),\n",
       " (8.2682430773613251e-05, 12)]"
      ]
     },
     "execution_count": 24,
     "metadata": {},
     "output_type": "execute_result"
    }
   ],
   "source": [
    "w_square_with_idx = [(w_square[i], i) for i in range(len(w_square))]\n",
    "sorted(w_square_with_idx)[::-1]"
   ]
  },
  {
   "cell_type": "code",
   "execution_count": null,
   "metadata": {
    "collapsed": true
   },
   "outputs": [],
   "source": []
  }
 ],
 "metadata": {
  "kernelspec": {
   "display_name": "Python [Root]",
   "language": "python",
   "name": "Python [Root]"
  },
  "language_info": {
   "codemirror_mode": {
    "name": "ipython",
    "version": 3
   },
   "file_extension": ".py",
   "mimetype": "text/x-python",
   "name": "python",
   "nbconvert_exporter": "python",
   "pygments_lexer": "ipython3",
   "version": "3.5.2"
  }
 },
 "nbformat": 4,
 "nbformat_minor": 0
}
