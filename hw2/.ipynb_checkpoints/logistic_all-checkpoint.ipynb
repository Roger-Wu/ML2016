{
 "cells": [
  {
   "cell_type": "code",
   "execution_count": 64,
   "metadata": {
    "collapsed": false
   },
   "outputs": [
    {
     "name": "stdout",
     "output_type": "stream",
     "text": [
      "Populating the interactive namespace from numpy and matplotlib\n"
     ]
    }
   ],
   "source": [
    "%pylab inline\n",
    "import numpy as np\n",
    "from scipy import special\n",
    "import pandas as pd\n",
    "import os"
   ]
  },
  {
   "cell_type": "code",
   "execution_count": 65,
   "metadata": {
    "collapsed": true
   },
   "outputs": [],
   "source": [
    "METHOD_NAME = \"logistic_all_2\"\n",
    "DATA_FOLDER = \"data/\"\n",
    "MODEL_FOLDER = \"models/\" + METHOD_NAME + \"/\"\n",
    "OUTPUT_FOLDER = \"outputs/\"\n",
    "TRAIN_FILE_PATH = DATA_FOLDER + \"spam_train.csv\"\n",
    "TEST_FILE_PATH = DATA_FOLDER + \"spam_test.csv\""
   ]
  },
  {
   "cell_type": "code",
   "execution_count": 66,
   "metadata": {
    "collapsed": true
   },
   "outputs": [],
   "source": [
    "if not os.path.exists(MODEL_FOLDER):\n",
    "    os.makedirs(MODEL_FOLDER)\n",
    "if not os.path.exists(OUTPUT_FOLDER):\n",
    "    os.makedirs(OUTPUT_FOLDER)"
   ]
  },
  {
   "cell_type": "markdown",
   "metadata": {},
   "source": [
    "## Read Training Data"
   ]
  },
  {
   "cell_type": "code",
   "execution_count": 67,
   "metadata": {
    "collapsed": false
   },
   "outputs": [
    {
     "data": {
      "text/html": [
       "<div>\n",
       "<table border=\"1\" class=\"dataframe\">\n",
       "  <thead>\n",
       "    <tr style=\"text-align: right;\">\n",
       "      <th></th>\n",
       "      <th>0</th>\n",
       "      <th>1</th>\n",
       "      <th>2</th>\n",
       "      <th>3</th>\n",
       "      <th>4</th>\n",
       "      <th>5</th>\n",
       "      <th>6</th>\n",
       "      <th>7</th>\n",
       "      <th>8</th>\n",
       "      <th>9</th>\n",
       "      <th>...</th>\n",
       "      <th>49</th>\n",
       "      <th>50</th>\n",
       "      <th>51</th>\n",
       "      <th>52</th>\n",
       "      <th>53</th>\n",
       "      <th>54</th>\n",
       "      <th>55</th>\n",
       "      <th>56</th>\n",
       "      <th>57</th>\n",
       "      <th>58</th>\n",
       "    </tr>\n",
       "  </thead>\n",
       "  <tbody>\n",
       "    <tr>\n",
       "      <th>0</th>\n",
       "      <td>1</td>\n",
       "      <td>0.0</td>\n",
       "      <td>0.00</td>\n",
       "      <td>1.13</td>\n",
       "      <td>0.0</td>\n",
       "      <td>0.37</td>\n",
       "      <td>0.00</td>\n",
       "      <td>0.00</td>\n",
       "      <td>0.0</td>\n",
       "      <td>0.00</td>\n",
       "      <td>...</td>\n",
       "      <td>0.0</td>\n",
       "      <td>0.145</td>\n",
       "      <td>0.000</td>\n",
       "      <td>0.436</td>\n",
       "      <td>0.000</td>\n",
       "      <td>0.0</td>\n",
       "      <td>1.792</td>\n",
       "      <td>55</td>\n",
       "      <td>147</td>\n",
       "      <td>0</td>\n",
       "    </tr>\n",
       "    <tr>\n",
       "      <th>1</th>\n",
       "      <td>2</td>\n",
       "      <td>0.0</td>\n",
       "      <td>0.00</td>\n",
       "      <td>0.60</td>\n",
       "      <td>0.0</td>\n",
       "      <td>0.00</td>\n",
       "      <td>0.60</td>\n",
       "      <td>0.00</td>\n",
       "      <td>0.0</td>\n",
       "      <td>0.60</td>\n",
       "      <td>...</td>\n",
       "      <td>0.0</td>\n",
       "      <td>0.143</td>\n",
       "      <td>0.047</td>\n",
       "      <td>0.191</td>\n",
       "      <td>0.143</td>\n",
       "      <td>0.0</td>\n",
       "      <td>2.041</td>\n",
       "      <td>31</td>\n",
       "      <td>196</td>\n",
       "      <td>1</td>\n",
       "    </tr>\n",
       "    <tr>\n",
       "      <th>2</th>\n",
       "      <td>3</td>\n",
       "      <td>0.0</td>\n",
       "      <td>0.00</td>\n",
       "      <td>0.48</td>\n",
       "      <td>0.0</td>\n",
       "      <td>0.00</td>\n",
       "      <td>0.00</td>\n",
       "      <td>0.00</td>\n",
       "      <td>0.0</td>\n",
       "      <td>0.00</td>\n",
       "      <td>...</td>\n",
       "      <td>0.0</td>\n",
       "      <td>0.000</td>\n",
       "      <td>0.000</td>\n",
       "      <td>0.450</td>\n",
       "      <td>0.000</td>\n",
       "      <td>0.0</td>\n",
       "      <td>1.138</td>\n",
       "      <td>4</td>\n",
       "      <td>41</td>\n",
       "      <td>0</td>\n",
       "    </tr>\n",
       "    <tr>\n",
       "      <th>3</th>\n",
       "      <td>4</td>\n",
       "      <td>0.0</td>\n",
       "      <td>0.51</td>\n",
       "      <td>0.00</td>\n",
       "      <td>0.0</td>\n",
       "      <td>0.51</td>\n",
       "      <td>0.51</td>\n",
       "      <td>1.02</td>\n",
       "      <td>0.0</td>\n",
       "      <td>0.00</td>\n",
       "      <td>...</td>\n",
       "      <td>0.0</td>\n",
       "      <td>0.142</td>\n",
       "      <td>0.000</td>\n",
       "      <td>0.071</td>\n",
       "      <td>1.212</td>\n",
       "      <td>0.0</td>\n",
       "      <td>7.025</td>\n",
       "      <td>130</td>\n",
       "      <td>281</td>\n",
       "      <td>1</td>\n",
       "    </tr>\n",
       "    <tr>\n",
       "      <th>4</th>\n",
       "      <td>5</td>\n",
       "      <td>0.0</td>\n",
       "      <td>0.00</td>\n",
       "      <td>0.00</td>\n",
       "      <td>0.0</td>\n",
       "      <td>0.00</td>\n",
       "      <td>0.00</td>\n",
       "      <td>0.00</td>\n",
       "      <td>0.0</td>\n",
       "      <td>0.64</td>\n",
       "      <td>...</td>\n",
       "      <td>0.0</td>\n",
       "      <td>0.116</td>\n",
       "      <td>0.000</td>\n",
       "      <td>0.232</td>\n",
       "      <td>0.000</td>\n",
       "      <td>0.0</td>\n",
       "      <td>1.551</td>\n",
       "      <td>6</td>\n",
       "      <td>45</td>\n",
       "      <td>0</td>\n",
       "    </tr>\n",
       "  </tbody>\n",
       "</table>\n",
       "<p>5 rows × 59 columns</p>\n",
       "</div>"
      ],
      "text/plain": [
       "   0    1     2     3    4     5     6     7    8     9  ...   49     50  \\\n",
       "0   1  0.0  0.00  1.13  0.0  0.37  0.00  0.00  0.0  0.00 ...  0.0  0.145   \n",
       "1   2  0.0  0.00  0.60  0.0  0.00  0.60  0.00  0.0  0.60 ...  0.0  0.143   \n",
       "2   3  0.0  0.00  0.48  0.0  0.00  0.00  0.00  0.0  0.00 ...  0.0  0.000   \n",
       "3   4  0.0  0.51  0.00  0.0  0.51  0.51  1.02  0.0  0.00 ...  0.0  0.142   \n",
       "4   5  0.0  0.00  0.00  0.0  0.00  0.00  0.00  0.0  0.64 ...  0.0  0.116   \n",
       "\n",
       "      51     52     53   54     55   56   57  58  \n",
       "0  0.000  0.436  0.000  0.0  1.792   55  147   0  \n",
       "1  0.047  0.191  0.143  0.0  2.041   31  196   1  \n",
       "2  0.000  0.450  0.000  0.0  1.138    4   41   0  \n",
       "3  0.000  0.071  1.212  0.0  7.025  130  281   1  \n",
       "4  0.000  0.232  0.000  0.0  1.551    6   45   0  \n",
       "\n",
       "[5 rows x 59 columns]"
      ]
     },
     "execution_count": 67,
     "metadata": {},
     "output_type": "execute_result"
    }
   ],
   "source": [
    "train_data = pd.read_csv(TRAIN_FILE_PATH, header=None)\n",
    "train_data.head()"
   ]
  },
  {
   "cell_type": "code",
   "execution_count": 68,
   "metadata": {
    "collapsed": false
   },
   "outputs": [],
   "source": [
    "x_data_rows = train_data[list(range(1, 58))].as_matrix()\n",
    "y_data_rows = train_data[[58]].as_matrix()"
   ]
  },
  {
   "cell_type": "markdown",
   "metadata": {},
   "source": [
    "## Select Data"
   ]
  },
  {
   "cell_type": "markdown",
   "metadata": {},
   "source": [
    "## Preprocess Data"
   ]
  },
  {
   "cell_type": "markdown",
   "metadata": {},
   "source": [
    "## Transform Data"
   ]
  },
  {
   "cell_type": "code",
   "execution_count": 69,
   "metadata": {
    "collapsed": false
   },
   "outputs": [],
   "source": [
    "# Normalize\n",
    "x_train_means = np.mean(x_data_rows, axis=0)\n",
    "x_train_stds =  np.std(x_data_rows, axis=0)\n",
    "x_data_rows = (x_data_rows - x_train_means) / x_train_stds"
   ]
  },
  {
   "cell_type": "code",
   "execution_count": 70,
   "metadata": {
    "collapsed": false
   },
   "outputs": [],
   "source": [
    "# print(np.mean(x_data_rows, axis=0), np.std(x_data_rows, axis=0))"
   ]
  },
  {
   "cell_type": "code",
   "execution_count": 71,
   "metadata": {
    "collapsed": false
   },
   "outputs": [],
   "source": [
    "# add 1 in the last column, so that b in including in w\n",
    "x_data_rows = np.c_[x_data_rows, np.ones(x_data_rows.shape[0]) ]"
   ]
  },
  {
   "cell_type": "code",
   "execution_count": 72,
   "metadata": {
    "collapsed": true
   },
   "outputs": [],
   "source": [
    "# pre-transpose x for matrix multiplication\n",
    "x_data_rows_trans = np.transpose(x_data_rows)"
   ]
  },
  {
   "cell_type": "code",
   "execution_count": 73,
   "metadata": {
    "collapsed": false
   },
   "outputs": [],
   "source": [
    "x_row_num, x_col_num = x_data_rows.shape  # 4001, 58"
   ]
  },
  {
   "cell_type": "markdown",
   "metadata": {},
   "source": [
    "## Train"
   ]
  },
  {
   "cell_type": "code",
   "execution_count": 74,
   "metadata": {
    "collapsed": false
   },
   "outputs": [],
   "source": [
    "# reset parameters\n",
    "w = np.random.randn(x_col_num, 1)  # shape = (x_col_num, 1). not (1, x_col_num) for the convenience of matrix multiplication\n",
    "total_epoch = 0"
   ]
  },
  {
   "cell_type": "code",
   "execution_count": 75,
   "metadata": {
    "collapsed": true
   },
   "outputs": [],
   "source": [
    "lr = (10) / x_row_num "
   ]
  },
  {
   "cell_type": "code",
   "execution_count": 76,
   "metadata": {
    "collapsed": false
   },
   "outputs": [
    {
     "name": "stdout",
     "output_type": "stream",
     "text": [
      "epo0_err0.4027\n",
      "rms_error 0.402770321899\n",
      "epo10000_err0.0542\n",
      "rms_error 0.0542258511085\n",
      "epo20000_err0.0539\n",
      "rms_error 0.0539082877512\n",
      "epo30000_err0.0537\n",
      "rms_error 0.0537666364325\n",
      "epo40000_err0.0536\n",
      "rms_error 0.0536897728463\n",
      "epo50000_err0.0536\n",
      "rms_error 0.0536407628172\n",
      "epo60000_err0.0536\n",
      "rms_error 0.0536067802171\n",
      "epo70000_err0.0535\n",
      "rms_error 0.0535824094235\n",
      "epo80000_err0.0535\n",
      "rms_error 0.0535646474711\n",
      "epo90000_err0.0535\n",
      "rms_error 0.0535515373409\n",
      "epo100000_err0.0535\n",
      "rms_error 0.0535417373111\n",
      "epo110000_err0.0535\n",
      "rms_error 0.0535343179014\n",
      "epo120000_err0.0535\n",
      "rms_error 0.0535286323513\n",
      "epo130000_err0.0535\n",
      "rms_error 0.0535242272121\n",
      "epo140000_err0.0535\n",
      "rms_error 0.0535207809328\n",
      "epo150000_err0.0535\n",
      "rms_error 0.0535180623062\n",
      "epo160000_err0.0535\n",
      "rms_error 0.0535159025758\n",
      "epo170000_err0.0535\n",
      "rms_error 0.0535141767112\n",
      "epo180000_err0.0535\n",
      "rms_error 0.0535127907558\n",
      "epo190000_err0.0535\n",
      "rms_error 0.0535116731837\n",
      "epo200000_err0.0535\n",
      "rms_error 0.0535107689153\n",
      "epo210000_err0.0535\n",
      "rms_error 0.0535100351087\n",
      "epo220000_err0.0535\n",
      "rms_error 0.0535094381542\n",
      "epo230000_err0.0535\n",
      "rms_error 0.0535089514923\n",
      "epo240000_err0.0535\n",
      "rms_error 0.0535085540057\n",
      "epo250000_err0.0535\n",
      "rms_error 0.053508228818\n",
      "epo260000_err0.0535\n",
      "rms_error 0.0535079623838\n",
      "epo270000_err0.0535\n",
      "rms_error 0.0535077437916\n",
      "epo280000_err0.0535\n",
      "rms_error 0.0535075642246\n",
      "epo290000_err0.0535\n",
      "rms_error 0.0535074165405\n",
      "epo300000_err0.0535\n",
      "rms_error 0.0535072949402\n",
      "epo310000_err0.0535\n",
      "rms_error 0.053507194706\n",
      "epo320000_err0.0535\n",
      "rms_error 0.0535071119936\n",
      "epo330000_err0.0535\n",
      "rms_error 0.053507043666\n",
      "epo340000_err0.0535\n",
      "rms_error 0.0535069871593\n",
      "epo350000_err0.0535\n",
      "rms_error 0.053506940376\n",
      "epo360000_err0.0535\n",
      "rms_error 0.0535069015981\n",
      "epo370000_err0.0535\n",
      "rms_error 0.0535068694168\n",
      "epo380000_err0.0535\n",
      "rms_error 0.0535068426763\n",
      "epo390000_err0.0535\n",
      "rms_error 0.0535068204267\n",
      "epo400000_err0.0535\n",
      "rms_error 0.0535068018875\n",
      "epo410000_err0.0535\n",
      "rms_error 0.0535067864162\n",
      "epo420000_err0.0535\n",
      "rms_error 0.0535067734839\n",
      "epo430000_err0.0535\n",
      "rms_error 0.0535067626547\n",
      "epo440000_err0.0535\n",
      "rms_error 0.0535067535693\n",
      "epo450000_err0.0535\n",
      "rms_error 0.0535067459309\n",
      "epo460000_err0.0535\n",
      "rms_error 0.0535067394945\n",
      "epo470000_err0.0535\n",
      "rms_error 0.0535067340577\n",
      "epo480000_err0.0535\n",
      "rms_error 0.0535067294529\n",
      "epo490000_err0.0535\n",
      "rms_error 0.0535067255417\n",
      "epo500000_err0.0535\n",
      "rms_error 0.0535067222091\n",
      "epo510000_err0.0535\n",
      "rms_error 0.0535067193599\n",
      "epo520000_err0.0535\n",
      "rms_error 0.0535067169153\n",
      "epo530000_err0.0535\n",
      "rms_error 0.0535067148097\n",
      "epo540000_err0.0535\n",
      "rms_error 0.0535067129885\n",
      "epo550000_err0.0535\n",
      "rms_error 0.0535067114065\n",
      "epo560000_err0.0535\n",
      "rms_error 0.0535067100259\n",
      "epo570000_err0.0535\n",
      "rms_error 0.0535067088153\n",
      "epo580000_err0.0535\n",
      "rms_error 0.0535067077485\n",
      "epo590000_err0.0535\n",
      "rms_error 0.0535067068036\n",
      "epo600000_err0.0535\n",
      "rms_error 0.0535067059623\n",
      "epo610000_err0.0535\n",
      "rms_error 0.0535067052092\n",
      "epo620000_err0.0535\n",
      "rms_error 0.0535067045315\n",
      "epo630000_err0.0535\n",
      "rms_error 0.0535067039185\n",
      "epo640000_err0.0535\n",
      "rms_error 0.053506703361\n",
      "epo650000_err0.0535\n",
      "rms_error 0.0535067028514\n",
      "epo660000_err0.0535\n",
      "rms_error 0.0535067023834\n",
      "epo670000_err0.0535\n",
      "rms_error 0.0535067019515\n",
      "epo680000_err0.0535\n",
      "rms_error 0.053506701551\n",
      "epo690000_err0.0535\n",
      "rms_error 0.0535067011781\n",
      "epo700000_err0.0535\n",
      "rms_error 0.0535067008295\n",
      "epo710000_err0.0535\n",
      "rms_error 0.0535067005023\n",
      "epo720000_err0.0535\n",
      "rms_error 0.0535067001941\n",
      "epo730000_err0.0535\n",
      "rms_error 0.0535066999029\n",
      "epo740000_err0.0535\n",
      "rms_error 0.0535066996268\n",
      "epo750000_err0.0535\n",
      "rms_error 0.0535066993645\n",
      "epo760000_err0.0535\n",
      "rms_error 0.0535066991145\n",
      "epo770000_err0.0535\n",
      "rms_error 0.0535066988756\n",
      "epo780000_err0.0535\n",
      "rms_error 0.053506698647\n",
      "epo790000_err0.0535\n",
      "rms_error 0.0535066984278\n",
      "epo800000_err0.0535\n",
      "rms_error 0.0535066982171\n",
      "epo810000_err0.0535\n",
      "rms_error 0.0535066980143\n",
      "epo820000_err0.0535\n",
      "rms_error 0.0535066978189\n",
      "epo830000_err0.0535\n",
      "rms_error 0.0535066976303\n",
      "epo840000_err0.0535\n",
      "rms_error 0.053506697448\n",
      "epo850000_err0.0535\n",
      "rms_error 0.0535066972717\n",
      "epo860000_err0.0535\n",
      "rms_error 0.053506697101\n",
      "epo870000_err0.0535\n",
      "rms_error 0.0535066969355\n",
      "epo880000_err0.0535\n",
      "rms_error 0.0535066967749\n",
      "epo890000_err0.0535\n",
      "rms_error 0.053506696619\n",
      "epo900000_err0.0535\n",
      "rms_error 0.0535066964675\n",
      "epo910000_err0.0535\n",
      "rms_error 0.0535066963202\n",
      "epo920000_err0.0535\n",
      "rms_error 0.053506696177\n",
      "epo930000_err0.0535\n",
      "rms_error 0.0535066960375\n",
      "epo940000_err0.0535\n",
      "rms_error 0.0535066959016\n",
      "epo950000_err0.0535\n",
      "rms_error 0.0535066957692\n",
      "epo960000_err0.0535\n",
      "rms_error 0.0535066956402\n",
      "epo970000_err0.0535\n",
      "rms_error 0.0535066955143\n",
      "epo980000_err0.0535\n",
      "rms_error 0.0535066953914\n",
      "epo990000_err0.0535\n",
      "rms_error 0.0535066952715\n",
      "epo1000000_err0.0535\n",
      "rms_error 0.0535066951544\n"
     ]
    },
    {
     "ename": "KeyboardInterrupt",
     "evalue": "",
     "output_type": "error",
     "traceback": [
      "\u001b[0;31m---------------------------------------------------------------------------\u001b[0m",
      "\u001b[0;31mKeyboardInterrupt\u001b[0m                         Traceback (most recent call last)",
      "\u001b[0;32m<ipython-input-76-7977ca015246>\u001b[0m in \u001b[0;36m<module>\u001b[0;34m()\u001b[0m\n\u001b[1;32m      2\u001b[0m \u001b[0;34m\u001b[0m\u001b[0m\n\u001b[1;32m      3\u001b[0m \u001b[0;32mwhile\u001b[0m \u001b[0;32mTrue\u001b[0m\u001b[0;34m:\u001b[0m\u001b[0;34m\u001b[0m\u001b[0m\n\u001b[0;32m----> 4\u001b[0;31m     \u001b[0my_pred_rows\u001b[0m \u001b[0;34m=\u001b[0m \u001b[0mspecial\u001b[0m\u001b[0;34m.\u001b[0m\u001b[0mexpit\u001b[0m\u001b[0;34m(\u001b[0m\u001b[0mnp\u001b[0m\u001b[0;34m.\u001b[0m\u001b[0mdot\u001b[0m\u001b[0;34m(\u001b[0m\u001b[0mx_data_rows\u001b[0m\u001b[0;34m,\u001b[0m \u001b[0mw\u001b[0m\u001b[0;34m)\u001b[0m\u001b[0;34m)\u001b[0m  \u001b[0;31m# shape = (x_row_num, 1)\u001b[0m\u001b[0;34m\u001b[0m\u001b[0m\n\u001b[0m\u001b[1;32m      5\u001b[0m     \u001b[0my_diff_rows\u001b[0m \u001b[0;34m=\u001b[0m \u001b[0;34m(\u001b[0m\u001b[0my_data_rows\u001b[0m \u001b[0;34m-\u001b[0m \u001b[0my_pred_rows\u001b[0m\u001b[0;34m)\u001b[0m  \u001b[0;31m# shape = (x_row_num, 1)\u001b[0m\u001b[0;34m\u001b[0m\u001b[0m\n\u001b[1;32m      6\u001b[0m     \u001b[0mw_grad\u001b[0m \u001b[0;34m=\u001b[0m \u001b[0;34m-\u001b[0m\u001b[0mnp\u001b[0m\u001b[0;34m.\u001b[0m\u001b[0mdot\u001b[0m\u001b[0;34m(\u001b[0m\u001b[0mx_data_rows_trans\u001b[0m\u001b[0;34m,\u001b[0m \u001b[0my_diff_rows\u001b[0m\u001b[0;34m)\u001b[0m\u001b[0;34m\u001b[0m\u001b[0m\n",
      "\u001b[0;31mKeyboardInterrupt\u001b[0m: "
     ]
    }
   ],
   "source": [
    "# training iterations\n",
    "\n",
    "while True:\n",
    "    y_pred_rows = special.expit(np.dot(x_data_rows, w))  # shape = (x_row_num, 1)\n",
    "    y_diff_rows = (y_data_rows - y_pred_rows)  # shape = (x_row_num, 1)\n",
    "    w_grad = -np.dot(x_data_rows_trans, y_diff_rows)\n",
    "\n",
    "    # write model\n",
    "    if total_epoch % 10000 == 0:\n",
    "        rms_error = np.mean(np.square(y_diff_rows))\n",
    "        model_file_info = \"epo\" + str(total_epoch) + \"_err\" + str(rms_error)[:8]\n",
    "        print(model_file_info)\n",
    "        print('rms_error', rms_error)\n",
    "        np.savez(MODEL_FOLDER + model_file_info, w=w, lr=lr, total_epoch=total_epoch, x_train_means=x_train_means, x_train_stds=x_train_stds)\n",
    "\n",
    "    w = w - lr * w_grad\n",
    "\n",
    "    total_epoch += 1\n",
    "    "
   ]
  },
  {
   "cell_type": "markdown",
   "metadata": {},
   "source": [
    "## Test"
   ]
  },
  {
   "cell_type": "code",
   "execution_count": 77,
   "metadata": {
    "collapsed": false
   },
   "outputs": [
    {
     "data": {
      "text/plain": [
       "(600, 58)"
      ]
     },
     "execution_count": 77,
     "metadata": {},
     "output_type": "execute_result"
    }
   ],
   "source": [
    "test_data = pd.read_csv(TEST_FILE_PATH, header=None)\n",
    "test_data.shape"
   ]
  },
  {
   "cell_type": "code",
   "execution_count": 78,
   "metadata": {
    "collapsed": false
   },
   "outputs": [],
   "source": [
    "_id = test_data[0].apply(str)"
   ]
  },
  {
   "cell_type": "code",
   "execution_count": 79,
   "metadata": {
    "collapsed": true
   },
   "outputs": [],
   "source": [
    "x_test_data_rows = test_data[list(range(1, 58))].as_matrix()"
   ]
  },
  {
   "cell_type": "code",
   "execution_count": 80,
   "metadata": {
    "collapsed": true
   },
   "outputs": [],
   "source": [
    "# read model"
   ]
  },
  {
   "cell_type": "code",
   "execution_count": 81,
   "metadata": {
    "collapsed": false
   },
   "outputs": [],
   "source": [
    "# normalize\n",
    "x_test_data_rows = (x_test_data_rows - x_train_means) / x_train_stds\n",
    "# add 1\n",
    "x_test_data_rows = np.c_[x_test_data_rows, np.ones(x_test_data_rows.shape[0]) ]"
   ]
  },
  {
   "cell_type": "code",
   "execution_count": 82,
   "metadata": {
    "collapsed": true
   },
   "outputs": [],
   "source": [
    "def to_bool(x):\n",
    "    return 1 if x > 0.5 else 0\n",
    "\n",
    "to_bool = np.vectorize(to_bool)"
   ]
  },
  {
   "cell_type": "code",
   "execution_count": 83,
   "metadata": {
    "collapsed": false
   },
   "outputs": [],
   "source": [
    "# test\n",
    "y_test_rows = to_bool(special.expit(np.dot(x_test_data_rows, w)))\n",
    "\n",
    "y_test_series = pd.Series(y_test_rows.flatten())\n",
    "\n",
    "# concat id and y\n",
    "output = pd.concat([_id, y_test_series], axis=1)\n",
    "output.columns=[\"id\",\"label\"]\n",
    "\n",
    "# write file\n",
    "output.to_csv(OUTPUT_FOLDER + \"output_\" + METHOD_NAME + \"_\" + model_file_info + \".csv\", index=False)"
   ]
  },
  {
   "cell_type": "code",
   "execution_count": 84,
   "metadata": {
    "collapsed": false
   },
   "outputs": [
    {
     "data": {
      "text/plain": [
       "(600, 58)"
      ]
     },
     "execution_count": 84,
     "metadata": {},
     "output_type": "execute_result"
    }
   ],
   "source": [
    "x_test_data_rows.shape"
   ]
  },
  {
   "cell_type": "code",
   "execution_count": null,
   "metadata": {
    "collapsed": true
   },
   "outputs": [],
   "source": []
  }
 ],
 "metadata": {
  "anaconda-cloud": {},
  "kernelspec": {
   "display_name": "Python [Root]",
   "language": "python",
   "name": "Python [Root]"
  },
  "language_info": {
   "codemirror_mode": {
    "name": "ipython",
    "version": 3
   },
   "file_extension": ".py",
   "mimetype": "text/x-python",
   "name": "python",
   "nbconvert_exporter": "python",
   "pygments_lexer": "ipython3",
   "version": "3.5.2"
  }
 },
 "nbformat": 4,
 "nbformat_minor": 0
}
